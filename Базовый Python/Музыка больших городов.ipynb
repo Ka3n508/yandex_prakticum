{
 "cells": [
  {
   "cell_type": "markdown",
   "metadata": {
    "deletable": false,
    "editable": false,
    "id": "E0vqbgi9ay0H"
   },
   "source": [
    "# Яндекс Музыка"
   ]
  },
  {
   "cell_type": "markdown",
   "metadata": {
    "deletable": false,
    "editable": false,
    "id": "VUC88oWjTJw2"
   },
   "source": [
    "Сравнение Москвы и Петербурга окружено мифами. Например:\n",
    " * Москва — мегаполис, подчинённый жёсткому ритму рабочей недели;\n",
    " * Петербург — культурная столица, со своими вкусами.\n",
    "\n",
    "На данных Яндекс Музыки вы сравните поведение пользователей двух столиц.\n",
    "\n",
    "**Цель исследования** — проверьте три гипотезы:\n",
    "1. Активность пользователей зависит от дня недели. Причём в Москве и Петербурге это проявляется по-разному.\n",
    "2. В понедельник утром в Москве преобладают одни жанры, а в Петербурге — другие. Так же и вечером пятницы преобладают разные жанры — в зависимости от города.\n",
    "3. Москва и Петербург предпочитают разные жанры музыки. В Москве чаще слушают поп-музыку, в Петербурге — русский рэп.\n",
    "\n",
    "**Ход исследования**\n",
    "\n",
    "Данные о поведении пользователей вы получите из файла `yandex_music_project.csv`. О качестве данных ничего не известно. Поэтому перед проверкой гипотез понадобится обзор данных.\n",
    "\n",
    "Вы проверите данные на ошибки и оцените их влияние на исследование. Затем, на этапе предобработки вы поищете возможность исправить самые критичные ошибки данных.\n",
    "\n",
    "Таким образом, исследование пройдёт в три этапа:\n",
    " 1. Обзор данных.\n",
    " 2. Предобработка данных.\n",
    " 3. Проверка гипотез.\n",
    "\n"
   ]
  },
  {
   "cell_type": "markdown",
   "metadata": {
    "deletable": false,
    "editable": false,
    "id": "Ml1hmfXC_Zcs"
   },
   "source": [
    "## Обзор данных\n",
    "\n",
    "Составьте первое представление о данных Яндекс Музыки.\n",
    "\n",
    "\n"
   ]
  },
  {
   "cell_type": "markdown",
   "metadata": {
    "deletable": false,
    "editable": false,
    "id": "57eAOGIz_Zcs",
    "tags": [
     "start_task"
    ]
   },
   "source": [
    "**Задание 1**"
   ]
  },
  {
   "cell_type": "code",
   "execution_count": 4,
   "metadata": {
    "deletable": false,
    "id": "AXN7PHPN_Zcs"
   },
   "outputs": [],
   "source": [
    "import pandas as pd\n",
    "# импорт библиотеки pandas"
   ]
  },
  {
   "cell_type": "markdown",
   "metadata": {
    "deletable": false,
    "editable": false,
    "id": "SG23P8tt_Zcs",
    "tags": [
     "start_task"
    ]
   },
   "source": [
    "**Задание 2**"
   ]
  },
  {
   "cell_type": "code",
   "execution_count": 5,
   "metadata": {
    "deletable": false,
    "id": "fFVu7vqh_Zct"
   },
   "outputs": [],
   "source": [
    "df = pd.read_csv('/datasets/yandex_music_project.csv')\n",
    "# чтение файла с данными и сохранение в df"
   ]
  },
  {
   "cell_type": "markdown",
   "metadata": {
    "deletable": false,
    "editable": false,
    "id": "rDoOMd3uTqnZ",
    "tags": [
     "start_task"
    ]
   },
   "source": [
    "**Задание 3**"
   ]
  },
  {
   "cell_type": "code",
   "execution_count": 6,
   "metadata": {
    "deletable": false,
    "id": "oWTVX3gW_Zct"
   },
   "outputs": [
    {
     "name": "stdout",
     "output_type": "stream",
     "text": [
      "     userID                        Track            artist   genre  \\\n",
      "0  FFB692EC            Kamigata To Boots  The Mass Missile    rock   \n",
      "1  55204538  Delayed Because of Accident  Andreas Rönnberg    rock   \n",
      "2    20EC38            Funiculì funiculà       Mario Lanza     pop   \n",
      "3  A3DD03C9        Dragons in the Sunset        Fire + Ice    folk   \n",
      "4  E2DC1FAE                  Soul People        Space Echo   dance   \n",
      "5  842029A1                    Преданная         IMPERVTOR  rusrap   \n",
      "6  4CB90AA5                         True      Roman Messer   dance   \n",
      "7  F03E1C1F             Feeling This Way   Polina Griffith   dance   \n",
      "8  8FA1D3BE     И вновь продолжается бой               NaN  ruspop   \n",
      "9  E772D5C0                    Pessimist               NaN   dance   \n",
      "\n",
      "             City        time        Day  \n",
      "0  Saint-Petersburg  20:28:33  Wednesday  \n",
      "1            Moscow  14:07:09     Friday  \n",
      "2  Saint-Petersburg  20:58:07  Wednesday  \n",
      "3  Saint-Petersburg  08:37:09     Monday  \n",
      "4            Moscow  08:34:34     Monday  \n",
      "5  Saint-Petersburg  13:09:41     Friday  \n",
      "6            Moscow  13:00:07  Wednesday  \n",
      "7            Moscow  20:47:49  Wednesday  \n",
      "8            Moscow  09:17:40     Friday  \n",
      "9  Saint-Petersburg  21:20:49  Wednesday  \n"
     ]
    }
   ],
   "source": [
    "print(df.head(10))\n",
    "# получение первых 10 строк таблицы df"
   ]
  },
  {
   "cell_type": "markdown",
   "metadata": {
    "deletable": false,
    "editable": false,
    "id": "EO73Kwic_Zct",
    "tags": [
     "start_task"
    ]
   },
   "source": [
    "**Задание 4**"
   ]
  },
  {
   "cell_type": "code",
   "execution_count": 7,
   "metadata": {
    "deletable": false,
    "id": "DSf2kIb-_Zct"
   },
   "outputs": [
    {
     "name": "stdout",
     "output_type": "stream",
     "text": [
      "<class 'pandas.core.frame.DataFrame'>\n",
      "RangeIndex: 65079 entries, 0 to 65078\n",
      "Data columns (total 7 columns):\n",
      " #   Column    Non-Null Count  Dtype \n",
      "---  ------    --------------  ----- \n",
      " 0     userID  65079 non-null  object\n",
      " 1   Track     63848 non-null  object\n",
      " 2   artist    57876 non-null  object\n",
      " 3   genre     63881 non-null  object\n",
      " 4     City    65079 non-null  object\n",
      " 5   time      65079 non-null  object\n",
      " 6   Day       65079 non-null  object\n",
      "dtypes: object(7)\n",
      "memory usage: 3.5+ MB\n"
     ]
    }
   ],
   "source": [
    "# получение общей информации о данных в таблице df\n",
    "df.info()"
   ]
  },
  {
   "cell_type": "markdown",
   "metadata": {
    "deletable": false,
    "editable": false,
    "id": "TaQ2Iwbr_Zct"
   },
   "source": [
    "Количество значений в столбцах различается. Значит, в данных есть пропущенные значения."
   ]
  },
  {
   "cell_type": "markdown",
   "metadata": {
    "deletable": false,
    "editable": false,
    "id": "4P0UCWzswgEm",
    "tags": [
     "start_task"
    ]
   },
   "source": [
    "**Задание 5**"
   ]
  },
  {
   "cell_type": "code",
   "execution_count": 8,
   "metadata": {
    "id": "c137-ZstwgEm"
   },
   "outputs": [],
   "source": [
    "\n",
    "# Много пропущенных данных Напишите ваш ответ здесь комментарием. Не удаляйте символ #. Не меняйте тип этой ячейки на Markdown.\n"
   ]
  },
  {
   "cell_type": "markdown",
   "metadata": {
    "deletable": false,
    "editable": false,
    "id": "MCB6-dXG_Zct"
   },
   "source": [
    "**Выводы**\n",
    "\n",
    "В каждой строке таблицы — данные о прослушанном треке. Часть колонок описывает саму композицию: название, исполнителя и жанр. Остальные данные рассказывают о пользователе: из какого он города, когда он слушал музыку.\n",
    "\n",
    "Предварительно можно утверждать, что данных достаточно для проверки гипотез. Но встречаются пропуски в данных, а в названиях колонок — расхождения с хорошим стилем.\n",
    "\n",
    "Чтобы двигаться дальше, нужно устранить проблемы в данных."
   ]
  },
  {
   "cell_type": "markdown",
   "metadata": {
    "deletable": false,
    "editable": false,
    "id": "SjYF6Ub9_Zct"
   },
   "source": [
    "## Предобработка данных"
   ]
  },
  {
   "cell_type": "markdown",
   "metadata": {
    "deletable": false,
    "editable": false,
    "id": "dIaKXr29_Zct",
    "tags": [
     "start_task"
    ]
   },
   "source": [
    "### Переименование столбцов\n",
    "\n",
    "**Задание 6**"
   ]
  },
  {
   "cell_type": "code",
   "execution_count": 9,
   "metadata": {
    "deletable": false,
    "id": "oKOTdF_Q_Zct"
   },
   "outputs": [
    {
     "data": {
      "text/plain": [
       "Index(['  userID', 'Track', 'artist', 'genre', '  City  ', 'time', 'Day'], dtype='object')"
      ]
     },
     "execution_count": 9,
     "metadata": {},
     "output_type": "execute_result"
    }
   ],
   "source": [
    "df.columns\n",
    "   \n",
    "# перечень названий столбцов таблицы df"
   ]
  },
  {
   "cell_type": "markdown",
   "metadata": {
    "deletable": false,
    "editable": false,
    "id": "zj5534cv_Zct",
    "tags": [
     "start_task"
    ]
   },
   "source": [
    "**Задание 7**"
   ]
  },
  {
   "cell_type": "code",
   "execution_count": 10,
   "metadata": {
    "deletable": false,
    "id": "ISlFqs5y_Zct"
   },
   "outputs": [],
   "source": [
    "df = df.rename(columns = {'  userID':'user_id', 'Track':'track', '  City  ':'city', 'Day':'day'})"
   ]
  },
  {
   "cell_type": "markdown",
   "metadata": {
    "deletable": false,
    "editable": false,
    "id": "1dqbh00J_Zct",
    "tags": [
     "start_task"
    ]
   },
   "source": [
    "**Задание 8**"
   ]
  },
  {
   "cell_type": "code",
   "execution_count": 13,
   "metadata": {
    "deletable": false,
    "id": "d4NOAmTW_Zct"
   },
   "outputs": [
    {
     "data": {
      "text/plain": [
       "Index(['user_id', 'track', 'artist', 'genre', 'city', 'time', 'day'], dtype='object')"
      ]
     },
     "execution_count": 13,
     "metadata": {},
     "output_type": "execute_result"
    }
   ],
   "source": [
    "df.columns\n",
    "# проверка результатов - перечень названий столбцов"
   ]
  },
  {
   "cell_type": "markdown",
   "metadata": {
    "deletable": false,
    "editable": false,
    "id": "5ISfbcfY_Zct",
    "tags": [
     "start_task"
    ]
   },
   "source": [
    "### Обработка пропущенных значений\n",
    "\n",
    "**Задание 9**"
   ]
  },
  {
   "cell_type": "code",
   "execution_count": 14,
   "metadata": {
    "deletable": false,
    "id": "RskX29qr_Zct"
   },
   "outputs": [
    {
     "data": {
      "text/plain": [
       "user_id       0\n",
       "track      1231\n",
       "artist     7203\n",
       "genre      1198\n",
       "city          0\n",
       "time          0\n",
       "day           0\n",
       "dtype: int64"
      ]
     },
     "execution_count": 14,
     "metadata": {},
     "output_type": "execute_result"
    }
   ],
   "source": [
    "df.isna().sum()\n",
    "# подсчёт пропусков"
   ]
  },
  {
   "cell_type": "markdown",
   "metadata": {
    "deletable": false,
    "editable": false,
    "id": "fSv2laPA_Zct",
    "tags": [
     "start_task"
    ]
   },
   "source": [
    "**Задание 10**"
   ]
  },
  {
   "cell_type": "code",
   "execution_count": 15,
   "metadata": {
    "deletable": false,
    "id": "KplB5qWs_Zct"
   },
   "outputs": [],
   "source": [
    "df['track'] = df['track'].fillna('unknown')\n",
    "df['artist'] = df['artist'].fillna('unknown')\n",
    "df['genre'] = df['genre'].fillna('unknown')\n",
    "\n",
    "\n",
    "\n",
    "\n",
    "\n",
    "# замена пропущенных значений на 'unknown'"
   ]
  },
  {
   "cell_type": "markdown",
   "metadata": {
    "deletable": false,
    "editable": false,
    "id": "Ilsm-MZo_Zct",
    "tags": [
     "start_task"
    ]
   },
   "source": [
    "**Задание 11**"
   ]
  },
  {
   "cell_type": "code",
   "execution_count": 16,
   "metadata": {
    "deletable": false,
    "id": "Tq4nYRX4_Zct"
   },
   "outputs": [
    {
     "data": {
      "text/plain": [
       "user_id    0\n",
       "track      0\n",
       "artist     0\n",
       "genre      0\n",
       "city       0\n",
       "time       0\n",
       "day        0\n",
       "dtype: int64"
      ]
     },
     "execution_count": 16,
     "metadata": {},
     "output_type": "execute_result"
    }
   ],
   "source": [
    "df.isna().sum()\n",
    "# проверка на отсутствие пропусков"
   ]
  },
  {
   "cell_type": "markdown",
   "metadata": {
    "deletable": false,
    "editable": false,
    "id": "BWKRtBJ3_Zct",
    "tags": [
     "start_task"
    ]
   },
   "source": [
    "### Обработка дубликатов\n",
    "\n",
    "**Задание 12**"
   ]
  },
  {
   "cell_type": "code",
   "execution_count": 17,
   "metadata": {
    "deletable": false,
    "id": "36eES_S0_Zct"
   },
   "outputs": [
    {
     "data": {
      "text/plain": [
       "3826"
      ]
     },
     "execution_count": 17,
     "metadata": {},
     "output_type": "execute_result"
    }
   ],
   "source": [
    "df.duplicated().sum()\n",
    "# подсчёт явных дубликатов"
   ]
  },
  {
   "cell_type": "markdown",
   "metadata": {
    "deletable": false,
    "editable": false,
    "id": "Ot25h6XR_Zct",
    "tags": [
     "start_task"
    ]
   },
   "source": [
    "**Задание 13**"
   ]
  },
  {
   "cell_type": "code",
   "execution_count": 18,
   "metadata": {
    "deletable": false,
    "id": "exFHq6tt_Zct"
   },
   "outputs": [],
   "source": [
    "duplicated_df = df[df.duplicated()].head()\n",
    "df = df.drop_duplicates().reset_index(drop=True) \n",
    "# удаление явных дубликатов, создание новых индексов и удаление старых"
   ]
  },
  {
   "cell_type": "markdown",
   "metadata": {
    "deletable": false,
    "editable": false,
    "id": "Im2YwBEG_Zct",
    "tags": [
     "start_task"
    ]
   },
   "source": [
    "**Задание 14**"
   ]
  },
  {
   "cell_type": "code",
   "execution_count": 19,
   "metadata": {
    "deletable": false,
    "id": "-8PuNWQ0_Zct"
   },
   "outputs": [
    {
     "data": {
      "text/plain": [
       "0"
      ]
     },
     "execution_count": 19,
     "metadata": {},
     "output_type": "execute_result"
    }
   ],
   "source": [
    "df.duplicated().sum()\n",
    "# проверка на отсутствие явных дубликатов"
   ]
  },
  {
   "cell_type": "markdown",
   "metadata": {
    "deletable": false,
    "editable": false,
    "id": "eSjWwsOh_Zct",
    "tags": [
     "start_task"
    ]
   },
   "source": [
    "**Задание 15**"
   ]
  },
  {
   "cell_type": "code",
   "execution_count": 21,
   "metadata": {
    "deletable": false,
    "id": "JIUcqzZN_Zct"
   },
   "outputs": [
    {
     "data": {
      "text/plain": [
       "array(['acid', 'acoustic', 'action', 'adult', 'africa', 'afrikaans',\n",
       "       'alternative', 'alternativepunk', 'ambient', 'americana',\n",
       "       'animated', 'anime', 'arabesk', 'arabic', 'arena',\n",
       "       'argentinetango', 'art', 'audiobook', 'author', 'avantgarde',\n",
       "       'axé', 'baile', 'balkan', 'beats', 'bigroom', 'black', 'bluegrass',\n",
       "       'blues', 'bollywood', 'bossa', 'brazilian', 'breakbeat', 'breaks',\n",
       "       'broadway', 'cantautori', 'cantopop', 'canzone', 'caribbean',\n",
       "       'caucasian', 'celtic', 'chamber', 'chanson', 'children', 'chill',\n",
       "       'chinese', 'choral', 'christian', 'christmas', 'classical',\n",
       "       'classicmetal', 'club', 'colombian', 'comedy', 'conjazz',\n",
       "       'contemporary', 'country', 'cuban', 'dance', 'dancehall',\n",
       "       'dancepop', 'dark', 'death', 'deep', 'deutschrock', 'deutschspr',\n",
       "       'dirty', 'disco', 'dnb', 'documentary', 'downbeat', 'downtempo',\n",
       "       'drum', 'dub', 'dubstep', 'eastern', 'easy', 'electronic',\n",
       "       'electropop', 'emo', 'entehno', 'epicmetal', 'estrada', 'ethnic',\n",
       "       'eurofolk', 'european', 'experimental', 'extrememetal', 'fado',\n",
       "       'fairytail', 'film', 'fitness', 'flamenco', 'folk', 'folklore',\n",
       "       'folkmetal', 'folkrock', 'folktronica', 'forró', 'frankreich',\n",
       "       'französisch', 'french', 'funk', 'future', 'gangsta', 'garage',\n",
       "       'german', 'ghazal', 'gitarre', 'glitch', 'gospel', 'gothic',\n",
       "       'grime', 'grunge', 'gypsy', 'handsup', \"hard'n'heavy\", 'hardcore',\n",
       "       'hardstyle', 'hardtechno', 'hip', 'hip-hop', 'hiphop',\n",
       "       'historisch', 'holiday', 'hop', 'horror', 'house', 'hymn', 'idm',\n",
       "       'independent', 'indian', 'indie', 'indipop', 'industrial',\n",
       "       'inspirational', 'instrumental', 'international', 'irish', 'jam',\n",
       "       'japanese', 'jazz', 'jewish', 'jpop', 'jungle', 'k-pop',\n",
       "       'karadeniz', 'karaoke', 'kayokyoku', 'korean', 'laiko', 'latin',\n",
       "       'latino', 'leftfield', 'local', 'lounge', 'loungeelectronic',\n",
       "       'lovers', 'malaysian', 'mandopop', 'marschmusik', 'meditative',\n",
       "       'mediterranean', 'melodic', 'metal', 'metalcore', 'mexican',\n",
       "       'middle', 'minimal', 'miscellaneous', 'modern', 'mood', 'mpb',\n",
       "       'muslim', 'native', 'neoklassik', 'neue', 'new', 'newage',\n",
       "       'newwave', 'nu', 'nujazz', 'numetal', 'oceania', 'old', 'opera',\n",
       "       'orchestral', 'other', 'piano', 'podcasts', 'pop', 'popdance',\n",
       "       'popelectronic', 'popeurodance', 'poprussian', 'post',\n",
       "       'posthardcore', 'postrock', 'power', 'progmetal', 'progressive',\n",
       "       'psychedelic', 'punjabi', 'punk', 'quebecois', 'ragga', 'ram',\n",
       "       'rancheras', 'rap', 'rave', 'reggae', 'reggaeton', 'regional',\n",
       "       'relax', 'religious', 'retro', 'rhythm', 'rnb', 'rnr', 'rock',\n",
       "       'rockabilly', 'rockalternative', 'rockindie', 'rockother',\n",
       "       'romance', 'roots', 'ruspop', 'rusrap', 'rusrock', 'russian',\n",
       "       'salsa', 'samba', 'scenic', 'schlager', 'self', 'sertanejo',\n",
       "       'shanson', 'shoegazing', 'showtunes', 'singer', 'ska', 'skarock',\n",
       "       'slow', 'smooth', 'soft', 'soul', 'soulful', 'sound', 'soundtrack',\n",
       "       'southern', 'specialty', 'speech', 'spiritual', 'sport',\n",
       "       'stonerrock', 'surf', 'swing', 'synthpop', 'synthrock',\n",
       "       'sängerportrait', 'tango', 'tanzorchester', 'taraftar', 'tatar',\n",
       "       'tech', 'techno', 'teen', 'thrash', 'top', 'traditional',\n",
       "       'tradjazz', 'trance', 'tribal', 'trip', 'triphop', 'tropical',\n",
       "       'türk', 'türkçe', 'ukrrock', 'unknown', 'urban', 'uzbek',\n",
       "       'variété', 'vi', 'videogame', 'vocal', 'western', 'world',\n",
       "       'worldbeat', 'ïîï', 'электроника'], dtype=object)"
      ]
     },
     "execution_count": 21,
     "metadata": {},
     "output_type": "execute_result"
    }
   ],
   "source": [
    "df['genre'].sort_values().unique()\n",
    "# просмотр уникальных отсортированных названий жанров"
   ]
  },
  {
   "cell_type": "markdown",
   "metadata": {
    "deletable": false,
    "editable": false,
    "id": "qej-Qmuo_Zct",
    "tags": [
     "start_task"
    ]
   },
   "source": [
    "**Задание 16**"
   ]
  },
  {
   "cell_type": "code",
   "execution_count": 22,
   "metadata": {
    "deletable": false,
    "id": "ErNDkmns_Zct"
   },
   "outputs": [],
   "source": [
    "df['genre'] = df['genre'].replace('hip', 'hiphop')\n",
    "df['genre'] = df['genre'].replace('hop', 'hiphop')\n",
    "df['genre'] = df['genre'].replace('hip-hop', 'hiphop')\n",
    "\n",
    "\n",
    "# устранение неявных дубликатов"
   ]
  },
  {
   "cell_type": "markdown",
   "metadata": {
    "deletable": false,
    "editable": false,
    "id": "zQKF16_RG15m",
    "tags": [
     "start_task"
    ]
   },
   "source": [
    "**Задание 17**"
   ]
  },
  {
   "cell_type": "code",
   "execution_count": 23,
   "metadata": {
    "deletable": false,
    "id": "wvixALnFG15m"
   },
   "outputs": [
    {
     "data": {
      "text/plain": [
       "array(['acid', 'acoustic', 'action', 'adult', 'africa', 'afrikaans',\n",
       "       'alternative', 'alternativepunk', 'ambient', 'americana',\n",
       "       'animated', 'anime', 'arabesk', 'arabic', 'arena',\n",
       "       'argentinetango', 'art', 'audiobook', 'author', 'avantgarde',\n",
       "       'axé', 'baile', 'balkan', 'beats', 'bigroom', 'black', 'bluegrass',\n",
       "       'blues', 'bollywood', 'bossa', 'brazilian', 'breakbeat', 'breaks',\n",
       "       'broadway', 'cantautori', 'cantopop', 'canzone', 'caribbean',\n",
       "       'caucasian', 'celtic', 'chamber', 'chanson', 'children', 'chill',\n",
       "       'chinese', 'choral', 'christian', 'christmas', 'classical',\n",
       "       'classicmetal', 'club', 'colombian', 'comedy', 'conjazz',\n",
       "       'contemporary', 'country', 'cuban', 'dance', 'dancehall',\n",
       "       'dancepop', 'dark', 'death', 'deep', 'deutschrock', 'deutschspr',\n",
       "       'dirty', 'disco', 'dnb', 'documentary', 'downbeat', 'downtempo',\n",
       "       'drum', 'dub', 'dubstep', 'eastern', 'easy', 'electronic',\n",
       "       'electropop', 'emo', 'entehno', 'epicmetal', 'estrada', 'ethnic',\n",
       "       'eurofolk', 'european', 'experimental', 'extrememetal', 'fado',\n",
       "       'fairytail', 'film', 'fitness', 'flamenco', 'folk', 'folklore',\n",
       "       'folkmetal', 'folkrock', 'folktronica', 'forró', 'frankreich',\n",
       "       'französisch', 'french', 'funk', 'future', 'gangsta', 'garage',\n",
       "       'german', 'ghazal', 'gitarre', 'glitch', 'gospel', 'gothic',\n",
       "       'grime', 'grunge', 'gypsy', 'handsup', \"hard'n'heavy\", 'hardcore',\n",
       "       'hardstyle', 'hardtechno', 'hiphop', 'historisch', 'holiday',\n",
       "       'horror', 'house', 'hymn', 'idm', 'independent', 'indian', 'indie',\n",
       "       'indipop', 'industrial', 'inspirational', 'instrumental',\n",
       "       'international', 'irish', 'jam', 'japanese', 'jazz', 'jewish',\n",
       "       'jpop', 'jungle', 'k-pop', 'karadeniz', 'karaoke', 'kayokyoku',\n",
       "       'korean', 'laiko', 'latin', 'latino', 'leftfield', 'local',\n",
       "       'lounge', 'loungeelectronic', 'lovers', 'malaysian', 'mandopop',\n",
       "       'marschmusik', 'meditative', 'mediterranean', 'melodic', 'metal',\n",
       "       'metalcore', 'mexican', 'middle', 'minimal', 'miscellaneous',\n",
       "       'modern', 'mood', 'mpb', 'muslim', 'native', 'neoklassik', 'neue',\n",
       "       'new', 'newage', 'newwave', 'nu', 'nujazz', 'numetal', 'oceania',\n",
       "       'old', 'opera', 'orchestral', 'other', 'piano', 'podcasts', 'pop',\n",
       "       'popdance', 'popelectronic', 'popeurodance', 'poprussian', 'post',\n",
       "       'posthardcore', 'postrock', 'power', 'progmetal', 'progressive',\n",
       "       'psychedelic', 'punjabi', 'punk', 'quebecois', 'ragga', 'ram',\n",
       "       'rancheras', 'rap', 'rave', 'reggae', 'reggaeton', 'regional',\n",
       "       'relax', 'religious', 'retro', 'rhythm', 'rnb', 'rnr', 'rock',\n",
       "       'rockabilly', 'rockalternative', 'rockindie', 'rockother',\n",
       "       'romance', 'roots', 'ruspop', 'rusrap', 'rusrock', 'russian',\n",
       "       'salsa', 'samba', 'scenic', 'schlager', 'self', 'sertanejo',\n",
       "       'shanson', 'shoegazing', 'showtunes', 'singer', 'ska', 'skarock',\n",
       "       'slow', 'smooth', 'soft', 'soul', 'soulful', 'sound', 'soundtrack',\n",
       "       'southern', 'specialty', 'speech', 'spiritual', 'sport',\n",
       "       'stonerrock', 'surf', 'swing', 'synthpop', 'synthrock',\n",
       "       'sängerportrait', 'tango', 'tanzorchester', 'taraftar', 'tatar',\n",
       "       'tech', 'techno', 'teen', 'thrash', 'top', 'traditional',\n",
       "       'tradjazz', 'trance', 'tribal', 'trip', 'triphop', 'tropical',\n",
       "       'türk', 'türkçe', 'ukrrock', 'unknown', 'urban', 'uzbek',\n",
       "       'variété', 'vi', 'videogame', 'vocal', 'western', 'world',\n",
       "       'worldbeat', 'ïîï', 'электроника'], dtype=object)"
      ]
     },
     "execution_count": 23,
     "metadata": {},
     "output_type": "execute_result"
    }
   ],
   "source": [
    "df['genre'].sort_values().unique()\n",
    "# проверка на отсутствие неявных дубликатов"
   ]
  },
  {
   "cell_type": "markdown",
   "metadata": {
    "deletable": false,
    "editable": false,
    "id": "jz6a9-7HQUDd"
   },
   "source": [
    "**Выводы**\n",
    "\n",
    "Предобработка обнаружила три проблемы в данных:\n",
    "\n",
    "- нарушения в стиле заголовков,\n",
    "- пропущенные значения,\n",
    "- дубликаты — явные и неявные.\n",
    "\n",
    "Вы исправили заголовки, чтобы упростить работу с таблицей. Без дубликатов исследование станет более точным.\n",
    "\n",
    "Пропущенные значения вы заменили на `'unknown'`. Ещё предстоит увидеть, не повредят ли исследованию пропуски в колонке `genre`.\n",
    "\n",
    "Теперь можно перейти к проверке гипотез."
   ]
  },
  {
   "cell_type": "markdown",
   "metadata": {
    "deletable": false,
    "editable": false,
    "id": "WttZHXH0SqKk"
   },
   "source": [
    "## Проверка гипотез"
   ]
  },
  {
   "cell_type": "markdown",
   "metadata": {
    "deletable": false,
    "editable": false,
    "id": "Im936VVi_Zcu"
   },
   "source": [
    "### Сравнение поведения пользователей двух столиц"
   ]
  },
  {
   "cell_type": "markdown",
   "metadata": {
    "deletable": false,
    "editable": false,
    "id": "nwt_MuaL_Zcu"
   },
   "source": [
    "Первая гипотеза утверждает, что пользователи по-разному слушают музыку в Москве и Санкт-Петербурге. Проверим это предположение по данным о трёх днях недели — понедельнике, среде и пятнице. Для этого:\n",
    "\n",
    "* Разделим пользователей Москвы и Санкт-Петербурга.\n",
    "* Сравним, сколько треков послушала каждая группа пользователей в понедельник, среду и пятницу.\n"
   ]
  },
  {
   "cell_type": "markdown",
   "metadata": {
    "deletable": false,
    "id": "8Dw_YMmT_Zcu",
    "tags": [
     "start_task"
    ]
   },
   "source": [
    "**Задание 18**\n",
    "\n"
   ]
  },
  {
   "cell_type": "code",
   "execution_count": 24,
   "metadata": {
    "deletable": false,
    "id": "0_Qs96oh_Zcu"
   },
   "outputs": [
    {
     "name": "stdout",
     "output_type": "stream",
     "text": [
      "city\n",
      "Moscow              42741\n",
      "Saint-Petersburg    18512\n",
      "Name: track, dtype: int64\n"
     ]
    }
   ],
   "source": [
    "count_city = df.groupby('city')['track'].count()\n",
    "print(count_city)\n",
    "\n",
    "# подсчёт прослушиваний в каждом городе"
   ]
  },
  {
   "cell_type": "markdown",
   "metadata": {
    "id": "dzli3w8o_Zcu",
    "tags": [
     "start_task"
    ]
   },
   "source": [
    "**Задание 19**\n"
   ]
  },
  {
   "cell_type": "code",
   "execution_count": 25,
   "metadata": {
    "deletable": false,
    "id": "uZMKjiJz_Zcu"
   },
   "outputs": [
    {
     "name": "stdout",
     "output_type": "stream",
     "text": [
      "day\n",
      "Friday       21840\n",
      "Monday       21354\n",
      "Wednesday    18059\n",
      "Name: track, dtype: int64\n"
     ]
    }
   ],
   "source": [
    "day_week = df.groupby('day')['track'].count()\n",
    "print(day_week)\n",
    "# подсчёт прослушиваний в каждый из трёх дней"
   ]
  },
  {
   "cell_type": "markdown",
   "metadata": {
    "deletable": false,
    "editable": false,
    "id": "POzs8bGa_Zcu",
    "tags": [
     "start_task"
    ]
   },
   "source": [
    "**Задание 20**"
   ]
  },
  {
   "cell_type": "code",
   "execution_count": 28,
   "metadata": {
    "deletable": false,
    "id": "Nz3GdQB1_Zcu"
   },
   "outputs": [],
   "source": [
    "def number_tracks(day, city):\n",
    "    track_list = df[df['day'] == day]\n",
    "    # выберите только строки df со значением переменной day в столбце day\n",
    "    track_list = track_list[track_list['city'] == city]\n",
    "    # выберите только строки track_list со значением переменной city в столбце city\n",
    "    track_list_count = track_list['user_id'].count()\n",
    "    # вызовите метод подсчета строк для track_list и выберите столбец user_id\n",
    "    return track_list_count\n",
    "# верните значение track_list_count из функции"
   ]
  },
  {
   "cell_type": "markdown",
   "metadata": {
    "deletable": false,
    "editable": false,
    "id": "ytf7xFrFJQ2r",
    "tags": [
     "start_task"
    ]
   },
   "source": [
    "**Задание 21**"
   ]
  },
  {
   "cell_type": "code",
   "execution_count": 39,
   "metadata": {
    "deletable": false,
    "id": "rJcRATNQ_Zcu",
    "scrolled": true
   },
   "outputs": [
    {
     "data": {
      "text/plain": [
       "15740"
      ]
     },
     "execution_count": 39,
     "metadata": {},
     "output_type": "execute_result"
    }
   ],
   "source": [
    "def number_tracks(day, city):\n",
    "    track_list = df[df['day'] == day]\n",
    "    # выберите только строки df со значением переменной day в столбце day\n",
    "    track_list = track_list[track_list['city'] == city]\n",
    "    # выберите только строки track_list со значением переменной city в столбце city\n",
    "    track_list_count = track_list['user_id'].count()\n",
    "    # вызовите метод подсчета строк для track_list и выберите столбец user_id\n",
    "    return track_list_count\n",
    "number_tracks('Monday', 'Moscow')\n",
    "# количество прослушиваний в Москве по понедельникам"
   ]
  },
  {
   "cell_type": "code",
   "execution_count": 41,
   "metadata": {
    "deletable": false,
    "id": "hq_ncZ5T_Zcu"
   },
   "outputs": [
    {
     "data": {
      "text/plain": [
       "5614"
      ]
     },
     "execution_count": 41,
     "metadata": {},
     "output_type": "execute_result"
    }
   ],
   "source": [
    "def number_tracks(day, city):\n",
    "    track_list = df[df['day'] == day]\n",
    "    # выберите только строки df со значением переменной day в столбце day\n",
    "    track_list = track_list[track_list['city'] == city]\n",
    "    # выберите только строки track_list со значением переменной city в столбце city\n",
    "    track_list_count = track_list['user_id'].count()\n",
    "    # вызовите метод подсчета строк для track_list и выберите столбец user_id\n",
    "    return track_list_count\n",
    "number_tracks('Monday', 'Saint-Petersburg')\n",
    "# количество прослушиваний в Санкт-Петербурге по понедельникам"
   ]
  },
  {
   "cell_type": "code",
   "execution_count": 30,
   "metadata": {
    "deletable": false,
    "id": "_NTy2VPU_Zcu"
   },
   "outputs": [
    {
     "data": {
      "text/plain": [
       "11056"
      ]
     },
     "execution_count": 30,
     "metadata": {},
     "output_type": "execute_result"
    }
   ],
   "source": [
    "def number_tracks(day, city):\n",
    "    track_list = df[df['day'] == day]\n",
    "    # выберите только строки df со значением переменной day в столбце day\n",
    "    track_list = track_list[track_list['city'] == city]\n",
    "    # выберите только строки track_list со значением переменной city в столбце city\n",
    "    track_list_count = track_list['user_id'].count()\n",
    "    # вызовите метод подсчета строк для track_list и выберите столбец user_id\n",
    "    return track_list_count\n",
    "number_tracks('Wednesday', 'Moscow')\n",
    "# количество прослушиваний в Москве по понедельникам"
   ]
  },
  {
   "cell_type": "code",
   "execution_count": 44,
   "metadata": {
    "deletable": false,
    "id": "j2y3TAwo_Zcu"
   },
   "outputs": [
    {
     "data": {
      "text/plain": [
       "7003"
      ]
     },
     "execution_count": 44,
     "metadata": {},
     "output_type": "execute_result"
    }
   ],
   "source": [
    "def number_tracks(day, city):\n",
    "    track_list = df[df['day'] == day]\n",
    "    # выберите только строки df со значением переменной day в столбце day\n",
    "    track_list = track_list[track_list['city'] == city]\n",
    "    # выберите только строки track_list со значением переменной city в столбце city\n",
    "    track_list_count = track_list['user_id'].count()\n",
    "    # вызовите метод подсчета строк для track_list и выберите столбец user_id\n",
    "    return track_list_count\n",
    "number_tracks('Wednesday', 'Saint-Petersburg')\n",
    "# количество прослушиваний в Санкт-Петербурге по средам"
   ]
  },
  {
   "cell_type": "code",
   "execution_count": 48,
   "metadata": {
    "deletable": false,
    "id": "vYDw5u_K_Zcu"
   },
   "outputs": [
    {
     "data": {
      "text/plain": [
       "15945"
      ]
     },
     "execution_count": 48,
     "metadata": {},
     "output_type": "execute_result"
    }
   ],
   "source": [
    "def number_tracks(day, city):\n",
    "    track_list = df[df['day'] == day]\n",
    "    # выберите только строки df со значением переменной day в столбце day\n",
    "    track_list = track_list[track_list['city'] == city]\n",
    "    # выберите только строки track_list со значением переменной city в столбце city\n",
    "    track_list_count = track_list['user_id'].count()\n",
    "    # вызовите метод подсчета строк для track_list и выберите столбец user_id\n",
    "    return track_list_count\n",
    "number_tracks('Friday', 'Moscow')\n",
    "# количество прослушиваний в Москве по пятницам"
   ]
  },
  {
   "cell_type": "code",
   "execution_count": 51,
   "metadata": {
    "deletable": false,
    "id": "8_yzFtW3_Zcu"
   },
   "outputs": [
    {
     "data": {
      "text/plain": [
       "5895"
      ]
     },
     "execution_count": 51,
     "metadata": {},
     "output_type": "execute_result"
    }
   ],
   "source": [
    "def number_tracks(day, city):\n",
    "    track_list = df[df['day'] == day]\n",
    "    # выберите только строки df со значением переменной day в столбце day\n",
    "    track_list = track_list[track_list['city'] == city]\n",
    "    # выберите только строки track_list со значением переменной city в столбце city\n",
    "    track_list_count = track_list['user_id'].count()\n",
    "    # вызовите метод подсчета строк для track_list и выберите столбец user_id\n",
    "    return track_list_count\n",
    "number_tracks('Friday', 'Saint-Petersburg')\n",
    "# количество прослушиваний в Санкт-Петербурге по пятницам"
   ]
  },
  {
   "cell_type": "markdown",
   "metadata": {
    "deletable": false,
    "editable": false,
    "id": "7QXffbO-_Zcu",
    "tags": [
     "start_task"
    ]
   },
   "source": [
    "**Задание 22**"
   ]
  },
  {
   "cell_type": "code",
   "execution_count": 23,
   "metadata": {
    "deletable": false,
    "id": "APAcLpOr_Zcu"
   },
   "outputs": [
    {
     "name": "stdout",
     "output_type": "stream",
     "text": [
      "<class 'pandas.core.frame.DataFrame'>\n",
      "RangeIndex: 3 entries, 0 to 2\n",
      "Data columns (total 3 columns):\n",
      " #   Column            Non-Null Count  Dtype \n",
      "---  ------            --------------  ----- \n",
      " 0   day               3 non-null      object\n",
      " 1   Moscow            3 non-null      int64 \n",
      " 2   Saint-Petersburg  3 non-null      int64 \n",
      "dtypes: int64(2), object(1)\n",
      "memory usage: 200.0+ bytes\n"
     ]
    }
   ],
   "source": [
    "data = [['Monday', 15740, 5614 ],\n",
    "        ['Wednesday', 11056, 7003],\n",
    "        ['Friday', 15945, 5895]]\n",
    "\n",
    "\n",
    "#[['Moscow', 15740, 11056, 15945,],\n",
    "       #['Saint-Petersburg', 5614, 7003, 5895]]\n",
    "columns = ['day', 'Moscow', 'Saint-Petersburg']\n",
    "city_day_result = pd.DataFrame(data = data, columns = columns)\n",
    "city_day_result.info()\n",
    "#создание таблицы с результатами\n",
    "# вывод таблицы на экран"
   ]
  },
  {
   "cell_type": "markdown",
   "metadata": {
    "deletable": false,
    "editable": false,
    "id": "-EgPIHYu_Zcu"
   },
   "source": [
    "**Выводы**\n",
    "\n",
    "Данные показывают разницу поведения пользователей:\n",
    "\n",
    "- В Москве пик прослушиваний приходится на понедельник и пятницу, а в среду заметен спад.\n",
    "- В Петербурге, наоборот, больше слушают музыку по средам. Активность в понедельник и пятницу здесь почти в равной мере уступает среде.\n",
    "\n",
    "Значит, данные говорят в пользу первой гипотезы."
   ]
  },
  {
   "cell_type": "markdown",
   "metadata": {
    "deletable": false,
    "editable": false,
    "id": "atZAxtq4_Zcu"
   },
   "source": [
    "### Музыка в начале и в конце недели"
   ]
  },
  {
   "cell_type": "markdown",
   "metadata": {
    "deletable": false,
    "editable": false,
    "id": "eXrQqXFH_Zcu"
   },
   "source": [
    "Согласно второй гипотезе, утром в понедельник в Москве преобладают одни жанры, а в Петербурге — другие. Так же и вечером пятницы преобладают разные жанры — в зависимости от города."
   ]
  },
  {
   "cell_type": "markdown",
   "metadata": {
    "deletable": false,
    "editable": false,
    "id": "S8UcW6Hw_Zcu",
    "tags": [
     "start_task"
    ]
   },
   "source": [
    "**Задание 23**"
   ]
  },
  {
   "cell_type": "code",
   "execution_count": 24,
   "metadata": {
    "deletable": false,
    "id": "qeaFfM_P_Zcu"
   },
   "outputs": [
    {
     "name": "stdout",
     "output_type": "stream",
     "text": [
      "       index   user_ID                          track  \\\n",
      "1          1  55204538    Delayed Because of Accident   \n",
      "4          4  E2DC1FAE                    Soul People   \n",
      "6          6  4CB90AA5                           True   \n",
      "7          7  F03E1C1F               Feeling This Way   \n",
      "8          8  8FA1D3BE       И вновь продолжается бой   \n",
      "...      ...       ...                            ...   \n",
      "61247  65073  83A474E7  I Worship Only What You Bleed   \n",
      "61248  65074  729CBB09                        My Name   \n",
      "61250  65076  C5E3A0D5                      Jalopiina   \n",
      "61251  65077  321D0506                  Freight Train   \n",
      "61252  65078  3A64EF84      Tell Me Sweet Little Lies   \n",
      "\n",
      "                        artist         genre    city      time        day  \n",
      "1             Andreas Rönnberg          rock  Moscow  14:07:09     Friday  \n",
      "4                   Space Echo         dance  Moscow  08:34:34     Monday  \n",
      "6                 Roman Messer         dance  Moscow  13:00:07  Wednesday  \n",
      "7              Polina Griffith         dance  Moscow  20:47:49  Wednesday  \n",
      "8                      unknown        ruspop  Moscow  09:17:40     Friday  \n",
      "...                        ...           ...     ...       ...        ...  \n",
      "61247  The Black Dahlia Murder  extrememetal  Moscow  21:07:12     Monday  \n",
      "61248                   McLean           rnb  Moscow  13:32:28  Wednesday  \n",
      "61250                  unknown    industrial  Moscow  20:09:26     Friday  \n",
      "61251            Chas McDevitt          rock  Moscow  21:43:59     Friday  \n",
      "61252             Monica Lopez       country  Moscow  21:59:46     Friday  \n",
      "\n",
      "[42741 rows x 8 columns]\n"
     ]
    }
   ],
   "source": [
    "moscow_general = df[df['city'] == 'Moscow']\n",
    "# получение таблицы moscow_general из тех строк таблицы df, для которых значение в столбце 'city' равно 'Moscow'\n"
   ]
  },
  {
   "cell_type": "code",
   "execution_count": 25,
   "metadata": {
    "deletable": false,
    "id": "ORaVRKto_Zcu"
   },
   "outputs": [
    {
     "name": "stdout",
     "output_type": "stream",
     "text": [
      "       index   user_ID                              track              artist  \\\n",
      "0          0  FFB692EC                  Kamigata To Boots    The Mass Missile   \n",
      "2          2    20EC38                  Funiculì funiculà         Mario Lanza   \n",
      "3          3  A3DD03C9              Dragons in the Sunset          Fire + Ice   \n",
      "5          5  842029A1                          Преданная           IMPERVTOR   \n",
      "9          9  E772D5C0                          Pessimist             unknown   \n",
      "...      ...       ...                                ...                 ...   \n",
      "61239  65063  D94F810B        Theme from the Walking Dead  Proyecto Halloween   \n",
      "61240  65064  BC8EC5CF       Red Lips: Gta (Rover Rework)               Rover   \n",
      "61241  65065  29E04611                       Bre Petrunko       Perunika Trio   \n",
      "61242  65066  1B91C621             (Hello) Cloud Mountain     sleepmakeswaves   \n",
      "61249  65075  D08D4A55  Maybe One Day (feat. Black Spade)         Blu & Exile   \n",
      "\n",
      "            genre              city      time        day  \n",
      "0            rock  Saint-Petersburg  20:28:33  Wednesday  \n",
      "2             pop  Saint-Petersburg  20:58:07  Wednesday  \n",
      "3            folk  Saint-Petersburg  08:37:09     Monday  \n",
      "5          rusrap  Saint-Petersburg  13:09:41     Friday  \n",
      "9           dance  Saint-Petersburg  21:20:49  Wednesday  \n",
      "...           ...               ...       ...        ...  \n",
      "61239        film  Saint-Petersburg  21:14:40     Monday  \n",
      "61240  electronic  Saint-Petersburg  21:06:50     Monday  \n",
      "61241       world  Saint-Petersburg  13:56:00     Monday  \n",
      "61242    postrock  Saint-Petersburg  09:22:13     Monday  \n",
      "61249         hip  Saint-Petersburg  10:00:00     Monday  \n",
      "\n",
      "[18512 rows x 8 columns]\n"
     ]
    }
   ],
   "source": [
    "spb_general = df[df['city'] == 'Saint-Petersburg']\n",
    "\n",
    "# получение таблицы spb_general из тех строк таблицы df, для которых значение в столбце 'city' равно 'Saint-Petersburg'\n"
   ]
  },
  {
   "cell_type": "markdown",
   "metadata": {
    "deletable": false,
    "editable": false,
    "id": "MEJV-CX2_Zcu",
    "tags": [
     "start_task"
    ]
   },
   "source": [
    "**Задание 24**"
   ]
  },
  {
   "cell_type": "code",
   "execution_count": 26,
   "metadata": {
    "deletable": false,
    "id": "laJT9BYl_Zcu"
   },
   "outputs": [],
   "source": [
    "def genre_weekday(df, day, time1, time2):\n",
    "    # последовательная фильтрация\n",
    "    genre_df = df[df['day'] == day]\n",
    "        # оставляем в genre_df только те строки df, у которых день равен day\n",
    "        # оставляем в genre_df только те строки genre_df, у которых время меньше time2\n",
    "    genre_df = genre_df[genre_df['time'] < time2] # ваш код здесь\n",
    "    # оставляем в genre_df только те строки genre_df, у которых время больше time1\n",
    "    genre_df = genre_df[genre_df['time'] > time1]# ваш код здесь\n",
    "    # сгруппируем отфильтрованный датафрейм по столбцу с названиями жанров, возьмём столбец genre и посчитаем кол-во строк для каждого жанра методом count()\n",
    "    genre_df_grouped = genre_df.groupby('genre')['genre'].count() # ваш код здесь\n",
    "    # отсортируем результат по убыванию (чтобы в начале Series оказались самые популярные жанры)\n",
    "    genre_df_sorted = genre_df_grouped.sort_values(ascending = False) # ваш код здесь\n",
    "    # вернём Series с 10 самыми популярными жанрами в указанный отрезок времени заданного дня\n",
    "    return genre_df_sorted[:10]"
   ]
  },
  {
   "cell_type": "markdown",
   "metadata": {
    "deletable": false,
    "editable": false,
    "id": "la2s2_PF_Zcu",
    "tags": [
     "start_task"
    ]
   },
   "source": [
    "**Задание 25**"
   ]
  },
  {
   "cell_type": "code",
   "execution_count": 45,
   "metadata": {
    "deletable": false,
    "id": "yz7itPUQ_Zcu"
   },
   "outputs": [
    {
     "data": {
      "text/plain": [
       "genre\n",
       "pop           557\n",
       "dance         377\n",
       "rock          347\n",
       "electronic    344\n",
       "hip           192\n",
       "ruspop        134\n",
       "unknown       133\n",
       "rusrap        129\n",
       "world         118\n",
       "classical     117\n",
       "Name: genre, dtype: int64"
      ]
     },
     "execution_count": 45,
     "metadata": {},
     "output_type": "execute_result"
    }
   ],
   "source": [
    "def genre_weekday(df, day, time1, time2):\n",
    "    # последовательная фильтрация\n",
    "    genre_df = df[df['day'] == day]\n",
    "        # оставляем в genre_df только те строки df, у которых день равен day\n",
    "        # оставляем в genre_df только те строки genre_df, у которых время меньше time2\n",
    "    genre_df = genre_df[genre_df['time'] < time2] # ваш код здесь\n",
    "    # оставляем в genre_df только те строки genre_df, у которых время больше time1\n",
    "    genre_df = genre_df[genre_df['time'] > time1]# ваш код здесь\n",
    "    # сгруппируем отфильтрованный датафрейм по столбцу с названиями жанров, возьмём столбец genre и посчитаем кол-во строк для каждого жанра методом count()\n",
    "    genre_df_grouped = genre_df.groupby('genre')['genre'].count() # ваш код здесь\n",
    "    # отсортируем результат по убыванию (чтобы в начале Series оказались самые популярные жанры)\n",
    "    genre_df_sorted = genre_df_grouped.sort_values(ascending = False) # ваш код здесь\n",
    "    # вернём Series с 10 самыми популярными жанрами в указанный отрезок времени заданного дня\n",
    "    return genre_df_sorted[:10]\n",
    "genre_weekday(moscow_general, 'Monday', '07:00', '11:00')\n",
    "# вызов функции для утра понедельника в Москве (вместо df — таблица moscow_general)"
   ]
  },
  {
   "cell_type": "code",
   "execution_count": 27,
   "metadata": {
    "deletable": false,
    "id": "kwUcHPdy_Zcu"
   },
   "outputs": [
    {
     "data": {
      "text/plain": [
       "genre\n",
       "pop            123\n",
       "dance          106\n",
       "rock            90\n",
       "electronic      72\n",
       "hip             49\n",
       "ruspop          42\n",
       "alternative     30\n",
       "rusrap          28\n",
       "jazz            25\n",
       "world           23\n",
       "Name: genre, dtype: int64"
      ]
     },
     "execution_count": 27,
     "metadata": {},
     "output_type": "execute_result"
    }
   ],
   "source": [
    "def genre_weekday(df, day, time1, time2):\n",
    "    # последовательная фильтрация\n",
    "    genre_df = df[df['day'] == day]\n",
    "        # оставляем в genre_df только те строки df, у которых день равен day\n",
    "        # оставляем в genre_df только те строки genre_df, у которых время меньше time2\n",
    "    genre_df = genre_df[genre_df['time'] < time2] # ваш код здесь\n",
    "    # оставляем в genre_df только те строки genre_df, у которых время больше time1\n",
    "    genre_df = genre_df[genre_df['time'] > time1]# ваш код здесь\n",
    "    # сгруппируем отфильтрованный датафрейм по столбцу с названиями жанров, возьмём столбец genre и посчитаем кол-во строк для каждого жанра методом count()\n",
    "    genre_df_grouped = genre_df.groupby('genre')['genre'].count() # ваш код здесь\n",
    "    # отсортируем результат по убыванию (чтобы в начале Series оказались самые популярные жанры)\n",
    "    genre_df_sorted = genre_df_grouped.sort_values(ascending = False) # ваш код здесь\n",
    "    # вернём Series с 10 самыми популярными жанрами в указанный отрезок времени заданного дня\n",
    "    return genre_df_sorted[:10]\n",
    "genre_weekday(spb_general, 'Monday', '07:00', '11:00')\n",
    "# вызов функции для утра понедельника в Петербурге (вместо df — таблица spb_general)"
   ]
  },
  {
   "cell_type": "code",
   "execution_count": 28,
   "metadata": {
    "deletable": false,
    "id": "EzXVRE1o_Zcu"
   },
   "outputs": [
    {
     "data": {
      "text/plain": [
       "genre\n",
       "pop            237\n",
       "rock           182\n",
       "dance          155\n",
       "electronic     131\n",
       "hip             69\n",
       "world           65\n",
       "ruspop          56\n",
       "alternative     53\n",
       "classical       51\n",
       "soundtrack      37\n",
       "Name: genre, dtype: int64"
      ]
     },
     "execution_count": 28,
     "metadata": {},
     "output_type": "execute_result"
    }
   ],
   "source": [
    "def genre_weekday(df, day, time1, time2):\n",
    "    # последовательная фильтрация\n",
    "    genre_df = df[df['day'] == day]\n",
    "        # оставляем в genre_df только те строки df, у которых день равен day\n",
    "        # оставляем в genre_df только те строки genre_df, у которых время меньше time2\n",
    "    genre_df = genre_df[genre_df['time'] < time2] # ваш код здесь\n",
    "    # оставляем в genre_df только те строки genre_df, у которых время больше time1\n",
    "    genre_df = genre_df[genre_df['time'] > time1]# ваш код здесь\n",
    "    # сгруппируем отфильтрованный датафрейм по столбцу с названиями жанров, возьмём столбец genre и посчитаем кол-во строк для каждого жанра методом count()\n",
    "    genre_df_grouped = genre_df.groupby('genre')['genre'].count() # ваш код здесь\n",
    "    # отсортируем результат по убыванию (чтобы в начале Series оказались самые популярные жанры)\n",
    "    genre_df_sorted = genre_df_grouped.sort_values(ascending = False) # ваш код здесь\n",
    "    # вернём Series с 10 самыми популярными жанрами в указанный отрезок времени заданного дня\n",
    "    return genre_df_sorted[:10]\n",
    "genre_weekday(moscow_general, 'Friday', '17:00', '23:00')\n",
    "# вызов функции для вечера пятницы в Москве"
   ]
  },
  {
   "cell_type": "code",
   "execution_count": 29,
   "metadata": {
    "deletable": false,
    "id": "JZaEKu5v_Zcu"
   },
   "outputs": [
    {
     "data": {
      "text/plain": [
       "genre\n",
       "pop            84\n",
       "rock           80\n",
       "dance          62\n",
       "electronic     56\n",
       "hip            30\n",
       "classical      22\n",
       "jazz           22\n",
       "world          20\n",
       "alternative    17\n",
       "ruspop         17\n",
       "Name: genre, dtype: int64"
      ]
     },
     "execution_count": 29,
     "metadata": {},
     "output_type": "execute_result"
    }
   ],
   "source": [
    "def genre_weekday(df, day, time1, time2):\n",
    "    # последовательная фильтрация\n",
    "    genre_df = df[df['day'] == day]\n",
    "        # оставляем в genre_df только те строки df, у которых день равен day\n",
    "        # оставляем в genre_df только те строки genre_df, у которых время меньше time2\n",
    "    genre_df = genre_df[genre_df['time'] < time2] # ваш код здесь\n",
    "    # оставляем в genre_df только те строки genre_df, у которых время больше time1\n",
    "    genre_df = genre_df[genre_df['time'] > time1]# ваш код здесь\n",
    "    # сгруппируем отфильтрованный датафрейм по столбцу с названиями жанров, возьмём столбец genre и посчитаем кол-во строк для каждого жанра методом count()\n",
    "    genre_df_grouped = genre_df.groupby('genre')['genre'].count() # ваш код здесь\n",
    "    # отсортируем результат по убыванию (чтобы в начале Series оказались самые популярные жанры)\n",
    "    genre_df_sorted = genre_df_grouped.sort_values(ascending = False) # ваш код здесь\n",
    "    # вернём Series с 10 самыми популярными жанрами в указанный отрезок времени заданного дня\n",
    "    return genre_df_sorted[:10]\n",
    "genre_weekday(spb_general, 'Friday', '17:00', '23:00')\n",
    "# вызов функции для вечера пятницы в Петербурге"
   ]
  },
  {
   "cell_type": "markdown",
   "metadata": {
    "deletable": false,
    "editable": false,
    "id": "wrCe4MNX_Zcu"
   },
   "source": [
    "**Выводы**\n",
    "\n",
    "Если сравнить топ-10 жанров в понедельник утром, можно сделать такие выводы:\n",
    "\n",
    "1. В Москве и Петербурге слушают похожую музыку. Единственное различие — в московский рейтинг вошёл жанр “world”, а в петербургский — джаз и классика.\n",
    "\n",
    "2. В Москве пропущенных значений оказалось так много, что значение `'unknown'` заняло десятое место среди самых популярных жанров. Значит, пропущенные значения занимают существенную долю в данных и угрожают достоверности исследования.\n",
    "\n",
    "Вечер пятницы не меняет эту картину. Некоторые жанры поднимаются немного выше, другие спускаются, но в целом топ-10 остаётся тем же самым.\n",
    "\n",
    "Таким образом, вторая гипотеза подтвердилась лишь частично:\n",
    "* Пользователи слушают похожую музыку в начале недели и в конце.\n",
    "* Разница между Москвой и Петербургом не слишком выражена. В Москве чаще слушают русскую популярную музыку, в Петербурге — джаз.\n",
    "\n",
    "Однако пропуски в данных ставят под сомнение этот результат. В Москве их так много, что рейтинг топ-10 мог бы выглядеть иначе, если бы не утерянные  данные о жанрах."
   ]
  },
  {
   "cell_type": "markdown",
   "metadata": {
    "deletable": false,
    "editable": false,
    "id": "JolODAqr_Zcu"
   },
   "source": [
    "### Жанровые предпочтения в Москве и Петербурге\n",
    "\n",
    "Гипотеза: Петербург — столица рэпа, музыку этого жанра там слушают чаще, чем в Москве.  А Москва — город контрастов, в котором, тем не менее, преобладает поп-музыка."
   ]
  },
  {
   "cell_type": "markdown",
   "metadata": {
    "deletable": false,
    "editable": false,
    "id": "DlegSvaT_Zcu",
    "tags": [
     "start_task"
    ]
   },
   "source": [
    "**Задание 26**"
   ]
  },
  {
   "cell_type": "code",
   "execution_count": 30,
   "metadata": {
    "deletable": false,
    "id": "r19lIPke_Zcu"
   },
   "outputs": [],
   "source": [
    "moscow_genres = moscow_general.groupby('genre')['genre'].count()\n",
    "moscow_genres = moscow_genres.sort_values(ascending = False)\n",
    "# одной строкой: группировка таблицы moscow_general по столбцу 'genre', выбор столбца `genre`, подсчёт числа значений 'genre' методом count(), сохранение в moscow_genres\n",
    "# сортировка получившегося Series в порядке убывания и сохранение обратно в moscow_genres"
   ]
  },
  {
   "cell_type": "markdown",
   "metadata": {
    "deletable": false,
    "editable": false,
    "id": "6kMuomxTiIr8",
    "tags": [
     "start_task"
    ]
   },
   "source": [
    "**Задание 27**"
   ]
  },
  {
   "cell_type": "code",
   "execution_count": 31,
   "metadata": {
    "deletable": false,
    "id": "WhCSooF8_Zcv"
   },
   "outputs": [
    {
     "name": "stdout",
     "output_type": "stream",
     "text": [
      "genre\n",
      "pop            5892\n",
      "dance          4435\n",
      "rock           3965\n",
      "electronic     3786\n",
      "hip            2041\n",
      "classical      1616\n",
      "world          1432\n",
      "alternative    1379\n",
      "ruspop         1372\n",
      "rusrap         1161\n",
      "Name: genre, dtype: int64\n"
     ]
    }
   ],
   "source": [
    "print(moscow_genres[:10])\n",
    "# просмотр первых 10 строк moscow_genres"
   ]
  },
  {
   "cell_type": "markdown",
   "metadata": {
    "deletable": false,
    "editable": false,
    "id": "cnPG2vnN_Zcv",
    "tags": [
     "start_task"
    ]
   },
   "source": [
    "**Задание 28**"
   ]
  },
  {
   "cell_type": "code",
   "execution_count": 32,
   "metadata": {
    "deletable": false,
    "id": "gluLIpE7_Zcv"
   },
   "outputs": [],
   "source": [
    "spb_genres = spb_general.groupby('genre')['genre'].count()\n",
    "spb_genres = spb_genres.sort_values(ascending = False)\n",
    "# одной строкой: группировка таблицы spb_general по столбцу 'genre', выбор столбца `genre`, подсчёт числа значений 'genre' методом count(), сохранение в spb_genres\n",
    "# сортировка получившегося Series в порядке убывания и сохранение обратно в spb_genres"
   ]
  },
  {
   "cell_type": "markdown",
   "metadata": {
    "deletable": false,
    "editable": false,
    "id": "5Doha_ODgyQ8",
    "tags": [
     "start_task"
    ]
   },
   "source": [
    "**Задание 29**"
   ]
  },
  {
   "cell_type": "code",
   "execution_count": 33,
   "metadata": {
    "deletable": false,
    "id": "uaGJHjVU_Zcv"
   },
   "outputs": [
    {
     "name": "stdout",
     "output_type": "stream",
     "text": [
      "genre\n",
      "pop            2431\n",
      "dance          1932\n",
      "rock           1879\n",
      "electronic     1737\n",
      "hip             934\n",
      "alternative     649\n",
      "classical       646\n",
      "rusrap          564\n",
      "ruspop          538\n",
      "world           515\n",
      "Name: genre, dtype: int64\n"
     ]
    }
   ],
   "source": [
    "print(spb_genres[:10])\n",
    "# просмотр первых 10 строк spb_genres"
   ]
  },
  {
   "cell_type": "markdown",
   "metadata": {
    "deletable": false,
    "editable": false,
    "id": "RY51YJYu_Zcv"
   },
   "source": [
    "**Выводы**"
   ]
  },
  {
   "cell_type": "markdown",
   "metadata": {
    "deletable": false,
    "editable": false,
    "id": "nVhnJEm__Zcv"
   },
   "source": [
    "Гипотеза частично подтвердилась:\n",
    "* Поп-музыка — самый популярный жанр в Москве, как и предполагала гипотеза. Более того, в топ-10 жанров встречается близкий жанр — русская популярная музыка.\n",
    "* Вопреки ожиданиям, рэп одинаково популярен в Москве и Петербурге.\n"
   ]
  },
  {
   "cell_type": "markdown",
   "metadata": {
    "deletable": false,
    "editable": false,
    "id": "ykKQ0N65_Zcv"
   },
   "source": [
    "## Итоги исследования"
   ]
  },
  {
   "cell_type": "markdown",
   "metadata": {
    "deletable": false,
    "editable": false,
    "id": "tjUwbHb3_Zcv"
   },
   "source": [
    "Вы проверили три гипотезы и установили:\n",
    "\n",
    "1. День недели по-разному влияет на активность пользователей в Москве и Петербурге.\n",
    "\n",
    "Первая гипотеза полностью подтвердилась.\n",
    "\n",
    "2. Музыкальные предпочтения не сильно меняются в течение недели — будь то Москва или Петербург. Небольшие различия заметны в начале недели, по понедельникам:\n",
    "* в Москве слушают музыку жанра “world”,\n",
    "* в Петербурге — джаз и классику.\n",
    "\n",
    "Таким образом, вторая гипотеза подтвердилась лишь отчасти. Этот результат мог оказаться иным, если бы не пропуски в данных.\n",
    "\n",
    "3. Во вкусах пользователей Москвы и Петербурга больше общего, чем различий. Вопреки ожиданиям, предпочтения жанров в Петербурге напоминают московские.\n",
    "\n",
    "Третья гипотеза не подтвердилась. Если различия в предпочтениях и существуют, на основной массе пользователей они незаметны.\n",
    "\n",
    "**На практике исследования содержат проверки статистических гипотез.**\n",
    "Из части данных одного сервиса невозможно сделать какие-то выводы о всех пользователях сервиса без методов статистики.\n",
    "Проверки статистических гипотез покажут, насколько они достоверны, исходя из имеющихся данных.\n",
    "С методами проверок гипотез вы ещё познакомитесь в следующих темах."
   ]
  }
 ],
 "metadata": {
  "ExecuteTimeLog": [
   {
    "duration": 401,
    "start_time": "2024-06-18T07:20:46.707Z"
   },
   {
    "duration": 46,
    "start_time": "2024-06-18T13:45:19.000Z"
   },
   {
    "duration": 375,
    "start_time": "2024-06-18T13:45:43.490Z"
   },
   {
    "duration": 452,
    "start_time": "2024-06-18T13:45:49.146Z"
   },
   {
    "duration": 8,
    "start_time": "2024-06-18T13:48:52.983Z"
   },
   {
    "duration": 39,
    "start_time": "2024-06-18T13:57:26.275Z"
   },
   {
    "duration": 55,
    "start_time": "2024-06-18T13:58:48.132Z"
   },
   {
    "duration": 3,
    "start_time": "2024-06-18T14:05:23.640Z"
   },
   {
    "duration": 3,
    "start_time": "2024-06-18T14:11:33.327Z"
   },
   {
    "duration": 88,
    "start_time": "2024-06-18T18:42:31.836Z"
   },
   {
    "duration": 484,
    "start_time": "2024-06-18T18:43:01.674Z"
   },
   {
    "duration": 501,
    "start_time": "2024-06-18T18:43:08.088Z"
   },
   {
    "duration": 11,
    "start_time": "2024-06-18T18:43:12.630Z"
   },
   {
    "duration": 8,
    "start_time": "2024-06-18T18:43:22.371Z"
   },
   {
    "duration": 40,
    "start_time": "2024-06-18T18:43:29.154Z"
   },
   {
    "duration": 3,
    "start_time": "2024-06-18T18:43:33.416Z"
   },
   {
    "duration": 3,
    "start_time": "2024-06-18T18:43:37.024Z"
   },
   {
    "duration": 16,
    "start_time": "2024-06-18T18:43:39.831Z"
   },
   {
    "duration": 34,
    "start_time": "2024-06-18T18:54:28.650Z"
   },
   {
    "duration": 41,
    "start_time": "2024-06-18T18:55:35.823Z"
   },
   {
    "duration": 8,
    "start_time": "2024-06-18T18:56:08.740Z"
   },
   {
    "duration": 8,
    "start_time": "2024-06-18T18:56:23.952Z"
   },
   {
    "duration": 34,
    "start_time": "2024-06-18T18:56:48.393Z"
   },
   {
    "duration": 10,
    "start_time": "2024-06-18T19:05:00.013Z"
   },
   {
    "duration": 43,
    "start_time": "2024-06-18T19:05:03.078Z"
   },
   {
    "duration": 986,
    "start_time": "2024-06-18T19:07:46.091Z"
   },
   {
    "duration": 11,
    "start_time": "2024-06-18T19:11:49.973Z"
   },
   {
    "duration": 33,
    "start_time": "2024-06-18T19:11:54.499Z"
   },
   {
    "duration": 39,
    "start_time": "2024-06-18T19:12:39.824Z"
   },
   {
    "duration": 12,
    "start_time": "2024-06-18T19:13:25.574Z"
   },
   {
    "duration": 34,
    "start_time": "2024-06-18T19:13:31.185Z"
   },
   {
    "duration": 8,
    "start_time": "2024-06-18T19:14:14.192Z"
   },
   {
    "duration": 36,
    "start_time": "2024-06-18T19:14:18.668Z"
   },
   {
    "duration": 8,
    "start_time": "2024-06-18T19:14:31.701Z"
   },
   {
    "duration": 47,
    "start_time": "2024-06-18T19:14:35.095Z"
   },
   {
    "duration": 9,
    "start_time": "2024-06-18T19:14:41.933Z"
   },
   {
    "duration": 55,
    "start_time": "2024-06-18T19:14:49.879Z"
   },
   {
    "duration": 12,
    "start_time": "2024-06-18T19:15:37.530Z"
   },
   {
    "duration": 34,
    "start_time": "2024-06-18T19:15:43.294Z"
   },
   {
    "duration": 42,
    "start_time": "2024-06-18T19:15:55.767Z"
   },
   {
    "duration": 3,
    "start_time": "2024-06-18T19:17:32.082Z"
   },
   {
    "duration": 7,
    "start_time": "2024-06-18T19:17:36.438Z"
   },
   {
    "duration": 40,
    "start_time": "2024-06-18T19:17:41.273Z"
   },
   {
    "duration": 8,
    "start_time": "2024-06-18T19:18:08.788Z"
   },
   {
    "duration": 32,
    "start_time": "2024-06-18T19:18:15.715Z"
   },
   {
    "duration": 7,
    "start_time": "2024-06-18T19:18:25.508Z"
   },
   {
    "duration": 35,
    "start_time": "2024-06-18T19:18:29.801Z"
   },
   {
    "duration": 11,
    "start_time": "2024-06-18T19:18:41.074Z"
   },
   {
    "duration": 33,
    "start_time": "2024-06-18T19:18:44.896Z"
   },
   {
    "duration": 8,
    "start_time": "2024-06-18T19:19:22.584Z"
   },
   {
    "duration": 33,
    "start_time": "2024-06-18T19:19:26.709Z"
   },
   {
    "duration": 38,
    "start_time": "2024-06-18T19:19:35.343Z"
   },
   {
    "duration": 937,
    "start_time": "2024-06-18T19:19:40.192Z"
   },
   {
    "duration": 1087,
    "start_time": "2024-06-18T19:21:58.098Z"
   },
   {
    "duration": 4,
    "start_time": "2024-06-18T19:27:03.062Z"
   },
   {
    "duration": 6,
    "start_time": "2024-06-18T19:27:43.046Z"
   },
   {
    "duration": 4,
    "start_time": "2024-06-18T19:27:50.178Z"
   },
   {
    "duration": 14,
    "start_time": "2024-06-18T19:28:09.669Z"
   },
   {
    "duration": 5,
    "start_time": "2024-06-18T19:28:14.937Z"
   },
   {
    "duration": 29,
    "start_time": "2024-06-18T19:28:21.051Z"
   },
   {
    "duration": 34,
    "start_time": "2024-06-18T19:31:48.339Z"
   },
   {
    "duration": 21,
    "start_time": "2024-06-18T19:32:25.356Z"
   },
   {
    "duration": 42,
    "start_time": "2024-06-18T19:35:01.193Z"
   },
   {
    "duration": 6,
    "start_time": "2024-06-18T19:36:20.318Z"
   },
   {
    "duration": 74,
    "start_time": "2024-06-18T19:37:04.403Z"
   },
   {
    "duration": 73,
    "start_time": "2024-06-18T19:40:51.881Z"
   },
   {
    "duration": 164,
    "start_time": "2024-06-18T19:42:35.822Z"
   },
   {
    "duration": 60,
    "start_time": "2024-06-18T19:47:44.486Z"
   },
   {
    "duration": 9,
    "start_time": "2024-06-18T19:49:46.368Z"
   },
   {
    "duration": 8,
    "start_time": "2024-06-18T19:51:57.669Z"
   },
   {
    "duration": 8,
    "start_time": "2024-06-18T19:58:07.784Z"
   },
   {
    "duration": 10,
    "start_time": "2024-06-18T20:01:15.535Z"
   },
   {
    "duration": 16,
    "start_time": "2024-06-18T20:01:37.276Z"
   },
   {
    "duration": 43,
    "start_time": "2024-06-19T09:58:45.694Z"
   },
   {
    "duration": 335,
    "start_time": "2024-06-19T09:59:23.036Z"
   },
   {
    "duration": 27,
    "start_time": "2024-06-19T09:59:33.208Z"
   },
   {
    "duration": 8,
    "start_time": "2024-06-19T09:59:40.091Z"
   },
   {
    "duration": 7,
    "start_time": "2024-06-19T10:50:53.105Z"
   },
   {
    "duration": 6,
    "start_time": "2024-06-19T10:51:09.335Z"
   },
   {
    "duration": 209,
    "start_time": "2024-06-19T10:51:22.144Z"
   },
   {
    "duration": 6,
    "start_time": "2024-06-19T10:51:27.053Z"
   },
   {
    "duration": 6,
    "start_time": "2024-06-19T10:51:31.377Z"
   },
   {
    "duration": 22,
    "start_time": "2024-06-19T10:51:35.324Z"
   },
   {
    "duration": 3,
    "start_time": "2024-06-19T10:51:42.423Z"
   },
   {
    "duration": 10,
    "start_time": "2024-06-19T10:51:46.075Z"
   },
   {
    "duration": 7,
    "start_time": "2024-06-19T10:51:48.801Z"
   },
   {
    "duration": 19,
    "start_time": "2024-06-19T10:51:53.511Z"
   },
   {
    "duration": 13,
    "start_time": "2024-06-19T10:51:57.024Z"
   },
   {
    "duration": 19,
    "start_time": "2024-06-19T10:52:00.727Z"
   },
   {
    "duration": 57,
    "start_time": "2024-06-19T10:52:06.478Z"
   },
   {
    "duration": 116,
    "start_time": "2024-06-19T10:52:10.899Z"
   },
   {
    "duration": 55,
    "start_time": "2024-06-19T10:52:14.909Z"
   },
   {
    "duration": 7,
    "start_time": "2024-06-19T10:52:18.352Z"
   },
   {
    "duration": 5,
    "start_time": "2024-06-19T10:52:25.185Z"
   },
   {
    "duration": 7,
    "start_time": "2024-06-19T10:53:10.985Z"
   },
   {
    "duration": 3,
    "start_time": "2024-06-19T11:00:25.360Z"
   },
   {
    "duration": 6,
    "start_time": "2024-06-19T11:00:37.704Z"
   },
   {
    "duration": 5,
    "start_time": "2024-06-19T11:00:58.912Z"
   },
   {
    "duration": 6,
    "start_time": "2024-06-19T11:01:20.961Z"
   },
   {
    "duration": 6,
    "start_time": "2024-06-19T11:02:02.305Z"
   },
   {
    "duration": 6,
    "start_time": "2024-06-19T11:02:14.420Z"
   },
   {
    "duration": 5,
    "start_time": "2024-06-19T11:02:24.046Z"
   },
   {
    "duration": 6,
    "start_time": "2024-06-19T11:02:53.413Z"
   },
   {
    "duration": 6,
    "start_time": "2024-06-19T11:04:50.575Z"
   },
   {
    "duration": 5,
    "start_time": "2024-06-19T11:09:51.170Z"
   },
   {
    "duration": 7,
    "start_time": "2024-06-19T11:10:40.886Z"
   },
   {
    "duration": 6,
    "start_time": "2024-06-19T11:17:46.182Z"
   },
   {
    "duration": 5,
    "start_time": "2024-06-19T11:42:03.969Z"
   },
   {
    "duration": 5,
    "start_time": "2024-06-19T11:42:20.038Z"
   },
   {
    "duration": 6,
    "start_time": "2024-06-19T11:44:06.538Z"
   },
   {
    "duration": 5,
    "start_time": "2024-06-19T11:44:33.466Z"
   },
   {
    "duration": 3,
    "start_time": "2024-06-19T11:44:47.043Z"
   },
   {
    "duration": 142,
    "start_time": "2024-06-19T11:44:51.199Z"
   },
   {
    "duration": 5,
    "start_time": "2024-06-19T11:44:58.448Z"
   },
   {
    "duration": 23,
    "start_time": "2024-06-19T11:45:05.350Z"
   },
   {
    "duration": 2,
    "start_time": "2024-06-19T11:45:16.292Z"
   },
   {
    "duration": 6,
    "start_time": "2024-06-19T11:45:19.976Z"
   },
   {
    "duration": 20,
    "start_time": "2024-06-19T11:45:24.003Z"
   },
   {
    "duration": 14,
    "start_time": "2024-06-19T11:45:29.225Z"
   },
   {
    "duration": 18,
    "start_time": "2024-06-19T11:45:33.415Z"
   },
   {
    "duration": 56,
    "start_time": "2024-06-19T11:45:37.379Z"
   },
   {
    "duration": 115,
    "start_time": "2024-06-19T11:45:41.372Z"
   },
   {
    "duration": 59,
    "start_time": "2024-06-19T11:45:43.934Z"
   },
   {
    "duration": 7,
    "start_time": "2024-06-19T11:45:47.900Z"
   },
   {
    "duration": 4,
    "start_time": "2024-06-19T11:45:53.624Z"
   },
   {
    "duration": 7,
    "start_time": "2024-06-19T11:45:58.792Z"
   },
   {
    "duration": 9,
    "start_time": "2024-06-19T11:46:17.038Z"
   },
   {
    "duration": 10,
    "start_time": "2024-06-19T11:46:32.343Z"
   },
   {
    "duration": 9,
    "start_time": "2024-06-19T11:52:22.826Z"
   },
   {
    "duration": 9,
    "start_time": "2024-06-19T11:58:37.374Z"
   },
   {
    "duration": 10,
    "start_time": "2024-06-19T11:59:02.043Z"
   },
   {
    "duration": 77,
    "start_time": "2024-06-19T12:04:44.262Z"
   },
   {
    "duration": 65,
    "start_time": "2024-06-19T12:04:52.003Z"
   },
   {
    "duration": 2,
    "start_time": "2024-06-19T12:06:14.727Z"
   },
   {
    "duration": 3,
    "start_time": "2024-06-19T12:06:26.741Z"
   },
   {
    "duration": 3,
    "start_time": "2024-06-19T12:08:57.112Z"
   },
   {
    "duration": 3,
    "start_time": "2024-06-19T12:09:00.530Z"
   },
   {
    "duration": 6,
    "start_time": "2024-06-19T12:12:33.857Z"
   },
   {
    "duration": 6,
    "start_time": "2024-06-19T12:13:27.916Z"
   },
   {
    "duration": 6,
    "start_time": "2024-06-19T12:13:51.591Z"
   },
   {
    "duration": 6,
    "start_time": "2024-06-19T12:14:12.503Z"
   },
   {
    "duration": 5,
    "start_time": "2024-06-19T12:42:37.762Z"
   },
   {
    "duration": 7,
    "start_time": "2024-06-19T12:42:42.219Z"
   },
   {
    "duration": 6,
    "start_time": "2024-06-19T12:43:20.360Z"
   },
   {
    "duration": 7,
    "start_time": "2024-06-19T12:48:43.179Z"
   },
   {
    "duration": 8,
    "start_time": "2024-06-19T12:48:53.562Z"
   },
   {
    "duration": 2,
    "start_time": "2024-06-19T12:50:33.948Z"
   },
   {
    "duration": 21,
    "start_time": "2024-06-19T12:50:39.365Z"
   },
   {
    "duration": 3,
    "start_time": "2024-06-19T13:00:04.357Z"
   },
   {
    "duration": 26,
    "start_time": "2024-06-19T13:00:07.967Z"
   },
   {
    "duration": 3,
    "start_time": "2024-06-19T13:08:18.256Z"
   },
   {
    "duration": 3,
    "start_time": "2024-06-19T13:08:30.242Z"
   },
   {
    "duration": 9,
    "start_time": "2024-06-19T13:16:50.642Z"
   },
   {
    "duration": 3,
    "start_time": "2024-06-19T13:20:15.717Z"
   },
   {
    "duration": 3,
    "start_time": "2024-06-19T13:20:18.743Z"
   },
   {
    "duration": 953,
    "start_time": "2024-06-19T13:20:23.303Z"
   },
   {
    "duration": 81,
    "start_time": "2024-06-19T13:24:58.762Z"
   },
   {
    "duration": 3,
    "start_time": "2024-06-19T13:27:47.928Z"
   },
   {
    "duration": 10,
    "start_time": "2024-06-19T13:27:53.456Z"
   },
   {
    "duration": 3,
    "start_time": "2024-06-19T13:28:17.667Z"
   },
   {
    "duration": 10,
    "start_time": "2024-06-19T13:28:21.732Z"
   },
   {
    "duration": 14,
    "start_time": "2024-06-19T14:21:02.722Z"
   },
   {
    "duration": 3,
    "start_time": "2024-06-19T14:40:38.147Z"
   },
   {
    "duration": 2,
    "start_time": "2024-06-19T14:40:41.840Z"
   },
   {
    "duration": 10,
    "start_time": "2024-06-19T14:40:45.218Z"
   },
   {
    "duration": 2,
    "start_time": "2024-06-19T18:46:14.028Z"
   },
   {
    "duration": 840,
    "start_time": "2024-06-19T18:46:17.086Z"
   },
   {
    "duration": 2,
    "start_time": "2024-06-19T18:46:40.793Z"
   },
   {
    "duration": 134,
    "start_time": "2024-06-19T18:46:43.431Z"
   },
   {
    "duration": 6,
    "start_time": "2024-06-19T18:46:46.206Z"
   },
   {
    "duration": 21,
    "start_time": "2024-06-19T18:46:49.419Z"
   },
   {
    "duration": 2,
    "start_time": "2024-06-19T18:46:55.152Z"
   },
   {
    "duration": 7,
    "start_time": "2024-06-19T18:46:58.440Z"
   },
   {
    "duration": 3,
    "start_time": "2024-06-19T18:47:01.516Z"
   },
   {
    "duration": 19,
    "start_time": "2024-06-19T18:47:07.129Z"
   },
   {
    "duration": 14,
    "start_time": "2024-06-19T18:47:13.326Z"
   },
   {
    "duration": 54,
    "start_time": "2024-06-19T18:47:18.927Z"
   },
   {
    "duration": 111,
    "start_time": "2024-06-19T18:47:23.001Z"
   },
   {
    "duration": 52,
    "start_time": "2024-06-19T18:47:25.854Z"
   },
   {
    "duration": 7,
    "start_time": "2024-06-19T18:47:29.385Z"
   },
   {
    "duration": 5,
    "start_time": "2024-06-19T18:47:36.037Z"
   },
   {
    "duration": 8,
    "start_time": "2024-06-19T18:47:42.254Z"
   },
   {
    "duration": 11,
    "start_time": "2024-06-19T18:47:51.179Z"
   },
   {
    "duration": 11,
    "start_time": "2024-06-19T18:47:56.091Z"
   },
   {
    "duration": 3,
    "start_time": "2024-06-19T18:48:01.282Z"
   },
   {
    "duration": 900,
    "start_time": "2024-06-19T18:48:06.065Z"
   },
   {
    "duration": 3,
    "start_time": "2024-06-19T18:48:46.422Z"
   },
   {
    "duration": 7,
    "start_time": "2024-06-19T18:48:53.058Z"
   },
   {
    "duration": 3,
    "start_time": "2024-06-19T18:51:51.496Z"
   },
   {
    "duration": 2,
    "start_time": "2024-06-19T18:51:54.358Z"
   },
   {
    "duration": 10,
    "start_time": "2024-06-19T18:52:10.563Z"
   },
   {
    "duration": 15,
    "start_time": "2024-06-19T18:52:33.735Z"
   },
   {
    "duration": 10,
    "start_time": "2024-06-19T18:52:37.221Z"
   },
   {
    "duration": 3,
    "start_time": "2024-06-19T18:52:48.257Z"
   },
   {
    "duration": 7,
    "start_time": "2024-06-19T18:52:52.236Z"
   },
   {
    "duration": 7,
    "start_time": "2024-06-19T18:53:59.495Z"
   },
   {
    "duration": 3,
    "start_time": "2024-06-19T18:54:43.967Z"
   },
   {
    "duration": 14,
    "start_time": "2024-06-19T18:54:48.718Z"
   },
   {
    "duration": 4,
    "start_time": "2024-06-19T18:55:13.501Z"
   },
   {
    "duration": 12,
    "start_time": "2024-06-19T18:55:16.324Z"
   },
   {
    "duration": 3,
    "start_time": "2024-06-19T19:22:03.793Z"
   },
   {
    "duration": 8,
    "start_time": "2024-06-19T19:22:37.887Z"
   },
   {
    "duration": 7,
    "start_time": "2024-06-19T19:23:06.009Z"
   },
   {
    "duration": 7,
    "start_time": "2024-06-19T19:23:46.735Z"
   },
   {
    "duration": 3,
    "start_time": "2024-06-19T19:23:56.246Z"
   },
   {
    "duration": 12,
    "start_time": "2024-06-19T19:23:59.301Z"
   },
   {
    "duration": 12,
    "start_time": "2024-06-19T19:24:44.663Z"
   },
   {
    "duration": 3,
    "start_time": "2024-06-19T19:24:57.289Z"
   },
   {
    "duration": 11,
    "start_time": "2024-06-19T19:25:01.528Z"
   },
   {
    "duration": 12,
    "start_time": "2024-06-19T19:26:16.249Z"
   },
   {
    "duration": 11,
    "start_time": "2024-06-19T19:26:23.602Z"
   },
   {
    "duration": 17,
    "start_time": "2024-06-19T19:26:26.833Z"
   },
   {
    "duration": 3,
    "start_time": "2024-06-19T19:26:35.976Z"
   },
   {
    "duration": 14,
    "start_time": "2024-06-19T19:26:43.191Z"
   },
   {
    "duration": 3,
    "start_time": "2024-06-19T19:27:45.205Z"
   },
   {
    "duration": 13,
    "start_time": "2024-06-19T19:27:52.076Z"
   },
   {
    "duration": 7,
    "start_time": "2024-06-19T19:46:12.599Z"
   },
   {
    "duration": 7,
    "start_time": "2024-06-19T19:46:43.524Z"
   },
   {
    "duration": 6,
    "start_time": "2024-06-19T19:47:01.820Z"
   },
   {
    "duration": 7,
    "start_time": "2024-06-19T20:02:50.576Z"
   },
   {
    "duration": 13,
    "start_time": "2024-06-19T20:03:18.581Z"
   },
   {
    "duration": 7,
    "start_time": "2024-06-19T20:03:22.205Z"
   },
   {
    "duration": 48,
    "start_time": "2024-06-20T07:50:43.729Z"
   },
   {
    "duration": 428,
    "start_time": "2024-06-20T07:50:56.078Z"
   },
   {
    "duration": 486,
    "start_time": "2024-06-20T07:50:59.224Z"
   },
   {
    "duration": 8,
    "start_time": "2024-06-20T07:51:02.916Z"
   },
   {
    "duration": 32,
    "start_time": "2024-06-20T07:51:07.609Z"
   },
   {
    "duration": 3,
    "start_time": "2024-06-20T07:51:18.325Z"
   },
   {
    "duration": 4,
    "start_time": "2024-06-20T07:51:22.003Z"
   },
   {
    "duration": 14,
    "start_time": "2024-06-20T07:51:25.105Z"
   },
   {
    "duration": 11,
    "start_time": "2024-06-20T07:51:29.514Z"
   },
   {
    "duration": 48,
    "start_time": "2024-06-20T07:51:34.731Z"
   },
   {
    "duration": 35,
    "start_time": "2024-06-20T07:51:41.438Z"
   },
   {
    "duration": 96,
    "start_time": "2024-06-20T07:51:46.779Z"
   },
   {
    "duration": 160,
    "start_time": "2024-06-20T07:51:49.790Z"
   },
   {
    "duration": 65,
    "start_time": "2024-06-20T07:51:53.398Z"
   },
   {
    "duration": 9,
    "start_time": "2024-06-20T07:51:57.395Z"
   },
   {
    "duration": 7,
    "start_time": "2024-06-20T07:52:03.412Z"
   },
   {
    "duration": 9,
    "start_time": "2024-06-20T07:52:08.426Z"
   },
   {
    "duration": 16,
    "start_time": "2024-06-20T07:52:15.109Z"
   },
   {
    "duration": 13,
    "start_time": "2024-06-20T07:52:19.484Z"
   },
   {
    "duration": 5,
    "start_time": "2024-06-20T07:52:24.371Z"
   },
   {
    "duration": 31,
    "start_time": "2024-06-20T07:52:28.142Z"
   },
   {
    "duration": 16,
    "start_time": "2024-06-20T07:53:03.467Z"
   },
   {
    "duration": 4,
    "start_time": "2024-06-20T08:08:44.951Z"
   },
   {
    "duration": 4,
    "start_time": "2024-06-20T08:12:52.098Z"
   },
   {
    "duration": 4,
    "start_time": "2024-06-20T08:30:36.569Z"
   },
   {
    "duration": 25,
    "start_time": "2024-06-20T08:30:47.437Z"
   },
   {
    "duration": 8,
    "start_time": "2024-06-20T08:33:21.317Z"
   },
   {
    "duration": 45,
    "start_time": "2024-06-20T11:26:38.172Z"
   },
   {
    "duration": 5,
    "start_time": "2024-06-20T11:27:00.445Z"
   },
   {
    "duration": 377,
    "start_time": "2024-06-20T11:27:21.761Z"
   },
   {
    "duration": 211,
    "start_time": "2024-06-20T11:27:29.065Z"
   },
   {
    "duration": 7,
    "start_time": "2024-06-20T11:27:31.658Z"
   },
   {
    "duration": 23,
    "start_time": "2024-06-20T11:27:38.059Z"
   },
   {
    "duration": 3,
    "start_time": "2024-06-20T11:27:42.755Z"
   },
   {
    "duration": 2,
    "start_time": "2024-06-20T11:27:47.485Z"
   },
   {
    "duration": 11,
    "start_time": "2024-06-20T11:27:50.908Z"
   },
   {
    "duration": 8,
    "start_time": "2024-06-20T11:27:55.120Z"
   },
   {
    "duration": 19,
    "start_time": "2024-06-20T11:27:58.327Z"
   },
   {
    "duration": 13,
    "start_time": "2024-06-20T11:28:02.793Z"
   },
   {
    "duration": 18,
    "start_time": "2024-06-20T11:28:07.536Z"
   },
   {
    "duration": 59,
    "start_time": "2024-06-20T11:28:12.333Z"
   },
   {
    "duration": 114,
    "start_time": "2024-06-20T11:28:16.661Z"
   },
   {
    "duration": 53,
    "start_time": "2024-06-20T11:28:21.444Z"
   },
   {
    "duration": 7,
    "start_time": "2024-06-20T11:28:24.553Z"
   },
   {
    "duration": 4,
    "start_time": "2024-06-20T11:28:29.767Z"
   },
   {
    "duration": 8,
    "start_time": "2024-06-20T11:28:34.179Z"
   },
   {
    "duration": 10,
    "start_time": "2024-06-20T11:28:42.648Z"
   },
   {
    "duration": 9,
    "start_time": "2024-06-20T11:28:46.542Z"
   },
   {
    "duration": 3,
    "start_time": "2024-06-20T11:28:50.569Z"
   },
   {
    "duration": 5,
    "start_time": "2024-06-20T11:28:57.957Z"
   },
   {
    "duration": 892,
    "start_time": "2024-06-20T11:29:03.976Z"
   },
   {
    "duration": 8,
    "start_time": "2024-06-20T11:29:27.448Z"
   },
   {
    "duration": 14,
    "start_time": "2024-06-20T11:29:45.842Z"
   },
   {
    "duration": 7,
    "start_time": "2024-06-20T11:31:15.871Z"
   },
   {
    "duration": 13,
    "start_time": "2024-06-20T11:31:38.201Z"
   },
   {
    "duration": 3,
    "start_time": "2024-06-20T12:10:04.735Z"
   },
   {
    "duration": 27,
    "start_time": "2024-06-20T12:24:36.952Z"
   },
   {
    "duration": 17,
    "start_time": "2024-06-20T12:25:40.483Z"
   },
   {
    "duration": 25,
    "start_time": "2024-06-20T12:27:18.118Z"
   },
   {
    "duration": 18,
    "start_time": "2024-06-20T12:28:24.881Z"
   },
   {
    "duration": 4,
    "start_time": "2024-06-20T12:28:59.950Z"
   },
   {
    "duration": 26,
    "start_time": "2024-06-20T12:29:15.155Z"
   },
   {
    "duration": 17,
    "start_time": "2024-06-20T12:29:19.668Z"
   },
   {
    "duration": 3,
    "start_time": "2024-06-20T12:44:13.198Z"
   },
   {
    "duration": 16,
    "start_time": "2024-06-20T12:44:21.149Z"
   },
   {
    "duration": 4,
    "start_time": "2024-06-20T12:44:32.394Z"
   },
   {
    "duration": 25,
    "start_time": "2024-06-20T12:44:35.958Z"
   },
   {
    "duration": 26,
    "start_time": "2024-06-20T12:44:54.153Z"
   },
   {
    "duration": 25,
    "start_time": "2024-06-20T12:45:10.483Z"
   },
   {
    "duration": 4,
    "start_time": "2024-06-20T12:49:48.911Z"
   },
   {
    "duration": 26,
    "start_time": "2024-06-20T12:49:53.610Z"
   },
   {
    "duration": 4,
    "start_time": "2024-06-20T12:50:06.629Z"
   },
   {
    "duration": 26,
    "start_time": "2024-06-20T12:50:10.572Z"
   },
   {
    "duration": 4,
    "start_time": "2024-06-20T12:51:03.943Z"
   },
   {
    "duration": 28,
    "start_time": "2024-06-20T12:51:07.110Z"
   },
   {
    "duration": 4,
    "start_time": "2024-06-20T12:51:23.861Z"
   },
   {
    "duration": 26,
    "start_time": "2024-06-20T12:51:26.616Z"
   },
   {
    "duration": 4,
    "start_time": "2024-06-20T12:51:36.137Z"
   },
   {
    "duration": 35,
    "start_time": "2024-06-20T12:51:40.842Z"
   },
   {
    "duration": 5,
    "start_time": "2024-06-20T12:52:43.961Z"
   },
   {
    "duration": 3,
    "start_time": "2024-06-20T12:52:47.915Z"
   },
   {
    "duration": 25,
    "start_time": "2024-06-20T12:52:51.079Z"
   },
   {
    "duration": 7,
    "start_time": "2024-06-20T13:09:34.955Z"
   },
   {
    "duration": 7,
    "start_time": "2024-06-20T13:09:45.491Z"
   },
   {
    "duration": 10,
    "start_time": "2024-06-20T13:10:42.446Z"
   },
   {
    "duration": 3,
    "start_time": "2024-06-20T13:14:10.248Z"
   },
   {
    "duration": 25,
    "start_time": "2024-06-20T13:14:14.137Z"
   },
   {
    "duration": 3,
    "start_time": "2024-06-20T13:15:44.738Z"
   },
   {
    "duration": 36,
    "start_time": "2024-06-20T13:15:48.173Z"
   },
   {
    "duration": 4,
    "start_time": "2024-06-20T13:16:08.019Z"
   },
   {
    "duration": 12,
    "start_time": "2024-06-20T13:16:11.591Z"
   },
   {
    "duration": 8,
    "start_time": "2024-06-20T13:16:21.751Z"
   },
   {
    "duration": 12,
    "start_time": "2024-06-20T13:16:26.880Z"
   },
   {
    "duration": 8,
    "start_time": "2024-06-20T13:16:42.822Z"
   },
   {
    "duration": 4,
    "start_time": "2024-06-20T13:37:51.130Z"
   },
   {
    "duration": 3,
    "start_time": "2024-06-20T13:37:58.602Z"
   },
   {
    "duration": 16,
    "start_time": "2024-06-20T13:38:02.310Z"
   },
   {
    "duration": 11,
    "start_time": "2024-06-20T13:38:09.051Z"
   },
   {
    "duration": 18,
    "start_time": "2024-06-20T13:38:14.189Z"
   },
   {
    "duration": 11,
    "start_time": "2024-06-20T13:38:21.639Z"
   },
   {
    "duration": 4,
    "start_time": "2024-06-20T13:45:13.402Z"
   },
   {
    "duration": 17,
    "start_time": "2024-06-20T13:45:23.334Z"
   },
   {
    "duration": 19,
    "start_time": "2024-06-20T13:49:19.717Z"
   },
   {
    "duration": 11,
    "start_time": "2024-06-20T13:49:44.148Z"
   },
   {
    "duration": 19,
    "start_time": "2024-06-20T13:49:55.279Z"
   },
   {
    "duration": 652,
    "start_time": "2024-06-20T13:50:48.203Z"
   },
   {
    "duration": 4,
    "start_time": "2024-06-20T14:27:43.271Z"
   },
   {
    "duration": 3,
    "start_time": "2024-06-20T14:27:53.165Z"
   },
   {
    "duration": 23,
    "start_time": "2024-06-20T14:27:57.609Z"
   },
   {
    "duration": 22,
    "start_time": "2024-06-20T14:28:15.556Z"
   },
   {
    "duration": 12,
    "start_time": "2024-06-20T14:28:32.689Z"
   },
   {
    "duration": 16,
    "start_time": "2024-06-20T14:29:37.681Z"
   },
   {
    "duration": 18,
    "start_time": "2024-06-20T14:29:49.440Z"
   },
   {
    "duration": 2,
    "start_time": "2024-06-20T14:30:42.942Z"
   },
   {
    "duration": 139,
    "start_time": "2024-06-20T14:30:45.414Z"
   },
   {
    "duration": 347,
    "start_time": "2024-06-20T14:31:31.589Z"
   },
   {
    "duration": 142,
    "start_time": "2024-06-20T14:31:31.937Z"
   },
   {
    "duration": 7,
    "start_time": "2024-06-20T14:31:32.080Z"
   },
   {
    "duration": 27,
    "start_time": "2024-06-20T14:31:32.088Z"
   },
   {
    "duration": 32,
    "start_time": "2024-06-20T14:31:32.116Z"
   },
   {
    "duration": 5,
    "start_time": "2024-06-20T14:31:32.150Z"
   },
   {
    "duration": 15,
    "start_time": "2024-06-20T14:31:32.156Z"
   },
   {
    "duration": 9,
    "start_time": "2024-06-20T14:31:32.172Z"
   },
   {
    "duration": 19,
    "start_time": "2024-06-20T14:31:32.182Z"
   },
   {
    "duration": 22,
    "start_time": "2024-06-20T14:31:32.204Z"
   },
   {
    "duration": 19,
    "start_time": "2024-06-20T14:31:32.227Z"
   },
   {
    "duration": 67,
    "start_time": "2024-06-20T14:31:32.247Z"
   },
   {
    "duration": 119,
    "start_time": "2024-06-20T14:31:32.316Z"
   },
   {
    "duration": 56,
    "start_time": "2024-06-20T14:31:32.437Z"
   },
   {
    "duration": 7,
    "start_time": "2024-06-20T14:31:32.494Z"
   },
   {
    "duration": 7,
    "start_time": "2024-06-20T14:31:32.502Z"
   },
   {
    "duration": 18,
    "start_time": "2024-06-20T14:31:32.510Z"
   },
   {
    "duration": 10,
    "start_time": "2024-06-20T14:31:32.530Z"
   },
   {
    "duration": 10,
    "start_time": "2024-06-20T14:31:32.542Z"
   },
   {
    "duration": 18,
    "start_time": "2024-06-20T14:31:32.553Z"
   },
   {
    "duration": 17,
    "start_time": "2024-06-20T14:31:32.573Z"
   },
   {
    "duration": 11,
    "start_time": "2024-06-20T14:31:32.591Z"
   },
   {
    "duration": 12,
    "start_time": "2024-06-20T14:31:32.604Z"
   },
   {
    "duration": 11,
    "start_time": "2024-06-20T14:31:32.618Z"
   },
   {
    "duration": 12,
    "start_time": "2024-06-20T14:31:32.630Z"
   },
   {
    "duration": 34,
    "start_time": "2024-06-20T14:31:32.643Z"
   },
   {
    "duration": 16,
    "start_time": "2024-06-20T14:31:32.679Z"
   },
   {
    "duration": 11,
    "start_time": "2024-06-20T14:31:32.699Z"
   },
   {
    "duration": 4,
    "start_time": "2024-06-20T14:31:32.711Z"
   },
   {
    "duration": 14,
    "start_time": "2024-06-20T14:31:32.717Z"
   },
   {
    "duration": 9,
    "start_time": "2024-06-20T14:31:32.732Z"
   },
   {
    "duration": 19,
    "start_time": "2024-06-20T14:31:32.771Z"
   },
   {
    "duration": 41,
    "start_time": "2024-06-20T14:31:32.792Z"
   },
   {
    "duration": 3,
    "start_time": "2024-06-20T14:31:32.834Z"
   },
   {
    "duration": 5,
    "start_time": "2024-06-20T14:31:32.838Z"
   },
   {
    "duration": 14,
    "start_time": "2024-06-20T14:31:32.845Z"
   },
   {
    "duration": 7,
    "start_time": "2024-06-20T14:31:32.860Z"
   },
   {
    "duration": 25,
    "start_time": "2024-06-20T14:32:07.404Z"
   },
   {
    "duration": 4,
    "start_time": "2024-06-20T14:32:14.618Z"
   },
   {
    "duration": 10,
    "start_time": "2024-06-20T14:32:29.156Z"
   },
   {
    "duration": 19,
    "start_time": "2024-06-20T14:32:36.055Z"
   },
   {
    "duration": 17,
    "start_time": "2024-06-20T14:33:02.818Z"
   },
   {
    "duration": 11,
    "start_time": "2024-06-20T14:33:22.249Z"
   },
   {
    "duration": 4,
    "start_time": "2024-06-20T14:34:09.059Z"
   },
   {
    "duration": 16,
    "start_time": "2024-06-20T14:34:21.997Z"
   },
   {
    "duration": 15,
    "start_time": "2024-06-20T14:34:30.232Z"
   },
   {
    "duration": 24,
    "start_time": "2024-06-20T14:34:37.479Z"
   },
   {
    "duration": 12,
    "start_time": "2024-06-20T14:34:45.040Z"
   },
   {
    "duration": 11,
    "start_time": "2024-06-20T14:35:36.822Z"
   },
   {
    "duration": 46,
    "start_time": "2024-06-20T18:53:58.592Z"
   },
   {
    "duration": 373,
    "start_time": "2024-06-20T18:54:07.079Z"
   },
   {
    "duration": 445,
    "start_time": "2024-06-20T18:54:10.503Z"
   },
   {
    "duration": 8,
    "start_time": "2024-06-20T18:54:13.124Z"
   },
   {
    "duration": 30,
    "start_time": "2024-06-20T18:54:18.105Z"
   },
   {
    "duration": 3,
    "start_time": "2024-06-20T18:54:27.943Z"
   },
   {
    "duration": 13,
    "start_time": "2024-06-20T18:54:31.540Z"
   },
   {
    "duration": 8,
    "start_time": "2024-06-20T18:54:34.323Z"
   },
   {
    "duration": 27,
    "start_time": "2024-06-20T18:54:37.676Z"
   },
   {
    "duration": 20,
    "start_time": "2024-06-20T18:54:44.362Z"
   },
   {
    "duration": 26,
    "start_time": "2024-06-20T18:54:49.127Z"
   },
   {
    "duration": 62,
    "start_time": "2024-06-20T18:54:53.639Z"
   },
   {
    "duration": 127,
    "start_time": "2024-06-20T18:54:57.524Z"
   },
   {
    "duration": 59,
    "start_time": "2024-06-20T18:55:00.756Z"
   },
   {
    "duration": 7,
    "start_time": "2024-06-20T18:55:06.401Z"
   },
   {
    "duration": 7,
    "start_time": "2024-06-20T18:55:16.042Z"
   },
   {
    "duration": 8,
    "start_time": "2024-06-20T18:55:20.881Z"
   },
   {
    "duration": 12,
    "start_time": "2024-06-20T18:55:28.387Z"
   },
   {
    "duration": 12,
    "start_time": "2024-06-20T18:55:33.070Z"
   },
   {
    "duration": 3,
    "start_time": "2024-06-20T18:55:37.787Z"
   },
   {
    "duration": 15,
    "start_time": "2024-06-20T18:55:42.679Z"
   },
   {
    "duration": 14,
    "start_time": "2024-06-20T18:55:46.151Z"
   },
   {
    "duration": 11,
    "start_time": "2024-06-20T18:56:00.335Z"
   },
   {
    "duration": 14,
    "start_time": "2024-06-20T18:56:07.301Z"
   },
   {
    "duration": 13,
    "start_time": "2024-06-20T18:56:12.111Z"
   },
   {
    "duration": 4,
    "start_time": "2024-06-20T18:56:17.678Z"
   },
   {
    "duration": 15,
    "start_time": "2024-06-20T18:56:23.855Z"
   },
   {
    "duration": 18,
    "start_time": "2024-06-20T18:56:30.552Z"
   },
   {
    "duration": 12,
    "start_time": "2024-06-20T18:56:37.322Z"
   },
   {
    "duration": 8,
    "start_time": "2024-06-20T18:59:47.117Z"
   },
   {
    "duration": 4,
    "start_time": "2024-06-20T19:00:15.014Z"
   },
   {
    "duration": 6,
    "start_time": "2024-06-20T19:01:42.796Z"
   },
   {
    "duration": 4,
    "start_time": "2024-06-20T19:02:06.421Z"
   },
   {
    "duration": 53,
    "start_time": "2024-06-20T19:04:58.620Z"
   },
   {
    "duration": 2,
    "start_time": "2024-06-20T19:05:24.388Z"
   },
   {
    "duration": 20,
    "start_time": "2024-06-20T19:06:08.268Z"
   },
   {
    "duration": 15,
    "start_time": "2024-06-20T19:06:26.699Z"
   },
   {
    "duration": 4,
    "start_time": "2024-06-20T19:06:42.848Z"
   },
   {
    "duration": 16,
    "start_time": "2024-06-20T19:06:46.240Z"
   },
   {
    "duration": 3,
    "start_time": "2024-06-20T19:07:08.110Z"
   },
   {
    "duration": 15,
    "start_time": "2024-06-20T19:07:12.118Z"
   },
   {
    "duration": 3,
    "start_time": "2024-06-20T19:07:39.120Z"
   },
   {
    "duration": 3,
    "start_time": "2024-06-20T19:07:41.587Z"
   },
   {
    "duration": 13,
    "start_time": "2024-06-20T19:07:45.513Z"
   },
   {
    "duration": 4,
    "start_time": "2024-06-20T19:08:05.752Z"
   },
   {
    "duration": 3,
    "start_time": "2024-06-20T19:08:29.242Z"
   },
   {
    "duration": 3,
    "start_time": "2024-06-20T19:08:31.732Z"
   },
   {
    "duration": 17,
    "start_time": "2024-06-20T19:08:36.072Z"
   },
   {
    "duration": 3,
    "start_time": "2024-06-20T19:08:55.596Z"
   },
   {
    "duration": 3,
    "start_time": "2024-06-20T19:08:58.188Z"
   },
   {
    "duration": 15,
    "start_time": "2024-06-20T19:09:07.494Z"
   },
   {
    "duration": 4,
    "start_time": "2024-06-20T19:16:42.399Z"
   },
   {
    "duration": 4,
    "start_time": "2024-06-20T19:18:25.737Z"
   },
   {
    "duration": 4,
    "start_time": "2024-06-20T19:19:02.974Z"
   },
   {
    "duration": 8,
    "start_time": "2024-06-20T19:19:56.119Z"
   },
   {
    "duration": 3,
    "start_time": "2024-06-20T19:20:09.002Z"
   },
   {
    "duration": 41,
    "start_time": "2024-06-20T19:24:39.353Z"
   },
   {
    "duration": 5,
    "start_time": "2024-06-20T19:26:23.019Z"
   },
   {
    "duration": 8,
    "start_time": "2024-06-20T19:29:20.351Z"
   },
   {
    "duration": 8,
    "start_time": "2024-06-20T19:30:25.630Z"
   },
   {
    "duration": 26,
    "start_time": "2024-06-20T19:31:37.415Z"
   },
   {
    "duration": 41,
    "start_time": "2024-06-20T19:32:23.597Z"
   },
   {
    "duration": 3,
    "start_time": "2024-06-20T19:36:53.623Z"
   },
   {
    "duration": 53,
    "start_time": "2024-06-20T19:37:49.752Z"
   },
   {
    "duration": 54,
    "start_time": "2024-06-20T19:38:04.613Z"
   },
   {
    "duration": 68,
    "start_time": "2024-06-20T19:39:43.746Z"
   },
   {
    "duration": 3,
    "start_time": "2024-06-20T19:41:40.372Z"
   },
   {
    "duration": 4,
    "start_time": "2024-06-20T19:50:30.683Z"
   },
   {
    "duration": 3,
    "start_time": "2024-06-20T19:51:06.886Z"
   },
   {
    "duration": 4,
    "start_time": "2024-06-20T19:51:50.873Z"
   },
   {
    "duration": 4,
    "start_time": "2024-06-20T19:53:21.384Z"
   },
   {
    "duration": 61,
    "start_time": "2024-06-20T19:56:10.815Z"
   },
   {
    "duration": 3,
    "start_time": "2024-06-20T19:56:28.220Z"
   },
   {
    "duration": 13,
    "start_time": "2024-06-21T06:45:48.263Z"
   },
   {
    "duration": 46,
    "start_time": "2024-06-21T07:15:39.761Z"
   },
   {
    "duration": 3,
    "start_time": "2024-06-21T07:23:01.058Z"
   },
   {
    "duration": 423,
    "start_time": "2024-06-21T07:23:27.301Z"
   },
   {
    "duration": 485,
    "start_time": "2024-06-21T07:23:30.797Z"
   },
   {
    "duration": 8,
    "start_time": "2024-06-21T07:23:34.937Z"
   },
   {
    "duration": 34,
    "start_time": "2024-06-21T07:23:40.150Z"
   },
   {
    "duration": 3,
    "start_time": "2024-06-21T07:23:46.063Z"
   },
   {
    "duration": 9,
    "start_time": "2024-06-21T07:23:49.787Z"
   },
   {
    "duration": 13,
    "start_time": "2024-06-21T07:23:54.706Z"
   },
   {
    "duration": 5,
    "start_time": "2024-06-21T07:23:58.867Z"
   },
   {
    "duration": 42,
    "start_time": "2024-06-21T07:24:03.693Z"
   },
   {
    "duration": 4,
    "start_time": "2024-06-21T07:26:51.696Z"
   },
   {
    "duration": 41,
    "start_time": "2024-06-21T07:26:54.952Z"
   },
   {
    "duration": 21,
    "start_time": "2024-06-21T07:27:00.463Z"
   },
   {
    "duration": 29,
    "start_time": "2024-06-21T07:27:03.670Z"
   },
   {
    "duration": 73,
    "start_time": "2024-06-21T07:27:09.800Z"
   },
   {
    "duration": 161,
    "start_time": "2024-06-21T07:27:14.093Z"
   },
   {
    "duration": 66,
    "start_time": "2024-06-21T07:27:17.440Z"
   },
   {
    "duration": 51,
    "start_time": "2024-06-21T07:27:22.499Z"
   },
   {
    "duration": 46,
    "start_time": "2024-06-21T07:27:35.463Z"
   },
   {
    "duration": 11,
    "start_time": "2024-06-21T07:27:41.747Z"
   },
   {
    "duration": 64,
    "start_time": "2024-06-21T07:27:47.562Z"
   },
   {
    "duration": 12,
    "start_time": "2024-06-21T07:27:56.783Z"
   },
   {
    "duration": 12,
    "start_time": "2024-06-21T07:28:02.123Z"
   },
   {
    "duration": 4,
    "start_time": "2024-06-21T07:28:06.557Z"
   },
   {
    "duration": 987,
    "start_time": "2024-06-21T07:33:20.114Z"
   },
   {
    "duration": 4,
    "start_time": "2024-06-21T07:33:45.703Z"
   },
   {
    "duration": 16,
    "start_time": "2024-06-21T07:33:51.438Z"
   },
   {
    "duration": 16,
    "start_time": "2024-06-21T07:37:12.692Z"
   }
  ],
  "celltoolbar": "Отсутствует",
  "colab": {
   "collapsed_sections": [
    "E0vqbgi9ay0H",
    "VUC88oWjTJw2"
   ],
   "provenance": []
  },
  "kernelspec": {
   "display_name": "Python 3 (ipykernel)",
   "language": "python",
   "name": "python3"
  },
  "language_info": {
   "codemirror_mode": {
    "name": "ipython",
    "version": 3
   },
   "file_extension": ".py",
   "mimetype": "text/x-python",
   "name": "python",
   "nbconvert_exporter": "python",
   "pygments_lexer": "ipython3",
   "version": "3.9.5"
  },
  "toc": {
   "base_numbering": 1,
   "nav_menu": {
    "height": "215px",
    "width": "403px"
   },
   "number_sections": true,
   "sideBar": true,
   "skip_h1_title": true,
   "title_cell": "Table of Contents",
   "title_sidebar": "Contents",
   "toc_cell": false,
   "toc_position": {
    "height": "calc(100% - 180px)",
    "left": "10px",
    "top": "150px",
    "width": "285.825px"
   },
   "toc_section_display": true,
   "toc_window_display": false
  }
 },
 "nbformat": 4,
 "nbformat_minor": 1
}
