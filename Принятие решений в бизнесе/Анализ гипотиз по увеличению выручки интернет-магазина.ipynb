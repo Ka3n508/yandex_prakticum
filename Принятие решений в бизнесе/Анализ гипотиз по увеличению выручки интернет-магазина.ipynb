{
 "cells": [
  {
   "cell_type": "markdown",
   "metadata": {},
   "source": [
    "# Принятие решений в бизнесе"
   ]
  },
  {
   "cell_type": "markdown",
   "metadata": {},
   "source": [
    "Вы — аналитик крупного интернет-магазина. Вместе с отделом маркетинга вы подготовили список гипотез для увеличения выручки.\n",
    "Приоритизируйте гипотезы, запустите A/B-тест и проанализируйте результаты."
   ]
  },
  {
   "cell_type": "markdown",
   "metadata": {},
   "source": [
    " Приоритизация гипотез.\n",
    "В файле /datasets/hypothesis.csv 9 гипотез по увеличению выручки интернет-магазина с указанными параметрами Reach, Impact, Confidence, Effort.\n",
    "Задача\n",
    "\n",
    "    Примените фреймворк ICE для приоритизации гипотез. Отсортируйте их по убыванию приоритета.\n",
    "    Примените фреймворк RICE для приоритизации гипотез. Отсортируйте их по убыванию приоритета.\n",
    "    Укажите, как изменилась приоритизация гипотез при применении RICE вместо ICE. Объясните, почему так произошло.\n",
    "\n",
    "Часть 2. Анализ A/B-теста\n",
    "Вы провели A/B-тест и получили результаты, которые описаны в файлах /datasets/orders.csv и /datasets/visitors.csv.\n",
    "Задача\n",
    "Проанализируйте A/B-тест:\n",
    "\n",
    "    Постройте график кумулятивной выручки по группам. Сделайте выводы и предположения.\n",
    "    Постройте график кумулятивного среднего чека по группам. Сделайте выводы и предположения.\n",
    "    Постройте график относительного изменения кумулятивного среднего чека группы B к группе A. Сделайте выводы и предположения.\n",
    "    Постройте график кумулятивного среднего количества заказов на посетителя по группам. Сделайте выводы и предположения.\n",
    "    Постройте график относительного изменения кумулятивного среднего количества заказов на посетителя группы\n",
    "\n",
    "     B к группе A. Сделайте выводы и предположения.\n",
    "    Постройте точечный график количества заказов по пользователям. Сделайте выводы и предположения.\n",
    "    Посчитайте 95-й и 99-й перцентили количества заказов на пользователя. Выберите границу для определения аномальных пользователей.\n",
    "    Постройте точечный график стоимостей заказов. Сделайте выводы и предположения.\n",
    "    Посчитайте 95-й и 99-й перцентили стоимости заказов. Выберите границу для определения аномальных заказов.\n",
    "    Посчитайте статистическую значимость различий в среднем количестве заказов на посетителя между группами по «сырым» данным. Сделайте выводы и предположения.\n",
    "    Посчитайте статистическую значимость различий в среднем чеке заказа между группами по «сырым» данным. Сделайте выводы и предположения.\n",
    "    Посчитайте статистическую значимость различий в среднем количестве заказов на посетителя между группами по «очищенным» данным. Сделайте выводы и предположения.\n",
    "    Посчитайте статистическую значимость различий в среднем чеке заказа между группами по «очищенным» данным. Сделайте выводы и предположения.\n",
    "    Примите решение по результатам теста и объясните его. Варианты решений:\n",
    "    1. Остановить тест, зафиксировать победу одной из групп.\n",
    "    2. Остановить тест, зафиксировать отсутствие различий между группами.\n",
    "    3. Продолжить тест."
   ]
  },
  {
   "cell_type": "markdown",
   "metadata": {},
   "source": [
    "## Приоритизация гипотез.\n"
   ]
  },
  {
   "cell_type": "markdown",
   "metadata": {},
   "source": [
    "Открываем файл с данными и изучаем общую информацию"
   ]
  },
  {
   "cell_type": "code",
   "execution_count": 1,
   "metadata": {},
   "outputs": [],
   "source": [
    "import pandas as pd\n",
    "import matplotlib.pyplot as plt\n",
    "import scipy.stats as stats\n",
    "import numpy as np\n",
    "import math as mth\n",
    "import datetime as dt\n",
    "from pandas.plotting import register_matplotlib_converters\n",
    "import warnings\n",
    "# конвертеры, которые позволяют использовать типы pandas в matplotlib  \n",
    "register_matplotlib_converters()\n",
    "\n"
   ]
  },
  {
   "cell_type": "code",
   "execution_count": 2,
   "metadata": {},
   "outputs": [],
   "source": [
    "data= pd.read_csv('/datasets/hypothesis.csv')\n",
    "pd.options.display.max_colwidth = 100"
   ]
  },
  {
   "cell_type": "code",
   "execution_count": 3,
   "metadata": {
    "scrolled": true
   },
   "outputs": [
    {
     "data": {
      "text/html": [
       "<div>\n",
       "<style scoped>\n",
       "    .dataframe tbody tr th:only-of-type {\n",
       "        vertical-align: middle;\n",
       "    }\n",
       "\n",
       "    .dataframe tbody tr th {\n",
       "        vertical-align: top;\n",
       "    }\n",
       "\n",
       "    .dataframe thead th {\n",
       "        text-align: right;\n",
       "    }\n",
       "</style>\n",
       "<table border=\"1\" class=\"dataframe\">\n",
       "  <thead>\n",
       "    <tr style=\"text-align: right;\">\n",
       "      <th></th>\n",
       "      <th>Hypothesis</th>\n",
       "      <th>Reach</th>\n",
       "      <th>Impact</th>\n",
       "      <th>Confidence</th>\n",
       "      <th>Efforts</th>\n",
       "    </tr>\n",
       "  </thead>\n",
       "  <tbody>\n",
       "    <tr>\n",
       "      <th>0</th>\n",
       "      <td>Добавить два новых канала привлечения трафика, что позволит привлекать на 30% больше пользователей</td>\n",
       "      <td>3</td>\n",
       "      <td>10</td>\n",
       "      <td>8</td>\n",
       "      <td>6</td>\n",
       "    </tr>\n",
       "    <tr>\n",
       "      <th>1</th>\n",
       "      <td>Запустить собственную службу доставки, что сократит срок доставки заказов</td>\n",
       "      <td>2</td>\n",
       "      <td>5</td>\n",
       "      <td>4</td>\n",
       "      <td>10</td>\n",
       "    </tr>\n",
       "    <tr>\n",
       "      <th>2</th>\n",
       "      <td>Добавить блоки рекомендаций товаров на сайт интернет магазина, чтобы повысить конверсию и средни...</td>\n",
       "      <td>8</td>\n",
       "      <td>3</td>\n",
       "      <td>7</td>\n",
       "      <td>3</td>\n",
       "    </tr>\n",
       "    <tr>\n",
       "      <th>3</th>\n",
       "      <td>Изменить структура категорий, что увеличит конверсию, т.к. пользователи быстрее найдут нужный товар</td>\n",
       "      <td>8</td>\n",
       "      <td>3</td>\n",
       "      <td>3</td>\n",
       "      <td>8</td>\n",
       "    </tr>\n",
       "    <tr>\n",
       "      <th>4</th>\n",
       "      <td>Изменить цвет фона главной страницы, чтобы увеличить вовлеченность пользователей</td>\n",
       "      <td>3</td>\n",
       "      <td>1</td>\n",
       "      <td>1</td>\n",
       "      <td>1</td>\n",
       "    </tr>\n",
       "    <tr>\n",
       "      <th>5</th>\n",
       "      <td>Добавить страницу отзывов клиентов о магазине, что позволит увеличить количество заказов</td>\n",
       "      <td>3</td>\n",
       "      <td>2</td>\n",
       "      <td>2</td>\n",
       "      <td>3</td>\n",
       "    </tr>\n",
       "    <tr>\n",
       "      <th>6</th>\n",
       "      <td>Показать на главной странице баннеры с актуальными акциями и распродажами, чтобы увеличить конве...</td>\n",
       "      <td>5</td>\n",
       "      <td>3</td>\n",
       "      <td>8</td>\n",
       "      <td>3</td>\n",
       "    </tr>\n",
       "    <tr>\n",
       "      <th>7</th>\n",
       "      <td>Добавить форму подписки на все основные страницы, чтобы собрать базу клиентов для email-рассылок</td>\n",
       "      <td>10</td>\n",
       "      <td>7</td>\n",
       "      <td>8</td>\n",
       "      <td>5</td>\n",
       "    </tr>\n",
       "    <tr>\n",
       "      <th>8</th>\n",
       "      <td>Запустить акцию, дающую скидку на товар в день рождения</td>\n",
       "      <td>1</td>\n",
       "      <td>9</td>\n",
       "      <td>9</td>\n",
       "      <td>5</td>\n",
       "    </tr>\n",
       "  </tbody>\n",
       "</table>\n",
       "</div>"
      ],
      "text/plain": [
       "                                                                                            Hypothesis  \\\n",
       "0   Добавить два новых канала привлечения трафика, что позволит привлекать на 30% больше пользователей   \n",
       "1                            Запустить собственную службу доставки, что сократит срок доставки заказов   \n",
       "2  Добавить блоки рекомендаций товаров на сайт интернет магазина, чтобы повысить конверсию и средни...   \n",
       "3  Изменить структура категорий, что увеличит конверсию, т.к. пользователи быстрее найдут нужный товар   \n",
       "4                     Изменить цвет фона главной страницы, чтобы увеличить вовлеченность пользователей   \n",
       "5             Добавить страницу отзывов клиентов о магазине, что позволит увеличить количество заказов   \n",
       "6  Показать на главной странице баннеры с актуальными акциями и распродажами, чтобы увеличить конве...   \n",
       "7     Добавить форму подписки на все основные страницы, чтобы собрать базу клиентов для email-рассылок   \n",
       "8                                              Запустить акцию, дающую скидку на товар в день рождения   \n",
       "\n",
       "   Reach  Impact  Confidence  Efforts  \n",
       "0      3      10           8        6  \n",
       "1      2       5           4       10  \n",
       "2      8       3           7        3  \n",
       "3      8       3           3        8  \n",
       "4      3       1           1        1  \n",
       "5      3       2           2        3  \n",
       "6      5       3           8        3  \n",
       "7     10       7           8        5  \n",
       "8      1       9           9        5  "
      ]
     },
     "metadata": {},
     "output_type": "display_data"
    }
   ],
   "source": [
    "display(data)"
   ]
  },
  {
   "cell_type": "markdown",
   "metadata": {},
   "source": [
    "   ### Применим фреймворк ICE для приоритизации гипотез. Отсортируем их по убыванию приоритета.\n"
   ]
  },
  {
   "cell_type": "code",
   "execution_count": 4,
   "metadata": {},
   "outputs": [
    {
     "data": {
      "text/html": [
       "<div>\n",
       "<style scoped>\n",
       "    .dataframe tbody tr th:only-of-type {\n",
       "        vertical-align: middle;\n",
       "    }\n",
       "\n",
       "    .dataframe tbody tr th {\n",
       "        vertical-align: top;\n",
       "    }\n",
       "\n",
       "    .dataframe thead th {\n",
       "        text-align: right;\n",
       "    }\n",
       "</style>\n",
       "<table border=\"1\" class=\"dataframe\">\n",
       "  <thead>\n",
       "    <tr style=\"text-align: right;\">\n",
       "      <th></th>\n",
       "      <th>Hypothesis</th>\n",
       "      <th>ICE</th>\n",
       "    </tr>\n",
       "  </thead>\n",
       "  <tbody>\n",
       "    <tr>\n",
       "      <th>8</th>\n",
       "      <td>Запустить акцию, дающую скидку на товар в день рождения</td>\n",
       "      <td>16.20</td>\n",
       "    </tr>\n",
       "    <tr>\n",
       "      <th>0</th>\n",
       "      <td>Добавить два новых канала привлечения трафика, что позволит привлекать на 30% больше пользователей</td>\n",
       "      <td>13.33</td>\n",
       "    </tr>\n",
       "    <tr>\n",
       "      <th>7</th>\n",
       "      <td>Добавить форму подписки на все основные страницы, чтобы собрать базу клиентов для email-рассылок</td>\n",
       "      <td>11.20</td>\n",
       "    </tr>\n",
       "    <tr>\n",
       "      <th>6</th>\n",
       "      <td>Показать на главной странице баннеры с актуальными акциями и распродажами, чтобы увеличить конве...</td>\n",
       "      <td>8.00</td>\n",
       "    </tr>\n",
       "    <tr>\n",
       "      <th>2</th>\n",
       "      <td>Добавить блоки рекомендаций товаров на сайт интернет магазина, чтобы повысить конверсию и средни...</td>\n",
       "      <td>7.00</td>\n",
       "    </tr>\n",
       "    <tr>\n",
       "      <th>1</th>\n",
       "      <td>Запустить собственную службу доставки, что сократит срок доставки заказов</td>\n",
       "      <td>2.00</td>\n",
       "    </tr>\n",
       "    <tr>\n",
       "      <th>5</th>\n",
       "      <td>Добавить страницу отзывов клиентов о магазине, что позволит увеличить количество заказов</td>\n",
       "      <td>1.33</td>\n",
       "    </tr>\n",
       "    <tr>\n",
       "      <th>3</th>\n",
       "      <td>Изменить структура категорий, что увеличит конверсию, т.к. пользователи быстрее найдут нужный товар</td>\n",
       "      <td>1.12</td>\n",
       "    </tr>\n",
       "    <tr>\n",
       "      <th>4</th>\n",
       "      <td>Изменить цвет фона главной страницы, чтобы увеличить вовлеченность пользователей</td>\n",
       "      <td>1.00</td>\n",
       "    </tr>\n",
       "  </tbody>\n",
       "</table>\n",
       "</div>"
      ],
      "text/plain": [
       "                                                                                            Hypothesis  \\\n",
       "8                                              Запустить акцию, дающую скидку на товар в день рождения   \n",
       "0   Добавить два новых канала привлечения трафика, что позволит привлекать на 30% больше пользователей   \n",
       "7     Добавить форму подписки на все основные страницы, чтобы собрать базу клиентов для email-рассылок   \n",
       "6  Показать на главной странице баннеры с актуальными акциями и распродажами, чтобы увеличить конве...   \n",
       "2  Добавить блоки рекомендаций товаров на сайт интернет магазина, чтобы повысить конверсию и средни...   \n",
       "1                            Запустить собственную службу доставки, что сократит срок доставки заказов   \n",
       "5             Добавить страницу отзывов клиентов о магазине, что позволит увеличить количество заказов   \n",
       "3  Изменить структура категорий, что увеличит конверсию, т.к. пользователи быстрее найдут нужный товар   \n",
       "4                     Изменить цвет фона главной страницы, чтобы увеличить вовлеченность пользователей   \n",
       "\n",
       "     ICE  \n",
       "8  16.20  \n",
       "0  13.33  \n",
       "7  11.20  \n",
       "6   8.00  \n",
       "2   7.00  \n",
       "1   2.00  \n",
       "5   1.33  \n",
       "3   1.12  \n",
       "4   1.00  "
      ]
     },
     "metadata": {},
     "output_type": "display_data"
    }
   ],
   "source": [
    "data['ICE'] =(data['Impact']*data['Confidence'])/ data['Efforts']\n",
    "data['ICE']=round(data['ICE'],2)\n",
    "display(data[['Hypothesis','ICE']].sort_values(by='ICE', ascending=False))"
   ]
  },
  {
   "cell_type": "markdown",
   "metadata": {},
   "source": [
    "   ###  Применим фреймворк RICE для приоритизации гипотез. Отсортируем их по убыванию приоритета.\n"
   ]
  },
  {
   "cell_type": "code",
   "execution_count": 5,
   "metadata": {
    "scrolled": true
   },
   "outputs": [
    {
     "data": {
      "text/html": [
       "<div>\n",
       "<style scoped>\n",
       "    .dataframe tbody tr th:only-of-type {\n",
       "        vertical-align: middle;\n",
       "    }\n",
       "\n",
       "    .dataframe tbody tr th {\n",
       "        vertical-align: top;\n",
       "    }\n",
       "\n",
       "    .dataframe thead th {\n",
       "        text-align: right;\n",
       "    }\n",
       "</style>\n",
       "<table border=\"1\" class=\"dataframe\">\n",
       "  <thead>\n",
       "    <tr style=\"text-align: right;\">\n",
       "      <th></th>\n",
       "      <th>Hypothesis</th>\n",
       "      <th>RICE</th>\n",
       "    </tr>\n",
       "  </thead>\n",
       "  <tbody>\n",
       "    <tr>\n",
       "      <th>7</th>\n",
       "      <td>Добавить форму подписки на все основные страницы, чтобы собрать базу клиентов для email-рассылок</td>\n",
       "      <td>112.0</td>\n",
       "    </tr>\n",
       "    <tr>\n",
       "      <th>2</th>\n",
       "      <td>Добавить блоки рекомендаций товаров на сайт интернет магазина, чтобы повысить конверсию и средни...</td>\n",
       "      <td>56.0</td>\n",
       "    </tr>\n",
       "    <tr>\n",
       "      <th>0</th>\n",
       "      <td>Добавить два новых канала привлечения трафика, что позволит привлекать на 30% больше пользователей</td>\n",
       "      <td>40.0</td>\n",
       "    </tr>\n",
       "    <tr>\n",
       "      <th>6</th>\n",
       "      <td>Показать на главной странице баннеры с актуальными акциями и распродажами, чтобы увеличить конве...</td>\n",
       "      <td>40.0</td>\n",
       "    </tr>\n",
       "    <tr>\n",
       "      <th>8</th>\n",
       "      <td>Запустить акцию, дающую скидку на товар в день рождения</td>\n",
       "      <td>16.2</td>\n",
       "    </tr>\n",
       "    <tr>\n",
       "      <th>3</th>\n",
       "      <td>Изменить структура категорий, что увеличит конверсию, т.к. пользователи быстрее найдут нужный товар</td>\n",
       "      <td>9.0</td>\n",
       "    </tr>\n",
       "    <tr>\n",
       "      <th>1</th>\n",
       "      <td>Запустить собственную службу доставки, что сократит срок доставки заказов</td>\n",
       "      <td>4.0</td>\n",
       "    </tr>\n",
       "    <tr>\n",
       "      <th>5</th>\n",
       "      <td>Добавить страницу отзывов клиентов о магазине, что позволит увеличить количество заказов</td>\n",
       "      <td>4.0</td>\n",
       "    </tr>\n",
       "    <tr>\n",
       "      <th>4</th>\n",
       "      <td>Изменить цвет фона главной страницы, чтобы увеличить вовлеченность пользователей</td>\n",
       "      <td>3.0</td>\n",
       "    </tr>\n",
       "  </tbody>\n",
       "</table>\n",
       "</div>"
      ],
      "text/plain": [
       "                                                                                            Hypothesis  \\\n",
       "7     Добавить форму подписки на все основные страницы, чтобы собрать базу клиентов для email-рассылок   \n",
       "2  Добавить блоки рекомендаций товаров на сайт интернет магазина, чтобы повысить конверсию и средни...   \n",
       "0   Добавить два новых канала привлечения трафика, что позволит привлекать на 30% больше пользователей   \n",
       "6  Показать на главной странице баннеры с актуальными акциями и распродажами, чтобы увеличить конве...   \n",
       "8                                              Запустить акцию, дающую скидку на товар в день рождения   \n",
       "3  Изменить структура категорий, что увеличит конверсию, т.к. пользователи быстрее найдут нужный товар   \n",
       "1                            Запустить собственную службу доставки, что сократит срок доставки заказов   \n",
       "5             Добавить страницу отзывов клиентов о магазине, что позволит увеличить количество заказов   \n",
       "4                     Изменить цвет фона главной страницы, чтобы увеличить вовлеченность пользователей   \n",
       "\n",
       "    RICE  \n",
       "7  112.0  \n",
       "2   56.0  \n",
       "0   40.0  \n",
       "6   40.0  \n",
       "8   16.2  \n",
       "3    9.0  \n",
       "1    4.0  \n",
       "5    4.0  \n",
       "4    3.0  "
      ]
     },
     "metadata": {},
     "output_type": "display_data"
    }
   ],
   "source": [
    "data['RICE'] = (data['Reach']*data['Impact']*data['Confidence'])/ data['Efforts']\n",
    "display(data[['Hypothesis','RICE']].sort_values(by='RICE', ascending=False))"
   ]
  },
  {
   "cell_type": "markdown",
   "metadata": {},
   "source": [
    "    Укажите, как изменилась приоритизация гипотез при применении RICE вместо ICE. Объясните, почему так произошло.\n"
   ]
  },
  {
   "cell_type": "markdown",
   "metadata": {},
   "source": [
    "Проведя приоритизацию гипотез применив фреймворк ICE и RICE может отметить,что наивысший приоритет в разных фреймворках разнится, что может быть обусловлено тем, что RICE учитывает также оценку охвата целевой аудитории.   \n",
    "Наивысшие приоритеы получили следующие гипотезы:\n",
    " 7 Добавить форму подписки на все основные страницы,\n",
    " 2 Добавить блоки рекомендаций товаров на сайт,\n",
    " 0 Добавить два новых канала привлечения трафика,\n",
    " 6 Показать на главной странице баннеры с актуальной информацией,\n",
    " 8 Запустить акцию, дающую скидку на товар в день рождения. "
   ]
  },
  {
   "cell_type": "markdown",
   "metadata": {},
   "source": [
    "## Анализ A/B-теста"
   ]
  },
  {
   "cell_type": "markdown",
   "metadata": {},
   "source": [
    "### Проведем предобработку данных"
   ]
  },
  {
   "cell_type": "markdown",
   "metadata": {},
   "source": [
    "Мы  провели A/B-тест и получили результаты, которые необходимо проанализировать:\n"
   ]
  },
  {
   "cell_type": "code",
   "execution_count": 6,
   "metadata": {},
   "outputs": [],
   "source": [
    "orders =pd.read_csv('/datasets/orders.csv')\n",
    "visitors=pd.read_csv('/datasets/visitors.csv')\n"
   ]
  },
  {
   "cell_type": "code",
   "execution_count": 7,
   "metadata": {},
   "outputs": [
    {
     "data": {
      "text/html": [
       "<div>\n",
       "<style scoped>\n",
       "    .dataframe tbody tr th:only-of-type {\n",
       "        vertical-align: middle;\n",
       "    }\n",
       "\n",
       "    .dataframe tbody tr th {\n",
       "        vertical-align: top;\n",
       "    }\n",
       "\n",
       "    .dataframe thead th {\n",
       "        text-align: right;\n",
       "    }\n",
       "</style>\n",
       "<table border=\"1\" class=\"dataframe\">\n",
       "  <thead>\n",
       "    <tr style=\"text-align: right;\">\n",
       "      <th></th>\n",
       "      <th>transactionId</th>\n",
       "      <th>visitorId</th>\n",
       "      <th>date</th>\n",
       "      <th>revenue</th>\n",
       "      <th>group</th>\n",
       "    </tr>\n",
       "  </thead>\n",
       "  <tbody>\n",
       "    <tr>\n",
       "      <th>0</th>\n",
       "      <td>3667963787</td>\n",
       "      <td>3312258926</td>\n",
       "      <td>2019-08-15</td>\n",
       "      <td>1650</td>\n",
       "      <td>B</td>\n",
       "    </tr>\n",
       "    <tr>\n",
       "      <th>1</th>\n",
       "      <td>2804400009</td>\n",
       "      <td>3642806036</td>\n",
       "      <td>2019-08-15</td>\n",
       "      <td>730</td>\n",
       "      <td>B</td>\n",
       "    </tr>\n",
       "    <tr>\n",
       "      <th>2</th>\n",
       "      <td>2961555356</td>\n",
       "      <td>4069496402</td>\n",
       "      <td>2019-08-15</td>\n",
       "      <td>400</td>\n",
       "      <td>A</td>\n",
       "    </tr>\n",
       "    <tr>\n",
       "      <th>3</th>\n",
       "      <td>3797467345</td>\n",
       "      <td>1196621759</td>\n",
       "      <td>2019-08-15</td>\n",
       "      <td>9759</td>\n",
       "      <td>B</td>\n",
       "    </tr>\n",
       "    <tr>\n",
       "      <th>4</th>\n",
       "      <td>2282983706</td>\n",
       "      <td>2322279887</td>\n",
       "      <td>2019-08-15</td>\n",
       "      <td>2308</td>\n",
       "      <td>B</td>\n",
       "    </tr>\n",
       "  </tbody>\n",
       "</table>\n",
       "</div>"
      ],
      "text/plain": [
       "   transactionId   visitorId        date  revenue group\n",
       "0     3667963787  3312258926  2019-08-15     1650     B\n",
       "1     2804400009  3642806036  2019-08-15      730     B\n",
       "2     2961555356  4069496402  2019-08-15      400     A\n",
       "3     3797467345  1196621759  2019-08-15     9759     B\n",
       "4     2282983706  2322279887  2019-08-15     2308     B"
      ]
     },
     "execution_count": 7,
     "metadata": {},
     "output_type": "execute_result"
    }
   ],
   "source": [
    "orders.head()"
   ]
  },
  {
   "cell_type": "code",
   "execution_count": 8,
   "metadata": {},
   "outputs": [
    {
     "data": {
      "text/html": [
       "<div>\n",
       "<style scoped>\n",
       "    .dataframe tbody tr th:only-of-type {\n",
       "        vertical-align: middle;\n",
       "    }\n",
       "\n",
       "    .dataframe tbody tr th {\n",
       "        vertical-align: top;\n",
       "    }\n",
       "\n",
       "    .dataframe thead th {\n",
       "        text-align: right;\n",
       "    }\n",
       "</style>\n",
       "<table border=\"1\" class=\"dataframe\">\n",
       "  <thead>\n",
       "    <tr style=\"text-align: right;\">\n",
       "      <th></th>\n",
       "      <th>date</th>\n",
       "      <th>group</th>\n",
       "      <th>visitors</th>\n",
       "    </tr>\n",
       "  </thead>\n",
       "  <tbody>\n",
       "    <tr>\n",
       "      <th>0</th>\n",
       "      <td>2019-08-01</td>\n",
       "      <td>A</td>\n",
       "      <td>719</td>\n",
       "    </tr>\n",
       "    <tr>\n",
       "      <th>1</th>\n",
       "      <td>2019-08-02</td>\n",
       "      <td>A</td>\n",
       "      <td>619</td>\n",
       "    </tr>\n",
       "    <tr>\n",
       "      <th>2</th>\n",
       "      <td>2019-08-03</td>\n",
       "      <td>A</td>\n",
       "      <td>507</td>\n",
       "    </tr>\n",
       "    <tr>\n",
       "      <th>3</th>\n",
       "      <td>2019-08-04</td>\n",
       "      <td>A</td>\n",
       "      <td>717</td>\n",
       "    </tr>\n",
       "    <tr>\n",
       "      <th>4</th>\n",
       "      <td>2019-08-05</td>\n",
       "      <td>A</td>\n",
       "      <td>756</td>\n",
       "    </tr>\n",
       "  </tbody>\n",
       "</table>\n",
       "</div>"
      ],
      "text/plain": [
       "         date group  visitors\n",
       "0  2019-08-01     A       719\n",
       "1  2019-08-02     A       619\n",
       "2  2019-08-03     A       507\n",
       "3  2019-08-04     A       717\n",
       "4  2019-08-05     A       756"
      ]
     },
     "execution_count": 8,
     "metadata": {},
     "output_type": "execute_result"
    }
   ],
   "source": [
    "visitors.head()"
   ]
  },
  {
   "cell_type": "code",
   "execution_count": 9,
   "metadata": {},
   "outputs": [
    {
     "data": {
      "text/plain": [
       "transactionId    0\n",
       "visitorId        0\n",
       "date             0\n",
       "revenue          0\n",
       "group            0\n",
       "dtype: int64"
      ]
     },
     "execution_count": 9,
     "metadata": {},
     "output_type": "execute_result"
    }
   ],
   "source": [
    "orders.isna().sum()"
   ]
  },
  {
   "cell_type": "code",
   "execution_count": 10,
   "metadata": {},
   "outputs": [
    {
     "data": {
      "text/plain": [
       "date        0\n",
       "group       0\n",
       "visitors    0\n",
       "dtype: int64"
      ]
     },
     "execution_count": 10,
     "metadata": {},
     "output_type": "execute_result"
    }
   ],
   "source": [
    "visitors.isna().sum()"
   ]
  },
  {
   "cell_type": "code",
   "execution_count": 11,
   "metadata": {},
   "outputs": [
    {
     "name": "stdout",
     "output_type": "stream",
     "text": [
      "group    58\n",
      "dtype: int64\n"
     ]
    }
   ],
   "source": [
    "visitor_duplicated=orders.groupby('visitorId').agg({'group' : 'nunique'}).query('group>1').reset_index()\n",
    "print(orders.groupby('visitorId').agg({'group' : 'nunique'}).query('group>1').count())\n"
   ]
  },
  {
   "cell_type": "markdown",
   "metadata": {},
   "source": [
    "Из расчетов получаем,что 58пользователей попали в обе группы теста."
   ]
  },
  {
   "cell_type": "markdown",
   "metadata": {},
   "source": [
    "Удалим пользователей,которые попали в обе тестируемые группы."
   ]
  },
  {
   "cell_type": "code",
   "execution_count": 12,
   "metadata": {},
   "outputs": [],
   "source": [
    "orders = orders[~orders['visitorId'].isin(visitor_duplicated['visitorId'])]\n"
   ]
  },
  {
   "cell_type": "code",
   "execution_count": 13,
   "metadata": {},
   "outputs": [
    {
     "name": "stdout",
     "output_type": "stream",
     "text": [
      "<class 'pandas.core.frame.DataFrame'>\n",
      "Int64Index: 1016 entries, 0 to 1196\n",
      "Data columns (total 5 columns):\n",
      " #   Column         Non-Null Count  Dtype \n",
      "---  ------         --------------  ----- \n",
      " 0   transactionId  1016 non-null   int64 \n",
      " 1   visitorId      1016 non-null   int64 \n",
      " 2   date           1016 non-null   object\n",
      " 3   revenue        1016 non-null   int64 \n",
      " 4   group          1016 non-null   object\n",
      "dtypes: int64(3), object(2)\n",
      "memory usage: 47.6+ KB\n"
     ]
    }
   ],
   "source": [
    "orders.info()"
   ]
  },
  {
   "cell_type": "code",
   "execution_count": 14,
   "metadata": {
    "scrolled": true
   },
   "outputs": [
    {
     "name": "stdout",
     "output_type": "stream",
     "text": [
      "<class 'pandas.core.frame.DataFrame'>\n",
      "RangeIndex: 62 entries, 0 to 61\n",
      "Data columns (total 3 columns):\n",
      " #   Column    Non-Null Count  Dtype \n",
      "---  ------    --------------  ----- \n",
      " 0   date      62 non-null     object\n",
      " 1   group     62 non-null     object\n",
      " 2   visitors  62 non-null     int64 \n",
      "dtypes: int64(1), object(2)\n",
      "memory usage: 1.6+ KB\n"
     ]
    }
   ],
   "source": [
    "visitors.info()"
   ]
  },
  {
   "cell_type": "code",
   "execution_count": 15,
   "metadata": {},
   "outputs": [
    {
     "data": {
      "text/plain": [
       "0"
      ]
     },
     "execution_count": 15,
     "metadata": {},
     "output_type": "execute_result"
    }
   ],
   "source": [
    "orders.duplicated().sum()"
   ]
  },
  {
   "cell_type": "code",
   "execution_count": 16,
   "metadata": {},
   "outputs": [
    {
     "data": {
      "text/plain": [
       "0"
      ]
     },
     "execution_count": 16,
     "metadata": {},
     "output_type": "execute_result"
    }
   ],
   "source": [
    "visitors.duplicated().sum()"
   ]
  },
  {
   "cell_type": "markdown",
   "metadata": {},
   "source": [
    "Проведем проверку количества групп в А/В-тесте:"
   ]
  },
  {
   "cell_type": "code",
   "execution_count": 17,
   "metadata": {},
   "outputs": [
    {
     "data": {
      "text/plain": [
       "2"
      ]
     },
     "execution_count": 17,
     "metadata": {},
     "output_type": "execute_result"
    }
   ],
   "source": [
    "orders['group'].nunique()"
   ]
  },
  {
   "cell_type": "markdown",
   "metadata": {},
   "source": [
    "Проверим количество пользователей в каждой группе:\n",
    "    "
   ]
  },
  {
   "cell_type": "code",
   "execution_count": 18,
   "metadata": {},
   "outputs": [
    {
     "data": {
      "text/html": [
       "<div>\n",
       "<style scoped>\n",
       "    .dataframe tbody tr th:only-of-type {\n",
       "        vertical-align: middle;\n",
       "    }\n",
       "\n",
       "    .dataframe tbody tr th {\n",
       "        vertical-align: top;\n",
       "    }\n",
       "\n",
       "    .dataframe thead th {\n",
       "        text-align: right;\n",
       "    }\n",
       "</style>\n",
       "<table border=\"1\" class=\"dataframe\">\n",
       "  <thead>\n",
       "    <tr style=\"text-align: right;\">\n",
       "      <th></th>\n",
       "      <th>group</th>\n",
       "      <th>visitorId</th>\n",
       "    </tr>\n",
       "  </thead>\n",
       "  <tbody>\n",
       "    <tr>\n",
       "      <th>0</th>\n",
       "      <td>A</td>\n",
       "      <td>445</td>\n",
       "    </tr>\n",
       "    <tr>\n",
       "      <th>1</th>\n",
       "      <td>B</td>\n",
       "      <td>528</td>\n",
       "    </tr>\n",
       "  </tbody>\n",
       "</table>\n",
       "</div>"
      ],
      "text/plain": [
       "  group  visitorId\n",
       "0     A        445\n",
       "1     B        528"
      ]
     },
     "execution_count": 18,
     "metadata": {},
     "output_type": "execute_result"
    }
   ],
   "source": [
    "test_group = orders.groupby('group', as_index=False).agg({'visitorId': 'nunique'})\n",
    "test_group\n",
    "\n"
   ]
  },
  {
   "cell_type": "markdown",
   "metadata": {},
   "source": [
    "Определим сроки проведения А/В-теста:"
   ]
  },
  {
   "cell_type": "code",
   "execution_count": 19,
   "metadata": {},
   "outputs": [
    {
     "name": "stdout",
     "output_type": "stream",
     "text": [
      "2019-08-01\n",
      "2019-08-31\n"
     ]
    }
   ],
   "source": [
    "print(visitors['date'].min())\n",
    "print(visitors['date'].max())"
   ]
  },
  {
   "cell_type": "markdown",
   "metadata": {},
   "source": [
    "Приведем даты к нужному формату:"
   ]
  },
  {
   "cell_type": "code",
   "execution_count": 20,
   "metadata": {},
   "outputs": [],
   "source": [
    "visitors['date'] = visitors['date'].map(\n",
    "lambda x:dt.datetime.strptime(x, '%Y-%m-%d'))\n",
    "orders['date'] = orders['date'].map(\n",
    "lambda x:dt.datetime.strptime(x, '%Y-%m-%d'))\n"
   ]
  },
  {
   "cell_type": "markdown",
   "metadata": {},
   "source": [
    "### Построим график кумулятивной выручки по группам. Сделаем выводы и предположения.\n"
   ]
  },
  {
   "cell_type": "code",
   "execution_count": 21,
   "metadata": {},
   "outputs": [],
   "source": [
    "# создаем массив уникальных пар значений дат и групп теста\n",
    "datesGroups = orders[['date','group']].drop_duplicates() \n",
    "\n"
   ]
  },
  {
   "cell_type": "code",
   "execution_count": 22,
   "metadata": {},
   "outputs": [],
   "source": [
    "ordersAggregated = datesGroups.apply(lambda x: orders[np.logical_and(orders['date'] <= x['date'], orders['group'] == x['group'])]\\\n",
    ".agg({'date' : 'max', 'group' : 'max', 'visitorId' : 'nunique', 'transactionId' : 'nunique', 'revenue' : 'sum'}), axis=1).sort_values(by=['date','group']) \n",
    "\n"
   ]
  },
  {
   "cell_type": "code",
   "execution_count": 23,
   "metadata": {},
   "outputs": [],
   "source": [
    "visitorsAggregated = datesGroups.apply(lambda x: visitors[np.logical_and(visitors['date'] <= x['date'], visitors['group'] == x['group'])].agg({'date' : 'max', 'group' : 'max', 'visitors' : 'sum'}), axis=1).sort_values(by=['date','group']) "
   ]
  },
  {
   "cell_type": "code",
   "execution_count": 24,
   "metadata": {},
   "outputs": [
    {
     "name": "stdout",
     "output_type": "stream",
     "text": [
      "        date group  orders  buyers  revenue  visitors\n",
      "0 2019-08-01     A      23      19   142779       719\n",
      "1 2019-08-01     B      17      17    59758       713\n",
      "2 2019-08-02     A      42      36   234381      1338\n",
      "3 2019-08-02     B      40      39   221801      1294\n",
      "4 2019-08-03     A      66      60   346854      1845\n"
     ]
    }
   ],
   "source": [
    "# создаем массив уникальных пар значений дат и групп теста\n",
    "datesGroups = orders[['date','group']].drop_duplicates()\n",
    "\n",
    "# получаем агрегированные кумулятивные по дням данные о заказах \n",
    "ordersAggregated = datesGroups.apply(lambda x: orders[np.logical_and(orders['date'] <= x['date'], orders['group'] == x['group'])].agg({'date' : 'max', 'group' : 'max', 'transactionId' : 'nunique', 'visitorId' : 'nunique', 'revenue' : 'sum'}), axis=1).sort_values(by=['date','group'])\n",
    "\n",
    "# получаем агрегированные кумулятивные по дням данные о посетителях интернет-магазина \n",
    "visitorsAggregated = datesGroups.apply(lambda x: visitors[np.logical_and(visitors['date'] <= x['date'], visitors['group'] == x['group'])].agg({'date' : 'max', 'group' : 'max', 'visitors' : 'sum'}), axis=1).sort_values(by=['date','group'])\n",
    "\n",
    "# объединяем кумулятивные данные в одной таблице и присваиваем ее столбцам понятные названия\n",
    "cumulativeData = ordersAggregated.merge(visitorsAggregated, left_on=['date', 'group'], right_on=['date', 'group'])\n",
    "cumulativeData.columns = ['date', 'group', 'orders', 'buyers', 'revenue', 'visitors']\n",
    "\n",
    "print(cumulativeData.head()) \n",
    "\n"
   ]
  },
  {
   "cell_type": "code",
   "execution_count": 25,
   "metadata": {},
   "outputs": [
    {
     "data": {
      "image/png": "[encoded data removed]",
      "text/plain": [
       "<Figure size 432x288 with 1 Axes>"
      ]
     },
     "metadata": {
      "needs_background": "light"
     },
     "output_type": "display_data"
    }
   ],
   "source": [
    "# датафрейм с кумулятивным количеством заказов и кумулятивной выручкой по дням в группе А\n",
    "cumulativeRevenueA = cumulativeData[cumulativeData['group']=='A'][['date','revenue', 'orders']]\n",
    "\n",
    "# датафрейм с кумулятивным количеством заказов и кумулятивной выручкой по дням в группе B\n",
    "cumulativeRevenueB = cumulativeData[cumulativeData['group']=='B'][['date','revenue', 'orders']]\n",
    "\n",
    "# Строим график выручки группы А\n",
    "plt.plot(cumulativeRevenueA['date'], cumulativeRevenueA['revenue'], label='A')\n",
    "\n",
    "# Строим график выручки группы B\n",
    "plt.plot(cumulativeRevenueB['date'], cumulativeRevenueB['revenue'], label='B')\n",
    "plt.legend()\n",
    "plt.xticks(rotation=90)\n",
    "plt.xlabel('Дата')\n",
    "plt.title('Кумулятивная выручка по группам'); \n",
    "\n"
   ]
  },
  {
   "cell_type": "markdown",
   "metadata": {},
   "source": [
    "В первые дни теста группы идут примерно на одном уровне,однако с 5 августа в размере выручки  группы В происходит резкий скачок и данная группа  начинает лидировать по выручке,сохраняя лидерство сохраняется до конца теста.Возможно в данной группе появились крупные заказы с большим чеком. "
   ]
  },
  {
   "cell_type": "markdown",
   "metadata": {},
   "source": [
    "### Построим графики кумулятивного среднего чека по группам — разделим кумулятивную выручку на кумулятивное число заказов:\n",
    "\n"
   ]
  },
  {
   "cell_type": "code",
   "execution_count": 26,
   "metadata": {},
   "outputs": [
    {
     "data": {
      "image/png": "[encoded data removed]",
      "text/plain": [
       "<Figure size 432x288 with 1 Axes>"
      ]
     },
     "metadata": {
      "needs_background": "light"
     },
     "output_type": "display_data"
    }
   ],
   "source": [
    "plt.plot(cumulativeRevenueA['date'], cumulativeRevenueA['revenue']/cumulativeRevenueA['orders'], label='A')\n",
    "plt.plot(cumulativeRevenueB['date'], cumulativeRevenueB['revenue']/cumulativeRevenueB['orders'], label='B')\n",
    "plt.legend()\n",
    "plt.xlabel('Дата')\n",
    "plt.xticks(rotation=90)\n",
    "plt.title('Кумулятивный средний чек по группам');\n",
    "\n"
   ]
  },
  {
   "cell_type": "markdown",
   "metadata": {},
   "source": [
    "Как видно из графика, первую половину теста средний куммулятивный чек колеблется,но после 17 августа средний чек группы В сильно возрастает и превышает средний чек группы А многократно до конца теста."
   ]
  },
  {
   "cell_type": "markdown",
   "metadata": {},
   "source": [
    "### Постройте график относительного изменения кумулятивного среднего чека группы B к группе A. Сделайте выводы и предположения.\n"
   ]
  },
  {
   "cell_type": "markdown",
   "metadata": {},
   "source": [
    "Построим график относительного различия для среднего чека. Добавим горизонтальную ось методом axhline() (от англ. horizontal line across the axis*, «горизонтальная линия поперек оси»):"
   ]
  },
  {
   "cell_type": "code",
   "execution_count": 27,
   "metadata": {},
   "outputs": [
    {
     "data": {
      "image/png": "[encoded data removed]",
      "text/plain": [
       "<Figure size 432x288 with 1 Axes>"
      ]
     },
     "metadata": {
      "needs_background": "light"
     },
     "output_type": "display_data"
    }
   ],
   "source": [
    "# собираем данные в одном датафрейме\n",
    "mergedCumulativeRevenue = cumulativeRevenueA.merge(cumulativeRevenueB, left_on='date', right_on='date', how='left', suffixes=['A', 'B'])\n",
    "\n",
    "# cтроим отношение средних чеков\n",
    "plt.plot(mergedCumulativeRevenue['date'], (mergedCumulativeRevenue['revenueB']/mergedCumulativeRevenue['ordersB'])/(mergedCumulativeRevenue['revenueA']/mergedCumulativeRevenue['ordersA'])-1)\n",
    "\n",
    "# добавляем ось X\n",
    "plt.axhline(y=0, color='black', linestyle='--')\n",
    "plt.xticks(rotation=90)\n",
    "plt.xlabel('Дата')\n",
    "plt.title('Изменения относительного кумулятивного среднего чека группы В к группе А'); "
   ]
  },
  {
   "cell_type": "markdown",
   "metadata": {},
   "source": [
    "Видим резкие колебания в течение теста, наличие пиков,возможно обусловленное крупными заказами в определенные даты."
   ]
  },
  {
   "cell_type": "markdown",
   "metadata": {},
   "source": [
    "### Построим график кумулятивного среднего количества заказов на посетителя по группам. Сделаем выводы и предположения.\n"
   ]
  },
  {
   "cell_type": "code",
   "execution_count": 28,
   "metadata": {},
   "outputs": [
    {
     "data": {
      "image/png": "[encoded data removed]",
      "text/plain": [
       "<Figure size 432x288 with 1 Axes>"
      ]
     },
     "metadata": {
      "needs_background": "light"
     },
     "output_type": "display_data"
    }
   ],
   "source": [
    "# считаем среднее количество заказов на посетителя\n",
    "cumulativeData['conversion'] = cumulativeData['orders']/cumulativeData['visitors']\n",
    "\n",
    "# отделяем данные по группе A\n",
    "cumulativeDataA = cumulativeData[cumulativeData['group']=='A']\n",
    "\n",
    "# отделяем данные по группе B\n",
    "cumulativeDataB = cumulativeData[cumulativeData['group']=='B']\n",
    "\n",
    "# строим графики\n",
    "plt.plot(cumulativeDataA['date'], cumulativeDataA['conversion'], label='A')\n",
    "plt.plot(cumulativeDataB['date'], cumulativeDataB['conversion'], label='B')\n",
    "plt.legend()\n",
    "plt.xlabel('Дата')\n",
    "\n",
    "plt.xticks(rotation=90);\n",
    "\n",
    "# задаем масштаб осей\n",
    "plt.axis(xmin=cumulativeData['date'].min(), xmax=cumulativeData['date'].max(), ymin=.020, ymax=0.04)\n",
    "plt.title('Кумулятивное среднее количесто заказов по группам');\n"
   ]
  },
  {
   "cell_type": "markdown",
   "metadata": {},
   "source": [
    "Куммулятивное среднее колеблется в обеих группах, однако с 5 августа куммулятивное среднее группы В значительно превышает куммулятивное среднее группы А."
   ]
  },
  {
   "cell_type": "markdown",
   "metadata": {},
   "source": [
    "### Построим график изменения кумулятивного среднего количества заказов на посетителя группы B к группе A"
   ]
  },
  {
   "cell_type": "code",
   "execution_count": 29,
   "metadata": {},
   "outputs": [
    {
     "data": {
      "image/png": "[encoded data removed]",
      "text/plain": [
       "<Figure size 432x288 with 1 Axes>"
      ]
     },
     "metadata": {
      "needs_background": "light"
     },
     "output_type": "display_data"
    }
   ],
   "source": [
    "mergedCumulativeConversions = cumulativeDataA[['date','conversion']].merge(cumulativeDataB[['date','conversion']], left_on='date', right_on='date', how='left', suffixes=['A', 'B'])\n",
    "\n",
    "plt.plot(mergedCumulativeConversions['date'], mergedCumulativeConversions['conversionB']/mergedCumulativeConversions['conversionA']-1, label=\"Относительный прирост кумулятивного среднего количества заказов на посетителя группы B относительно группы A\")\n",
    "\n",
    "plt.axhline(y=0, color='black', linestyle='--')\n",
    "plt.axhline(y=-0.1, color='grey', linestyle='--')\n",
    "plt.xticks(rotation=90);\n",
    "plt.legend()\n",
    "plt.xlabel('Дата')\n",
    "plt.title('Изменение кумулятивного среднего кол-ва заказов группы В к группе А')\n",
    "\n",
    "plt.axis(xmin=cumulativeData['date'].min(), xmax=cumulativeData['date'].max(), ymin=-0.30, ymax=0.3);\n",
    "\n"
   ]
  },
  {
   "cell_type": "markdown",
   "metadata": {},
   "source": [
    "Значительный прирост наблюдается с 5 августа и до конца теста."
   ]
  },
  {
   "cell_type": "markdown",
   "metadata": {},
   "source": [
    "### Построим точечный график количества заказов по пользователям. Сделаем выводы и предположения"
   ]
  },
  {
   "cell_type": "code",
   "execution_count": 30,
   "metadata": {},
   "outputs": [
    {
     "data": {
      "image/png": "[encoded data removed]",
      "text/plain": [
       "<Figure size 432x288 with 1 Axes>"
      ]
     },
     "metadata": {
      "needs_background": "light"
     },
     "output_type": "display_data"
    }
   ],
   "source": [
    "ordersByUsers = (\n",
    "    orders.groupby('visitorId', as_index=False)\n",
    "    .agg({'transactionId': 'nunique'})\n",
    ")   \n",
    "ordersByUsers.columns = ['user_id', 'orders']\n",
    "\n",
    "x_values = pd.Series(range(0, len(ordersByUsers)))\n",
    "\n",
    "plt.scatter(x_values, ordersByUsers['orders'])\n",
    "plt.title('График количества заказов по пользователям')\n",
    "plt.ylabel('Заказы', fontsize=13)\n",
    "plt.xlabel('Количество пользователей')\n",
    "\n",
    "plt.show()"
   ]
  },
  {
   "cell_type": "markdown",
   "metadata": {},
   "source": [
    "Таким образом,можем отметить,что большинство пользователей совершили один заказ,небольшое количество пользователей два и совсем малое количество 3 заказа."
   ]
  },
  {
   "cell_type": "markdown",
   "metadata": {},
   "source": [
    "Посчитаем 95-й и 99-й перцентили количества заказов на пользователя. Выберем границу для определения аномальных пользователей.\n"
   ]
  },
  {
   "cell_type": "code",
   "execution_count": 31,
   "metadata": {},
   "outputs": [
    {
     "name": "stdout",
     "output_type": "stream",
     "text": [
      "[1. 2.]\n"
     ]
    }
   ],
   "source": [
    "print(np.percentile(ordersByUsers['orders'], [95, 99]))"
   ]
  },
  {
   "cell_type": "markdown",
   "metadata": {},
   "source": [
    "Из всех пользователей не более 5% совершили больше одного заказа и не более 1% пользователей совершили более 2 заказов.\n",
    "Количество заказов на пользователя более 2 будем считать аномальными значениями.\n"
   ]
  },
  {
   "cell_type": "markdown",
   "metadata": {},
   "source": [
    "### Построим точечный график стоимостей заказов. Сделаем выводы и предположения.\n"
   ]
  },
  {
   "cell_type": "code",
   "execution_count": 32,
   "metadata": {},
   "outputs": [
    {
     "data": {
      "image/png": "[encoded data removed]",
      "text/plain": [
       "<Figure size 432x288 with 1 Axes>"
      ]
     },
     "metadata": {
      "needs_background": "light"
     },
     "output_type": "display_data"
    }
   ],
   "source": [
    "x_values = pd.Series(range(0, len(orders['revenue'])))\n",
    "\n",
    "plt.scatter(x_values, orders['revenue'])\n",
    "plt.title('График стоимости заказов')\n",
    "plt.xlabel('Количество пользователей')\n",
    "plt.ylabel('Стоимость заказа', fontsize=13)\n",
    "plt.show()"
   ]
  },
  {
   "cell_type": "markdown",
   "metadata": {},
   "source": [
    "По графику видно небольшое количество аномальных значений(выбросов)."
   ]
  },
  {
   "cell_type": "markdown",
   "metadata": {},
   "source": [
    "Посчитаем 95-й и 99-й перцентили стоимости заказов. Выберем границу для определения аномальных заказов.\n"
   ]
  },
  {
   "cell_type": "code",
   "execution_count": 33,
   "metadata": {},
   "outputs": [
    {
     "name": "stdout",
     "output_type": "stream",
     "text": [
      "[26785. 53904.]\n"
     ]
    }
   ],
   "source": [
    "print(np.percentile(orders['revenue'], [95,99]))"
   ]
  },
  {
   "cell_type": "markdown",
   "metadata": {},
   "source": [
    " Исходя из расчетов можно сделать вывод,что не более 5% заказов дороже 26785 руб. и не более 1% дороже 53904 руб. Будем считать заказы стоимостью более 54000 руб.аномалиями."
   ]
  },
  {
   "cell_type": "markdown",
   "metadata": {},
   "source": [
    "Посчитаем статистическую значимость различий в среднем количестве заказов на посетителя между группами по «сырым» данным. Сделаем выводы и предположения.\n"
   ]
  },
  {
   "cell_type": "markdown",
   "metadata": {},
   "source": [
    "Сформулируем гипотезы:\n",
    "        Н0: Различий в среднем количестве заказов на посетителей по группам нет\n",
    "        Н1: Различия в среднем количестве заказов на посетителей по группам есть.   "
   ]
  },
  {
   "cell_type": "code",
   "execution_count": 34,
   "metadata": {},
   "outputs": [
    {
     "data": {
      "text/html": [
       "<div>\n",
       "<style scoped>\n",
       "    .dataframe tbody tr th:only-of-type {\n",
       "        vertical-align: middle;\n",
       "    }\n",
       "\n",
       "    .dataframe tbody tr th {\n",
       "        vertical-align: top;\n",
       "    }\n",
       "\n",
       "    .dataframe thead th {\n",
       "        text-align: right;\n",
       "    }\n",
       "</style>\n",
       "<table border=\"1\" class=\"dataframe\">\n",
       "  <thead>\n",
       "    <tr style=\"text-align: right;\">\n",
       "      <th></th>\n",
       "      <th>date</th>\n",
       "      <th>ordersPerDateA</th>\n",
       "      <th>revenuePerDateA</th>\n",
       "      <th>ordersPerDateB</th>\n",
       "      <th>revenuePerDateB</th>\n",
       "      <th>ordersCummulativeA</th>\n",
       "      <th>revenueCummulativeA</th>\n",
       "      <th>ordersCummulativeB</th>\n",
       "      <th>revenueCummulativeB</th>\n",
       "      <th>visitorsPerDateA</th>\n",
       "      <th>visitorsPerDateB</th>\n",
       "      <th>visitorsCummulativeA</th>\n",
       "      <th>visitorsCummulativeB</th>\n",
       "    </tr>\n",
       "  </thead>\n",
       "  <tbody>\n",
       "    <tr>\n",
       "      <th>0</th>\n",
       "      <td>2019-08-01</td>\n",
       "      <td>23</td>\n",
       "      <td>142779</td>\n",
       "      <td>17</td>\n",
       "      <td>59758</td>\n",
       "      <td>23</td>\n",
       "      <td>142779</td>\n",
       "      <td>17</td>\n",
       "      <td>59758</td>\n",
       "      <td>719</td>\n",
       "      <td>713</td>\n",
       "      <td>719</td>\n",
       "      <td>713</td>\n",
       "    </tr>\n",
       "    <tr>\n",
       "      <th>1</th>\n",
       "      <td>2019-08-02</td>\n",
       "      <td>19</td>\n",
       "      <td>91602</td>\n",
       "      <td>23</td>\n",
       "      <td>162043</td>\n",
       "      <td>42</td>\n",
       "      <td>234381</td>\n",
       "      <td>40</td>\n",
       "      <td>221801</td>\n",
       "      <td>619</td>\n",
       "      <td>581</td>\n",
       "      <td>1338</td>\n",
       "      <td>1294</td>\n",
       "    </tr>\n",
       "    <tr>\n",
       "      <th>2</th>\n",
       "      <td>2019-08-03</td>\n",
       "      <td>24</td>\n",
       "      <td>112473</td>\n",
       "      <td>14</td>\n",
       "      <td>67049</td>\n",
       "      <td>66</td>\n",
       "      <td>346854</td>\n",
       "      <td>54</td>\n",
       "      <td>288850</td>\n",
       "      <td>507</td>\n",
       "      <td>509</td>\n",
       "      <td>1845</td>\n",
       "      <td>1803</td>\n",
       "    </tr>\n",
       "    <tr>\n",
       "      <th>3</th>\n",
       "      <td>2019-08-04</td>\n",
       "      <td>11</td>\n",
       "      <td>41176</td>\n",
       "      <td>14</td>\n",
       "      <td>96890</td>\n",
       "      <td>77</td>\n",
       "      <td>388030</td>\n",
       "      <td>68</td>\n",
       "      <td>385740</td>\n",
       "      <td>717</td>\n",
       "      <td>770</td>\n",
       "      <td>2562</td>\n",
       "      <td>2573</td>\n",
       "    </tr>\n",
       "    <tr>\n",
       "      <th>4</th>\n",
       "      <td>2019-08-05</td>\n",
       "      <td>22</td>\n",
       "      <td>86383</td>\n",
       "      <td>21</td>\n",
       "      <td>89908</td>\n",
       "      <td>99</td>\n",
       "      <td>474413</td>\n",
       "      <td>89</td>\n",
       "      <td>475648</td>\n",
       "      <td>756</td>\n",
       "      <td>707</td>\n",
       "      <td>3318</td>\n",
       "      <td>3280</td>\n",
       "    </tr>\n",
       "  </tbody>\n",
       "</table>\n",
       "</div>"
      ],
      "text/plain": [
       "        date  ordersPerDateA  revenuePerDateA  ordersPerDateB  \\\n",
       "0 2019-08-01              23           142779              17   \n",
       "1 2019-08-02              19            91602              23   \n",
       "2 2019-08-03              24           112473              14   \n",
       "3 2019-08-04              11            41176              14   \n",
       "4 2019-08-05              22            86383              21   \n",
       "\n",
       "   revenuePerDateB  ordersCummulativeA  revenueCummulativeA  \\\n",
       "0            59758                  23               142779   \n",
       "1           162043                  42               234381   \n",
       "2            67049                  66               346854   \n",
       "3            96890                  77               388030   \n",
       "4            89908                  99               474413   \n",
       "\n",
       "   ordersCummulativeB  revenueCummulativeB  visitorsPerDateA  \\\n",
       "0                  17                59758               719   \n",
       "1                  40               221801               619   \n",
       "2                  54               288850               507   \n",
       "3                  68               385740               717   \n",
       "4                  89               475648               756   \n",
       "\n",
       "   visitorsPerDateB  visitorsCummulativeA  visitorsCummulativeB  \n",
       "0               713                   719                   713  \n",
       "1               581                  1338                  1294  \n",
       "2               509                  1845                  1803  \n",
       "3               770                  2562                  2573  \n",
       "4               707                  3318                  3280  "
      ]
     },
     "metadata": {},
     "output_type": "display_data"
    }
   ],
   "source": [
    "visitorsADaily = visitors[visitors['group'] == 'A'][['date', 'visitors']]\n",
    "visitorsADaily.columns = ['date', 'visitorsPerDateA']\n",
    "\n",
    "visitorsACummulative = visitorsADaily.apply(\n",
    "    lambda x: visitorsADaily[visitorsADaily['date'] <= x['date']].agg(\n",
    "        {'date': 'max', 'visitorsPerDateA': 'sum'}),\n",
    "    axis=1,\n",
    ")\n",
    "visitorsACummulative.columns = ['date', 'visitorsCummulativeA']\n",
    "\n",
    "visitorsBDaily = visitors[visitors['group'] == 'B'][['date', 'visitors']]\n",
    "visitorsBDaily.columns = ['date', 'visitorsPerDateB']\n",
    "\n",
    "visitorsBCummulative = visitorsBDaily.apply(\n",
    "    lambda x: visitorsBDaily[visitorsBDaily['date'] <= x['date']].agg(\n",
    "        {'date': 'max', 'visitorsPerDateB': 'sum'}\n",
    "    ),\n",
    "    axis=1,\n",
    ")\n",
    "visitorsBCummulative.columns = ['date', 'visitorsCummulativeB']\n",
    "\n",
    "ordersADaily = (\n",
    "    orders[orders['group'] == 'A'][['date', 'transactionId', 'visitorId', 'revenue']]\n",
    "    .groupby('date', as_index=False)\n",
    "    .agg({'transactionId': pd.Series.nunique, 'revenue': 'sum'})\n",
    ")\n",
    "ordersADaily.columns = ['date', 'ordersPerDateA', 'revenuePerDateA']\n",
    "\n",
    "ordersACummulative = ordersADaily.apply(\n",
    "    lambda x: ordersADaily[ordersADaily['date'] <= x['date']].agg(\n",
    "        {'date': 'max', 'ordersPerDateA': 'sum', 'revenuePerDateA': 'sum'}\n",
    "    ),\n",
    "    axis=1,\n",
    ").sort_values(by=['date'])\n",
    "ordersACummulative.columns = [\n",
    "    'date',\n",
    "    'ordersCummulativeA',\n",
    "    'revenueCummulativeA',\n",
    "]\n",
    "\n",
    "ordersBDaily = (\n",
    "    orders[orders['group'] == 'B'][['date', 'transactionId', 'visitorId', 'revenue']]\n",
    "    .groupby('date', as_index=False)\n",
    "    .agg({'transactionId': pd.Series.nunique, 'revenue': 'sum'})\n",
    ")\n",
    "ordersBDaily.columns = ['date', 'ordersPerDateB', 'revenuePerDateB']\n",
    "\n",
    "ordersBCummulative = ordersBDaily.apply(\n",
    "    lambda x: ordersBDaily[ordersBDaily['date'] <= x['date']].agg(\n",
    "        {'date': 'max', 'ordersPerDateB': 'sum', 'revenuePerDateB': 'sum'}\n",
    "    ),\n",
    "    axis=1,\n",
    ").sort_values(by=['date'])\n",
    "ordersBCummulative.columns = [\n",
    "    'date',\n",
    "    'ordersCummulativeB',\n",
    "    'revenueCummulativeB',\n",
    "]\n",
    "\n",
    "data = (\n",
    "    ordersADaily.merge(\n",
    "        ordersBDaily, left_on='date', right_on='date', how='left'\n",
    "    )\n",
    "    .merge(ordersACummulative, left_on='date', right_on='date', how='left')\n",
    "    .merge(ordersBCummulative, left_on='date', right_on='date', how='left')\n",
    "    .merge(visitorsADaily, left_on='date', right_on='date', how='left')\n",
    "    .merge(visitorsBDaily, left_on='date', right_on='date', how='left')\n",
    "    .merge(visitorsACummulative, left_on='date', right_on='date', how='left')\n",
    "    .merge(visitorsBCummulative, left_on='date', right_on='date', how='left')\n",
    ")\n",
    "\n",
    "display(data.head(5)) \n",
    "\n"
   ]
  },
  {
   "cell_type": "code",
   "execution_count": 35,
   "metadata": {},
   "outputs": [],
   "source": [
    "ordersByUsersA = (\n",
    "    orders[orders['group'] == 'A']\n",
    "    .groupby('visitorId', as_index=False)\n",
    "    .agg({'transactionId': pd.Series.nunique})\n",
    ")\n",
    "ordersByUsersA.columns = ['visitorId', 'orders']\n",
    "\n",
    "ordersByUsersB = (\n",
    "    orders[orders['group'] == 'B']\n",
    "    .groupby('visitorId', as_index=False)\n",
    "    .agg({'transactionId': pd.Series.nunique})\n",
    ")\n",
    "ordersByUsersB.columns = ['visitorId', 'orders'] \n",
    "\n"
   ]
  },
  {
   "cell_type": "code",
   "execution_count": 36,
   "metadata": {},
   "outputs": [],
   "source": [
    "pd.Series(0, index=np.arange(data['visitorsPerDateA'].sum() - len(ordersByUsersA['orders'])), name='orders');"
   ]
  },
  {
   "cell_type": "code",
   "execution_count": 37,
   "metadata": {},
   "outputs": [],
   "source": [
    "[ordersByUsersA['orders'],pd.Series(0, index=np.arange(data['visitorsPerDateA'].sum() - len(ordersByUsersA['orders'])), name='orders')]; "
   ]
  },
  {
   "cell_type": "code",
   "execution_count": 38,
   "metadata": {},
   "outputs": [],
   "source": [
    "sampleA = pd.concat([ordersByUsersA['orders'],pd.Series(0, index=np.arange(data['visitorsPerDateA'].sum() - len(ordersByUsersA['orders'])), name='orders')],axis=0)\n",
    "\n",
    "sampleB = pd.concat([ordersByUsersB['orders'],pd.Series(0, index=np.arange(data['visitorsPerDateB'].sum() - len(ordersByUsersB['orders'])), name='orders')],axis=0) \n",
    "\n"
   ]
  },
  {
   "cell_type": "code",
   "execution_count": 39,
   "metadata": {},
   "outputs": [
    {
     "name": "stdout",
     "output_type": "stream",
     "text": [
      "p-value: 0.01102\n",
      "относительное различие в среднем между группами: 0.160\n"
     ]
    }
   ],
   "source": [
    "print('p-value:',\"{0:.5f}\".format(stats.mannwhitneyu(sampleA, sampleB)[1]))\n",
    "\n",
    "print('относительное различие в среднем между группами:',\"{0:.3f}\".format(sampleB.mean() / sampleA.mean() - 1))\n"
   ]
  },
  {
   "cell_type": "markdown",
   "metadata": {},
   "source": [
    "P-value меньше 0,05 следовательно отвергаем нулевую гипотезу,о том что различий в среднем количестве заказов на посетителей между группами нет."
   ]
  },
  {
   "cell_type": "markdown",
   "metadata": {},
   "source": [
    "Посчитаем статистическую значимость различий в среднем чеке заказа между группами по «сырым» данным. Сделаем выводы и предположения.\n"
   ]
  },
  {
   "cell_type": "markdown",
   "metadata": {},
   "source": [
    "Сформулируем гипотезы:\n",
    "    Н0: Различий в среднем чеке заказа между группами нет.\n",
    "    Н1: Различия в среднем чеке заказа между группами есть."
   ]
  },
  {
   "cell_type": "code",
   "execution_count": 40,
   "metadata": {},
   "outputs": [
    {
     "name": "stdout",
     "output_type": "stream",
     "text": [
      "p-value: 0.82949\n",
      "относительное различие в среднем чеке между группами: 0.287\n"
     ]
    }
   ],
   "source": [
    "print('p-value:',\"{0:.5f}\".format(stats.mannwhitneyu(orders[orders['group']=='A']['revenue'], orders[orders['group']=='B']['revenue'])[1]))\n",
    "print('относительное различие в среднем чеке между группами:',\"{0:.3f}\".format(orders[orders['group']=='B']['revenue'].mean()/orders[orders['group']=='A']['revenue'].mean()-1)) "
   ]
  },
  {
   "cell_type": "markdown",
   "metadata": {},
   "source": [
    "P-value больше 0.05 не отвергаем нулевую  гипотезу о том,различий в среднем чеке между группами нет.\n",
    "Однако прирост среднего чека в группе В к группе А равен 28,7%.\n"
   ]
  },
  {
   "cell_type": "markdown",
   "metadata": {},
   "source": [
    "Посчитаем статистическую значимость различий в среднем количестве заказов на посетителя между группами по «очищенным» данным. Сделаем выводы и предположения.\n"
   ]
  },
  {
   "cell_type": "code",
   "execution_count": 41,
   "metadata": {},
   "outputs": [
    {
     "data": {
      "text/plain": [
       "1099    148427295\n",
       "33      249864742\n",
       "58      611059232\n",
       "949     887908475\n",
       "744     888512513\n",
       "Name: visitorId, dtype: int64"
      ]
     },
     "metadata": {},
     "output_type": "display_data"
    },
    {
     "data": {
      "text/plain": [
       "16"
      ]
     },
     "metadata": {},
     "output_type": "display_data"
    }
   ],
   "source": [
    "usersWithManyOrders = pd.concat(\n",
    "    [\n",
    "        ordersByUsersA[ordersByUsersA['orders'] > 2]['visitorId'],\n",
    "        ordersByUsersB[ordersByUsersB['orders'] > 2]['visitorId'],\n",
    "    ],\n",
    "    axis=0,\n",
    ")\n",
    "usersWithExpensiveOrders = orders[orders['revenue'] > 54000]['visitorId']\n",
    "abnormalUsers = (\n",
    "    pd.concat([usersWithManyOrders, usersWithExpensiveOrders], axis=0)\n",
    "    .drop_duplicates()\n",
    "    .sort_values()\n",
    ")\n",
    "display(abnormalUsers.head(5))\n",
    "display(abnormalUsers.shape[0]) "
   ]
  },
  {
   "cell_type": "markdown",
   "metadata": {},
   "source": [
    "По расчетам получается 16 аномальных пользователей."
   ]
  },
  {
   "cell_type": "markdown",
   "metadata": {},
   "source": [
    "Рассчитаем как отличается статистическая значимость по очищенным данным.\n",
    "Сформулируем гипотезы:"
   ]
  },
  {
   "cell_type": "code",
   "execution_count": 42,
   "metadata": {},
   "outputs": [],
   "source": [
    "sampleAFiltered = pd.concat(\n",
    "    [\n",
    "        ordersByUsersA[\n",
    "            np.logical_not(ordersByUsersA['visitorId'].isin(abnormalUsers))\n",
    "        ]['orders'],\n",
    "        pd.Series(\n",
    "            0,\n",
    "            index=np.arange(\n",
    "                data['visitorsPerDateA'].sum() - len(ordersByUsersA['orders'])\n",
    "            ),\n",
    "            name='orders',\n",
    "        ),\n",
    "    ],\n",
    "    axis=0,\n",
    ")\n",
    "\n",
    "sampleBFiltered = pd.concat(\n",
    "    [\n",
    "        ordersByUsersB[\n",
    "            np.logical_not(ordersByUsersB['visitorId'].isin(abnormalUsers))\n",
    "        ]['orders'],\n",
    "        pd.Series(\n",
    "            0,\n",
    "            index=np.arange(\n",
    "                data['visitorsPerDateB'].sum() - len(ordersByUsersB['orders'])\n",
    "            ),\n",
    "            name='orders',\n",
    "        ),\n",
    "    ],\n",
    "    axis=0,\n",
    ") \n",
    "\n"
   ]
  },
  {
   "cell_type": "code",
   "execution_count": 43,
   "metadata": {},
   "outputs": [
    {
     "name": "stdout",
     "output_type": "stream",
     "text": [
      "p-value: 0.00702\n",
      "относительное различие в среднем количестве заказов между группами: 0.189\n"
     ]
    }
   ],
   "source": [
    "print('p-value:',\"{0:.5f}\".format(stats.mannwhitneyu(sampleAFiltered, sampleBFiltered)[1]))\n",
    "print('относительное различие в среднем количестве заказов между группами:',\"{0:.3f}\".format(sampleBFiltered.mean()/sampleAFiltered.mean()-1)) \n",
    "\n"
   ]
  },
  {
   "cell_type": "markdown",
   "metadata": {},
   "source": [
    "P-value меньше 0,05 следовательно отвергаем нулевую гипотезу,о том что различий в среднем количестве заказов на посетителей между группами нет.\n",
    "По рассчетам выше наблюдаем относительное различие в 18,9%."
   ]
  },
  {
   "cell_type": "markdown",
   "metadata": {},
   "source": [
    "Далее произведем расчет различия статистической значимости по очищенным данным между группами по среднему чеку:"
   ]
  },
  {
   "cell_type": "markdown",
   "metadata": {},
   "source": [
    "Сформулируем гипотезы:\n",
    "    Н0: Различий в среднем чеке заказа между группами нет.\n",
    "    Н1: Различия в среднем чеке заказа между группами есть."
   ]
  },
  {
   "cell_type": "code",
   "execution_count": 44,
   "metadata": {},
   "outputs": [
    {
     "name": "stdout",
     "output_type": "stream",
     "text": [
      "p-value: 0.78770\n",
      "относительное различие в среднем чеке между группами: -0.032\n"
     ]
    }
   ],
   "source": [
    "print(\n",
    "    'p-value:',\"{0:.5f}\".format(\n",
    "        stats.mannwhitneyu(\n",
    "            orders[\n",
    "                np.logical_and(\n",
    "                    orders['group'] == 'A',\n",
    "                    np.logical_not(orders['visitorId'].isin(abnormalUsers)),\n",
    "                )\n",
    "            ]['revenue'],\n",
    "            orders[\n",
    "                np.logical_and(\n",
    "                    orders['group'] == 'B',\n",
    "                    np.logical_not(orders['visitorId'].isin(abnormalUsers)),\n",
    "                )\n",
    "            ]['revenue'],\n",
    "        )[1]\n",
    "    )\n",
    ")\n",
    "\n",
    "print(\n",
    "    'относительное различие в среднем чеке между группами:',\"{0:.3f}\".format(\n",
    "        orders[\n",
    "            np.logical_and(\n",
    "                orders['group'] == 'B',\n",
    "                np.logical_not(orders['visitorId'].isin(abnormalUsers)),\n",
    "            )\n",
    "        ]['revenue'].mean()\n",
    "        / orders[\n",
    "            np.logical_and(\n",
    "                orders['group'] == 'A',\n",
    "                np.logical_not(orders['visitorId'].isin(abnormalUsers)),\n",
    "            )\n",
    "        ]['revenue'].mean()\n",
    "        - 1\n",
    "    )\n",
    ") \n",
    "\n"
   ]
  },
  {
   "cell_type": "markdown",
   "metadata": {},
   "source": [
    "P-value больше 0.05 не отвергаем нулевую  гипотезу о том,различий в среднем чеке между группами нет.\n",
    "Однако  в расчете по \"сырым\" данным прирост среднего чека в группе В к группе А составлял 28,7%,\n",
    "а по очищенным данным мы видим убыль в 3%, что может говорить о том что в группе В имелись крупные заказы с очень высоким чеком,которые сильно влияли на результат теста."
   ]
  },
  {
   "cell_type": "markdown",
   "metadata": {},
   "source": [
    "## Выводы:\n"
   ]
  },
  {
   "cell_type": "markdown",
   "metadata": {},
   "source": [
    "    Проведя анализ результатов А/В-теста можем сделать следующие выводы:\n",
    "        По сырым данным не выявлено статистической значимости гипотезы о то, что различия в среднем количестве заказов по группам нет.По рассчетам количество заказов в группе В отличается на 16%\n",
    "        Гипотезу о том, что различия в среднем чеке между группами нет, не отвергаем,т.к. ее p-value>0.05, а по расчетам видим что средний чек в группе В на 28,7% выше чем в группе А.\n",
    "        По очищенным данным похожая картина: гипотезу об отсутствии различий в среднем количестве заказов между группами отвергаем, по расчетам получает относительное различие в 18,9% в пользу группы В; гипотезу об отсутствии различий в среднем чеке между группами не отвергаем, однако по расчетам обнаруживаем любопытную тенденцию снижения  среднего чека в группе В в сравнении с группой А на 3,2%.Возможно данная ситуация связана с исключением крупных заказов с большими чеками из группы В,которые существенно влияли на средний чек.\n",
    "        На данном этапе сложно сделать окончательные выводы, так как мы оценивали статистическую значимость только двух параметров: среднего чека и среднего количества заказов между группами. Тем не менее, я склоняюсь к тому, что стоит остановить тест и зафиксировать победу группы B, так как количество заказов в данной группе больше на 18,9%.\n",
    "        "
   ]
  }
 ],
 "metadata": {
  "ExecuteTimeLog": [
   {
    "duration": 6,
    "start_time": "2024-11-18T08:19:36.953Z"
   },
   {
    "duration": 823,
    "start_time": "2024-11-18T08:21:12.182Z"
   },
   {
    "duration": 79,
    "start_time": "2024-11-18T08:21:13.980Z"
   },
   {
    "duration": 14,
    "start_time": "2024-11-18T08:44:49.199Z"
   },
   {
    "duration": 8,
    "start_time": "2024-11-18T08:45:10.182Z"
   },
   {
    "duration": 27,
    "start_time": "2024-11-18T09:01:32.846Z"
   },
   {
    "duration": 47,
    "start_time": "2024-11-18T09:02:40.962Z"
   },
   {
    "duration": 8,
    "start_time": "2024-11-18T09:02:49.432Z"
   },
   {
    "duration": 9,
    "start_time": "2024-11-18T09:05:02.910Z"
   },
   {
    "duration": 2,
    "start_time": "2024-11-18T09:26:33.762Z"
   },
   {
    "duration": 522,
    "start_time": "2024-11-18T09:29:12.336Z"
   },
   {
    "duration": 70,
    "start_time": "2024-11-18T09:30:43.904Z"
   },
   {
    "duration": 143,
    "start_time": "2024-11-18T09:31:42.120Z"
   },
   {
    "duration": 58,
    "start_time": "2024-11-18T09:31:50.341Z"
   },
   {
    "duration": 7,
    "start_time": "2024-11-18T09:32:01.980Z"
   },
   {
    "duration": 8,
    "start_time": "2024-11-18T09:32:27.550Z"
   },
   {
    "duration": 9,
    "start_time": "2024-11-18T12:34:56.685Z"
   },
   {
    "duration": 8,
    "start_time": "2024-11-18T12:35:04.760Z"
   },
   {
    "duration": 1089,
    "start_time": "2024-11-18T12:35:18.776Z"
   },
   {
    "duration": 26,
    "start_time": "2024-11-18T12:35:19.867Z"
   },
   {
    "duration": 13,
    "start_time": "2024-11-18T12:35:19.894Z"
   },
   {
    "duration": 9,
    "start_time": "2024-11-18T12:35:19.908Z"
   },
   {
    "duration": 7,
    "start_time": "2024-11-18T12:35:19.919Z"
   },
   {
    "duration": 50,
    "start_time": "2024-11-18T12:35:19.928Z"
   },
   {
    "duration": 7,
    "start_time": "2024-11-18T12:35:19.980Z"
   },
   {
    "duration": 44,
    "start_time": "2024-11-18T12:35:19.989Z"
   },
   {
    "duration": 322,
    "start_time": "2024-11-18T12:49:48.525Z"
   },
   {
    "duration": 6,
    "start_time": "2024-11-18T12:50:15.186Z"
   },
   {
    "duration": 24,
    "start_time": "2024-11-18T12:50:18.757Z"
   },
   {
    "duration": 123,
    "start_time": "2024-11-18T12:50:33.947Z"
   },
   {
    "duration": 26,
    "start_time": "2024-11-18T12:50:35.656Z"
   },
   {
    "duration": 71,
    "start_time": "2024-11-25T08:01:54.909Z"
   },
   {
    "duration": 1410,
    "start_time": "2024-11-25T08:02:20.976Z"
   },
   {
    "duration": 73,
    "start_time": "2024-11-25T08:02:22.390Z"
   },
   {
    "duration": 18,
    "start_time": "2024-11-25T08:02:22.467Z"
   },
   {
    "duration": 14,
    "start_time": "2024-11-25T08:02:22.486Z"
   },
   {
    "duration": 27,
    "start_time": "2024-11-25T08:02:22.502Z"
   },
   {
    "duration": 166,
    "start_time": "2024-11-25T08:02:22.530Z"
   },
   {
    "duration": 9,
    "start_time": "2024-11-25T08:02:22.698Z"
   },
   {
    "duration": 7,
    "start_time": "2024-11-25T08:02:22.709Z"
   },
   {
    "duration": 433,
    "start_time": "2024-11-25T08:02:22.717Z"
   },
   {
    "duration": 0,
    "start_time": "2024-11-25T08:02:23.152Z"
   },
   {
    "duration": 0,
    "start_time": "2024-11-25T08:02:23.154Z"
   },
   {
    "duration": 0,
    "start_time": "2024-11-25T08:02:23.155Z"
   },
   {
    "duration": 0,
    "start_time": "2024-11-25T08:02:23.156Z"
   },
   {
    "duration": 5,
    "start_time": "2024-11-25T08:03:22.593Z"
   },
   {
    "duration": 45,
    "start_time": "2024-11-25T08:03:25.951Z"
   },
   {
    "duration": 197,
    "start_time": "2024-11-25T08:06:54.599Z"
   },
   {
    "duration": 143,
    "start_time": "2024-11-25T08:07:08.355Z"
   },
   {
    "duration": 265,
    "start_time": "2024-11-25T08:10:19.104Z"
   },
   {
    "duration": 294,
    "start_time": "2024-11-25T08:11:11.394Z"
   },
   {
    "duration": 295,
    "start_time": "2024-11-25T08:11:47.636Z"
   },
   {
    "duration": 269,
    "start_time": "2024-11-25T08:12:12.026Z"
   },
   {
    "duration": 269,
    "start_time": "2024-11-25T08:12:19.461Z"
   },
   {
    "duration": 404,
    "start_time": "2024-11-25T08:26:29.116Z"
   },
   {
    "duration": 415,
    "start_time": "2024-11-25T08:26:35.541Z"
   },
   {
    "duration": 188,
    "start_time": "2024-11-25T08:27:10.146Z"
   },
   {
    "duration": 263,
    "start_time": "2024-11-25T08:28:07.456Z"
   },
   {
    "duration": 318,
    "start_time": "2024-11-25T08:28:10.299Z"
   },
   {
    "duration": 26,
    "start_time": "2024-11-25T08:32:06.435Z"
   },
   {
    "duration": 9,
    "start_time": "2024-11-25T08:32:19.273Z"
   },
   {
    "duration": 10,
    "start_time": "2024-11-25T08:32:39.122Z"
   },
   {
    "duration": 10,
    "start_time": "2024-11-25T08:32:45.474Z"
   },
   {
    "duration": 13,
    "start_time": "2024-11-25T08:32:57.327Z"
   },
   {
    "duration": 5,
    "start_time": "2024-11-25T08:33:14.080Z"
   },
   {
    "duration": 354,
    "start_time": "2024-11-25T08:39:51.870Z"
   },
   {
    "duration": 272,
    "start_time": "2024-11-25T08:51:10.857Z"
   },
   {
    "duration": 291,
    "start_time": "2024-11-25T08:51:17.866Z"
   },
   {
    "duration": 432,
    "start_time": "2024-11-25T08:55:07.773Z"
   },
   {
    "duration": 404,
    "start_time": "2024-11-25T08:55:13.143Z"
   },
   {
    "duration": 5,
    "start_time": "2024-11-25T09:07:23.900Z"
   },
   {
    "duration": 259,
    "start_time": "2024-11-25T09:08:43.321Z"
   },
   {
    "duration": 286,
    "start_time": "2024-11-25T09:09:01.034Z"
   },
   {
    "duration": 246,
    "start_time": "2024-11-25T09:09:05.376Z"
   },
   {
    "duration": 254,
    "start_time": "2024-11-25T09:15:22.778Z"
   },
   {
    "duration": 378,
    "start_time": "2024-11-25T09:15:41.867Z"
   },
   {
    "duration": 282,
    "start_time": "2024-11-25T09:15:51.259Z"
   },
   {
    "duration": 504,
    "start_time": "2024-11-25T09:16:01.365Z"
   },
   {
    "duration": 3,
    "start_time": "2024-11-25T09:19:44.508Z"
   },
   {
    "duration": 348,
    "start_time": "2024-11-25T09:20:12.395Z"
   },
   {
    "duration": 554,
    "start_time": "2024-11-25T09:20:28.136Z"
   },
   {
    "duration": 5,
    "start_time": "2024-11-25T09:21:06.328Z"
   },
   {
    "duration": 6,
    "start_time": "2024-11-25T09:21:16.790Z"
   },
   {
    "duration": 185,
    "start_time": "2024-11-25T09:21:17.760Z"
   },
   {
    "duration": 136,
    "start_time": "2024-11-25T09:21:19.517Z"
   },
   {
    "duration": 300,
    "start_time": "2024-11-25T09:21:20.584Z"
   },
   {
    "duration": 8,
    "start_time": "2024-11-25T09:22:33.198Z"
   },
   {
    "duration": 26,
    "start_time": "2024-11-25T09:22:34.292Z"
   },
   {
    "duration": 8,
    "start_time": "2024-11-25T09:22:34.981Z"
   },
   {
    "duration": 1285,
    "start_time": "2024-11-25T09:22:42.448Z"
   },
   {
    "duration": 27,
    "start_time": "2024-11-25T09:22:43.735Z"
   },
   {
    "duration": 24,
    "start_time": "2024-11-25T09:22:43.764Z"
   },
   {
    "duration": 25,
    "start_time": "2024-11-25T09:22:43.790Z"
   },
   {
    "duration": 19,
    "start_time": "2024-11-25T09:22:43.817Z"
   },
   {
    "duration": 66,
    "start_time": "2024-11-25T09:22:43.837Z"
   },
   {
    "duration": 8,
    "start_time": "2024-11-25T09:22:43.904Z"
   },
   {
    "duration": 57,
    "start_time": "2024-11-25T09:22:43.913Z"
   },
   {
    "duration": 5,
    "start_time": "2024-11-25T09:22:43.972Z"
   },
   {
    "duration": 5,
    "start_time": "2024-11-25T09:22:43.980Z"
   },
   {
    "duration": 175,
    "start_time": "2024-11-25T09:22:43.986Z"
   },
   {
    "duration": 140,
    "start_time": "2024-11-25T09:22:44.164Z"
   },
   {
    "duration": 394,
    "start_time": "2024-11-25T09:22:44.306Z"
   },
   {
    "duration": 0,
    "start_time": "2024-11-25T09:22:44.701Z"
   },
   {
    "duration": 0,
    "start_time": "2024-11-25T09:22:44.702Z"
   },
   {
    "duration": 0,
    "start_time": "2024-11-25T09:22:44.704Z"
   },
   {
    "duration": 0,
    "start_time": "2024-11-25T09:22:44.704Z"
   },
   {
    "duration": 0,
    "start_time": "2024-11-25T09:22:44.706Z"
   },
   {
    "duration": 0,
    "start_time": "2024-11-25T09:22:44.707Z"
   },
   {
    "duration": 272,
    "start_time": "2024-11-25T09:28:48.573Z"
   },
   {
    "duration": 273,
    "start_time": "2024-11-25T09:29:03.303Z"
   },
   {
    "duration": 294,
    "start_time": "2024-11-25T09:29:20.595Z"
   },
   {
    "duration": 13,
    "start_time": "2024-11-25T09:39:25.949Z"
   },
   {
    "duration": 88,
    "start_time": "2024-11-25T09:39:52.416Z"
   },
   {
    "duration": 72,
    "start_time": "2024-11-25T09:39:57.757Z"
   },
   {
    "duration": 6,
    "start_time": "2024-11-25T09:40:08.495Z"
   },
   {
    "duration": 5,
    "start_time": "2024-11-25T09:40:09.455Z"
   },
   {
    "duration": 160,
    "start_time": "2024-11-25T09:40:10.444Z"
   },
   {
    "duration": 121,
    "start_time": "2024-11-25T09:40:11.529Z"
   },
   {
    "duration": 298,
    "start_time": "2024-11-25T09:40:15.848Z"
   },
   {
    "duration": 1194,
    "start_time": "2024-11-25T10:34:55.971Z"
   },
   {
    "duration": 27,
    "start_time": "2024-11-25T10:34:57.167Z"
   },
   {
    "duration": 12,
    "start_time": "2024-11-25T10:34:57.196Z"
   },
   {
    "duration": 8,
    "start_time": "2024-11-25T10:34:57.210Z"
   },
   {
    "duration": 48,
    "start_time": "2024-11-25T10:34:57.220Z"
   },
   {
    "duration": 52,
    "start_time": "2024-11-25T10:34:57.270Z"
   },
   {
    "duration": 8,
    "start_time": "2024-11-25T10:34:57.324Z"
   },
   {
    "duration": 22,
    "start_time": "2024-11-25T10:34:57.333Z"
   },
   {
    "duration": 3,
    "start_time": "2024-11-25T10:34:57.356Z"
   },
   {
    "duration": 5,
    "start_time": "2024-11-25T10:34:57.362Z"
   },
   {
    "duration": 171,
    "start_time": "2024-11-25T10:34:57.368Z"
   },
   {
    "duration": 126,
    "start_time": "2024-11-25T10:34:57.540Z"
   },
   {
    "duration": 283,
    "start_time": "2024-11-25T10:34:57.668Z"
   },
   {
    "duration": 4,
    "start_time": "2024-11-25T10:34:57.953Z"
   },
   {
    "duration": 271,
    "start_time": "2024-11-25T10:34:57.964Z"
   },
   {
    "duration": 276,
    "start_time": "2024-11-25T10:34:58.237Z"
   },
   {
    "duration": 357,
    "start_time": "2024-11-25T10:34:58.515Z"
   },
   {
    "duration": 321,
    "start_time": "2024-11-25T10:34:58.874Z"
   },
   {
    "duration": 388,
    "start_time": "2024-11-25T10:34:59.197Z"
   },
   {
    "duration": 263,
    "start_time": "2024-11-25T10:35:28.844Z"
   },
   {
    "duration": 22,
    "start_time": "2024-11-25T10:41:45.631Z"
   },
   {
    "duration": 5,
    "start_time": "2024-11-25T10:41:47.000Z"
   },
   {
    "duration": 169,
    "start_time": "2024-11-25T10:41:47.800Z"
   },
   {
    "duration": 126,
    "start_time": "2024-11-25T10:41:50.363Z"
   },
   {
    "duration": 290,
    "start_time": "2024-11-25T10:41:52.213Z"
   },
   {
    "duration": 5,
    "start_time": "2024-11-25T10:41:54.080Z"
   },
   {
    "duration": 295,
    "start_time": "2024-11-25T10:41:55.779Z"
   },
   {
    "duration": 266,
    "start_time": "2024-11-25T10:42:00.782Z"
   },
   {
    "duration": 281,
    "start_time": "2024-11-25T10:42:02.990Z"
   },
   {
    "duration": 206,
    "start_time": "2024-11-25T10:42:05.819Z"
   },
   {
    "duration": 1221,
    "start_time": "2024-11-25T10:47:01.865Z"
   },
   {
    "duration": 10,
    "start_time": "2024-11-25T10:53:22.228Z"
   },
   {
    "duration": 1038,
    "start_time": "2024-11-25T10:53:44.380Z"
   },
   {
    "duration": 61,
    "start_time": "2024-11-25T10:54:51.310Z"
   },
   {
    "duration": 63,
    "start_time": "2024-11-25T10:55:24.445Z"
   },
   {
    "duration": 147,
    "start_time": "2024-11-25T11:22:44.975Z"
   },
   {
    "duration": 10,
    "start_time": "2024-11-25T11:23:04.931Z"
   },
   {
    "duration": 125,
    "start_time": "2024-11-25T11:23:15.892Z"
   },
   {
    "duration": 69,
    "start_time": "2024-11-25T11:33:44.098Z"
   },
   {
    "duration": 120,
    "start_time": "2024-11-25T11:35:31.463Z"
   },
   {
    "duration": 4,
    "start_time": "2024-11-25T11:38:03.010Z"
   },
   {
    "duration": 108,
    "start_time": "2024-11-25T11:38:10.483Z"
   },
   {
    "duration": 113,
    "start_time": "2024-11-25T11:38:29.459Z"
   },
   {
    "duration": 9,
    "start_time": "2024-11-25T11:39:06.833Z"
   },
   {
    "duration": 131,
    "start_time": "2024-11-25T11:39:25.091Z"
   },
   {
    "duration": 135,
    "start_time": "2024-11-25T12:00:48.940Z"
   },
   {
    "duration": 134,
    "start_time": "2024-11-25T12:01:01.067Z"
   },
   {
    "duration": 9,
    "start_time": "2024-11-25T12:11:01.388Z"
   },
   {
    "duration": 190,
    "start_time": "2024-11-25T12:11:17.746Z"
   },
   {
    "duration": 136,
    "start_time": "2024-11-25T12:13:49.315Z"
   },
   {
    "duration": 140,
    "start_time": "2024-11-25T12:14:11.780Z"
   },
   {
    "duration": 117,
    "start_time": "2024-11-25T12:36:14.119Z"
   },
   {
    "duration": 124,
    "start_time": "2024-11-25T12:36:51.186Z"
   },
   {
    "duration": 66,
    "start_time": "2024-11-25T12:37:37.756Z"
   },
   {
    "duration": 5,
    "start_time": "2024-11-25T12:45:16.200Z"
   },
   {
    "duration": 1255,
    "start_time": "2024-11-26T07:36:35.512Z"
   },
   {
    "duration": 82,
    "start_time": "2024-11-26T07:36:36.771Z"
   },
   {
    "duration": 11,
    "start_time": "2024-11-26T07:36:36.855Z"
   },
   {
    "duration": 8,
    "start_time": "2024-11-26T07:36:36.868Z"
   },
   {
    "duration": 9,
    "start_time": "2024-11-26T07:36:36.877Z"
   },
   {
    "duration": 139,
    "start_time": "2024-11-26T07:36:36.887Z"
   },
   {
    "duration": 9,
    "start_time": "2024-11-26T07:36:37.028Z"
   },
   {
    "duration": 18,
    "start_time": "2024-11-26T07:36:37.039Z"
   },
   {
    "duration": 15,
    "start_time": "2024-11-26T07:36:37.058Z"
   },
   {
    "duration": 9,
    "start_time": "2024-11-26T07:36:37.076Z"
   },
   {
    "duration": 164,
    "start_time": "2024-11-26T07:36:37.086Z"
   },
   {
    "duration": 134,
    "start_time": "2024-11-26T07:36:37.252Z"
   },
   {
    "duration": 290,
    "start_time": "2024-11-26T07:36:37.387Z"
   },
   {
    "duration": 277,
    "start_time": "2024-11-26T07:36:37.679Z"
   },
   {
    "duration": 189,
    "start_time": "2024-11-26T07:36:37.958Z"
   },
   {
    "duration": 348,
    "start_time": "2024-11-26T07:36:38.149Z"
   },
   {
    "duration": 204,
    "start_time": "2024-11-26T07:36:38.499Z"
   },
   {
    "duration": 302,
    "start_time": "2024-11-26T07:36:38.705Z"
   },
   {
    "duration": 139,
    "start_time": "2024-11-26T07:36:39.009Z"
   },
   {
    "duration": 126,
    "start_time": "2024-11-26T07:36:39.150Z"
   },
   {
    "duration": 5,
    "start_time": "2024-11-26T07:36:39.278Z"
   },
   {
    "duration": 1239,
    "start_time": "2024-11-26T07:36:39.285Z"
   },
   {
    "duration": 8,
    "start_time": "2024-11-26T08:09:28.327Z"
   },
   {
    "duration": 7,
    "start_time": "2024-11-26T08:09:51.668Z"
   },
   {
    "duration": 6,
    "start_time": "2024-11-26T08:10:40.973Z"
   },
   {
    "duration": 11,
    "start_time": "2024-11-26T08:13:00.811Z"
   },
   {
    "duration": 10,
    "start_time": "2024-11-26T08:13:34.834Z"
   },
   {
    "duration": 6,
    "start_time": "2024-11-26T08:14:32.727Z"
   },
   {
    "duration": 5,
    "start_time": "2024-11-26T08:14:43.605Z"
   },
   {
    "duration": 7,
    "start_time": "2024-11-26T08:15:11.144Z"
   },
   {
    "duration": 5,
    "start_time": "2024-11-26T08:19:16.786Z"
   },
   {
    "duration": 60,
    "start_time": "2024-11-26T08:22:38.312Z"
   },
   {
    "duration": 10,
    "start_time": "2024-11-26T08:22:51.669Z"
   },
   {
    "duration": 4,
    "start_time": "2024-11-26T08:24:16.808Z"
   },
   {
    "duration": 6,
    "start_time": "2024-11-26T08:34:39.805Z"
   },
   {
    "duration": 5,
    "start_time": "2024-11-26T08:34:55.924Z"
   },
   {
    "duration": 7,
    "start_time": "2024-11-26T08:35:30.879Z"
   },
   {
    "duration": 8,
    "start_time": "2024-11-26T08:35:48.163Z"
   },
   {
    "duration": 5,
    "start_time": "2024-11-26T08:35:59.912Z"
   },
   {
    "duration": 6,
    "start_time": "2024-11-26T08:36:31.600Z"
   },
   {
    "duration": 5,
    "start_time": "2024-11-26T08:36:39.808Z"
   },
   {
    "duration": 3,
    "start_time": "2024-11-26T08:41:18.391Z"
   },
   {
    "duration": 3,
    "start_time": "2024-11-26T08:41:22.402Z"
   },
   {
    "duration": 5,
    "start_time": "2024-11-26T08:41:39.028Z"
   },
   {
    "duration": 4,
    "start_time": "2024-11-26T08:58:26.456Z"
   },
   {
    "duration": 6,
    "start_time": "2024-11-26T08:58:29.480Z"
   },
   {
    "duration": 6,
    "start_time": "2024-11-26T08:58:39.931Z"
   },
   {
    "duration": 5,
    "start_time": "2024-11-26T08:58:55.978Z"
   },
   {
    "duration": 4,
    "start_time": "2024-11-26T08:59:06.290Z"
   },
   {
    "duration": 13,
    "start_time": "2024-11-26T08:59:29.902Z"
   },
   {
    "duration": 5,
    "start_time": "2024-11-26T08:59:40.896Z"
   },
   {
    "duration": 3,
    "start_time": "2024-11-26T09:07:08.682Z"
   },
   {
    "duration": 5,
    "start_time": "2024-11-26T09:07:41.981Z"
   },
   {
    "duration": 3,
    "start_time": "2024-11-26T09:07:53.244Z"
   },
   {
    "duration": 6,
    "start_time": "2024-11-26T09:08:24.468Z"
   },
   {
    "duration": 4,
    "start_time": "2024-11-26T09:08:57.114Z"
   },
   {
    "duration": 4,
    "start_time": "2024-11-26T10:35:26.828Z"
   },
   {
    "duration": 5,
    "start_time": "2024-11-26T10:35:46.019Z"
   },
   {
    "duration": 4,
    "start_time": "2024-11-26T10:47:55.238Z"
   },
   {
    "duration": 4,
    "start_time": "2024-11-26T10:48:25.323Z"
   },
   {
    "duration": 4,
    "start_time": "2024-11-26T10:49:05.673Z"
   },
   {
    "duration": 220,
    "start_time": "2024-11-26T10:50:23.093Z"
   },
   {
    "duration": 1035,
    "start_time": "2024-11-26T10:50:49.105Z"
   },
   {
    "duration": 26,
    "start_time": "2024-11-26T10:50:50.143Z"
   },
   {
    "duration": 13,
    "start_time": "2024-11-26T10:50:50.171Z"
   },
   {
    "duration": 16,
    "start_time": "2024-11-26T10:50:50.186Z"
   },
   {
    "duration": 13,
    "start_time": "2024-11-26T10:50:50.204Z"
   },
   {
    "duration": 51,
    "start_time": "2024-11-26T10:50:50.218Z"
   },
   {
    "duration": 8,
    "start_time": "2024-11-26T10:50:50.271Z"
   },
   {
    "duration": 9,
    "start_time": "2024-11-26T10:50:50.280Z"
   },
   {
    "duration": 44,
    "start_time": "2024-11-26T10:50:50.291Z"
   },
   {
    "duration": 10,
    "start_time": "2024-11-26T10:50:50.337Z"
   },
   {
    "duration": 26,
    "start_time": "2024-11-26T10:50:50.348Z"
   },
   {
    "duration": 10,
    "start_time": "2024-11-26T10:50:50.375Z"
   },
   {
    "duration": 6,
    "start_time": "2024-11-26T10:50:50.386Z"
   },
   {
    "duration": 13,
    "start_time": "2024-11-26T10:50:50.394Z"
   },
   {
    "duration": 11,
    "start_time": "2024-11-26T10:50:50.408Z"
   },
   {
    "duration": 46,
    "start_time": "2024-11-26T10:50:50.420Z"
   },
   {
    "duration": 0,
    "start_time": "2024-11-26T10:50:50.468Z"
   },
   {
    "duration": 0,
    "start_time": "2024-11-26T10:50:50.469Z"
   },
   {
    "duration": 0,
    "start_time": "2024-11-26T10:50:50.470Z"
   },
   {
    "duration": 0,
    "start_time": "2024-11-26T10:50:50.471Z"
   },
   {
    "duration": 0,
    "start_time": "2024-11-26T10:50:50.473Z"
   },
   {
    "duration": 0,
    "start_time": "2024-11-26T10:50:50.474Z"
   },
   {
    "duration": 0,
    "start_time": "2024-11-26T10:50:50.475Z"
   },
   {
    "duration": 0,
    "start_time": "2024-11-26T10:50:50.476Z"
   },
   {
    "duration": 0,
    "start_time": "2024-11-26T10:50:50.477Z"
   },
   {
    "duration": 0,
    "start_time": "2024-11-26T10:50:50.478Z"
   },
   {
    "duration": 0,
    "start_time": "2024-11-26T10:50:50.479Z"
   },
   {
    "duration": 0,
    "start_time": "2024-11-26T10:50:50.479Z"
   },
   {
    "duration": 0,
    "start_time": "2024-11-26T10:50:50.480Z"
   },
   {
    "duration": 0,
    "start_time": "2024-11-26T10:50:50.481Z"
   },
   {
    "duration": 0,
    "start_time": "2024-11-26T10:50:50.482Z"
   },
   {
    "duration": 0,
    "start_time": "2024-11-26T10:50:50.483Z"
   },
   {
    "duration": 0,
    "start_time": "2024-11-26T10:50:50.484Z"
   },
   {
    "duration": 0,
    "start_time": "2024-11-26T10:50:50.485Z"
   },
   {
    "duration": 1205,
    "start_time": "2024-11-26T10:51:08.038Z"
   },
   {
    "duration": 28,
    "start_time": "2024-11-26T10:51:09.245Z"
   },
   {
    "duration": 17,
    "start_time": "2024-11-26T10:51:09.275Z"
   },
   {
    "duration": 9,
    "start_time": "2024-11-26T10:51:09.294Z"
   },
   {
    "duration": 9,
    "start_time": "2024-11-26T10:51:09.304Z"
   },
   {
    "duration": 86,
    "start_time": "2024-11-26T10:51:09.314Z"
   },
   {
    "duration": 7,
    "start_time": "2024-11-26T10:51:09.402Z"
   },
   {
    "duration": 7,
    "start_time": "2024-11-26T10:51:09.411Z"
   },
   {
    "duration": 7,
    "start_time": "2024-11-26T10:51:09.419Z"
   },
   {
    "duration": 5,
    "start_time": "2024-11-26T10:51:09.428Z"
   },
   {
    "duration": 14,
    "start_time": "2024-11-26T10:51:09.435Z"
   },
   {
    "duration": 13,
    "start_time": "2024-11-26T10:51:09.451Z"
   },
   {
    "duration": 7,
    "start_time": "2024-11-26T10:51:09.466Z"
   },
   {
    "duration": 4,
    "start_time": "2024-11-26T10:51:09.475Z"
   },
   {
    "duration": 4,
    "start_time": "2024-11-26T10:51:09.481Z"
   },
   {
    "duration": 10,
    "start_time": "2024-11-26T10:51:09.487Z"
   },
   {
    "duration": 5,
    "start_time": "2024-11-26T10:51:09.498Z"
   },
   {
    "duration": 19,
    "start_time": "2024-11-26T10:51:09.504Z"
   },
   {
    "duration": 8,
    "start_time": "2024-11-26T10:51:09.524Z"
   },
   {
    "duration": 38,
    "start_time": "2024-11-26T10:51:09.533Z"
   },
   {
    "duration": 14,
    "start_time": "2024-11-26T10:51:09.573Z"
   },
   {
    "duration": 169,
    "start_time": "2024-11-26T10:51:09.589Z"
   },
   {
    "duration": 124,
    "start_time": "2024-11-26T10:51:09.760Z"
   },
   {
    "duration": 289,
    "start_time": "2024-11-26T10:51:09.885Z"
   },
   {
    "duration": 283,
    "start_time": "2024-11-26T10:51:10.176Z"
   },
   {
    "duration": 211,
    "start_time": "2024-11-26T10:51:10.460Z"
   },
   {
    "duration": 280,
    "start_time": "2024-11-26T10:51:10.672Z"
   },
   {
    "duration": 207,
    "start_time": "2024-11-26T10:51:10.956Z"
   },
   {
    "duration": 330,
    "start_time": "2024-11-26T10:51:11.165Z"
   },
   {
    "duration": 53,
    "start_time": "2024-11-26T10:51:11.497Z"
   },
   {
    "duration": 0,
    "start_time": "2024-11-26T10:51:11.552Z"
   },
   {
    "duration": 0,
    "start_time": "2024-11-26T10:51:11.553Z"
   },
   {
    "duration": 0,
    "start_time": "2024-11-26T10:51:11.555Z"
   },
   {
    "duration": 182,
    "start_time": "2024-11-26T10:56:07.281Z"
   },
   {
    "duration": 379,
    "start_time": "2024-11-26T10:56:37.913Z"
   },
   {
    "duration": 296,
    "start_time": "2024-11-26T10:58:06.130Z"
   },
   {
    "duration": 205,
    "start_time": "2024-11-26T10:58:35.645Z"
   },
   {
    "duration": 271,
    "start_time": "2024-11-26T10:58:57.479Z"
   },
   {
    "duration": 1077,
    "start_time": "2024-11-26T10:59:29.384Z"
   },
   {
    "duration": 187,
    "start_time": "2024-11-26T11:01:15.688Z"
   },
   {
    "duration": 184,
    "start_time": "2024-11-26T11:01:22.879Z"
   },
   {
    "duration": 396,
    "start_time": "2024-11-26T11:01:51.440Z"
   },
   {
    "duration": 127,
    "start_time": "2024-11-26T11:03:16.530Z"
   },
   {
    "duration": 190,
    "start_time": "2024-11-26T11:05:01.635Z"
   },
   {
    "duration": 186,
    "start_time": "2024-11-26T11:05:37.679Z"
   },
   {
    "duration": 259,
    "start_time": "2024-11-26T11:10:09.005Z"
   },
   {
    "duration": 217,
    "start_time": "2024-11-26T11:13:20.539Z"
   },
   {
    "duration": 323,
    "start_time": "2024-11-26T11:33:56.465Z"
   },
   {
    "duration": 17,
    "start_time": "2024-11-26T11:53:16.089Z"
   },
   {
    "duration": 236,
    "start_time": "2024-11-26T11:53:39.920Z"
   },
   {
    "duration": 126,
    "start_time": "2024-11-26T11:57:34.509Z"
   },
   {
    "duration": 5,
    "start_time": "2024-11-26T12:06:38.000Z"
   },
   {
    "duration": 4,
    "start_time": "2024-11-26T12:08:10.774Z"
   },
   {
    "duration": 123,
    "start_time": "2024-11-26T12:19:24.920Z"
   },
   {
    "duration": 142,
    "start_time": "2024-11-26T12:20:14.492Z"
   },
   {
    "duration": 144,
    "start_time": "2024-11-26T12:27:44.571Z"
   },
   {
    "duration": 4,
    "start_time": "2024-11-26T12:29:25.198Z"
   },
   {
    "duration": 1431,
    "start_time": "2024-11-27T07:23:28.662Z"
   },
   {
    "duration": 84,
    "start_time": "2024-11-27T07:23:30.095Z"
   },
   {
    "duration": 13,
    "start_time": "2024-11-27T07:23:30.181Z"
   },
   {
    "duration": 22,
    "start_time": "2024-11-27T07:23:30.196Z"
   },
   {
    "duration": 33,
    "start_time": "2024-11-27T07:23:30.219Z"
   },
   {
    "duration": 181,
    "start_time": "2024-11-27T07:23:30.254Z"
   },
   {
    "duration": 8,
    "start_time": "2024-11-27T07:23:30.437Z"
   },
   {
    "duration": 19,
    "start_time": "2024-11-27T07:23:30.446Z"
   },
   {
    "duration": 7,
    "start_time": "2024-11-27T07:23:30.466Z"
   },
   {
    "duration": 7,
    "start_time": "2024-11-27T07:23:30.476Z"
   },
   {
    "duration": 21,
    "start_time": "2024-11-27T07:23:30.484Z"
   },
   {
    "duration": 23,
    "start_time": "2024-11-27T07:23:30.506Z"
   },
   {
    "duration": 11,
    "start_time": "2024-11-27T07:23:30.531Z"
   },
   {
    "duration": 9,
    "start_time": "2024-11-27T07:23:30.544Z"
   },
   {
    "duration": 12,
    "start_time": "2024-11-27T07:23:30.555Z"
   },
   {
    "duration": 16,
    "start_time": "2024-11-27T07:23:30.571Z"
   },
   {
    "duration": 26,
    "start_time": "2024-11-27T07:23:30.590Z"
   },
   {
    "duration": 37,
    "start_time": "2024-11-27T07:23:30.618Z"
   },
   {
    "duration": 10,
    "start_time": "2024-11-27T07:23:30.657Z"
   },
   {
    "duration": 21,
    "start_time": "2024-11-27T07:23:30.668Z"
   },
   {
    "duration": 13,
    "start_time": "2024-11-27T07:23:30.691Z"
   },
   {
    "duration": 205,
    "start_time": "2024-11-27T07:23:30.706Z"
   },
   {
    "duration": 133,
    "start_time": "2024-11-27T07:23:30.912Z"
   },
   {
    "duration": 305,
    "start_time": "2024-11-27T07:23:31.047Z"
   },
   {
    "duration": 302,
    "start_time": "2024-11-27T07:23:31.353Z"
   },
   {
    "duration": 200,
    "start_time": "2024-11-27T07:23:31.656Z"
   },
   {
    "duration": 355,
    "start_time": "2024-11-27T07:23:31.858Z"
   },
   {
    "duration": 212,
    "start_time": "2024-11-27T07:23:32.216Z"
   },
   {
    "duration": 361,
    "start_time": "2024-11-27T07:23:32.430Z"
   },
   {
    "duration": 135,
    "start_time": "2024-11-27T07:23:32.793Z"
   },
   {
    "duration": 4,
    "start_time": "2024-11-27T07:23:32.930Z"
   },
   {
    "duration": 153,
    "start_time": "2024-11-27T07:23:32.936Z"
   },
   {
    "duration": 5,
    "start_time": "2024-11-27T07:23:33.090Z"
   },
   {
    "duration": 219,
    "start_time": "2024-11-27T09:03:01.326Z"
   },
   {
    "duration": 105,
    "start_time": "2024-11-27T09:07:51.746Z"
   },
   {
    "duration": 12,
    "start_time": "2024-11-27T09:09:51.439Z"
   },
   {
    "duration": 7,
    "start_time": "2024-11-27T09:09:56.923Z"
   },
   {
    "duration": 9,
    "start_time": "2024-11-27T09:10:02.792Z"
   },
   {
    "duration": 5,
    "start_time": "2024-11-27T09:10:06.443Z"
   },
   {
    "duration": 224,
    "start_time": "2024-11-27T09:12:35.373Z"
   },
   {
    "duration": 14,
    "start_time": "2024-11-27T09:15:55.568Z"
   },
   {
    "duration": 16,
    "start_time": "2024-11-27T09:16:43.008Z"
   },
   {
    "duration": 134,
    "start_time": "2024-11-27T09:17:24.360Z"
   },
   {
    "duration": 7,
    "start_time": "2024-11-27T09:18:30.671Z"
   },
   {
    "duration": 8,
    "start_time": "2024-11-27T09:20:15.643Z"
   },
   {
    "duration": 7,
    "start_time": "2024-11-27T09:20:30.515Z"
   },
   {
    "duration": 17,
    "start_time": "2024-11-27T09:20:49.927Z"
   },
   {
    "duration": 16,
    "start_time": "2024-11-27T09:21:26.419Z"
   },
   {
    "duration": 147,
    "start_time": "2024-11-27T09:22:15.212Z"
   },
   {
    "duration": 3,
    "start_time": "2024-11-27T09:23:03.307Z"
   },
   {
    "duration": 161,
    "start_time": "2024-11-27T09:23:28.734Z"
   },
   {
    "duration": 56,
    "start_time": "2024-11-27T09:32:33.510Z"
   },
   {
    "duration": 13,
    "start_time": "2024-11-27T09:33:27.250Z"
   },
   {
    "duration": 166,
    "start_time": "2024-11-27T10:16:07.270Z"
   },
   {
    "duration": 162,
    "start_time": "2024-11-27T10:18:14.989Z"
   },
   {
    "duration": 144,
    "start_time": "2024-11-27T10:21:10.039Z"
   },
   {
    "duration": 151,
    "start_time": "2024-11-27T10:21:55.737Z"
   },
   {
    "duration": 322,
    "start_time": "2024-11-27T10:46:50.790Z"
   },
   {
    "duration": 4,
    "start_time": "2024-11-27T10:47:07.354Z"
   },
   {
    "duration": 4,
    "start_time": "2024-11-27T10:47:17.509Z"
   },
   {
    "duration": 1201,
    "start_time": "2024-11-27T10:48:49.538Z"
   },
   {
    "duration": 28,
    "start_time": "2024-11-27T10:48:50.741Z"
   },
   {
    "duration": 11,
    "start_time": "2024-11-27T10:48:50.771Z"
   },
   {
    "duration": 9,
    "start_time": "2024-11-27T10:48:50.784Z"
   },
   {
    "duration": 8,
    "start_time": "2024-11-27T10:48:50.794Z"
   },
   {
    "duration": 54,
    "start_time": "2024-11-27T10:48:50.803Z"
   },
   {
    "duration": 8,
    "start_time": "2024-11-27T10:48:50.859Z"
   },
   {
    "duration": 13,
    "start_time": "2024-11-27T10:48:50.868Z"
   },
   {
    "duration": 11,
    "start_time": "2024-11-27T10:48:50.882Z"
   },
   {
    "duration": 7,
    "start_time": "2024-11-27T10:48:50.895Z"
   },
   {
    "duration": 11,
    "start_time": "2024-11-27T10:48:50.903Z"
   },
   {
    "duration": 13,
    "start_time": "2024-11-27T10:48:50.915Z"
   },
   {
    "duration": 6,
    "start_time": "2024-11-27T10:48:50.930Z"
   },
   {
    "duration": 5,
    "start_time": "2024-11-27T10:48:50.938Z"
   },
   {
    "duration": 29,
    "start_time": "2024-11-27T10:48:50.944Z"
   },
   {
    "duration": 43,
    "start_time": "2024-11-27T10:48:50.974Z"
   },
   {
    "duration": 5,
    "start_time": "2024-11-27T10:48:51.019Z"
   },
   {
    "duration": 5,
    "start_time": "2024-11-27T10:48:51.025Z"
   },
   {
    "duration": 4,
    "start_time": "2024-11-27T10:48:51.031Z"
   },
   {
    "duration": 21,
    "start_time": "2024-11-27T10:48:51.036Z"
   },
   {
    "duration": 35,
    "start_time": "2024-11-27T10:48:51.059Z"
   },
   {
    "duration": 171,
    "start_time": "2024-11-27T10:48:51.096Z"
   },
   {
    "duration": 125,
    "start_time": "2024-11-27T10:48:51.268Z"
   },
   {
    "duration": 284,
    "start_time": "2024-11-27T10:48:51.394Z"
   },
   {
    "duration": 294,
    "start_time": "2024-11-27T10:48:51.679Z"
   },
   {
    "duration": 198,
    "start_time": "2024-11-27T10:48:51.975Z"
   },
   {
    "duration": 302,
    "start_time": "2024-11-27T10:48:52.174Z"
   },
   {
    "duration": 210,
    "start_time": "2024-11-27T10:48:52.479Z"
   },
   {
    "duration": 327,
    "start_time": "2024-11-27T10:48:52.690Z"
   },
   {
    "duration": 138,
    "start_time": "2024-11-27T10:48:53.018Z"
   },
   {
    "duration": 13,
    "start_time": "2024-11-27T10:48:53.157Z"
   },
   {
    "duration": 149,
    "start_time": "2024-11-27T10:48:53.171Z"
   },
   {
    "duration": 4,
    "start_time": "2024-11-27T10:48:53.321Z"
   },
   {
    "duration": 248,
    "start_time": "2024-11-27T10:48:53.327Z"
   },
   {
    "duration": 140,
    "start_time": "2024-11-27T10:48:53.577Z"
   },
   {
    "duration": 5,
    "start_time": "2024-11-27T10:48:53.718Z"
   },
   {
    "duration": 4,
    "start_time": "2024-11-27T10:48:53.724Z"
   },
   {
    "duration": 8,
    "start_time": "2024-11-27T10:48:53.730Z"
   },
   {
    "duration": 43,
    "start_time": "2024-11-27T10:48:53.739Z"
   },
   {
    "duration": 10,
    "start_time": "2024-11-27T10:48:53.783Z"
   },
   {
    "duration": 12,
    "start_time": "2024-11-27T11:11:41.987Z"
   },
   {
    "duration": 1254,
    "start_time": "2024-11-27T11:44:02.971Z"
   },
   {
    "duration": 11,
    "start_time": "2024-11-27T11:44:42.974Z"
   },
   {
    "duration": 9,
    "start_time": "2024-11-27T11:45:03.034Z"
   },
   {
    "duration": 10,
    "start_time": "2024-11-27T11:45:11.884Z"
   },
   {
    "duration": 1369,
    "start_time": "2024-11-27T11:47:12.135Z"
   },
   {
    "duration": 9,
    "start_time": "2024-11-27T11:47:42.592Z"
   },
   {
    "duration": 27,
    "start_time": "2024-11-27T11:48:49.196Z"
   },
   {
    "duration": 25,
    "start_time": "2024-11-27T11:48:56.485Z"
   },
   {
    "duration": 25,
    "start_time": "2024-11-27T11:49:30.742Z"
   },
   {
    "duration": 26,
    "start_time": "2024-11-27T11:50:11.378Z"
   },
   {
    "duration": 26,
    "start_time": "2024-11-27T11:56:08.445Z"
   },
   {
    "duration": 1130,
    "start_time": "2024-11-27T12:00:35.033Z"
   },
   {
    "duration": 15,
    "start_time": "2024-11-27T12:01:24.027Z"
   },
   {
    "duration": 187,
    "start_time": "2024-11-27T12:04:37.723Z"
   },
   {
    "duration": 16,
    "start_time": "2024-11-27T12:04:49.631Z"
   },
   {
    "duration": 15,
    "start_time": "2024-11-27T12:07:27.122Z"
   },
   {
    "duration": 333,
    "start_time": "2024-11-27T15:32:44.464Z"
   },
   {
    "duration": 12,
    "start_time": "2024-11-27T15:37:27.785Z"
   },
   {
    "duration": 10,
    "start_time": "2024-11-27T15:37:39.757Z"
   },
   {
    "duration": 12,
    "start_time": "2024-11-27T15:40:08.200Z"
   },
   {
    "duration": 1059,
    "start_time": "2024-11-27T15:46:38.253Z"
   },
   {
    "duration": 1086,
    "start_time": "2024-11-27T15:46:44.884Z"
   },
   {
    "duration": 1023,
    "start_time": "2024-11-27T15:47:30.804Z"
   },
   {
    "duration": 5,
    "start_time": "2024-11-27T15:49:03.036Z"
   },
   {
    "duration": 11,
    "start_time": "2024-11-27T15:49:15.640Z"
   },
   {
    "duration": 10,
    "start_time": "2024-11-27T15:49:20.068Z"
   },
   {
    "duration": 8,
    "start_time": "2024-11-27T15:51:19.443Z"
   },
   {
    "duration": 7,
    "start_time": "2024-11-27T15:51:23.636Z"
   },
   {
    "duration": 966,
    "start_time": "2024-11-27T15:51:29.848Z"
   },
   {
    "duration": 12,
    "start_time": "2024-11-27T15:51:52.004Z"
   },
   {
    "duration": 1061,
    "start_time": "2024-11-27T15:52:10.111Z"
   },
   {
    "duration": 14,
    "start_time": "2024-11-27T15:52:35.782Z"
   },
   {
    "duration": 5,
    "start_time": "2024-11-27T15:52:43.415Z"
   },
   {
    "duration": 11,
    "start_time": "2024-11-27T15:52:49.941Z"
   },
   {
    "duration": 9,
    "start_time": "2024-11-27T15:52:51.355Z"
   },
   {
    "duration": 6,
    "start_time": "2024-11-27T15:52:56.463Z"
   },
   {
    "duration": 5,
    "start_time": "2024-11-27T15:52:57.669Z"
   },
   {
    "duration": 4,
    "start_time": "2024-11-27T15:52:59.991Z"
   },
   {
    "duration": 11,
    "start_time": "2024-11-27T15:53:06.816Z"
   },
   {
    "duration": 1266,
    "start_time": "2024-11-28T06:22:13.988Z"
   },
   {
    "duration": 72,
    "start_time": "2024-11-28T06:22:15.256Z"
   },
   {
    "duration": 11,
    "start_time": "2024-11-28T06:22:15.329Z"
   },
   {
    "duration": 68,
    "start_time": "2024-11-28T06:22:15.342Z"
   },
   {
    "duration": 56,
    "start_time": "2024-11-28T06:22:15.411Z"
   },
   {
    "duration": 202,
    "start_time": "2024-11-28T06:22:15.468Z"
   },
   {
    "duration": 8,
    "start_time": "2024-11-28T06:22:15.671Z"
   },
   {
    "duration": 50,
    "start_time": "2024-11-28T06:22:15.680Z"
   },
   {
    "duration": 47,
    "start_time": "2024-11-28T06:22:15.731Z"
   },
   {
    "duration": 21,
    "start_time": "2024-11-28T06:22:15.780Z"
   },
   {
    "duration": 14,
    "start_time": "2024-11-28T06:22:15.803Z"
   },
   {
    "duration": 3,
    "start_time": "2024-11-28T06:22:15.819Z"
   },
   {
    "duration": 50,
    "start_time": "2024-11-28T06:22:15.823Z"
   },
   {
    "duration": 28,
    "start_time": "2024-11-28T06:22:15.875Z"
   },
   {
    "duration": 38,
    "start_time": "2024-11-28T06:22:15.905Z"
   },
   {
    "duration": 28,
    "start_time": "2024-11-28T06:22:15.945Z"
   },
   {
    "duration": 6,
    "start_time": "2024-11-28T06:22:15.975Z"
   },
   {
    "duration": 19,
    "start_time": "2024-11-28T06:22:15.982Z"
   },
   {
    "duration": 5,
    "start_time": "2024-11-28T06:22:16.003Z"
   },
   {
    "duration": 11,
    "start_time": "2024-11-28T06:22:16.009Z"
   },
   {
    "duration": 48,
    "start_time": "2024-11-28T06:22:16.021Z"
   },
   {
    "duration": 24,
    "start_time": "2024-11-28T06:22:16.070Z"
   },
   {
    "duration": 13,
    "start_time": "2024-11-28T06:22:16.096Z"
   },
   {
    "duration": 149,
    "start_time": "2024-11-28T06:22:16.111Z"
   },
   {
    "duration": 112,
    "start_time": "2024-11-28T06:22:16.262Z"
   },
   {
    "duration": 245,
    "start_time": "2024-11-28T06:22:16.376Z"
   },
   {
    "duration": 244,
    "start_time": "2024-11-28T06:22:16.622Z"
   },
   {
    "duration": 171,
    "start_time": "2024-11-28T06:22:16.869Z"
   },
   {
    "duration": 338,
    "start_time": "2024-11-28T06:22:17.041Z"
   },
   {
    "duration": 193,
    "start_time": "2024-11-28T06:22:17.381Z"
   },
   {
    "duration": 320,
    "start_time": "2024-11-28T06:22:17.575Z"
   },
   {
    "duration": 136,
    "start_time": "2024-11-28T06:22:17.896Z"
   },
   {
    "duration": 4,
    "start_time": "2024-11-28T06:22:18.033Z"
   },
   {
    "duration": 123,
    "start_time": "2024-11-28T06:22:18.038Z"
   },
   {
    "duration": 7,
    "start_time": "2024-11-28T06:22:18.162Z"
   },
   {
    "duration": 200,
    "start_time": "2024-11-28T06:22:18.170Z"
   },
   {
    "duration": 117,
    "start_time": "2024-11-28T06:22:18.371Z"
   },
   {
    "duration": 3,
    "start_time": "2024-11-28T06:22:18.490Z"
   },
   {
    "duration": 4,
    "start_time": "2024-11-28T06:22:18.506Z"
   },
   {
    "duration": 6,
    "start_time": "2024-11-28T06:22:18.511Z"
   },
   {
    "duration": 22,
    "start_time": "2024-11-28T06:22:18.518Z"
   },
   {
    "duration": 9,
    "start_time": "2024-11-28T06:22:18.542Z"
   },
   {
    "duration": 9,
    "start_time": "2024-11-28T06:22:18.552Z"
   },
   {
    "duration": 87,
    "start_time": "2024-11-28T06:22:18.562Z"
   },
   {
    "duration": 0,
    "start_time": "2024-11-28T06:22:18.650Z"
   },
   {
    "duration": 0,
    "start_time": "2024-11-28T06:22:18.651Z"
   },
   {
    "duration": 0,
    "start_time": "2024-11-28T06:22:18.652Z"
   },
   {
    "duration": 1112,
    "start_time": "2024-11-28T06:22:50.404Z"
   },
   {
    "duration": 27,
    "start_time": "2024-11-28T06:22:51.518Z"
   },
   {
    "duration": 9,
    "start_time": "2024-11-28T06:22:51.546Z"
   },
   {
    "duration": 7,
    "start_time": "2024-11-28T06:22:51.557Z"
   },
   {
    "duration": 7,
    "start_time": "2024-11-28T06:22:51.566Z"
   },
   {
    "duration": 52,
    "start_time": "2024-11-28T06:22:51.574Z"
   },
   {
    "duration": 7,
    "start_time": "2024-11-28T06:22:51.627Z"
   },
   {
    "duration": 29,
    "start_time": "2024-11-28T06:22:51.635Z"
   },
   {
    "duration": 47,
    "start_time": "2024-11-28T06:22:51.665Z"
   },
   {
    "duration": 29,
    "start_time": "2024-11-28T06:22:51.714Z"
   },
   {
    "duration": 16,
    "start_time": "2024-11-28T06:22:51.744Z"
   },
   {
    "duration": 21,
    "start_time": "2024-11-28T06:22:51.761Z"
   },
   {
    "duration": 22,
    "start_time": "2024-11-28T06:22:51.783Z"
   },
   {
    "duration": 10,
    "start_time": "2024-11-28T06:22:51.806Z"
   },
   {
    "duration": 47,
    "start_time": "2024-11-28T06:22:51.818Z"
   },
   {
    "duration": 55,
    "start_time": "2024-11-28T06:22:51.866Z"
   },
   {
    "duration": 18,
    "start_time": "2024-11-28T06:22:51.922Z"
   },
   {
    "duration": 63,
    "start_time": "2024-11-28T06:22:51.941Z"
   },
   {
    "duration": 22,
    "start_time": "2024-11-28T06:22:52.006Z"
   },
   {
    "duration": 4,
    "start_time": "2024-11-28T06:22:52.030Z"
   },
   {
    "duration": 4,
    "start_time": "2024-11-28T06:22:52.035Z"
   },
   {
    "duration": 21,
    "start_time": "2024-11-28T06:22:52.040Z"
   },
   {
    "duration": 38,
    "start_time": "2024-11-28T06:22:52.062Z"
   },
   {
    "duration": 149,
    "start_time": "2024-11-28T06:22:52.101Z"
   },
   {
    "duration": 118,
    "start_time": "2024-11-28T06:22:52.251Z"
   },
   {
    "duration": 280,
    "start_time": "2024-11-28T06:22:52.371Z"
   },
   {
    "duration": 270,
    "start_time": "2024-11-28T06:22:52.652Z"
   },
   {
    "duration": 167,
    "start_time": "2024-11-28T06:22:52.925Z"
   },
   {
    "duration": 276,
    "start_time": "2024-11-28T06:22:53.093Z"
   },
   {
    "duration": 177,
    "start_time": "2024-11-28T06:22:53.371Z"
   },
   {
    "duration": 275,
    "start_time": "2024-11-28T06:22:53.550Z"
   },
   {
    "duration": 126,
    "start_time": "2024-11-28T06:22:53.826Z"
   },
   {
    "duration": 4,
    "start_time": "2024-11-28T06:22:53.954Z"
   },
   {
    "duration": 129,
    "start_time": "2024-11-28T06:22:53.959Z"
   },
   {
    "duration": 3,
    "start_time": "2024-11-28T06:22:54.090Z"
   },
   {
    "duration": 215,
    "start_time": "2024-11-28T06:22:54.095Z"
   },
   {
    "duration": 126,
    "start_time": "2024-11-28T06:22:54.311Z"
   },
   {
    "duration": 4,
    "start_time": "2024-11-28T06:22:54.438Z"
   },
   {
    "duration": 8,
    "start_time": "2024-11-28T06:22:54.443Z"
   },
   {
    "duration": 15,
    "start_time": "2024-11-28T06:22:54.452Z"
   },
   {
    "duration": 37,
    "start_time": "2024-11-28T06:22:54.468Z"
   },
   {
    "duration": 11,
    "start_time": "2024-11-28T06:22:54.506Z"
   },
   {
    "duration": 14,
    "start_time": "2024-11-28T06:22:54.518Z"
   },
   {
    "duration": 6,
    "start_time": "2024-11-28T06:22:54.534Z"
   },
   {
    "duration": 20,
    "start_time": "2024-11-28T06:22:54.542Z"
   },
   {
    "duration": 11,
    "start_time": "2024-11-28T06:22:54.563Z"
   },
   {
    "duration": 259,
    "start_time": "2024-11-28T06:23:33.859Z"
   },
   {
    "duration": 10,
    "start_time": "2024-11-28T06:24:21.441Z"
   },
   {
    "duration": 9,
    "start_time": "2024-11-28T06:26:04.375Z"
   },
   {
    "duration": 8,
    "start_time": "2024-11-28T06:26:29.107Z"
   },
   {
    "duration": 5,
    "start_time": "2024-11-28T06:42:47.713Z"
   },
   {
    "duration": 4,
    "start_time": "2024-11-28T06:44:07.808Z"
   },
   {
    "duration": 12,
    "start_time": "2024-11-28T06:44:40.019Z"
   },
   {
    "duration": 11,
    "start_time": "2024-11-28T06:44:56.782Z"
   },
   {
    "duration": 11,
    "start_time": "2024-11-28T06:45:04.469Z"
   },
   {
    "duration": 1028,
    "start_time": "2024-11-28T06:45:13.008Z"
   },
   {
    "duration": 26,
    "start_time": "2024-11-28T06:45:14.038Z"
   },
   {
    "duration": 10,
    "start_time": "2024-11-28T06:45:14.066Z"
   },
   {
    "duration": 11,
    "start_time": "2024-11-28T06:45:14.078Z"
   },
   {
    "duration": 7,
    "start_time": "2024-11-28T06:45:14.091Z"
   },
   {
    "duration": 77,
    "start_time": "2024-11-28T06:45:14.099Z"
   },
   {
    "duration": 7,
    "start_time": "2024-11-28T06:45:14.178Z"
   },
   {
    "duration": 23,
    "start_time": "2024-11-28T06:45:14.186Z"
   },
   {
    "duration": 25,
    "start_time": "2024-11-28T06:45:14.211Z"
   },
   {
    "duration": 30,
    "start_time": "2024-11-28T06:45:14.238Z"
   },
   {
    "duration": 32,
    "start_time": "2024-11-28T06:45:14.270Z"
   },
   {
    "duration": 5,
    "start_time": "2024-11-28T06:45:14.304Z"
   },
   {
    "duration": 38,
    "start_time": "2024-11-28T06:45:14.310Z"
   },
   {
    "duration": 26,
    "start_time": "2024-11-28T06:45:14.351Z"
   },
   {
    "duration": 26,
    "start_time": "2024-11-28T06:45:14.379Z"
   },
   {
    "duration": 32,
    "start_time": "2024-11-28T06:45:14.407Z"
   },
   {
    "duration": 24,
    "start_time": "2024-11-28T06:45:14.440Z"
   },
   {
    "duration": 32,
    "start_time": "2024-11-28T06:45:14.465Z"
   },
   {
    "duration": 17,
    "start_time": "2024-11-28T06:45:14.498Z"
   },
   {
    "duration": 36,
    "start_time": "2024-11-28T06:45:14.517Z"
   },
   {
    "duration": 16,
    "start_time": "2024-11-28T06:45:14.554Z"
   },
   {
    "duration": 156,
    "start_time": "2024-11-28T06:45:14.571Z"
   },
   {
    "duration": 106,
    "start_time": "2024-11-28T06:45:14.728Z"
   },
   {
    "duration": 242,
    "start_time": "2024-11-28T06:45:14.836Z"
   },
   {
    "duration": 249,
    "start_time": "2024-11-28T06:45:15.079Z"
   },
   {
    "duration": 166,
    "start_time": "2024-11-28T06:45:15.330Z"
   },
   {
    "duration": 273,
    "start_time": "2024-11-28T06:45:15.498Z"
   },
   {
    "duration": 181,
    "start_time": "2024-11-28T06:45:15.773Z"
   },
   {
    "duration": 279,
    "start_time": "2024-11-28T06:45:15.955Z"
   },
   {
    "duration": 126,
    "start_time": "2024-11-28T06:45:16.235Z"
   },
   {
    "duration": 5,
    "start_time": "2024-11-28T06:45:16.362Z"
   },
   {
    "duration": 129,
    "start_time": "2024-11-28T06:45:16.368Z"
   },
   {
    "duration": 10,
    "start_time": "2024-11-28T06:45:16.498Z"
   },
   {
    "duration": 212,
    "start_time": "2024-11-28T06:45:16.509Z"
   },
   {
    "duration": 125,
    "start_time": "2024-11-28T06:45:16.723Z"
   },
   {
    "duration": 4,
    "start_time": "2024-11-28T06:45:16.849Z"
   },
   {
    "duration": 12,
    "start_time": "2024-11-28T06:45:16.854Z"
   },
   {
    "duration": 9,
    "start_time": "2024-11-28T06:45:16.867Z"
   },
   {
    "duration": 25,
    "start_time": "2024-11-28T06:45:16.877Z"
   },
   {
    "duration": 25,
    "start_time": "2024-11-28T06:45:16.906Z"
   },
   {
    "duration": 9,
    "start_time": "2024-11-28T06:45:16.934Z"
   },
   {
    "duration": 6,
    "start_time": "2024-11-28T06:45:16.944Z"
   },
   {
    "duration": 66,
    "start_time": "2024-11-28T06:45:16.951Z"
   },
   {
    "duration": 12,
    "start_time": "2024-11-28T06:45:17.018Z"
   },
   {
    "duration": 169,
    "start_time": "2024-11-28T06:48:04.179Z"
   },
   {
    "duration": 214,
    "start_time": "2024-11-28T06:48:15.280Z"
   },
   {
    "duration": 159,
    "start_time": "2024-11-28T06:49:29.934Z"
   },
   {
    "duration": 177,
    "start_time": "2024-11-28T06:51:50.303Z"
   },
   {
    "duration": 162,
    "start_time": "2024-11-28T06:52:01.129Z"
   },
   {
    "duration": 168,
    "start_time": "2024-11-28T06:57:20.098Z"
   },
   {
    "duration": 254,
    "start_time": "2024-11-28T06:57:40.616Z"
   },
   {
    "duration": 175,
    "start_time": "2024-11-28T06:57:57.543Z"
   },
   {
    "duration": 275,
    "start_time": "2024-11-28T07:18:06.173Z"
   },
   {
    "duration": 163,
    "start_time": "2024-11-28T07:18:21.997Z"
   },
   {
    "duration": 172,
    "start_time": "2024-11-28T07:18:38.367Z"
   },
   {
    "duration": 279,
    "start_time": "2024-11-28T07:18:46.755Z"
   },
   {
    "duration": 221,
    "start_time": "2024-11-28T07:19:34.364Z"
   },
   {
    "duration": 120,
    "start_time": "2024-11-28T07:19:54.302Z"
   },
   {
    "duration": 273,
    "start_time": "2024-11-28T07:32:39.805Z"
   },
   {
    "duration": 172,
    "start_time": "2024-11-28T07:38:13.876Z"
   },
   {
    "duration": 313,
    "start_time": "2024-11-28T07:52:43.681Z"
   },
   {
    "duration": 214,
    "start_time": "2024-11-28T08:05:32.781Z"
   },
   {
    "duration": 122,
    "start_time": "2024-11-28T08:05:39.168Z"
   },
   {
    "duration": 5,
    "start_time": "2024-11-28T08:05:39.749Z"
   },
   {
    "duration": 4,
    "start_time": "2024-11-28T08:05:39.781Z"
   },
   {
    "duration": 5,
    "start_time": "2024-11-28T08:05:40.896Z"
   },
   {
    "duration": 35,
    "start_time": "2024-11-28T08:05:42.277Z"
   },
   {
    "duration": 12,
    "start_time": "2024-11-28T08:05:55.153Z"
   },
   {
    "duration": 11,
    "start_time": "2024-11-28T08:11:35.633Z"
   },
   {
    "duration": 1066,
    "start_time": "2024-11-28T08:17:27.270Z"
   },
   {
    "duration": 27,
    "start_time": "2024-11-28T08:17:28.338Z"
   },
   {
    "duration": 10,
    "start_time": "2024-11-28T08:17:28.367Z"
   },
   {
    "duration": 17,
    "start_time": "2024-11-28T08:17:28.379Z"
   },
   {
    "duration": 24,
    "start_time": "2024-11-28T08:17:28.398Z"
   },
   {
    "duration": 58,
    "start_time": "2024-11-28T08:17:28.423Z"
   },
   {
    "duration": 7,
    "start_time": "2024-11-28T08:17:28.482Z"
   },
   {
    "duration": 32,
    "start_time": "2024-11-28T08:17:28.490Z"
   },
   {
    "duration": 14,
    "start_time": "2024-11-28T08:17:28.523Z"
   },
   {
    "duration": 10,
    "start_time": "2024-11-28T08:17:28.538Z"
   },
   {
    "duration": 26,
    "start_time": "2024-11-28T08:17:28.550Z"
   },
   {
    "duration": 3,
    "start_time": "2024-11-28T08:17:28.578Z"
   },
   {
    "duration": 20,
    "start_time": "2024-11-28T08:17:28.582Z"
   },
   {
    "duration": 36,
    "start_time": "2024-11-28T08:17:28.605Z"
   },
   {
    "duration": 9,
    "start_time": "2024-11-28T08:17:28.643Z"
   },
   {
    "duration": 10,
    "start_time": "2024-11-28T08:17:28.653Z"
   },
   {
    "duration": 24,
    "start_time": "2024-11-28T08:17:28.665Z"
   },
   {
    "duration": 33,
    "start_time": "2024-11-28T08:17:28.690Z"
   },
   {
    "duration": 12,
    "start_time": "2024-11-28T08:17:28.725Z"
   },
   {
    "duration": 28,
    "start_time": "2024-11-28T08:17:28.739Z"
   },
   {
    "duration": 11,
    "start_time": "2024-11-28T08:17:28.768Z"
   },
   {
    "duration": 155,
    "start_time": "2024-11-28T08:17:28.781Z"
   },
   {
    "duration": 137,
    "start_time": "2024-11-28T08:17:28.937Z"
   },
   {
    "duration": 272,
    "start_time": "2024-11-28T08:17:29.075Z"
   },
   {
    "duration": 270,
    "start_time": "2024-11-28T08:17:29.349Z"
   },
   {
    "duration": 179,
    "start_time": "2024-11-28T08:17:29.620Z"
   },
   {
    "duration": 275,
    "start_time": "2024-11-28T08:17:29.801Z"
   },
   {
    "duration": 187,
    "start_time": "2024-11-28T08:17:30.077Z"
   },
   {
    "duration": 292,
    "start_time": "2024-11-28T08:17:30.266Z"
   },
   {
    "duration": 139,
    "start_time": "2024-11-28T08:17:30.560Z"
   },
   {
    "duration": 6,
    "start_time": "2024-11-28T08:17:30.701Z"
   },
   {
    "duration": 214,
    "start_time": "2024-11-28T08:17:30.709Z"
   },
   {
    "duration": 125,
    "start_time": "2024-11-28T08:17:30.925Z"
   },
   {
    "duration": 341,
    "start_time": "2024-11-28T08:17:31.051Z"
   },
   {
    "duration": 148,
    "start_time": "2024-11-28T08:17:31.394Z"
   },
   {
    "duration": 5,
    "start_time": "2024-11-28T08:17:31.543Z"
   },
   {
    "duration": 184,
    "start_time": "2024-11-28T08:17:31.549Z"
   },
   {
    "duration": 76,
    "start_time": "2024-11-28T08:17:31.734Z"
   },
   {
    "duration": 102,
    "start_time": "2024-11-28T08:17:31.812Z"
   },
   {
    "duration": 8,
    "start_time": "2024-11-28T08:17:31.916Z"
   },
   {
    "duration": 35,
    "start_time": "2024-11-28T08:17:31.927Z"
   },
   {
    "duration": 49,
    "start_time": "2024-11-28T08:17:31.963Z"
   },
   {
    "duration": 82,
    "start_time": "2024-11-28T08:17:32.014Z"
   },
   {
    "duration": 57,
    "start_time": "2024-11-28T08:17:32.098Z"
   },
   {
    "duration": 9,
    "start_time": "2024-11-28T09:04:19.888Z"
   },
   {
    "duration": 1326,
    "start_time": "2024-11-28T09:05:07.781Z"
   },
   {
    "duration": 6,
    "start_time": "2024-11-28T09:05:39.086Z"
   },
   {
    "duration": 7,
    "start_time": "2024-11-28T09:06:04.091Z"
   },
   {
    "duration": 21,
    "start_time": "2024-11-28T09:06:20.678Z"
   },
   {
    "duration": 1085,
    "start_time": "2024-11-28T09:59:20.159Z"
   },
   {
    "duration": 28,
    "start_time": "2024-11-28T09:59:21.246Z"
   },
   {
    "duration": 16,
    "start_time": "2024-11-28T09:59:21.275Z"
   },
   {
    "duration": 36,
    "start_time": "2024-11-28T09:59:21.294Z"
   },
   {
    "duration": 15,
    "start_time": "2024-11-28T09:59:21.331Z"
   },
   {
    "duration": 85,
    "start_time": "2024-11-28T09:59:21.347Z"
   },
   {
    "duration": 7,
    "start_time": "2024-11-28T09:59:21.433Z"
   },
   {
    "duration": 41,
    "start_time": "2024-11-28T09:59:21.441Z"
   },
   {
    "duration": 11,
    "start_time": "2024-11-28T09:59:21.483Z"
   },
   {
    "duration": 20,
    "start_time": "2024-11-28T09:59:21.496Z"
   },
   {
    "duration": 17,
    "start_time": "2024-11-28T09:59:21.517Z"
   },
   {
    "duration": 14,
    "start_time": "2024-11-28T09:59:21.535Z"
   },
   {
    "duration": 17,
    "start_time": "2024-11-28T09:59:21.550Z"
   },
   {
    "duration": 20,
    "start_time": "2024-11-28T09:59:21.568Z"
   },
   {
    "duration": 12,
    "start_time": "2024-11-28T09:59:21.590Z"
   },
   {
    "duration": 10,
    "start_time": "2024-11-28T09:59:21.603Z"
   },
   {
    "duration": 13,
    "start_time": "2024-11-28T09:59:21.615Z"
   },
   {
    "duration": 21,
    "start_time": "2024-11-28T09:59:21.629Z"
   },
   {
    "duration": 4,
    "start_time": "2024-11-28T09:59:21.652Z"
   },
   {
    "duration": 18,
    "start_time": "2024-11-28T09:59:21.658Z"
   },
   {
    "duration": 32,
    "start_time": "2024-11-28T09:59:21.678Z"
   },
   {
    "duration": 164,
    "start_time": "2024-11-28T09:59:21.712Z"
   },
   {
    "duration": 117,
    "start_time": "2024-11-28T09:59:21.877Z"
   },
   {
    "duration": 296,
    "start_time": "2024-11-28T09:59:21.995Z"
   },
   {
    "duration": 308,
    "start_time": "2024-11-28T09:59:22.292Z"
   },
   {
    "duration": 219,
    "start_time": "2024-11-28T09:59:22.607Z"
   },
   {
    "duration": 288,
    "start_time": "2024-11-28T09:59:22.828Z"
   },
   {
    "duration": 202,
    "start_time": "2024-11-28T09:59:23.119Z"
   },
   {
    "duration": 299,
    "start_time": "2024-11-28T09:59:23.322Z"
   },
   {
    "duration": 142,
    "start_time": "2024-11-28T09:59:23.622Z"
   },
   {
    "duration": 5,
    "start_time": "2024-11-28T09:59:23.766Z"
   },
   {
    "duration": 136,
    "start_time": "2024-11-28T09:59:23.773Z"
   },
   {
    "duration": 4,
    "start_time": "2024-11-28T09:59:23.911Z"
   },
   {
    "duration": 261,
    "start_time": "2024-11-28T09:59:23.917Z"
   },
   {
    "duration": 130,
    "start_time": "2024-11-28T09:59:24.179Z"
   },
   {
    "duration": 5,
    "start_time": "2024-11-28T09:59:24.310Z"
   },
   {
    "duration": 109,
    "start_time": "2024-11-28T09:59:24.316Z"
   },
   {
    "duration": 34,
    "start_time": "2024-11-28T09:59:24.426Z"
   },
   {
    "duration": 38,
    "start_time": "2024-11-28T09:59:24.461Z"
   },
   {
    "duration": 10,
    "start_time": "2024-11-28T09:59:24.501Z"
   },
   {
    "duration": 36,
    "start_time": "2024-11-28T09:59:24.513Z"
   },
   {
    "duration": 12,
    "start_time": "2024-11-28T09:59:24.550Z"
   },
   {
    "duration": 50,
    "start_time": "2024-11-28T09:59:24.563Z"
   },
   {
    "duration": 13,
    "start_time": "2024-11-28T09:59:24.614Z"
   },
   {
    "duration": 47,
    "start_time": "2024-11-29T06:40:22.176Z"
   },
   {
    "duration": 1281,
    "start_time": "2024-11-29T06:40:33.828Z"
   },
   {
    "duration": 96,
    "start_time": "2024-11-29T06:40:35.111Z"
   },
   {
    "duration": 12,
    "start_time": "2024-11-29T06:40:35.209Z"
   },
   {
    "duration": 9,
    "start_time": "2024-11-29T06:40:35.223Z"
   },
   {
    "duration": 17,
    "start_time": "2024-11-29T06:40:35.233Z"
   },
   {
    "duration": 147,
    "start_time": "2024-11-29T06:40:35.252Z"
   },
   {
    "duration": 8,
    "start_time": "2024-11-29T06:40:35.401Z"
   },
   {
    "duration": 50,
    "start_time": "2024-11-29T06:40:35.410Z"
   },
   {
    "duration": 25,
    "start_time": "2024-11-29T06:40:35.462Z"
   },
   {
    "duration": 10,
    "start_time": "2024-11-29T06:40:35.489Z"
   },
   {
    "duration": 35,
    "start_time": "2024-11-29T06:40:35.501Z"
   },
   {
    "duration": 29,
    "start_time": "2024-11-29T06:40:35.538Z"
   },
   {
    "duration": 68,
    "start_time": "2024-11-29T06:40:35.569Z"
   },
   {
    "duration": 40,
    "start_time": "2024-11-29T06:40:35.638Z"
   },
   {
    "duration": 20,
    "start_time": "2024-11-29T06:40:35.680Z"
   },
   {
    "duration": 11,
    "start_time": "2024-11-29T06:40:35.702Z"
   },
   {
    "duration": 18,
    "start_time": "2024-11-29T06:40:35.714Z"
   },
   {
    "duration": 22,
    "start_time": "2024-11-29T06:40:35.734Z"
   },
   {
    "duration": 4,
    "start_time": "2024-11-29T06:40:35.757Z"
   },
   {
    "duration": 35,
    "start_time": "2024-11-29T06:40:35.763Z"
   },
   {
    "duration": 7,
    "start_time": "2024-11-29T06:40:35.800Z"
   },
   {
    "duration": 165,
    "start_time": "2024-11-29T06:40:35.809Z"
   },
   {
    "duration": 116,
    "start_time": "2024-11-29T06:40:35.975Z"
   },
   {
    "duration": 275,
    "start_time": "2024-11-29T06:40:36.093Z"
   },
   {
    "duration": 276,
    "start_time": "2024-11-29T06:40:36.370Z"
   },
   {
    "duration": 200,
    "start_time": "2024-11-29T06:40:36.648Z"
   },
   {
    "duration": 311,
    "start_time": "2024-11-29T06:40:36.850Z"
   },
   {
    "duration": 230,
    "start_time": "2024-11-29T06:40:37.165Z"
   },
   {
    "duration": 328,
    "start_time": "2024-11-29T06:40:37.397Z"
   },
   {
    "duration": 151,
    "start_time": "2024-11-29T06:40:37.727Z"
   },
   {
    "duration": 4,
    "start_time": "2024-11-29T06:40:37.880Z"
   },
   {
    "duration": 151,
    "start_time": "2024-11-29T06:40:37.886Z"
   },
   {
    "duration": 4,
    "start_time": "2024-11-29T06:40:38.039Z"
   },
   {
    "duration": 239,
    "start_time": "2024-11-29T06:40:38.045Z"
   },
   {
    "duration": 127,
    "start_time": "2024-11-29T06:40:38.286Z"
   },
   {
    "duration": 7,
    "start_time": "2024-11-29T06:40:38.415Z"
   },
   {
    "duration": 31,
    "start_time": "2024-11-29T06:40:38.424Z"
   },
   {
    "duration": 7,
    "start_time": "2024-11-29T06:40:38.456Z"
   },
   {
    "duration": 34,
    "start_time": "2024-11-29T06:40:38.465Z"
   },
   {
    "duration": 16,
    "start_time": "2024-11-29T06:40:38.501Z"
   },
   {
    "duration": 99,
    "start_time": "2024-11-29T06:40:38.519Z"
   },
   {
    "duration": 10,
    "start_time": "2024-11-29T06:40:38.620Z"
   },
   {
    "duration": 30,
    "start_time": "2024-11-29T06:40:38.631Z"
   },
   {
    "duration": 14,
    "start_time": "2024-11-29T06:40:38.663Z"
   },
   {
    "duration": 1291,
    "start_time": "2024-11-29T06:41:41.195Z"
   },
   {
    "duration": 1031,
    "start_time": "2024-11-29T06:42:30.268Z"
   },
   {
    "duration": 1100,
    "start_time": "2024-11-29T06:42:43.857Z"
   },
   {
    "duration": 5,
    "start_time": "2024-11-29T06:43:02.387Z"
   },
   {
    "duration": 4,
    "start_time": "2024-11-29T06:43:13.830Z"
   },
   {
    "duration": 4,
    "start_time": "2024-11-29T06:43:26.064Z"
   },
   {
    "duration": 1188,
    "start_time": "2024-11-29T06:43:41.222Z"
   },
   {
    "duration": 1005,
    "start_time": "2024-11-29T06:46:30.428Z"
   },
   {
    "duration": 3640,
    "start_time": "2024-11-29T07:02:57.133Z"
   },
   {
    "duration": 1207,
    "start_time": "2024-11-29T07:03:12.996Z"
   },
   {
    "duration": 28,
    "start_time": "2024-11-29T07:03:14.205Z"
   },
   {
    "duration": 15,
    "start_time": "2024-11-29T07:03:14.235Z"
   },
   {
    "duration": 9,
    "start_time": "2024-11-29T07:03:14.253Z"
   },
   {
    "duration": 16,
    "start_time": "2024-11-29T07:03:14.263Z"
   },
   {
    "duration": 103,
    "start_time": "2024-11-29T07:03:14.280Z"
   },
   {
    "duration": 8,
    "start_time": "2024-11-29T07:03:14.385Z"
   },
   {
    "duration": 29,
    "start_time": "2024-11-29T07:03:14.394Z"
   },
   {
    "duration": 10,
    "start_time": "2024-11-29T07:03:14.424Z"
   },
   {
    "duration": 66,
    "start_time": "2024-11-29T07:03:14.436Z"
   },
   {
    "duration": 15,
    "start_time": "2024-11-29T07:03:14.504Z"
   },
   {
    "duration": 3,
    "start_time": "2024-11-29T07:03:14.521Z"
   },
   {
    "duration": 13,
    "start_time": "2024-11-29T07:03:14.526Z"
   },
   {
    "duration": 21,
    "start_time": "2024-11-29T07:03:14.540Z"
   },
   {
    "duration": 15,
    "start_time": "2024-11-29T07:03:14.563Z"
   },
   {
    "duration": 9,
    "start_time": "2024-11-29T07:03:14.580Z"
   },
   {
    "duration": 8,
    "start_time": "2024-11-29T07:03:14.590Z"
   },
   {
    "duration": 100,
    "start_time": "2024-11-29T07:03:14.600Z"
   },
   {
    "duration": 3,
    "start_time": "2024-11-29T07:03:14.702Z"
   },
   {
    "duration": 12,
    "start_time": "2024-11-29T07:03:14.707Z"
   },
   {
    "duration": 7,
    "start_time": "2024-11-29T07:03:14.721Z"
   },
   {
    "duration": 164,
    "start_time": "2024-11-29T07:03:14.729Z"
   },
   {
    "duration": 128,
    "start_time": "2024-11-29T07:03:14.895Z"
   },
   {
    "duration": 265,
    "start_time": "2024-11-29T07:03:15.025Z"
   },
   {
    "duration": 287,
    "start_time": "2024-11-29T07:03:15.292Z"
   },
   {
    "duration": 195,
    "start_time": "2024-11-29T07:03:15.580Z"
   },
   {
    "duration": 282,
    "start_time": "2024-11-29T07:03:15.777Z"
   },
   {
    "duration": 202,
    "start_time": "2024-11-29T07:03:16.062Z"
   },
   {
    "duration": 285,
    "start_time": "2024-11-29T07:03:16.265Z"
   },
   {
    "duration": 154,
    "start_time": "2024-11-29T07:03:16.551Z"
   },
   {
    "duration": 4,
    "start_time": "2024-11-29T07:03:16.707Z"
   },
   {
    "duration": 149,
    "start_time": "2024-11-29T07:03:16.713Z"
   },
   {
    "duration": 5,
    "start_time": "2024-11-29T07:03:16.863Z"
   },
   {
    "duration": 230,
    "start_time": "2024-11-29T07:03:16.869Z"
   },
   {
    "duration": 120,
    "start_time": "2024-11-29T07:03:17.101Z"
   },
   {
    "duration": 4,
    "start_time": "2024-11-29T07:03:17.222Z"
   },
   {
    "duration": 9,
    "start_time": "2024-11-29T07:03:17.228Z"
   },
   {
    "duration": 11,
    "start_time": "2024-11-29T07:03:17.239Z"
   },
   {
    "duration": 32,
    "start_time": "2024-11-29T07:03:17.251Z"
   },
   {
    "duration": 36,
    "start_time": "2024-11-29T07:03:17.285Z"
   },
   {
    "duration": 15,
    "start_time": "2024-11-29T07:03:17.323Z"
   },
   {
    "duration": 16,
    "start_time": "2024-11-29T07:03:17.339Z"
   },
   {
    "duration": 26,
    "start_time": "2024-11-29T07:03:17.356Z"
   },
   {
    "duration": 12,
    "start_time": "2024-11-29T07:03:17.384Z"
   },
   {
    "duration": 1611,
    "start_time": "2024-11-29T07:05:21.104Z"
   },
   {
    "duration": 1151,
    "start_time": "2024-11-29T07:05:33.944Z"
   },
   {
    "duration": 28,
    "start_time": "2024-11-29T07:05:35.097Z"
   },
   {
    "duration": 11,
    "start_time": "2024-11-29T07:05:35.127Z"
   },
   {
    "duration": 125,
    "start_time": "2024-11-29T07:05:35.140Z"
   },
   {
    "duration": 0,
    "start_time": "2024-11-29T07:05:35.267Z"
   },
   {
    "duration": 0,
    "start_time": "2024-11-29T07:05:35.269Z"
   },
   {
    "duration": 0,
    "start_time": "2024-11-29T07:05:35.269Z"
   },
   {
    "duration": 0,
    "start_time": "2024-11-29T07:05:35.270Z"
   },
   {
    "duration": 0,
    "start_time": "2024-11-29T07:05:35.271Z"
   },
   {
    "duration": 0,
    "start_time": "2024-11-29T07:05:35.272Z"
   },
   {
    "duration": 0,
    "start_time": "2024-11-29T07:05:35.273Z"
   },
   {
    "duration": 0,
    "start_time": "2024-11-29T07:05:35.274Z"
   },
   {
    "duration": 0,
    "start_time": "2024-11-29T07:05:35.275Z"
   },
   {
    "duration": 0,
    "start_time": "2024-11-29T07:05:35.276Z"
   },
   {
    "duration": 0,
    "start_time": "2024-11-29T07:05:35.277Z"
   },
   {
    "duration": 0,
    "start_time": "2024-11-29T07:05:35.278Z"
   },
   {
    "duration": 0,
    "start_time": "2024-11-29T07:05:35.279Z"
   },
   {
    "duration": 0,
    "start_time": "2024-11-29T07:05:35.280Z"
   },
   {
    "duration": 0,
    "start_time": "2024-11-29T07:05:35.280Z"
   },
   {
    "duration": 0,
    "start_time": "2024-11-29T07:05:35.281Z"
   },
   {
    "duration": 0,
    "start_time": "2024-11-29T07:05:35.282Z"
   },
   {
    "duration": 0,
    "start_time": "2024-11-29T07:05:35.283Z"
   },
   {
    "duration": 0,
    "start_time": "2024-11-29T07:05:35.284Z"
   },
   {
    "duration": 0,
    "start_time": "2024-11-29T07:05:35.285Z"
   },
   {
    "duration": 0,
    "start_time": "2024-11-29T07:05:35.285Z"
   },
   {
    "duration": 0,
    "start_time": "2024-11-29T07:05:35.286Z"
   },
   {
    "duration": 0,
    "start_time": "2024-11-29T07:05:35.287Z"
   },
   {
    "duration": 0,
    "start_time": "2024-11-29T07:05:35.288Z"
   },
   {
    "duration": 0,
    "start_time": "2024-11-29T07:05:35.320Z"
   },
   {
    "duration": 0,
    "start_time": "2024-11-29T07:05:35.322Z"
   },
   {
    "duration": 0,
    "start_time": "2024-11-29T07:05:35.323Z"
   },
   {
    "duration": 0,
    "start_time": "2024-11-29T07:05:35.324Z"
   },
   {
    "duration": 0,
    "start_time": "2024-11-29T07:05:35.325Z"
   },
   {
    "duration": 0,
    "start_time": "2024-11-29T07:05:35.326Z"
   },
   {
    "duration": 0,
    "start_time": "2024-11-29T07:05:35.326Z"
   },
   {
    "duration": 0,
    "start_time": "2024-11-29T07:05:35.328Z"
   },
   {
    "duration": 0,
    "start_time": "2024-11-29T07:05:35.329Z"
   },
   {
    "duration": 0,
    "start_time": "2024-11-29T07:05:35.329Z"
   },
   {
    "duration": 0,
    "start_time": "2024-11-29T07:05:35.331Z"
   },
   {
    "duration": 0,
    "start_time": "2024-11-29T07:05:35.332Z"
   },
   {
    "duration": 0,
    "start_time": "2024-11-29T07:05:35.333Z"
   },
   {
    "duration": 0,
    "start_time": "2024-11-29T07:05:35.334Z"
   },
   {
    "duration": 0,
    "start_time": "2024-11-29T07:05:35.335Z"
   },
   {
    "duration": 0,
    "start_time": "2024-11-29T07:05:35.336Z"
   },
   {
    "duration": 4,
    "start_time": "2024-11-29T07:06:36.840Z"
   },
   {
    "duration": 8,
    "start_time": "2024-11-29T07:06:44.880Z"
   },
   {
    "duration": 9,
    "start_time": "2024-11-29T07:07:30.657Z"
   },
   {
    "duration": 12,
    "start_time": "2024-11-29T07:12:15.406Z"
   },
   {
    "duration": 1119,
    "start_time": "2024-11-29T07:12:24.084Z"
   },
   {
    "duration": 29,
    "start_time": "2024-11-29T07:12:25.205Z"
   },
   {
    "duration": 11,
    "start_time": "2024-11-29T07:12:25.235Z"
   },
   {
    "duration": 17,
    "start_time": "2024-11-29T07:12:25.248Z"
   },
   {
    "duration": 8,
    "start_time": "2024-11-29T07:12:25.267Z"
   },
   {
    "duration": 55,
    "start_time": "2024-11-29T07:12:25.277Z"
   },
   {
    "duration": 8,
    "start_time": "2024-11-29T07:12:25.333Z"
   },
   {
    "duration": 9,
    "start_time": "2024-11-29T07:12:25.343Z"
   },
   {
    "duration": 7,
    "start_time": "2024-11-29T07:12:25.353Z"
   },
   {
    "duration": 13,
    "start_time": "2024-11-29T07:12:25.361Z"
   },
   {
    "duration": 16,
    "start_time": "2024-11-29T07:12:25.375Z"
   },
   {
    "duration": 4,
    "start_time": "2024-11-29T07:12:25.392Z"
   },
   {
    "duration": 28,
    "start_time": "2024-11-29T07:12:25.397Z"
   },
   {
    "duration": 41,
    "start_time": "2024-11-29T07:12:25.427Z"
   },
   {
    "duration": 6,
    "start_time": "2024-11-29T07:12:25.469Z"
   },
   {
    "duration": 8,
    "start_time": "2024-11-29T07:12:25.477Z"
   },
   {
    "duration": 32,
    "start_time": "2024-11-29T07:12:25.487Z"
   },
   {
    "duration": 21,
    "start_time": "2024-11-29T07:12:25.521Z"
   },
   {
    "duration": 8,
    "start_time": "2024-11-29T07:12:25.544Z"
   },
   {
    "duration": 12,
    "start_time": "2024-11-29T07:12:25.554Z"
   },
   {
    "duration": 11,
    "start_time": "2024-11-29T07:12:25.568Z"
   },
   {
    "duration": 162,
    "start_time": "2024-11-29T07:12:25.581Z"
   },
   {
    "duration": 123,
    "start_time": "2024-11-29T07:12:25.745Z"
   },
   {
    "duration": 274,
    "start_time": "2024-11-29T07:12:25.869Z"
   },
   {
    "duration": 284,
    "start_time": "2024-11-29T07:12:26.144Z"
   },
   {
    "duration": 196,
    "start_time": "2024-11-29T07:12:26.430Z"
   },
   {
    "duration": 283,
    "start_time": "2024-11-29T07:12:26.628Z"
   },
   {
    "duration": 195,
    "start_time": "2024-11-29T07:12:26.921Z"
   },
   {
    "duration": 333,
    "start_time": "2024-11-29T07:12:27.118Z"
   },
   {
    "duration": 145,
    "start_time": "2024-11-29T07:12:27.452Z"
   },
   {
    "duration": 4,
    "start_time": "2024-11-29T07:12:27.599Z"
   },
   {
    "duration": 144,
    "start_time": "2024-11-29T07:12:27.604Z"
   },
   {
    "duration": 4,
    "start_time": "2024-11-29T07:12:27.750Z"
   },
   {
    "duration": 237,
    "start_time": "2024-11-29T07:12:27.755Z"
   },
   {
    "duration": 149,
    "start_time": "2024-11-29T07:12:27.994Z"
   },
   {
    "duration": 4,
    "start_time": "2024-11-29T07:12:28.145Z"
   },
   {
    "duration": 4,
    "start_time": "2024-11-29T07:12:28.151Z"
   },
   {
    "duration": 6,
    "start_time": "2024-11-29T07:12:28.156Z"
   },
   {
    "duration": 27,
    "start_time": "2024-11-29T07:12:28.163Z"
   },
   {
    "duration": 34,
    "start_time": "2024-11-29T07:12:28.192Z"
   },
   {
    "duration": 11,
    "start_time": "2024-11-29T07:12:28.230Z"
   },
   {
    "duration": 7,
    "start_time": "2024-11-29T07:12:28.243Z"
   },
   {
    "duration": 26,
    "start_time": "2024-11-29T07:12:28.251Z"
   },
   {
    "duration": 46,
    "start_time": "2024-11-29T07:12:28.279Z"
   },
   {
    "duration": 322,
    "start_time": "2024-11-29T09:05:21.778Z"
   },
   {
    "duration": 1442,
    "start_time": "2024-11-29T09:06:47.781Z"
   },
   {
    "duration": 1131,
    "start_time": "2024-11-29T09:07:02.654Z"
   },
   {
    "duration": 29,
    "start_time": "2024-11-29T09:07:03.788Z"
   },
   {
    "duration": 14,
    "start_time": "2024-11-29T09:07:03.818Z"
   },
   {
    "duration": 27,
    "start_time": "2024-11-29T09:07:03.834Z"
   },
   {
    "duration": 22,
    "start_time": "2024-11-29T09:07:03.863Z"
   },
   {
    "duration": 56,
    "start_time": "2024-11-29T09:07:03.887Z"
   },
   {
    "duration": 8,
    "start_time": "2024-11-29T09:07:03.945Z"
   },
   {
    "duration": 74,
    "start_time": "2024-11-29T09:07:03.955Z"
   },
   {
    "duration": 37,
    "start_time": "2024-11-29T09:07:04.030Z"
   },
   {
    "duration": 15,
    "start_time": "2024-11-29T09:07:04.069Z"
   },
   {
    "duration": 14,
    "start_time": "2024-11-29T09:07:04.086Z"
   },
   {
    "duration": 3,
    "start_time": "2024-11-29T09:07:04.102Z"
   },
   {
    "duration": 37,
    "start_time": "2024-11-29T09:07:04.107Z"
   },
   {
    "duration": 93,
    "start_time": "2024-11-29T09:07:04.146Z"
   },
   {
    "duration": 35,
    "start_time": "2024-11-29T09:07:04.241Z"
   },
   {
    "duration": 4,
    "start_time": "2024-11-29T09:07:04.278Z"
   },
   {
    "duration": 5,
    "start_time": "2024-11-29T09:07:04.284Z"
   },
   {
    "duration": 10,
    "start_time": "2024-11-29T09:07:04.290Z"
   },
   {
    "duration": 4,
    "start_time": "2024-11-29T09:07:04.301Z"
   },
   {
    "duration": 17,
    "start_time": "2024-11-29T09:07:04.306Z"
   },
   {
    "duration": 13,
    "start_time": "2024-11-29T09:07:04.325Z"
   },
   {
    "duration": 207,
    "start_time": "2024-11-29T09:07:04.340Z"
   },
   {
    "duration": 130,
    "start_time": "2024-11-29T09:07:04.549Z"
   },
   {
    "duration": 280,
    "start_time": "2024-11-29T09:07:04.681Z"
   },
   {
    "duration": 278,
    "start_time": "2024-11-29T09:07:04.963Z"
   },
   {
    "duration": 190,
    "start_time": "2024-11-29T09:07:05.243Z"
   },
   {
    "duration": 288,
    "start_time": "2024-11-29T09:07:05.436Z"
   },
   {
    "duration": 205,
    "start_time": "2024-11-29T09:07:05.727Z"
   },
   {
    "duration": 324,
    "start_time": "2024-11-29T09:07:05.933Z"
   },
   {
    "duration": 145,
    "start_time": "2024-11-29T09:07:06.260Z"
   },
   {
    "duration": 5,
    "start_time": "2024-11-29T09:07:06.406Z"
   },
   {
    "duration": 142,
    "start_time": "2024-11-29T09:07:06.421Z"
   },
   {
    "duration": 4,
    "start_time": "2024-11-29T09:07:06.565Z"
   },
   {
    "duration": 238,
    "start_time": "2024-11-29T09:07:06.571Z"
   },
   {
    "duration": 135,
    "start_time": "2024-11-29T09:07:06.811Z"
   },
   {
    "duration": 4,
    "start_time": "2024-11-29T09:07:06.947Z"
   },
   {
    "duration": 42,
    "start_time": "2024-11-29T09:07:06.953Z"
   },
   {
    "duration": 11,
    "start_time": "2024-11-29T09:07:06.996Z"
   },
   {
    "duration": 26,
    "start_time": "2024-11-29T09:07:07.009Z"
   },
   {
    "duration": 11,
    "start_time": "2024-11-29T09:07:07.037Z"
   },
   {
    "duration": 34,
    "start_time": "2024-11-29T09:07:07.049Z"
   },
   {
    "duration": 8,
    "start_time": "2024-11-29T09:07:07.085Z"
   },
   {
    "duration": 50,
    "start_time": "2024-11-29T09:07:07.094Z"
   },
   {
    "duration": 16,
    "start_time": "2024-11-29T09:07:07.146Z"
   },
   {
    "duration": 1457,
    "start_time": "2024-11-29T09:07:40.786Z"
   },
   {
    "duration": 1182,
    "start_time": "2024-11-29T09:07:53.604Z"
   },
   {
    "duration": 30,
    "start_time": "2024-11-29T09:07:54.788Z"
   },
   {
    "duration": 10,
    "start_time": "2024-11-29T09:07:54.820Z"
   },
   {
    "duration": 30,
    "start_time": "2024-11-29T09:07:54.831Z"
   },
   {
    "duration": 12,
    "start_time": "2024-11-29T09:07:54.863Z"
   },
   {
    "duration": 58,
    "start_time": "2024-11-29T09:07:54.876Z"
   },
   {
    "duration": 8,
    "start_time": "2024-11-29T09:07:54.935Z"
   },
   {
    "duration": 9,
    "start_time": "2024-11-29T09:07:54.944Z"
   },
   {
    "duration": 7,
    "start_time": "2024-11-29T09:07:54.955Z"
   },
   {
    "duration": 5,
    "start_time": "2024-11-29T09:07:54.963Z"
   },
   {
    "duration": 15,
    "start_time": "2024-11-29T09:07:54.969Z"
   },
   {
    "duration": 8,
    "start_time": "2024-11-29T09:07:54.985Z"
   },
   {
    "duration": 27,
    "start_time": "2024-11-29T09:07:54.994Z"
   },
   {
    "duration": 12,
    "start_time": "2024-11-29T09:07:55.024Z"
   },
   {
    "duration": 23,
    "start_time": "2024-11-29T09:07:55.038Z"
   },
   {
    "duration": 15,
    "start_time": "2024-11-29T09:07:55.062Z"
   },
   {
    "duration": 11,
    "start_time": "2024-11-29T09:07:55.078Z"
   },
   {
    "duration": 9,
    "start_time": "2024-11-29T09:07:55.091Z"
   },
   {
    "duration": 7,
    "start_time": "2024-11-29T09:07:55.102Z"
   },
   {
    "duration": 17,
    "start_time": "2024-11-29T09:07:55.111Z"
   },
   {
    "duration": 8,
    "start_time": "2024-11-29T09:07:55.129Z"
   },
   {
    "duration": 182,
    "start_time": "2024-11-29T09:07:55.138Z"
   },
   {
    "duration": 137,
    "start_time": "2024-11-29T09:07:55.322Z"
   },
   {
    "duration": 280,
    "start_time": "2024-11-29T09:07:55.460Z"
   },
   {
    "duration": 282,
    "start_time": "2024-11-29T09:07:55.741Z"
   },
   {
    "duration": 196,
    "start_time": "2024-11-29T09:07:56.025Z"
   },
   {
    "duration": 294,
    "start_time": "2024-11-29T09:07:56.222Z"
   },
   {
    "duration": 212,
    "start_time": "2024-11-29T09:07:56.521Z"
   },
   {
    "duration": 327,
    "start_time": "2024-11-29T09:07:56.734Z"
   },
   {
    "duration": 143,
    "start_time": "2024-11-29T09:07:57.062Z"
   },
   {
    "duration": 4,
    "start_time": "2024-11-29T09:07:57.207Z"
   },
   {
    "duration": 179,
    "start_time": "2024-11-29T09:07:57.221Z"
   },
   {
    "duration": 4,
    "start_time": "2024-11-29T09:07:57.402Z"
   },
   {
    "duration": 292,
    "start_time": "2024-11-29T09:07:57.407Z"
   },
   {
    "duration": 175,
    "start_time": "2024-11-29T09:07:57.700Z"
   },
   {
    "duration": 4,
    "start_time": "2024-11-29T09:07:57.876Z"
   },
   {
    "duration": 4,
    "start_time": "2024-11-29T09:07:57.882Z"
   },
   {
    "duration": 17,
    "start_time": "2024-11-29T09:07:57.888Z"
   },
   {
    "duration": 37,
    "start_time": "2024-11-29T09:07:57.907Z"
   },
   {
    "duration": 9,
    "start_time": "2024-11-29T09:07:57.946Z"
   },
   {
    "duration": 78,
    "start_time": "2024-11-29T09:07:57.958Z"
   },
   {
    "duration": 11,
    "start_time": "2024-11-29T09:07:58.037Z"
   },
   {
    "duration": 42,
    "start_time": "2024-11-29T09:07:58.049Z"
   },
   {
    "duration": 14,
    "start_time": "2024-11-29T09:07:58.092Z"
   }
  ],
  "kernelspec": {
   "display_name": "Python 3 (ipykernel)",
   "language": "python",
   "name": "python3"
  },
  "language_info": {
   "codemirror_mode": {
    "name": "ipython",
    "version": 3
   },
   "file_extension": ".py",
   "mimetype": "text/x-python",
   "name": "python",
   "nbconvert_exporter": "python",
   "pygments_lexer": "ipython3",
   "version": "3.11.5"
  },
  "toc": {
   "base_numbering": 1,
   "nav_menu": {},
   "number_sections": true,
   "sideBar": true,
   "skip_h1_title": true,
   "title_cell": "Table of Contents",
   "title_sidebar": "Contents",
   "toc_cell": false,
   "toc_position": {},
   "toc_section_display": true,
   "toc_window_display": false
  }
 },
 "nbformat": 4,
 "nbformat_minor": 2
}
