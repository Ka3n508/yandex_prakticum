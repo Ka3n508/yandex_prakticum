{
 "cells": [
  {
   "cell_type": "markdown",
   "metadata": {},
   "source": [
    "# Проект по SQL"
   ]
  },
  {
   "cell_type": "markdown",
   "metadata": {},
   "source": [
    "Коронавирус застал мир врасплох, изменив привычный порядок вещей. На какое-то время жители городов перестали выходить на улицу, посещать кафе и торговые центры. Зато стало больше времени для книг. Это заметили стартаперы — и бросились создавать приложения для тех, кто любит читать.\n",
    "Ваша компания решила быть на волне и купила крупный сервис для чтения книг по подписке. Ваша первая задача как аналитика — проанализировать базу данных.\n",
    "В ней — информация о книгах, издательствах, авторах, а также пользовательские обзоры книг. Эти данные помогут сформулировать ценностное предложение для нового продукта."
   ]
  },
  {
   "cell_type": "markdown",
   "metadata": {},
   "source": [
    "Описание данных\n",
    "Таблица books\n",
    "Содержит данные о книгах:\n",
    "\n",
    "    book_id — идентификатор книги;\n",
    "    author_id — идентификатор автора;\n",
    "    title — название книги;\n",
    "    num_pages — количество страниц;\n",
    "    publication_date — дата публикации книги;\n",
    "    publisher_id — идентификатор издателя.\n",
    "\n",
    "Таблица authors\n",
    "Содержит данные об авторах:\n",
    "\n",
    "    author_id — идентификатор автора;\n",
    "    author — имя автора.\n",
    "\n",
    "Таблица publishers\n",
    "Содержит данные об издательствах:\n",
    "\n",
    "    publisher_id — идентификатор издательства;\n",
    "    publisher — название издательства;\n",
    "\n",
    "Таблица ratings\n",
    "Содержит данные о пользовательских оценках книг:\n",
    "\n",
    "    rating_id — идентификатор оценки;\n",
    "    book_id — идентификатор книги;\n",
    "    username — имя пользователя, оставившего оценку;\n",
    "    rating — оценка книги.\n",
    "\n",
    "Таблица reviews\n",
    "Содержит данные о пользовательских обзорах:\n",
    "\n",
    "    review_id — идентификатор обзора;\n",
    "    book_id — идентификатор книги;\n",
    "    username — имя автора обзора;\n",
    "    text — текст обзора.\n",
    "\n"
   ]
  },
  {
   "cell_type": "markdown",
   "metadata": {},
   "source": [
    "Цель исследования: проанализировать имеющуюся базы данных электронных книг для дальнейших продаж пользователям.\n",
    "    "
   ]
  },
  {
   "cell_type": "markdown",
   "metadata": {},
   "source": [
    "Задачи:  \n",
    "    1.Посчитать, сколько книг вышло после 1 января 2000 года;  \n",
    "    2.Для каждой книги посчитать количество обзоров и среднюю оценку;  \n",
    "    3.Определить издательство, которое выпустило наибольшее число книг толще 50 страниц — так вы исключите из анализа брошюры;  \n",
    "    4.Определить автора с самой высокой средней оценкой книг — учитывайте только книги с 50 и более оценками;  \n",
    "    5.Посчитать среднее количество обзоров от пользователей, которые поставили больше 48 оценок.  "
   ]
  },
  {
   "cell_type": "code",
   "execution_count": 1,
   "metadata": {},
   "outputs": [
    {
     "data": {
      "text/html": [
       "<div>\n",
       "<style scoped>\n",
       "    .dataframe tbody tr th:only-of-type {\n",
       "        vertical-align: middle;\n",
       "    }\n",
       "\n",
       "    .dataframe tbody tr th {\n",
       "        vertical-align: top;\n",
       "    }\n",
       "\n",
       "    .dataframe thead th {\n",
       "        text-align: right;\n",
       "    }\n",
       "</style>\n",
       "<table border=\"1\" class=\"dataframe\">\n",
       "  <thead>\n",
       "    <tr style=\"text-align: right;\">\n",
       "      <th></th>\n",
       "      <th>book_id</th>\n",
       "      <th>author_id</th>\n",
       "      <th>title</th>\n",
       "      <th>num_pages</th>\n",
       "      <th>publication_date</th>\n",
       "      <th>publisher_id</th>\n",
       "    </tr>\n",
       "  </thead>\n",
       "  <tbody>\n",
       "    <tr>\n",
       "      <th>0</th>\n",
       "      <td>1</td>\n",
       "      <td>546</td>\n",
       "      <td>'Salem's Lot</td>\n",
       "      <td>594</td>\n",
       "      <td>2005-11-01</td>\n",
       "      <td>93</td>\n",
       "    </tr>\n",
       "    <tr>\n",
       "      <th>1</th>\n",
       "      <td>2</td>\n",
       "      <td>465</td>\n",
       "      <td>1 000 Places to See Before You Die</td>\n",
       "      <td>992</td>\n",
       "      <td>2003-05-22</td>\n",
       "      <td>336</td>\n",
       "    </tr>\n",
       "    <tr>\n",
       "      <th>2</th>\n",
       "      <td>3</td>\n",
       "      <td>407</td>\n",
       "      <td>13 Little Blue Envelopes (Little Blue Envelope...</td>\n",
       "      <td>322</td>\n",
       "      <td>2010-12-21</td>\n",
       "      <td>135</td>\n",
       "    </tr>\n",
       "    <tr>\n",
       "      <th>3</th>\n",
       "      <td>4</td>\n",
       "      <td>82</td>\n",
       "      <td>1491: New Revelations of the Americas Before C...</td>\n",
       "      <td>541</td>\n",
       "      <td>2006-10-10</td>\n",
       "      <td>309</td>\n",
       "    </tr>\n",
       "    <tr>\n",
       "      <th>4</th>\n",
       "      <td>5</td>\n",
       "      <td>125</td>\n",
       "      <td>1776</td>\n",
       "      <td>386</td>\n",
       "      <td>2006-07-04</td>\n",
       "      <td>268</td>\n",
       "    </tr>\n",
       "  </tbody>\n",
       "</table>\n",
       "</div>"
      ],
      "text/plain": [
       "   book_id  author_id                                              title  \\\n",
       "0        1        546                                       'Salem's Lot   \n",
       "1        2        465                 1 000 Places to See Before You Die   \n",
       "2        3        407  13 Little Blue Envelopes (Little Blue Envelope...   \n",
       "3        4         82  1491: New Revelations of the Americas Before C...   \n",
       "4        5        125                                               1776   \n",
       "\n",
       "   num_pages publication_date  publisher_id  \n",
       "0        594       2005-11-01            93  \n",
       "1        992       2003-05-22           336  \n",
       "2        322       2010-12-21           135  \n",
       "3        541       2006-10-10           309  \n",
       "4        386       2006-07-04           268  "
      ]
     },
     "execution_count": 1,
     "metadata": {},
     "output_type": "execute_result"
    }
   ],
   "source": [
    "# импортируем библиотеки\n",
    "import pandas as pd\n",
    "from sqlalchemy import text, create_engine\n",
    "# устанавливаем параметры\n",
    "db_config = {'user': 'praktikum_student', # имя пользователя\n",
    "'pwd': 'Sdf4$2;d-d30pp', # пароль\n",
    "'host': 'rc1b-wcoijxj3yxfsf3fs.mdb.yandexcloud.net',\n",
    "'port': 6432, # порт подключения\n",
    "'db': 'data-analyst-final-project-db'} # название базы данных\n",
    "connection_string = 'postgresql://{user}:{pwd}@{host}:{port}/{db}'.format(**db_config)\n",
    "# сохраняем коннектор\n",
    "engine = create_engine(connection_string, connect_args={'sslmode':'require'})\n",
    "# чтобы выполнить SQL-запрос, используем Pandas\n",
    "query = '''SELECT * FROM books LIMIT 5'''\n",
    "con=engine.connect()\n",
    "pd.io.sql.read_sql(sql=text(query), con = con)"
   ]
  },
  {
   "cell_type": "code",
   "execution_count": 2,
   "metadata": {},
   "outputs": [
    {
     "data": {
      "text/html": [
       "<div>\n",
       "<style scoped>\n",
       "    .dataframe tbody tr th:only-of-type {\n",
       "        vertical-align: middle;\n",
       "    }\n",
       "\n",
       "    .dataframe tbody tr th {\n",
       "        vertical-align: top;\n",
       "    }\n",
       "\n",
       "    .dataframe thead th {\n",
       "        text-align: right;\n",
       "    }\n",
       "</style>\n",
       "<table border=\"1\" class=\"dataframe\">\n",
       "  <thead>\n",
       "    <tr style=\"text-align: right;\">\n",
       "      <th></th>\n",
       "      <th>book_id</th>\n",
       "      <th>author_id</th>\n",
       "      <th>title</th>\n",
       "      <th>num_pages</th>\n",
       "      <th>publication_date</th>\n",
       "      <th>publisher_id</th>\n",
       "    </tr>\n",
       "  </thead>\n",
       "  <tbody>\n",
       "    <tr>\n",
       "      <th>0</th>\n",
       "      <td>1</td>\n",
       "      <td>546</td>\n",
       "      <td>'Salem's Lot</td>\n",
       "      <td>594</td>\n",
       "      <td>2005-11-01</td>\n",
       "      <td>93</td>\n",
       "    </tr>\n",
       "    <tr>\n",
       "      <th>1</th>\n",
       "      <td>2</td>\n",
       "      <td>465</td>\n",
       "      <td>1 000 Places to See Before You Die</td>\n",
       "      <td>992</td>\n",
       "      <td>2003-05-22</td>\n",
       "      <td>336</td>\n",
       "    </tr>\n",
       "    <tr>\n",
       "      <th>2</th>\n",
       "      <td>3</td>\n",
       "      <td>407</td>\n",
       "      <td>13 Little Blue Envelopes (Little Blue Envelope...</td>\n",
       "      <td>322</td>\n",
       "      <td>2010-12-21</td>\n",
       "      <td>135</td>\n",
       "    </tr>\n",
       "    <tr>\n",
       "      <th>3</th>\n",
       "      <td>4</td>\n",
       "      <td>82</td>\n",
       "      <td>1491: New Revelations of the Americas Before C...</td>\n",
       "      <td>541</td>\n",
       "      <td>2006-10-10</td>\n",
       "      <td>309</td>\n",
       "    </tr>\n",
       "    <tr>\n",
       "      <th>4</th>\n",
       "      <td>5</td>\n",
       "      <td>125</td>\n",
       "      <td>1776</td>\n",
       "      <td>386</td>\n",
       "      <td>2006-07-04</td>\n",
       "      <td>268</td>\n",
       "    </tr>\n",
       "    <tr>\n",
       "      <th>...</th>\n",
       "      <td>...</td>\n",
       "      <td>...</td>\n",
       "      <td>...</td>\n",
       "      <td>...</td>\n",
       "      <td>...</td>\n",
       "      <td>...</td>\n",
       "    </tr>\n",
       "    <tr>\n",
       "      <th>995</th>\n",
       "      <td>996</td>\n",
       "      <td>571</td>\n",
       "      <td>Wyrd Sisters (Discworld  #6; Witches #2)</td>\n",
       "      <td>265</td>\n",
       "      <td>2001-02-06</td>\n",
       "      <td>147</td>\n",
       "    </tr>\n",
       "    <tr>\n",
       "      <th>996</th>\n",
       "      <td>997</td>\n",
       "      <td>454</td>\n",
       "      <td>Xenocide (Ender's Saga  #3)</td>\n",
       "      <td>592</td>\n",
       "      <td>1996-07-15</td>\n",
       "      <td>297</td>\n",
       "    </tr>\n",
       "    <tr>\n",
       "      <th>997</th>\n",
       "      <td>998</td>\n",
       "      <td>201</td>\n",
       "      <td>Year of Wonders</td>\n",
       "      <td>358</td>\n",
       "      <td>2002-04-30</td>\n",
       "      <td>212</td>\n",
       "    </tr>\n",
       "    <tr>\n",
       "      <th>998</th>\n",
       "      <td>999</td>\n",
       "      <td>94</td>\n",
       "      <td>You Suck (A Love Story  #2)</td>\n",
       "      <td>328</td>\n",
       "      <td>2007-01-16</td>\n",
       "      <td>331</td>\n",
       "    </tr>\n",
       "    <tr>\n",
       "      <th>999</th>\n",
       "      <td>1000</td>\n",
       "      <td>509</td>\n",
       "      <td>Zen and the Art of Motorcycle Maintenance: An ...</td>\n",
       "      <td>540</td>\n",
       "      <td>2006-04-25</td>\n",
       "      <td>143</td>\n",
       "    </tr>\n",
       "  </tbody>\n",
       "</table>\n",
       "<p>1000 rows × 6 columns</p>\n",
       "</div>"
      ],
      "text/plain": [
       "     book_id  author_id                                              title  \\\n",
       "0          1        546                                       'Salem's Lot   \n",
       "1          2        465                 1 000 Places to See Before You Die   \n",
       "2          3        407  13 Little Blue Envelopes (Little Blue Envelope...   \n",
       "3          4         82  1491: New Revelations of the Americas Before C...   \n",
       "4          5        125                                               1776   \n",
       "..       ...        ...                                                ...   \n",
       "995      996        571           Wyrd Sisters (Discworld  #6; Witches #2)   \n",
       "996      997        454                        Xenocide (Ender's Saga  #3)   \n",
       "997      998        201                                    Year of Wonders   \n",
       "998      999         94                        You Suck (A Love Story  #2)   \n",
       "999     1000        509  Zen and the Art of Motorcycle Maintenance: An ...   \n",
       "\n",
       "     num_pages publication_date  publisher_id  \n",
       "0          594       2005-11-01            93  \n",
       "1          992       2003-05-22           336  \n",
       "2          322       2010-12-21           135  \n",
       "3          541       2006-10-10           309  \n",
       "4          386       2006-07-04           268  \n",
       "..         ...              ...           ...  \n",
       "995        265       2001-02-06           147  \n",
       "996        592       1996-07-15           297  \n",
       "997        358       2002-04-30           212  \n",
       "998        328       2007-01-16           331  \n",
       "999        540       2006-04-25           143  \n",
       "\n",
       "[1000 rows x 6 columns]"
      ]
     },
     "execution_count": 2,
     "metadata": {},
     "output_type": "execute_result"
    }
   ],
   "source": [
    "query = '''SELECT * from \n",
    " books'''\n",
    "con=engine.connect()\n",
    "pd.io.sql.read_sql(sql=text(query), con = con)"
   ]
  },
  {
   "cell_type": "markdown",
   "metadata": {},
   "source": [
    "##  Посчитать, сколько книг вышло после 1 января 2000 года;  \n"
   ]
  },
  {
   "cell_type": "code",
   "execution_count": 3,
   "metadata": {},
   "outputs": [
    {
     "data": {
      "text/html": [
       "<div>\n",
       "<style scoped>\n",
       "    .dataframe tbody tr th:only-of-type {\n",
       "        vertical-align: middle;\n",
       "    }\n",
       "\n",
       "    .dataframe tbody tr th {\n",
       "        vertical-align: top;\n",
       "    }\n",
       "\n",
       "    .dataframe thead th {\n",
       "        text-align: right;\n",
       "    }\n",
       "</style>\n",
       "<table border=\"1\" class=\"dataframe\">\n",
       "  <thead>\n",
       "    <tr style=\"text-align: right;\">\n",
       "      <th></th>\n",
       "      <th>count</th>\n",
       "    </tr>\n",
       "  </thead>\n",
       "  <tbody>\n",
       "    <tr>\n",
       "      <th>0</th>\n",
       "      <td>819</td>\n",
       "    </tr>\n",
       "  </tbody>\n",
       "</table>\n",
       "</div>"
      ],
      "text/plain": [
       "   count\n",
       "0    819"
      ]
     },
     "execution_count": 3,
     "metadata": {},
     "output_type": "execute_result"
    }
   ],
   "source": [
    "query= '''SELECT count(book_id) FROM books  where publication_date> '2000-01-01' '''\n",
    "con=engine.connect()\n",
    "pd.io.sql.read_sql(sql=text(query), con = con)"
   ]
  },
  {
   "cell_type": "markdown",
   "metadata": {},
   "source": [
    "## Для каждой книги посчитать количество обзоров и среднюю оценку; "
   ]
  },
  {
   "cell_type": "code",
   "execution_count": 4,
   "metadata": {},
   "outputs": [
    {
     "data": {
      "text/html": [
       "<div>\n",
       "<style scoped>\n",
       "    .dataframe tbody tr th:only-of-type {\n",
       "        vertical-align: middle;\n",
       "    }\n",
       "\n",
       "    .dataframe tbody tr th {\n",
       "        vertical-align: top;\n",
       "    }\n",
       "\n",
       "    .dataframe thead th {\n",
       "        text-align: right;\n",
       "    }\n",
       "</style>\n",
       "<table border=\"1\" class=\"dataframe\">\n",
       "  <thead>\n",
       "    <tr style=\"text-align: right;\">\n",
       "      <th></th>\n",
       "      <th>book_id</th>\n",
       "      <th>count</th>\n",
       "      <th>avg</th>\n",
       "    </tr>\n",
       "  </thead>\n",
       "  <tbody>\n",
       "    <tr>\n",
       "      <th>0</th>\n",
       "      <td>1</td>\n",
       "      <td>2</td>\n",
       "      <td>3.666667</td>\n",
       "    </tr>\n",
       "    <tr>\n",
       "      <th>1</th>\n",
       "      <td>2</td>\n",
       "      <td>1</td>\n",
       "      <td>2.500000</td>\n",
       "    </tr>\n",
       "    <tr>\n",
       "      <th>2</th>\n",
       "      <td>3</td>\n",
       "      <td>3</td>\n",
       "      <td>4.666667</td>\n",
       "    </tr>\n",
       "    <tr>\n",
       "      <th>3</th>\n",
       "      <td>4</td>\n",
       "      <td>2</td>\n",
       "      <td>4.500000</td>\n",
       "    </tr>\n",
       "    <tr>\n",
       "      <th>4</th>\n",
       "      <td>5</td>\n",
       "      <td>4</td>\n",
       "      <td>4.000000</td>\n",
       "    </tr>\n",
       "    <tr>\n",
       "      <th>...</th>\n",
       "      <td>...</td>\n",
       "      <td>...</td>\n",
       "      <td>...</td>\n",
       "    </tr>\n",
       "    <tr>\n",
       "      <th>995</th>\n",
       "      <td>996</td>\n",
       "      <td>3</td>\n",
       "      <td>3.666667</td>\n",
       "    </tr>\n",
       "    <tr>\n",
       "      <th>996</th>\n",
       "      <td>997</td>\n",
       "      <td>3</td>\n",
       "      <td>3.400000</td>\n",
       "    </tr>\n",
       "    <tr>\n",
       "      <th>997</th>\n",
       "      <td>998</td>\n",
       "      <td>4</td>\n",
       "      <td>3.200000</td>\n",
       "    </tr>\n",
       "    <tr>\n",
       "      <th>998</th>\n",
       "      <td>999</td>\n",
       "      <td>2</td>\n",
       "      <td>4.500000</td>\n",
       "    </tr>\n",
       "    <tr>\n",
       "      <th>999</th>\n",
       "      <td>1000</td>\n",
       "      <td>4</td>\n",
       "      <td>3.833333</td>\n",
       "    </tr>\n",
       "  </tbody>\n",
       "</table>\n",
       "<p>1000 rows × 3 columns</p>\n",
       "</div>"
      ],
      "text/plain": [
       "     book_id  count       avg\n",
       "0          1      2  3.666667\n",
       "1          2      1  2.500000\n",
       "2          3      3  4.666667\n",
       "3          4      2  4.500000\n",
       "4          5      4  4.000000\n",
       "..       ...    ...       ...\n",
       "995      996      3  3.666667\n",
       "996      997      3  3.400000\n",
       "997      998      4  3.200000\n",
       "998      999      2  4.500000\n",
       "999     1000      4  3.833333\n",
       "\n",
       "[1000 rows x 3 columns]"
      ]
     },
     "execution_count": 4,
     "metadata": {},
     "output_type": "execute_result"
    }
   ],
   "source": [
    "query= '''\n",
    "SELECT books.book_id, count(distinct(review_id)), avg(rating) \n",
    "FROM books\n",
    "left join reviews ON books.book_id=reviews.book_id \n",
    "left join ratings ON books.book_id=ratings.book_id\n",
    "Group BY books.book_id'''\n",
    "con=engine.connect()\n",
    "pd.io.sql.read_sql(sql=text(query), con = con)"
   ]
  },
  {
   "cell_type": "markdown",
   "metadata": {},
   "source": [
    "## Определить издательство, которое выпустило наибольшее число книг толще 50 страниц — так вы исключите из анализа брошюры;  \n"
   ]
  },
  {
   "cell_type": "code",
   "execution_count": 5,
   "metadata": {},
   "outputs": [
    {
     "data": {
      "text/html": [
       "<div>\n",
       "<style scoped>\n",
       "    .dataframe tbody tr th:only-of-type {\n",
       "        vertical-align: middle;\n",
       "    }\n",
       "\n",
       "    .dataframe tbody tr th {\n",
       "        vertical-align: top;\n",
       "    }\n",
       "\n",
       "    .dataframe thead th {\n",
       "        text-align: right;\n",
       "    }\n",
       "</style>\n",
       "<table border=\"1\" class=\"dataframe\">\n",
       "  <thead>\n",
       "    <tr style=\"text-align: right;\">\n",
       "      <th></th>\n",
       "      <th>publisher</th>\n",
       "      <th>count_books</th>\n",
       "    </tr>\n",
       "  </thead>\n",
       "  <tbody>\n",
       "    <tr>\n",
       "      <th>0</th>\n",
       "      <td>Penguin Books</td>\n",
       "      <td>42</td>\n",
       "    </tr>\n",
       "  </tbody>\n",
       "</table>\n",
       "</div>"
      ],
      "text/plain": [
       "       publisher  count_books\n",
       "0  Penguin Books           42"
      ]
     },
     "execution_count": 5,
     "metadata": {},
     "output_type": "execute_result"
    }
   ],
   "source": [
    "query= '''\n",
    "\n",
    "WITH a as(SELECT publisher, count(book_id) as count_books\n",
    "FROM books\n",
    "join publishers ON books.publisher_id=publishers.publisher_id \n",
    "where num_pages>50\n",
    "group by publisher)\n",
    "\n",
    "select publisher, count_books from a\n",
    "where count_books=(select max(count_books)\n",
    "from a) \n",
    "'''\n",
    "con=engine.connect()\n",
    "pd.io.sql.read_sql(sql=text(query), con = con)"
   ]
  },
  {
   "cell_type": "markdown",
   "metadata": {},
   "source": [
    "## Определить автора с самой высокой средней оценкой книг — учитывайте только книги с 50 и более оценками;  \n"
   ]
  },
  {
   "cell_type": "code",
   "execution_count": 6,
   "metadata": {},
   "outputs": [
    {
     "data": {
      "text/html": [
       "<div>\n",
       "<style scoped>\n",
       "    .dataframe tbody tr th:only-of-type {\n",
       "        vertical-align: middle;\n",
       "    }\n",
       "\n",
       "    .dataframe tbody tr th {\n",
       "        vertical-align: top;\n",
       "    }\n",
       "\n",
       "    .dataframe thead th {\n",
       "        text-align: right;\n",
       "    }\n",
       "</style>\n",
       "<table border=\"1\" class=\"dataframe\">\n",
       "  <thead>\n",
       "    <tr style=\"text-align: right;\">\n",
       "      <th></th>\n",
       "      <th>author</th>\n",
       "      <th>avg</th>\n",
       "    </tr>\n",
       "  </thead>\n",
       "  <tbody>\n",
       "    <tr>\n",
       "      <th>0</th>\n",
       "      <td>J.K. Rowling/Mary GrandPré</td>\n",
       "      <td>4.288462</td>\n",
       "    </tr>\n",
       "  </tbody>\n",
       "</table>\n",
       "</div>"
      ],
      "text/plain": [
       "                       author       avg\n",
       "0  J.K. Rowling/Mary GrandPré  4.288462"
      ]
     },
     "execution_count": 6,
     "metadata": {},
     "output_type": "execute_result"
    }
   ],
   "source": [
    "query= '''\n",
    "with a as(\n",
    "select author,avg(rating)\n",
    "from books\n",
    "join authors ON books.author_id=authors.author_id\n",
    "join ratings ON books.book_id=ratings.book_id\n",
    "group by author\n",
    "having count(rating) >50)\n",
    "\n",
    "select author, avg \n",
    "from a\n",
    "where avg=(select max(avg) from a)\n",
    "'''\n",
    "con=engine.connect()\n",
    "pd.io.sql.read_sql(sql=text(query), con = con)"
   ]
  },
  {
   "cell_type": "markdown",
   "metadata": {},
   "source": [
    "## Посчитать среднее количество обзоров от пользователей, которые поставили больше 48 оценок.  "
   ]
  },
  {
   "cell_type": "code",
   "execution_count": 7,
   "metadata": {},
   "outputs": [
    {
     "data": {
      "text/html": [
       "<div>\n",
       "<style scoped>\n",
       "    .dataframe tbody tr th:only-of-type {\n",
       "        vertical-align: middle;\n",
       "    }\n",
       "\n",
       "    .dataframe tbody tr th {\n",
       "        vertical-align: top;\n",
       "    }\n",
       "\n",
       "    .dataframe thead th {\n",
       "        text-align: right;\n",
       "    }\n",
       "</style>\n",
       "<table border=\"1\" class=\"dataframe\">\n",
       "  <thead>\n",
       "    <tr style=\"text-align: right;\">\n",
       "      <th></th>\n",
       "      <th>avg</th>\n",
       "    </tr>\n",
       "  </thead>\n",
       "  <tbody>\n",
       "    <tr>\n",
       "      <th>0</th>\n",
       "      <td>24.0</td>\n",
       "    </tr>\n",
       "  </tbody>\n",
       "</table>\n",
       "</div>"
      ],
      "text/plain": [
       "    avg\n",
       "0  24.0"
      ]
     },
     "execution_count": 7,
     "metadata": {},
     "output_type": "execute_result"
    }
   ],
   "source": [
    "query = '''\n",
    "WITH\n",
    "    ratings_subquery AS (\n",
    "        SELECT\n",
    "            ratings.username,\n",
    "            COUNT(rating) AS ratings_quantity\n",
    "        FROM\n",
    "            ratings\n",
    "        GROUP BY\n",
    "            ratings.username\n",
    "        HAVING\n",
    "            COUNT(rating) > 48\n",
    "        ),\n",
    "    reviews_subquery AS (\n",
    "        SELECT\n",
    "            reviews.username,\n",
    "            COUNT(review_id) AS reviews_quantity\n",
    "        FROM\n",
    "            reviews\n",
    "        GROUP BY\n",
    "            reviews.username\n",
    "    )\n",
    "SELECT\n",
    "    AVG(reviews_quantity)\n",
    "FROM\n",
    "    ratings_subquery\n",
    "    LEFT JOIN reviews_subquery ON reviews_subquery.username = ratings_subquery.username\n",
    "   '''\n",
    "con=engine.connect()\n",
    "pd.io.sql.read_sql(sql=text(query), con = con) "
   ]
  },
  {
   "cell_type": "markdown",
   "metadata": {},
   "source": [
    "Таким образом, проанализировав полученную базу данных книг, можем отметить, что после 1.01.2000 г. вышло 819 книг.  \n",
    "Количество обзоров и средняя оценка для кажой книги представлены выше в таблице задания 2.  \n",
    "Издательством, выпустившим наибольшее число книг толще 50 страниц, стало Penguin Books c количеством книг 42.  \n",
    "Автором, с самой высокой средней оценкой книг, учитывая только книги с 50 и более оценками, стала J.K. Rowling/Mary GrandPré с оценкой 4.28.\n",
    "Cреднее количество обзоров от пользователей, которые поставили больше 48 оценок, составило 24.    "
   ]
  }
 ],
 "metadata": {
  "ExecuteTimeLog": [
   {
    "duration": 9542,
    "start_time": "2025-02-09T09:01:02.568Z"
   },
   {
    "duration": 2,
    "start_time": "2025-02-09T09:51:08.128Z"
   },
   {
    "duration": 3,
    "start_time": "2025-02-09T09:51:17.831Z"
   },
   {
    "duration": 126,
    "start_time": "2025-02-09T09:51:58.933Z"
   },
   {
    "duration": 81,
    "start_time": "2025-02-09T09:52:30.558Z"
   },
   {
    "duration": 3,
    "start_time": "2025-02-09T09:53:12.633Z"
   },
   {
    "duration": 5,
    "start_time": "2025-02-09T09:53:31.452Z"
   },
   {
    "duration": 136,
    "start_time": "2025-02-09T09:53:44.124Z"
   },
   {
    "duration": 72,
    "start_time": "2025-02-09T09:53:58.158Z"
   },
   {
    "duration": 121,
    "start_time": "2025-02-09T09:54:31.132Z"
   },
   {
    "duration": 3,
    "start_time": "2025-02-09T09:55:26.134Z"
   },
   {
    "duration": 173,
    "start_time": "2025-02-09T11:46:20.420Z"
   },
   {
    "duration": 65,
    "start_time": "2025-02-09T11:48:42.008Z"
   },
   {
    "duration": 61,
    "start_time": "2025-02-09T11:50:29.613Z"
   },
   {
    "duration": 60,
    "start_time": "2025-02-09T11:55:11.364Z"
   },
   {
    "duration": 144,
    "start_time": "2025-02-09T11:55:58.457Z"
   },
   {
    "duration": 71,
    "start_time": "2025-02-09T11:56:33.536Z"
   },
   {
    "duration": 67,
    "start_time": "2025-02-09T11:56:45.751Z"
   },
   {
    "duration": 154,
    "start_time": "2025-02-09T11:56:56.961Z"
   },
   {
    "duration": 72,
    "start_time": "2025-02-09T11:57:50.029Z"
   },
   {
    "duration": 63,
    "start_time": "2025-02-09T11:59:17.341Z"
   },
   {
    "duration": 62,
    "start_time": "2025-02-09T11:59:28.985Z"
   },
   {
    "duration": 60,
    "start_time": "2025-02-09T12:00:19.068Z"
   },
   {
    "duration": 63,
    "start_time": "2025-02-09T12:00:51.629Z"
   },
   {
    "duration": 144,
    "start_time": "2025-02-09T12:00:55.170Z"
   },
   {
    "duration": 73,
    "start_time": "2025-02-09T12:01:20.681Z"
   },
   {
    "duration": 95,
    "start_time": "2025-02-09T13:44:29.996Z"
   },
   {
    "duration": 58,
    "start_time": "2025-02-09T13:44:45.669Z"
   },
   {
    "duration": 72,
    "start_time": "2025-02-09T13:45:51.355Z"
   },
   {
    "duration": 62,
    "start_time": "2025-02-09T13:47:24.030Z"
   },
   {
    "duration": 68,
    "start_time": "2025-02-09T13:47:37.855Z"
   },
   {
    "duration": 50,
    "start_time": "2025-02-09T13:48:07.132Z"
   },
   {
    "duration": 47,
    "start_time": "2025-02-10T07:13:25.176Z"
   },
   {
    "duration": 7594,
    "start_time": "2025-02-10T07:13:40.756Z"
   },
   {
    "duration": 55,
    "start_time": "2025-02-10T07:13:48.352Z"
   },
   {
    "duration": 22,
    "start_time": "2025-02-10T07:13:53.760Z"
   },
   {
    "duration": 48,
    "start_time": "2025-02-10T07:13:58.540Z"
   },
   {
    "duration": 12,
    "start_time": "2025-02-10T07:14:16.989Z"
   },
   {
    "duration": 29,
    "start_time": "2025-02-10T07:14:19.907Z"
   },
   {
    "duration": 18,
    "start_time": "2025-02-10T07:14:24.769Z"
   },
   {
    "duration": 17,
    "start_time": "2025-02-10T07:17:04.610Z"
   },
   {
    "duration": 50,
    "start_time": "2025-02-10T07:20:53.707Z"
   },
   {
    "duration": 21,
    "start_time": "2025-02-10T07:21:09.643Z"
   },
   {
    "duration": 47,
    "start_time": "2025-02-10T07:37:06.550Z"
   },
   {
    "duration": 15,
    "start_time": "2025-02-10T07:37:48.764Z"
   },
   {
    "duration": 22,
    "start_time": "2025-02-10T07:43:36.923Z"
   },
   {
    "duration": 19,
    "start_time": "2025-02-10T07:43:59.373Z"
   },
   {
    "duration": 48,
    "start_time": "2025-02-10T07:45:54.639Z"
   },
   {
    "duration": 72,
    "start_time": "2025-02-10T07:46:16.916Z"
   },
   {
    "duration": 24,
    "start_time": "2025-02-10T07:46:46.745Z"
   },
   {
    "duration": 21,
    "start_time": "2025-02-10T07:49:18.237Z"
   },
   {
    "duration": 21,
    "start_time": "2025-02-10T07:51:30.735Z"
   },
   {
    "duration": 82,
    "start_time": "2025-02-10T07:52:57.769Z"
   },
   {
    "duration": 232,
    "start_time": "2025-02-10T08:06:23.216Z"
   },
   {
    "duration": 225,
    "start_time": "2025-02-10T08:06:40.410Z"
   },
   {
    "duration": 21,
    "start_time": "2025-02-10T08:11:48.646Z"
   },
   {
    "duration": 13,
    "start_time": "2025-02-10T08:12:23.313Z"
   },
   {
    "duration": 12,
    "start_time": "2025-02-10T08:14:46.693Z"
   },
   {
    "duration": 22,
    "start_time": "2025-02-10T08:52:49.556Z"
   },
   {
    "duration": 11,
    "start_time": "2025-02-10T08:53:48.362Z"
   },
   {
    "duration": 44,
    "start_time": "2025-02-10T09:03:17.108Z"
   },
   {
    "duration": 21,
    "start_time": "2025-02-10T09:03:26.147Z"
   },
   {
    "duration": 20,
    "start_time": "2025-02-10T09:03:53.022Z"
   },
   {
    "duration": 18,
    "start_time": "2025-02-10T09:04:16.837Z"
   },
   {
    "duration": 16,
    "start_time": "2025-02-10T09:05:37.255Z"
   },
   {
    "duration": 23,
    "start_time": "2025-02-10T09:20:47.666Z"
   },
   {
    "duration": 20,
    "start_time": "2025-02-10T09:20:59.169Z"
   },
   {
    "duration": 23,
    "start_time": "2025-02-10T09:21:16.028Z"
   },
   {
    "duration": 20,
    "start_time": "2025-02-10T09:21:46.546Z"
   },
   {
    "duration": 22,
    "start_time": "2025-02-10T09:22:31.631Z"
   },
   {
    "duration": 24,
    "start_time": "2025-02-10T09:22:43.376Z"
   },
   {
    "duration": 22,
    "start_time": "2025-02-10T09:23:54.429Z"
   },
   {
    "duration": 12,
    "start_time": "2025-02-10T09:36:34.370Z"
   },
   {
    "duration": 6273,
    "start_time": "2025-02-10T09:37:22.375Z"
   },
   {
    "duration": 60,
    "start_time": "2025-02-10T09:37:28.651Z"
   },
   {
    "duration": 10,
    "start_time": "2025-02-10T09:37:28.713Z"
   },
   {
    "duration": 28,
    "start_time": "2025-02-10T09:37:28.726Z"
   },
   {
    "duration": 11,
    "start_time": "2025-02-10T09:37:28.756Z"
   },
   {
    "duration": 15,
    "start_time": "2025-02-10T09:37:28.769Z"
   },
   {
    "duration": 21,
    "start_time": "2025-02-10T09:37:28.786Z"
   },
   {
    "duration": 75,
    "start_time": "2025-02-10T17:18:26.051Z"
   },
   {
    "duration": 9042,
    "start_time": "2025-02-10T17:18:50.548Z"
   },
   {
    "duration": 167,
    "start_time": "2025-02-10T17:18:59.593Z"
   },
   {
    "duration": 52,
    "start_time": "2025-02-10T17:18:59.762Z"
   },
   {
    "duration": 176,
    "start_time": "2025-02-10T17:18:59.816Z"
   },
   {
    "duration": 0,
    "start_time": "2025-02-10T17:18:59.994Z"
   },
   {
    "duration": 0,
    "start_time": "2025-02-10T17:18:59.995Z"
   },
   {
    "duration": 0,
    "start_time": "2025-02-10T17:18:59.996Z"
   },
   {
    "duration": 61,
    "start_time": "2025-02-10T17:19:24.486Z"
   },
   {
    "duration": 303,
    "start_time": "2025-02-10T17:23:07.615Z"
   },
   {
    "duration": 64,
    "start_time": "2025-02-10T17:23:40.971Z"
   },
   {
    "duration": 142,
    "start_time": "2025-02-10T17:23:56.787Z"
   },
   {
    "duration": 76,
    "start_time": "2025-02-10T17:25:01.911Z"
   },
   {
    "duration": 77,
    "start_time": "2025-02-10T17:25:23.041Z"
   },
   {
    "duration": 71,
    "start_time": "2025-02-10T17:25:36.022Z"
   },
   {
    "duration": 75,
    "start_time": "2025-02-10T17:26:16.575Z"
   },
   {
    "duration": 53,
    "start_time": "2025-02-10T17:27:02.747Z"
   },
   {
    "duration": 53,
    "start_time": "2025-02-10T17:27:17.159Z"
   },
   {
    "duration": 57,
    "start_time": "2025-02-10T17:28:11.159Z"
   },
   {
    "duration": 61,
    "start_time": "2025-02-10T17:33:50.612Z"
   },
   {
    "duration": 63,
    "start_time": "2025-02-10T17:48:40.460Z"
   },
   {
    "duration": 62,
    "start_time": "2025-02-10T18:01:55.681Z"
   },
   {
    "duration": 64,
    "start_time": "2025-02-10T18:02:16.061Z"
   },
   {
    "duration": 63,
    "start_time": "2025-02-10T18:03:32.498Z"
   },
   {
    "duration": 59,
    "start_time": "2025-02-10T18:04:08.965Z"
   },
   {
    "duration": 73,
    "start_time": "2025-02-10T18:27:07.323Z"
   },
   {
    "duration": 68,
    "start_time": "2025-02-10T18:27:18.425Z"
   },
   {
    "duration": 75,
    "start_time": "2025-02-10T18:29:59.586Z"
   },
   {
    "duration": 3,
    "start_time": "2025-02-10T18:30:27.008Z"
   },
   {
    "duration": 75,
    "start_time": "2025-02-10T18:30:40.828Z"
   },
   {
    "duration": 62,
    "start_time": "2025-02-10T18:30:49.787Z"
   },
   {
    "duration": 137,
    "start_time": "2025-02-10T18:31:33.492Z"
   },
   {
    "duration": 63,
    "start_time": "2025-02-10T18:32:37.428Z"
   },
   {
    "duration": 162,
    "start_time": "2025-02-10T18:36:37.922Z"
   },
   {
    "duration": 69,
    "start_time": "2025-02-10T18:36:48.581Z"
   },
   {
    "duration": 8807,
    "start_time": "2025-02-10T18:40:02.166Z"
   },
   {
    "duration": 148,
    "start_time": "2025-02-10T18:40:10.975Z"
   },
   {
    "duration": 52,
    "start_time": "2025-02-10T18:40:11.125Z"
   },
   {
    "duration": 69,
    "start_time": "2025-02-10T18:40:11.179Z"
   },
   {
    "duration": 55,
    "start_time": "2025-02-10T18:40:11.249Z"
   },
   {
    "duration": 59,
    "start_time": "2025-02-10T18:40:11.306Z"
   },
   {
    "duration": 71,
    "start_time": "2025-02-10T18:40:11.367Z"
   },
   {
    "duration": 8552,
    "start_time": "2025-02-11T16:44:47.555Z"
   },
   {
    "duration": 154,
    "start_time": "2025-02-11T16:44:56.110Z"
   },
   {
    "duration": 53,
    "start_time": "2025-02-11T16:44:56.265Z"
   },
   {
    "duration": 70,
    "start_time": "2025-02-11T16:44:56.320Z"
   },
   {
    "duration": 56,
    "start_time": "2025-02-11T16:44:56.392Z"
   },
   {
    "duration": 60,
    "start_time": "2025-02-11T16:44:56.449Z"
   },
   {
    "duration": 74,
    "start_time": "2025-02-11T16:44:56.510Z"
   },
   {
    "duration": 48,
    "start_time": "2025-02-11T17:06:46.211Z"
   },
   {
    "duration": 9722,
    "start_time": "2025-02-11T17:07:16.141Z"
   },
   {
    "duration": 58,
    "start_time": "2025-02-11T17:07:27.614Z"
   },
   {
    "duration": 34,
    "start_time": "2025-02-11T17:07:34.715Z"
   },
   {
    "duration": 39,
    "start_time": "2025-02-11T17:07:36.054Z"
   },
   {
    "duration": 11,
    "start_time": "2025-02-11T17:07:41.217Z"
   },
   {
    "duration": 28,
    "start_time": "2025-02-11T17:07:43.907Z"
   },
   {
    "duration": 27,
    "start_time": "2025-02-11T17:07:45.464Z"
   },
   {
    "duration": 13,
    "start_time": "2025-02-11T17:07:57.179Z"
   },
   {
    "duration": 17,
    "start_time": "2025-02-11T17:08:03.364Z"
   },
   {
    "duration": 29,
    "start_time": "2025-02-11T17:08:15.320Z"
   },
   {
    "duration": 24,
    "start_time": "2025-02-11T17:08:51.418Z"
   },
   {
    "duration": 46,
    "start_time": "2025-02-11T17:11:42.487Z"
   },
   {
    "duration": 17,
    "start_time": "2025-02-11T17:12:09.878Z"
   },
   {
    "duration": 54,
    "start_time": "2025-02-11T17:12:40.858Z"
   },
   {
    "duration": 29,
    "start_time": "2025-02-11T17:14:45.473Z"
   },
   {
    "duration": 25,
    "start_time": "2025-02-11T17:15:18.883Z"
   },
   {
    "duration": 106,
    "start_time": "2025-02-11T17:20:06.157Z"
   },
   {
    "duration": 22,
    "start_time": "2025-02-11T17:20:33.606Z"
   },
   {
    "duration": 37,
    "start_time": "2025-02-11T17:24:22.894Z"
   },
   {
    "duration": 69,
    "start_time": "2025-02-11T17:26:28.634Z"
   },
   {
    "duration": 19,
    "start_time": "2025-02-11T17:28:29.021Z"
   },
   {
    "duration": 19,
    "start_time": "2025-02-11T17:28:36.694Z"
   },
   {
    "duration": 55,
    "start_time": "2025-02-11T17:29:08.134Z"
   },
   {
    "duration": 20,
    "start_time": "2025-02-11T17:29:34.685Z"
   },
   {
    "duration": 62,
    "start_time": "2025-02-11T17:30:10.778Z"
   },
   {
    "duration": 64,
    "start_time": "2025-02-11T17:30:30.233Z"
   },
   {
    "duration": 61,
    "start_time": "2025-02-11T17:31:06.411Z"
   },
   {
    "duration": 62,
    "start_time": "2025-02-11T18:14:45.722Z"
   },
   {
    "duration": 20,
    "start_time": "2025-02-11T18:14:57.670Z"
   },
   {
    "duration": 57,
    "start_time": "2025-02-11T18:15:06.217Z"
   },
   {
    "duration": 60,
    "start_time": "2025-02-11T18:15:40.397Z"
   },
   {
    "duration": 57,
    "start_time": "2025-02-11T20:24:29.710Z"
   },
   {
    "duration": 53,
    "start_time": "2025-02-11T20:24:44.555Z"
   },
   {
    "duration": 52,
    "start_time": "2025-02-11T20:37:35.447Z"
   },
   {
    "duration": 67,
    "start_time": "2025-02-11T20:38:01.419Z"
   },
   {
    "duration": 20,
    "start_time": "2025-02-11T20:39:45.654Z"
   },
   {
    "duration": 47,
    "start_time": "2025-02-11T20:39:50.923Z"
   },
   {
    "duration": 64,
    "start_time": "2025-02-11T20:40:27.835Z"
   },
   {
    "duration": 56,
    "start_time": "2025-02-11T20:40:47.118Z"
   },
   {
    "duration": 31,
    "start_time": "2025-02-11T20:41:41.095Z"
   },
   {
    "duration": 27,
    "start_time": "2025-02-11T20:49:43.634Z"
   },
   {
    "duration": 25,
    "start_time": "2025-02-11T20:50:21.960Z"
   },
   {
    "duration": 3,
    "start_time": "2025-02-11T20:51:36.834Z"
   },
   {
    "duration": 3,
    "start_time": "2025-02-11T20:51:57.932Z"
   },
   {
    "duration": 15,
    "start_time": "2025-02-11T20:52:14.623Z"
   },
   {
    "duration": 14,
    "start_time": "2025-02-11T20:52:24.021Z"
   },
   {
    "duration": 13,
    "start_time": "2025-02-11T20:52:34.775Z"
   },
   {
    "duration": 16,
    "start_time": "2025-02-11T20:52:40.762Z"
   },
   {
    "duration": 21,
    "start_time": "2025-02-11T20:54:06.214Z"
   },
   {
    "duration": 19,
    "start_time": "2025-02-11T20:54:19.620Z"
   },
   {
    "duration": 22,
    "start_time": "2025-02-11T20:55:27.758Z"
   },
   {
    "duration": 20,
    "start_time": "2025-02-11T20:56:17.768Z"
   },
   {
    "duration": 30,
    "start_time": "2025-02-11T20:56:32.316Z"
   },
   {
    "duration": 26,
    "start_time": "2025-02-11T20:57:37.967Z"
   },
   {
    "duration": 29,
    "start_time": "2025-02-11T20:58:21.326Z"
   },
   {
    "duration": 19,
    "start_time": "2025-02-11T21:08:08.763Z"
   },
   {
    "duration": 20,
    "start_time": "2025-02-11T21:08:39.837Z"
   },
   {
    "duration": 28,
    "start_time": "2025-02-11T21:08:56.769Z"
   },
   {
    "duration": 33,
    "start_time": "2025-02-11T21:23:20.973Z"
   },
   {
    "duration": 29,
    "start_time": "2025-02-11T21:24:17.086Z"
   },
   {
    "duration": 15,
    "start_time": "2025-02-11T21:24:23.145Z"
   },
   {
    "duration": 157,
    "start_time": "2025-02-11T21:32:30.368Z"
   },
   {
    "duration": 13,
    "start_time": "2025-02-11T21:33:04.477Z"
   },
   {
    "duration": 68,
    "start_time": "2025-02-11T21:34:52.840Z"
   },
   {
    "duration": 20,
    "start_time": "2025-02-11T21:35:16.317Z"
   },
   {
    "duration": 21,
    "start_time": "2025-02-11T21:36:02.998Z"
   },
   {
    "duration": 20,
    "start_time": "2025-02-11T21:36:50.543Z"
   },
   {
    "duration": 57,
    "start_time": "2025-02-11T21:37:06.716Z"
   },
   {
    "duration": 52,
    "start_time": "2025-02-11T21:37:35.564Z"
   },
   {
    "duration": 47,
    "start_time": "2025-02-11T21:37:47.520Z"
   },
   {
    "duration": 52,
    "start_time": "2025-02-11T21:38:13.494Z"
   },
   {
    "duration": 58,
    "start_time": "2025-02-11T21:40:48.288Z"
   },
   {
    "duration": 25,
    "start_time": "2025-02-11T21:43:57.859Z"
   },
   {
    "duration": 26,
    "start_time": "2025-02-11T21:44:17.070Z"
   },
   {
    "duration": 24,
    "start_time": "2025-02-11T21:44:31.957Z"
   },
   {
    "duration": 25,
    "start_time": "2025-02-11T21:47:21.712Z"
   },
   {
    "duration": 25,
    "start_time": "2025-02-11T21:49:25.443Z"
   },
   {
    "duration": 26,
    "start_time": "2025-02-11T21:49:25.472Z"
   },
   {
    "duration": 27,
    "start_time": "2025-02-11T21:49:34.863Z"
   },
   {
    "duration": 24,
    "start_time": "2025-02-11T21:50:08.619Z"
   },
   {
    "duration": 27,
    "start_time": "2025-02-11T21:50:17.591Z"
   },
   {
    "duration": 63,
    "start_time": "2025-02-11T21:53:05.070Z"
   },
   {
    "duration": 27,
    "start_time": "2025-02-11T21:53:05.339Z"
   },
   {
    "duration": 24,
    "start_time": "2025-02-11T21:53:05.373Z"
   },
   {
    "duration": 26,
    "start_time": "2025-02-11T21:53:20.529Z"
   },
   {
    "duration": 96,
    "start_time": "2025-02-11T21:56:04.669Z"
   },
   {
    "duration": 11,
    "start_time": "2025-02-11T21:56:39.010Z"
   },
   {
    "duration": 25,
    "start_time": "2025-02-11T21:58:42.444Z"
   },
   {
    "duration": 27,
    "start_time": "2025-02-11T21:59:04.600Z"
   },
   {
    "duration": 25,
    "start_time": "2025-02-11T21:59:14.618Z"
   },
   {
    "duration": 24,
    "start_time": "2025-02-11T21:59:25.612Z"
   },
   {
    "duration": 24,
    "start_time": "2025-02-11T21:59:49.496Z"
   },
   {
    "duration": 26,
    "start_time": "2025-02-11T22:00:22.221Z"
   },
   {
    "duration": 14,
    "start_time": "2025-02-11T22:01:28.744Z"
   },
   {
    "duration": 14,
    "start_time": "2025-02-11T22:03:16.740Z"
   },
   {
    "duration": 10788,
    "start_time": "2025-02-11T22:03:44.571Z"
   },
   {
    "duration": 49,
    "start_time": "2025-02-11T22:03:55.361Z"
   },
   {
    "duration": 10,
    "start_time": "2025-02-11T22:03:55.411Z"
   },
   {
    "duration": 25,
    "start_time": "2025-02-11T22:03:55.422Z"
   },
   {
    "duration": 12,
    "start_time": "2025-02-11T22:03:55.449Z"
   },
   {
    "duration": 12,
    "start_time": "2025-02-11T22:03:55.463Z"
   },
   {
    "duration": 16,
    "start_time": "2025-02-11T22:03:55.477Z"
   },
   {
    "duration": 13,
    "start_time": "2025-02-11T22:03:55.495Z"
   },
   {
    "duration": 11420,
    "start_time": "2025-02-11T22:04:46.943Z"
   },
   {
    "duration": 48,
    "start_time": "2025-02-11T22:04:58.364Z"
   },
   {
    "duration": 9,
    "start_time": "2025-02-11T22:04:58.413Z"
   },
   {
    "duration": 24,
    "start_time": "2025-02-11T22:04:58.424Z"
   },
   {
    "duration": 11,
    "start_time": "2025-02-11T22:04:58.450Z"
   },
   {
    "duration": 15,
    "start_time": "2025-02-11T22:04:58.463Z"
   },
   {
    "duration": 14,
    "start_time": "2025-02-11T22:04:58.480Z"
   }
  ],
  "kernelspec": {
   "display_name": "Python 3 (ipykernel)",
   "language": "python",
   "name": "python3"
  },
  "language_info": {
   "codemirror_mode": {
    "name": "ipython",
    "version": 3
   },
   "file_extension": ".py",
   "mimetype": "text/x-python",
   "name": "python",
   "nbconvert_exporter": "python",
   "pygments_lexer": "ipython3",
   "version": "3.11.5"
  },
  "toc": {
   "base_numbering": 1,
   "nav_menu": {},
   "number_sections": true,
   "sideBar": true,
   "skip_h1_title": true,
   "title_cell": "Table of Contents",
   "title_sidebar": "Contents",
   "toc_cell": false,
   "toc_position": {},
   "toc_section_display": true,
   "toc_window_display": false
  }
 },
 "nbformat": 4,
 "nbformat_minor": 2
}
