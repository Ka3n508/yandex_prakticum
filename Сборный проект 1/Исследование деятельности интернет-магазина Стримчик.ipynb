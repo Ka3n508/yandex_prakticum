{
 "cells": [
  {
   "cell_type": "markdown",
   "metadata": {},
   "source": [
    "Исследование деятельности интернет-магазина \"Стримчик\""
   ]
  },
  {
   "cell_type": "markdown",
   "metadata": {},
   "source": [
    "Описана деятельность интернет-магазине «Стримчик», который продаёт по всему миру компьютерные игры. Из открытых источников доступны исторические данные о продажах игр, оценки пользователей и экспертов, жанры и платформы (например, Xbox или PlayStation). Вам нужно выявить определяющие успешность игры закономерности. Это позволит сделать ставку на потенциально популярный продукт и спланировать рекламные кампании.\n",
    "Перед вами данные до 2016 года. Представим, что сейчас декабрь 2016 г., и вы планируете кампанию на 2017-й. Нужно отработать принцип работы с данными. Неважно, прогнозируете ли вы продажи на 2017 год по данным 2016-го или же 2027-й — по данным 2026 года.\n",
    "В наборе данных попадается аббревиатура ESRB (Entertainment Software Rating Board) — это ассоциация, определяющая возрастной рейтинг компьютерных игр. ESRB оценивает игровой контент и присваивает ему подходящую возрастную категорию, например, «Для взрослых», «Для детей младшего возраста» или «Для подростков»."
   ]
  },
  {
   "cell_type": "markdown",
   "metadata": {},
   "source": [
    "Описание данных\n",
    "\n",
    "    Name — название игры\n",
    "    Platform — платформа\n",
    "    Year_of_Release — год выпуска\n",
    "    Genre — жанр игры\n",
    "    NA_sales — продажи в Северной Америке (миллионы проданных копий)\n",
    "    EU_sales — продажи в Европе (миллионы проданных копий)\n",
    "    JP_sales — продажи в Японии (миллионы проданных копий)\n",
    "    Other_sales — продажи в других странах (миллионы проданных копий)\n",
    "    Critic_Score — оценка критиков (максимум 100)\n",
    "    User_Score — оценка пользователей (максимум 10)\n",
    "    Rating — рейтинг от организации ESRB (англ. Entertainment Software Rating Board). Эта ассоциация определяет рейтинг компьютерных игр и присваивает им подходящую возрастную категорию.\n",
    "\n",
    "Данные за 2016 год могут быть неполными.\n"
   ]
  },
  {
   "cell_type": "markdown",
   "metadata": {},
   "source": [
    "    Данный проект проводится с целью исследования индустрии компьютерных игр и прогнозирования объемов продаж и перспектив развития на 2017г.\n",
    "    В ходе исследования необходимо выполнить следующие шаги:\n",
    "    Шаг 1. Открыть файл с данными и изучить общую информацию:  \n",
    "    Шаг 2. Подготовить данные\n",
    "     -Заменить названия столбцов (приведите к нижнему регистру);\n",
    "     -Преобразовать данные в нужные типы. \n",
    "     -Обработайте пропуски при необходимости.\n",
    "     -Посчитать суммарные продажи во всех регионах и записать их в отдельный столбец:\n",
    "    Шаг 3. Провести исследовательский анализ данных\n",
    "     -Посмотреть, сколько игр выпускалось в разные годы.\n",
    "     -Посмотреть, как менялись продажи по платформам.\n",
    "     -Посмотреть какие платформы лидируют по продажам.\n",
    "     -Построить график «ящик с усами» по глобальным продажам игр в разбивке по платформам.\n",
    "     -Посмотреть, как влияют на продажи внутри одной популярной платформы отзывы пользователей и критиков. \n",
    "     -Посчитать корреляцию между отзывами и продажами\n",
    "     -Соотнести выводы с продажами игр на других платформах.\n",
    "     -Посмотреть на общее распределение игр по жанрам. Оценить, что можно сказать о самых прибыльных жанрах\n",
    "    Шаг 4. Составить портрет пользователя каждого региона\n",
    "      Определить для пользователя каждого региона (NA, EU, JP):\n",
    "    Самые популярные платформы (топ-5). Описать различия в долях продаж.\n",
    "    Самые популярные жанры (топ-5). Поясните разницу.\n",
    "    Определить влияет ли рейтинг ESRB на продажи в отдельном регионе?:\n",
    "    Шаг 5. Проверить гипотезы\n",
    "     Средние пользовательские рейтинги платформ Xbox One и PC одинаковые;\n",
    "     Средние пользовательские рейтинги жанров Action (англ. «действие», экшен-игры) и Sports (англ. «спортивные соревнования») разные:\n",
    "     Шаг 6. Написать общий вывод\n",
    "  \n",
    "\n"
   ]
  },
  {
   "cell_type": "markdown",
   "metadata": {},
   "source": [
    "### Откроем файл с данными и изучим общую информацию"
   ]
  },
  {
   "cell_type": "code",
   "execution_count": 1,
   "metadata": {},
   "outputs": [],
   "source": [
    "import pandas as pd\n",
    "import matplotlib.pyplot as plt\n",
    "import numpy as np\n",
    "import seaborn as sns"
   ]
  },
  {
   "cell_type": "code",
   "execution_count": 2,
   "metadata": {},
   "outputs": [
    {
     "name": "stdout",
     "output_type": "stream",
     "text": [
      "<class 'pandas.core.frame.DataFrame'>\n",
      "RangeIndex: 16715 entries, 0 to 16714\n",
      "Data columns (total 11 columns):\n",
      " #   Column           Non-Null Count  Dtype  \n",
      "---  ------           --------------  -----  \n",
      " 0   Name             16713 non-null  object \n",
      " 1   Platform         16715 non-null  object \n",
      " 2   Year_of_Release  16446 non-null  float64\n",
      " 3   Genre            16713 non-null  object \n",
      " 4   NA_sales         16715 non-null  float64\n",
      " 5   EU_sales         16715 non-null  float64\n",
      " 6   JP_sales         16715 non-null  float64\n",
      " 7   Other_sales      16715 non-null  float64\n",
      " 8   Critic_Score     8137 non-null   float64\n",
      " 9   User_Score       10014 non-null  object \n",
      " 10  Rating           9949 non-null   object \n",
      "dtypes: float64(6), object(5)\n",
      "memory usage: 1.4+ MB\n"
     ]
    }
   ],
   "source": [
    "game = pd.read_csv('/datasets/games.csv')\n",
    "game.info()"
   ]
  },
  {
   "cell_type": "code",
   "execution_count": 3,
   "metadata": {},
   "outputs": [
    {
     "data": {
      "text/html": [
       "<div>\n",
       "<style scoped>\n",
       "    .dataframe tbody tr th:only-of-type {\n",
       "        vertical-align: middle;\n",
       "    }\n",
       "\n",
       "    .dataframe tbody tr th {\n",
       "        vertical-align: top;\n",
       "    }\n",
       "\n",
       "    .dataframe thead th {\n",
       "        text-align: right;\n",
       "    }\n",
       "</style>\n",
       "<table border=\"1\" class=\"dataframe\">\n",
       "  <thead>\n",
       "    <tr style=\"text-align: right;\">\n",
       "      <th></th>\n",
       "      <th>Name</th>\n",
       "      <th>Platform</th>\n",
       "      <th>Year_of_Release</th>\n",
       "      <th>Genre</th>\n",
       "      <th>NA_sales</th>\n",
       "      <th>EU_sales</th>\n",
       "      <th>JP_sales</th>\n",
       "      <th>Other_sales</th>\n",
       "      <th>Critic_Score</th>\n",
       "      <th>User_Score</th>\n",
       "      <th>Rating</th>\n",
       "    </tr>\n",
       "  </thead>\n",
       "  <tbody>\n",
       "    <tr>\n",
       "      <th>0</th>\n",
       "      <td>Wii Sports</td>\n",
       "      <td>Wii</td>\n",
       "      <td>2006.0</td>\n",
       "      <td>Sports</td>\n",
       "      <td>41.36</td>\n",
       "      <td>28.96</td>\n",
       "      <td>3.77</td>\n",
       "      <td>8.45</td>\n",
       "      <td>76.0</td>\n",
       "      <td>8</td>\n",
       "      <td>E</td>\n",
       "    </tr>\n",
       "    <tr>\n",
       "      <th>1</th>\n",
       "      <td>Super Mario Bros.</td>\n",
       "      <td>NES</td>\n",
       "      <td>1985.0</td>\n",
       "      <td>Platform</td>\n",
       "      <td>29.08</td>\n",
       "      <td>3.58</td>\n",
       "      <td>6.81</td>\n",
       "      <td>0.77</td>\n",
       "      <td>NaN</td>\n",
       "      <td>NaN</td>\n",
       "      <td>NaN</td>\n",
       "    </tr>\n",
       "    <tr>\n",
       "      <th>2</th>\n",
       "      <td>Mario Kart Wii</td>\n",
       "      <td>Wii</td>\n",
       "      <td>2008.0</td>\n",
       "      <td>Racing</td>\n",
       "      <td>15.68</td>\n",
       "      <td>12.76</td>\n",
       "      <td>3.79</td>\n",
       "      <td>3.29</td>\n",
       "      <td>82.0</td>\n",
       "      <td>8.3</td>\n",
       "      <td>E</td>\n",
       "    </tr>\n",
       "    <tr>\n",
       "      <th>3</th>\n",
       "      <td>Wii Sports Resort</td>\n",
       "      <td>Wii</td>\n",
       "      <td>2009.0</td>\n",
       "      <td>Sports</td>\n",
       "      <td>15.61</td>\n",
       "      <td>10.93</td>\n",
       "      <td>3.28</td>\n",
       "      <td>2.95</td>\n",
       "      <td>80.0</td>\n",
       "      <td>8</td>\n",
       "      <td>E</td>\n",
       "    </tr>\n",
       "    <tr>\n",
       "      <th>4</th>\n",
       "      <td>Pokemon Red/Pokemon Blue</td>\n",
       "      <td>GB</td>\n",
       "      <td>1996.0</td>\n",
       "      <td>Role-Playing</td>\n",
       "      <td>11.27</td>\n",
       "      <td>8.89</td>\n",
       "      <td>10.22</td>\n",
       "      <td>1.00</td>\n",
       "      <td>NaN</td>\n",
       "      <td>NaN</td>\n",
       "      <td>NaN</td>\n",
       "    </tr>\n",
       "  </tbody>\n",
       "</table>\n",
       "</div>"
      ],
      "text/plain": [
       "                       Name Platform  Year_of_Release         Genre  NA_sales  \\\n",
       "0                Wii Sports      Wii           2006.0        Sports     41.36   \n",
       "1         Super Mario Bros.      NES           1985.0      Platform     29.08   \n",
       "2            Mario Kart Wii      Wii           2008.0        Racing     15.68   \n",
       "3         Wii Sports Resort      Wii           2009.0        Sports     15.61   \n",
       "4  Pokemon Red/Pokemon Blue       GB           1996.0  Role-Playing     11.27   \n",
       "\n",
       "   EU_sales  JP_sales  Other_sales  Critic_Score User_Score Rating  \n",
       "0     28.96      3.77         8.45          76.0          8      E  \n",
       "1      3.58      6.81         0.77           NaN        NaN    NaN  \n",
       "2     12.76      3.79         3.29          82.0        8.3      E  \n",
       "3     10.93      3.28         2.95          80.0          8      E  \n",
       "4      8.89     10.22         1.00           NaN        NaN    NaN  "
      ]
     },
     "execution_count": 3,
     "metadata": {},
     "output_type": "execute_result"
    }
   ],
   "source": [
    "game.head()"
   ]
  },
  {
   "cell_type": "markdown",
   "metadata": {},
   "source": [
    "В качестве данных имеется таблица game с данными по платформам, жанрам игр,году выпуска, продажами по регионам: Европа, США, Япония и другие, а также оценками пользователей, критиков и рейтингом."
   ]
  },
  {
   "cell_type": "markdown",
   "metadata": {},
   "source": [
    "### Подготовим данные"
   ]
  },
  {
   "cell_type": "markdown",
   "metadata": {},
   "source": [
    "#### Заменим названия столбцов (приведем к нижнему регистру);"
   ]
  },
  {
   "cell_type": "code",
   "execution_count": 4,
   "metadata": {},
   "outputs": [],
   "source": [
    "game.columns = map(str.lower, game.columns)"
   ]
  },
  {
   "cell_type": "code",
   "execution_count": 5,
   "metadata": {},
   "outputs": [
    {
     "data": {
      "text/plain": [
       "Index(['name', 'platform', 'year_of_release', 'genre', 'na_sales', 'eu_sales',\n",
       "       'jp_sales', 'other_sales', 'critic_score', 'user_score', 'rating'],\n",
       "      dtype='object')"
      ]
     },
     "execution_count": 5,
     "metadata": {},
     "output_type": "execute_result"
    }
   ],
   "source": [
    "game.columns"
   ]
  },
  {
   "cell_type": "markdown",
   "metadata": {},
   "source": [
    "#### Преобразуйем данные в нужные типы. Опишем, в каких столбцах заменили тип данных и почему;"
   ]
  },
  {
   "cell_type": "markdown",
   "metadata": {},
   "source": [
    "Посмотрим уникальные значения столбца год выпуска:"
   ]
  },
  {
   "cell_type": "code",
   "execution_count": 6,
   "metadata": {},
   "outputs": [
    {
     "data": {
      "text/plain": [
       "array([2006., 1985., 2008., 2009., 1996., 1989., 1984., 2005., 1999.,\n",
       "       2007., 2010., 2013., 2004., 1990., 1988., 2002., 2001., 2011.,\n",
       "       1998., 2015., 2012., 2014., 1992., 1997., 1993., 1994., 1982.,\n",
       "       2016., 2003., 1986., 2000.,   nan, 1995., 1991., 1981., 1987.,\n",
       "       1980., 1983.])"
      ]
     },
     "execution_count": 6,
     "metadata": {},
     "output_type": "execute_result"
    }
   ],
   "source": [
    "game['year_of_release'].unique()"
   ]
  },
  {
   "cell_type": "markdown",
   "metadata": {},
   "source": [
    "Были обнаружены пропуски, которые не дадут нам изменить тип данных.Посчитаем их количество"
   ]
  },
  {
   "cell_type": "code",
   "execution_count": 7,
   "metadata": {},
   "outputs": [
    {
     "data": {
      "text/plain": [
       "269"
      ]
     },
     "execution_count": 7,
     "metadata": {},
     "output_type": "execute_result"
    }
   ],
   "source": [
    "game['year_of_release'].isna().sum()"
   ]
  },
  {
   "cell_type": "markdown",
   "metadata": {},
   "source": [
    "Относительно общего объема данных (16715 строк), пропусков немного,заменим их нулевыми значениями."
   ]
  },
  {
   "cell_type": "code",
   "execution_count": 8,
   "metadata": {},
   "outputs": [],
   "source": [
    "game['year_of_release'] = game['year_of_release'].fillna(0)"
   ]
  },
  {
   "cell_type": "markdown",
   "metadata": {},
   "source": [
    "Изменим тип данных на целые числа(int)"
   ]
  },
  {
   "cell_type": "code",
   "execution_count": 9,
   "metadata": {},
   "outputs": [],
   "source": [
    "game['year_of_release'] = game['year_of_release'].astype(int)"
   ]
  },
  {
   "cell_type": "markdown",
   "metadata": {},
   "source": [
    "Оценим уникальные значения столбца пользовательский рейтинг:"
   ]
  },
  {
   "cell_type": "code",
   "execution_count": 10,
   "metadata": {},
   "outputs": [
    {
     "data": {
      "text/plain": [
       "array(['8', nan, '8.3', '8.5', '6.6', '8.4', '8.6', '7.7', '6.3', '7.4',\n",
       "       '8.2', '9', '7.9', '8.1', '8.7', '7.1', '3.4', '5.3', '4.8', '3.2',\n",
       "       '8.9', '6.4', '7.8', '7.5', '2.6', '7.2', '9.2', '7', '7.3', '4.3',\n",
       "       '7.6', '5.7', '5', '9.1', '6.5', 'tbd', '8.8', '6.9', '9.4', '6.8',\n",
       "       '6.1', '6.7', '5.4', '4', '4.9', '4.5', '9.3', '6.2', '4.2', '6',\n",
       "       '3.7', '4.1', '5.8', '5.6', '5.5', '4.4', '4.6', '5.9', '3.9',\n",
       "       '3.1', '2.9', '5.2', '3.3', '4.7', '5.1', '3.5', '2.5', '1.9', '3',\n",
       "       '2.7', '2.2', '2', '9.5', '2.1', '3.6', '2.8', '1.8', '3.8', '0',\n",
       "       '1.6', '9.6', '2.4', '1.7', '1.1', '0.3', '1.5', '0.7', '1.2',\n",
       "       '2.3', '0.5', '1.3', '0.2', '0.6', '1.4', '0.9', '1', '9.7'],\n",
       "      dtype=object)"
      ]
     },
     "execution_count": 10,
     "metadata": {},
     "output_type": "execute_result"
    }
   ],
   "source": [
    "game['user_score'].unique()"
   ]
  },
  {
   "cell_type": "markdown",
   "metadata": {},
   "source": [
    "В ходе проверки были обнаружены пропуски и текстовые значения Tbd, что по данным интеренета означает что рейтинг еще не определен."
   ]
  },
  {
   "cell_type": "code",
   "execution_count": 11,
   "metadata": {},
   "outputs": [
    {
     "data": {
      "text/html": [
       "<div>\n",
       "<style scoped>\n",
       "    .dataframe tbody tr th:only-of-type {\n",
       "        vertical-align: middle;\n",
       "    }\n",
       "\n",
       "    .dataframe tbody tr th {\n",
       "        vertical-align: top;\n",
       "    }\n",
       "\n",
       "    .dataframe thead th {\n",
       "        text-align: right;\n",
       "    }\n",
       "</style>\n",
       "<table border=\"1\" class=\"dataframe\">\n",
       "  <thead>\n",
       "    <tr style=\"text-align: right;\">\n",
       "      <th></th>\n",
       "      <th>name</th>\n",
       "      <th>platform</th>\n",
       "      <th>year_of_release</th>\n",
       "      <th>genre</th>\n",
       "      <th>na_sales</th>\n",
       "      <th>eu_sales</th>\n",
       "      <th>jp_sales</th>\n",
       "      <th>other_sales</th>\n",
       "      <th>critic_score</th>\n",
       "      <th>user_score</th>\n",
       "      <th>rating</th>\n",
       "    </tr>\n",
       "  </thead>\n",
       "  <tbody>\n",
       "    <tr>\n",
       "      <th>119</th>\n",
       "      <td>Zumba Fitness</td>\n",
       "      <td>Wii</td>\n",
       "      <td>2010</td>\n",
       "      <td>Sports</td>\n",
       "      <td>3.45</td>\n",
       "      <td>2.59</td>\n",
       "      <td>0.0</td>\n",
       "      <td>0.66</td>\n",
       "      <td>NaN</td>\n",
       "      <td>tbd</td>\n",
       "      <td>E</td>\n",
       "    </tr>\n",
       "    <tr>\n",
       "      <th>301</th>\n",
       "      <td>Namco Museum: 50th Anniversary</td>\n",
       "      <td>PS2</td>\n",
       "      <td>2005</td>\n",
       "      <td>Misc</td>\n",
       "      <td>2.08</td>\n",
       "      <td>1.35</td>\n",
       "      <td>0.0</td>\n",
       "      <td>0.54</td>\n",
       "      <td>61.0</td>\n",
       "      <td>tbd</td>\n",
       "      <td>E10+</td>\n",
       "    </tr>\n",
       "    <tr>\n",
       "      <th>520</th>\n",
       "      <td>Zumba Fitness 2</td>\n",
       "      <td>Wii</td>\n",
       "      <td>2011</td>\n",
       "      <td>Sports</td>\n",
       "      <td>1.51</td>\n",
       "      <td>1.03</td>\n",
       "      <td>0.0</td>\n",
       "      <td>0.27</td>\n",
       "      <td>NaN</td>\n",
       "      <td>tbd</td>\n",
       "      <td>T</td>\n",
       "    </tr>\n",
       "    <tr>\n",
       "      <th>645</th>\n",
       "      <td>uDraw Studio</td>\n",
       "      <td>Wii</td>\n",
       "      <td>2010</td>\n",
       "      <td>Misc</td>\n",
       "      <td>1.65</td>\n",
       "      <td>0.57</td>\n",
       "      <td>0.0</td>\n",
       "      <td>0.20</td>\n",
       "      <td>71.0</td>\n",
       "      <td>tbd</td>\n",
       "      <td>E</td>\n",
       "    </tr>\n",
       "    <tr>\n",
       "      <th>657</th>\n",
       "      <td>Frogger's Adventures: Temple of the Frog</td>\n",
       "      <td>GBA</td>\n",
       "      <td>0</td>\n",
       "      <td>Adventure</td>\n",
       "      <td>2.15</td>\n",
       "      <td>0.18</td>\n",
       "      <td>0.0</td>\n",
       "      <td>0.07</td>\n",
       "      <td>73.0</td>\n",
       "      <td>tbd</td>\n",
       "      <td>E</td>\n",
       "    </tr>\n",
       "    <tr>\n",
       "      <th>...</th>\n",
       "      <td>...</td>\n",
       "      <td>...</td>\n",
       "      <td>...</td>\n",
       "      <td>...</td>\n",
       "      <td>...</td>\n",
       "      <td>...</td>\n",
       "      <td>...</td>\n",
       "      <td>...</td>\n",
       "      <td>...</td>\n",
       "      <td>...</td>\n",
       "      <td>...</td>\n",
       "    </tr>\n",
       "    <tr>\n",
       "      <th>16695</th>\n",
       "      <td>Planet Monsters</td>\n",
       "      <td>GBA</td>\n",
       "      <td>2001</td>\n",
       "      <td>Action</td>\n",
       "      <td>0.01</td>\n",
       "      <td>0.00</td>\n",
       "      <td>0.0</td>\n",
       "      <td>0.00</td>\n",
       "      <td>67.0</td>\n",
       "      <td>tbd</td>\n",
       "      <td>E</td>\n",
       "    </tr>\n",
       "    <tr>\n",
       "      <th>16697</th>\n",
       "      <td>Bust-A-Move 3000</td>\n",
       "      <td>GC</td>\n",
       "      <td>2003</td>\n",
       "      <td>Puzzle</td>\n",
       "      <td>0.01</td>\n",
       "      <td>0.00</td>\n",
       "      <td>0.0</td>\n",
       "      <td>0.00</td>\n",
       "      <td>53.0</td>\n",
       "      <td>tbd</td>\n",
       "      <td>E</td>\n",
       "    </tr>\n",
       "    <tr>\n",
       "      <th>16698</th>\n",
       "      <td>Mega Brain Boost</td>\n",
       "      <td>DS</td>\n",
       "      <td>2008</td>\n",
       "      <td>Puzzle</td>\n",
       "      <td>0.01</td>\n",
       "      <td>0.00</td>\n",
       "      <td>0.0</td>\n",
       "      <td>0.00</td>\n",
       "      <td>48.0</td>\n",
       "      <td>tbd</td>\n",
       "      <td>E</td>\n",
       "    </tr>\n",
       "    <tr>\n",
       "      <th>16704</th>\n",
       "      <td>Plushees</td>\n",
       "      <td>DS</td>\n",
       "      <td>2008</td>\n",
       "      <td>Simulation</td>\n",
       "      <td>0.01</td>\n",
       "      <td>0.00</td>\n",
       "      <td>0.0</td>\n",
       "      <td>0.00</td>\n",
       "      <td>NaN</td>\n",
       "      <td>tbd</td>\n",
       "      <td>E</td>\n",
       "    </tr>\n",
       "    <tr>\n",
       "      <th>16706</th>\n",
       "      <td>Men in Black II: Alien Escape</td>\n",
       "      <td>GC</td>\n",
       "      <td>2003</td>\n",
       "      <td>Shooter</td>\n",
       "      <td>0.01</td>\n",
       "      <td>0.00</td>\n",
       "      <td>0.0</td>\n",
       "      <td>0.00</td>\n",
       "      <td>NaN</td>\n",
       "      <td>tbd</td>\n",
       "      <td>T</td>\n",
       "    </tr>\n",
       "  </tbody>\n",
       "</table>\n",
       "<p>2424 rows × 11 columns</p>\n",
       "</div>"
      ],
      "text/plain": [
       "                                           name platform  year_of_release  \\\n",
       "119                               Zumba Fitness      Wii             2010   \n",
       "301              Namco Museum: 50th Anniversary      PS2             2005   \n",
       "520                             Zumba Fitness 2      Wii             2011   \n",
       "645                                uDraw Studio      Wii             2010   \n",
       "657    Frogger's Adventures: Temple of the Frog      GBA                0   \n",
       "...                                         ...      ...              ...   \n",
       "16695                           Planet Monsters      GBA             2001   \n",
       "16697                          Bust-A-Move 3000       GC             2003   \n",
       "16698                          Mega Brain Boost       DS             2008   \n",
       "16704                                  Plushees       DS             2008   \n",
       "16706             Men in Black II: Alien Escape       GC             2003   \n",
       "\n",
       "            genre  na_sales  eu_sales  jp_sales  other_sales  critic_score  \\\n",
       "119        Sports      3.45      2.59       0.0         0.66           NaN   \n",
       "301          Misc      2.08      1.35       0.0         0.54          61.0   \n",
       "520        Sports      1.51      1.03       0.0         0.27           NaN   \n",
       "645          Misc      1.65      0.57       0.0         0.20          71.0   \n",
       "657     Adventure      2.15      0.18       0.0         0.07          73.0   \n",
       "...           ...       ...       ...       ...          ...           ...   \n",
       "16695      Action      0.01      0.00       0.0         0.00          67.0   \n",
       "16697      Puzzle      0.01      0.00       0.0         0.00          53.0   \n",
       "16698      Puzzle      0.01      0.00       0.0         0.00          48.0   \n",
       "16704  Simulation      0.01      0.00       0.0         0.00           NaN   \n",
       "16706     Shooter      0.01      0.00       0.0         0.00           NaN   \n",
       "\n",
       "      user_score rating  \n",
       "119          tbd      E  \n",
       "301          tbd   E10+  \n",
       "520          tbd      T  \n",
       "645          tbd      E  \n",
       "657          tbd      E  \n",
       "...          ...    ...  \n",
       "16695        tbd      E  \n",
       "16697        tbd      E  \n",
       "16698        tbd      E  \n",
       "16704        tbd      E  \n",
       "16706        tbd      T  \n",
       "\n",
       "[2424 rows x 11 columns]"
      ]
     },
     "execution_count": 11,
     "metadata": {},
     "output_type": "execute_result"
    }
   ],
   "source": [
    "game[game['user_score'] =='tbd']"
   ]
  },
  {
   "cell_type": "markdown",
   "metadata": {},
   "source": [
    "В столбце 'user_score' тип данных (object), т.к. есть много строк (2424) с данными со значением tbd(to be determined), что означает \"будет определено позднее\".Однако нам необходимо иметь возможность сравнивать количественные показатели.Чтобы \"не изменять статистику\" заменим значения tbd на значения, не входящее в  референтную оценку(в данном примере на число -1)"
   ]
  },
  {
   "cell_type": "code",
   "execution_count": 12,
   "metadata": {},
   "outputs": [],
   "source": [
    "game['user_score'] = game['user_score'].replace('tbd', -1)"
   ]
  },
  {
   "cell_type": "markdown",
   "metadata": {},
   "source": [
    "Пропуски(nan) в данном столбце заменим  также на -1, т.к. значение 0 является реальной оценкой пользователей."
   ]
  },
  {
   "cell_type": "code",
   "execution_count": 13,
   "metadata": {},
   "outputs": [],
   "source": [
    "game['user_score'] = game['user_score'].fillna(-1)"
   ]
  },
  {
   "cell_type": "code",
   "execution_count": 14,
   "metadata": {},
   "outputs": [],
   "source": [
    "game['user_score'] = game['user_score'].astype(float)"
   ]
  },
  {
   "cell_type": "markdown",
   "metadata": {},
   "source": [
    "#### Обработатываем пропуски при необходимости:"
   ]
  },
  {
   "cell_type": "markdown",
   "metadata": {},
   "source": [
    "Проверим оставшиеся пропуски в общей таблице game:"
   ]
  },
  {
   "cell_type": "code",
   "execution_count": 15,
   "metadata": {},
   "outputs": [
    {
     "data": {
      "text/plain": [
       "name                  2\n",
       "platform              0\n",
       "year_of_release       0\n",
       "genre                 2\n",
       "na_sales              0\n",
       "eu_sales              0\n",
       "jp_sales              0\n",
       "other_sales           0\n",
       "critic_score       8578\n",
       "user_score            0\n",
       "rating             6766\n",
       "dtype: int64"
      ]
     },
     "execution_count": 15,
     "metadata": {},
     "output_type": "execute_result"
    }
   ],
   "source": [
    "game.isna().sum()"
   ]
  },
  {
   "cell_type": "markdown",
   "metadata": {},
   "source": [
    "Обнаруживаем много пропусков в столбце оценка критиков.Для того,чтобы понять диапазон значений в данном столбце, рассмотрим уникальные значения."
   ]
  },
  {
   "cell_type": "code",
   "execution_count": 16,
   "metadata": {},
   "outputs": [
    {
     "data": {
      "text/plain": [
       "array([76., nan, 82., 80., 89., 58., 87., 91., 61., 97., 95., 77., 88.,\n",
       "       83., 94., 93., 85., 86., 98., 96., 90., 84., 73., 74., 78., 92.,\n",
       "       71., 72., 68., 62., 49., 67., 81., 66., 56., 79., 70., 59., 64.,\n",
       "       75., 60., 63., 69., 50., 25., 42., 44., 55., 48., 57., 29., 47.,\n",
       "       65., 54., 20., 53., 37., 38., 33., 52., 30., 32., 43., 45., 51.,\n",
       "       40., 46., 39., 34., 35., 41., 36., 28., 31., 27., 26., 19., 23.,\n",
       "       24., 21., 17., 22., 13.])"
      ]
     },
     "execution_count": 16,
     "metadata": {},
     "output_type": "execute_result"
    }
   ],
   "source": [
    "game['critic_score'].unique()"
   ]
  },
  {
   "cell_type": "markdown",
   "metadata": {},
   "source": [
    "Заменим пропуски в данном столбце нулями."
   ]
  },
  {
   "cell_type": "code",
   "execution_count": 17,
   "metadata": {},
   "outputs": [],
   "source": [
    "game['critic_score'] = game['critic_score'].fillna(0)"
   ]
  },
  {
   "cell_type": "markdown",
   "metadata": {},
   "source": [
    "Проверям таблицу game на наличие явных дубликатов."
   ]
  },
  {
   "cell_type": "code",
   "execution_count": 18,
   "metadata": {},
   "outputs": [
    {
     "data": {
      "text/plain": [
       "0"
      ]
     },
     "execution_count": 18,
     "metadata": {},
     "output_type": "execute_result"
    }
   ],
   "source": [
    "game.duplicated().sum()"
   ]
  },
  {
   "cell_type": "markdown",
   "metadata": {},
   "source": [
    "Пропуски в столбце 'rating' оставляем без изменений."
   ]
  },
  {
   "cell_type": "markdown",
   "metadata": {},
   "source": [
    "#### Посчитаем суммарные продажи во всех регионах и запишем их в отдельный столбец."
   ]
  },
  {
   "cell_type": "markdown",
   "metadata": {},
   "source": [
    "Создадим столбец total_sales, с суммой продаж по американскому, европейскому,японскому рынку и других продаж."
   ]
  },
  {
   "cell_type": "code",
   "execution_count": 19,
   "metadata": {},
   "outputs": [],
   "source": [
    "#game['total_sales'] = game['na_sales'] + game['eu_sales'] + game['jp_sales'] + game['other_sales']"
   ]
  },
  {
   "cell_type": "code",
   "execution_count": 20,
   "metadata": {},
   "outputs": [],
   "source": [
    "game['total_sales'] = game[['na_sales','eu_sales','jp_sales','other_sales']].sum(axis=1)"
   ]
  },
  {
   "cell_type": "code",
   "execution_count": 21,
   "metadata": {},
   "outputs": [
    {
     "data": {
      "text/html": [
       "<div>\n",
       "<style scoped>\n",
       "    .dataframe tbody tr th:only-of-type {\n",
       "        vertical-align: middle;\n",
       "    }\n",
       "\n",
       "    .dataframe tbody tr th {\n",
       "        vertical-align: top;\n",
       "    }\n",
       "\n",
       "    .dataframe thead th {\n",
       "        text-align: right;\n",
       "    }\n",
       "</style>\n",
       "<table border=\"1\" class=\"dataframe\">\n",
       "  <thead>\n",
       "    <tr style=\"text-align: right;\">\n",
       "      <th></th>\n",
       "      <th>name</th>\n",
       "      <th>platform</th>\n",
       "      <th>year_of_release</th>\n",
       "      <th>genre</th>\n",
       "      <th>na_sales</th>\n",
       "      <th>eu_sales</th>\n",
       "      <th>jp_sales</th>\n",
       "      <th>other_sales</th>\n",
       "      <th>critic_score</th>\n",
       "      <th>user_score</th>\n",
       "      <th>rating</th>\n",
       "      <th>total_sales</th>\n",
       "    </tr>\n",
       "  </thead>\n",
       "  <tbody>\n",
       "    <tr>\n",
       "      <th>0</th>\n",
       "      <td>Wii Sports</td>\n",
       "      <td>Wii</td>\n",
       "      <td>2006</td>\n",
       "      <td>Sports</td>\n",
       "      <td>41.36</td>\n",
       "      <td>28.96</td>\n",
       "      <td>3.77</td>\n",
       "      <td>8.45</td>\n",
       "      <td>76.0</td>\n",
       "      <td>8.0</td>\n",
       "      <td>E</td>\n",
       "      <td>82.54</td>\n",
       "    </tr>\n",
       "    <tr>\n",
       "      <th>1</th>\n",
       "      <td>Super Mario Bros.</td>\n",
       "      <td>NES</td>\n",
       "      <td>1985</td>\n",
       "      <td>Platform</td>\n",
       "      <td>29.08</td>\n",
       "      <td>3.58</td>\n",
       "      <td>6.81</td>\n",
       "      <td>0.77</td>\n",
       "      <td>0.0</td>\n",
       "      <td>-1.0</td>\n",
       "      <td>NaN</td>\n",
       "      <td>40.24</td>\n",
       "    </tr>\n",
       "    <tr>\n",
       "      <th>2</th>\n",
       "      <td>Mario Kart Wii</td>\n",
       "      <td>Wii</td>\n",
       "      <td>2008</td>\n",
       "      <td>Racing</td>\n",
       "      <td>15.68</td>\n",
       "      <td>12.76</td>\n",
       "      <td>3.79</td>\n",
       "      <td>3.29</td>\n",
       "      <td>82.0</td>\n",
       "      <td>8.3</td>\n",
       "      <td>E</td>\n",
       "      <td>35.52</td>\n",
       "    </tr>\n",
       "    <tr>\n",
       "      <th>3</th>\n",
       "      <td>Wii Sports Resort</td>\n",
       "      <td>Wii</td>\n",
       "      <td>2009</td>\n",
       "      <td>Sports</td>\n",
       "      <td>15.61</td>\n",
       "      <td>10.93</td>\n",
       "      <td>3.28</td>\n",
       "      <td>2.95</td>\n",
       "      <td>80.0</td>\n",
       "      <td>8.0</td>\n",
       "      <td>E</td>\n",
       "      <td>32.77</td>\n",
       "    </tr>\n",
       "    <tr>\n",
       "      <th>4</th>\n",
       "      <td>Pokemon Red/Pokemon Blue</td>\n",
       "      <td>GB</td>\n",
       "      <td>1996</td>\n",
       "      <td>Role-Playing</td>\n",
       "      <td>11.27</td>\n",
       "      <td>8.89</td>\n",
       "      <td>10.22</td>\n",
       "      <td>1.00</td>\n",
       "      <td>0.0</td>\n",
       "      <td>-1.0</td>\n",
       "      <td>NaN</td>\n",
       "      <td>31.38</td>\n",
       "    </tr>\n",
       "    <tr>\n",
       "      <th>...</th>\n",
       "      <td>...</td>\n",
       "      <td>...</td>\n",
       "      <td>...</td>\n",
       "      <td>...</td>\n",
       "      <td>...</td>\n",
       "      <td>...</td>\n",
       "      <td>...</td>\n",
       "      <td>...</td>\n",
       "      <td>...</td>\n",
       "      <td>...</td>\n",
       "      <td>...</td>\n",
       "      <td>...</td>\n",
       "    </tr>\n",
       "    <tr>\n",
       "      <th>16710</th>\n",
       "      <td>Samurai Warriors: Sanada Maru</td>\n",
       "      <td>PS3</td>\n",
       "      <td>2016</td>\n",
       "      <td>Action</td>\n",
       "      <td>0.00</td>\n",
       "      <td>0.00</td>\n",
       "      <td>0.01</td>\n",
       "      <td>0.00</td>\n",
       "      <td>0.0</td>\n",
       "      <td>-1.0</td>\n",
       "      <td>NaN</td>\n",
       "      <td>0.01</td>\n",
       "    </tr>\n",
       "    <tr>\n",
       "      <th>16711</th>\n",
       "      <td>LMA Manager 2007</td>\n",
       "      <td>X360</td>\n",
       "      <td>2006</td>\n",
       "      <td>Sports</td>\n",
       "      <td>0.00</td>\n",
       "      <td>0.01</td>\n",
       "      <td>0.00</td>\n",
       "      <td>0.00</td>\n",
       "      <td>0.0</td>\n",
       "      <td>-1.0</td>\n",
       "      <td>NaN</td>\n",
       "      <td>0.01</td>\n",
       "    </tr>\n",
       "    <tr>\n",
       "      <th>16712</th>\n",
       "      <td>Haitaka no Psychedelica</td>\n",
       "      <td>PSV</td>\n",
       "      <td>2016</td>\n",
       "      <td>Adventure</td>\n",
       "      <td>0.00</td>\n",
       "      <td>0.00</td>\n",
       "      <td>0.01</td>\n",
       "      <td>0.00</td>\n",
       "      <td>0.0</td>\n",
       "      <td>-1.0</td>\n",
       "      <td>NaN</td>\n",
       "      <td>0.01</td>\n",
       "    </tr>\n",
       "    <tr>\n",
       "      <th>16713</th>\n",
       "      <td>Spirits &amp; Spells</td>\n",
       "      <td>GBA</td>\n",
       "      <td>2003</td>\n",
       "      <td>Platform</td>\n",
       "      <td>0.01</td>\n",
       "      <td>0.00</td>\n",
       "      <td>0.00</td>\n",
       "      <td>0.00</td>\n",
       "      <td>0.0</td>\n",
       "      <td>-1.0</td>\n",
       "      <td>NaN</td>\n",
       "      <td>0.01</td>\n",
       "    </tr>\n",
       "    <tr>\n",
       "      <th>16714</th>\n",
       "      <td>Winning Post 8 2016</td>\n",
       "      <td>PSV</td>\n",
       "      <td>2016</td>\n",
       "      <td>Simulation</td>\n",
       "      <td>0.00</td>\n",
       "      <td>0.00</td>\n",
       "      <td>0.01</td>\n",
       "      <td>0.00</td>\n",
       "      <td>0.0</td>\n",
       "      <td>-1.0</td>\n",
       "      <td>NaN</td>\n",
       "      <td>0.01</td>\n",
       "    </tr>\n",
       "  </tbody>\n",
       "</table>\n",
       "<p>16715 rows × 12 columns</p>\n",
       "</div>"
      ],
      "text/plain": [
       "                                name platform  year_of_release         genre  \\\n",
       "0                         Wii Sports      Wii             2006        Sports   \n",
       "1                  Super Mario Bros.      NES             1985      Platform   \n",
       "2                     Mario Kart Wii      Wii             2008        Racing   \n",
       "3                  Wii Sports Resort      Wii             2009        Sports   \n",
       "4           Pokemon Red/Pokemon Blue       GB             1996  Role-Playing   \n",
       "...                              ...      ...              ...           ...   \n",
       "16710  Samurai Warriors: Sanada Maru      PS3             2016        Action   \n",
       "16711               LMA Manager 2007     X360             2006        Sports   \n",
       "16712        Haitaka no Psychedelica      PSV             2016     Adventure   \n",
       "16713               Spirits & Spells      GBA             2003      Platform   \n",
       "16714            Winning Post 8 2016      PSV             2016    Simulation   \n",
       "\n",
       "       na_sales  eu_sales  jp_sales  other_sales  critic_score  user_score  \\\n",
       "0         41.36     28.96      3.77         8.45          76.0         8.0   \n",
       "1         29.08      3.58      6.81         0.77           0.0        -1.0   \n",
       "2         15.68     12.76      3.79         3.29          82.0         8.3   \n",
       "3         15.61     10.93      3.28         2.95          80.0         8.0   \n",
       "4         11.27      8.89     10.22         1.00           0.0        -1.0   \n",
       "...         ...       ...       ...          ...           ...         ...   \n",
       "16710      0.00      0.00      0.01         0.00           0.0        -1.0   \n",
       "16711      0.00      0.01      0.00         0.00           0.0        -1.0   \n",
       "16712      0.00      0.00      0.01         0.00           0.0        -1.0   \n",
       "16713      0.01      0.00      0.00         0.00           0.0        -1.0   \n",
       "16714      0.00      0.00      0.01         0.00           0.0        -1.0   \n",
       "\n",
       "      rating  total_sales  \n",
       "0          E        82.54  \n",
       "1        NaN        40.24  \n",
       "2          E        35.52  \n",
       "3          E        32.77  \n",
       "4        NaN        31.38  \n",
       "...      ...          ...  \n",
       "16710    NaN         0.01  \n",
       "16711    NaN         0.01  \n",
       "16712    NaN         0.01  \n",
       "16713    NaN         0.01  \n",
       "16714    NaN         0.01  \n",
       "\n",
       "[16715 rows x 12 columns]"
      ]
     },
     "metadata": {},
     "output_type": "display_data"
    }
   ],
   "source": [
    "display(game)"
   ]
  },
  {
   "cell_type": "markdown",
   "metadata": {},
   "source": [
    "    В данном разделе были проверены данные на наличие пропусков и произведены замены в столбцах user_score на значение(-1), т.к.0, это действующая пользовательсая оценка, пропущенные значения в critic_score и year_of_release заменены нулями,также изменены типы данных в столбцах year_of_release на int, user_score на float.\n",
    "    Большое количество пропусков было обнаружено в столбцах user_score, critic_score и rating, что может говорить что на момент сбора информации игры еще не вышли в продажу,рейтинг критиков, при плохих оценках, намерено скрыт производителем, а также отсутствие маркировки оейтинга,может говорить о том, что игра не содержит контента, подлежащего возрастной классификации.\n",
    "    Таблица была проверена на наличие полных дубликатов.Были рассчитаны глобальные продажи и для них добавлен столбнец total_sales."
   ]
  },
  {
   "cell_type": "markdown",
   "metadata": {},
   "source": [
    "### Проведем исследовательский анализ данных"
   ]
  },
  {
   "cell_type": "markdown",
   "metadata": {},
   "source": [
    "#### Посмотрим, сколько игр выпускалось в разные годы. Важны ли данные за все периоды?\n"
   ]
  },
  {
   "cell_type": "code",
   "execution_count": 22,
   "metadata": {},
   "outputs": [],
   "source": [
    "game['year_of_release'].value_counts(ascending=False);"
   ]
  },
  {
   "cell_type": "code",
   "execution_count": 23,
   "metadata": {},
   "outputs": [
    {
     "data": {
      "image/png": "[encoded data removed]",
      "text/plain": [
       "<Figure size 864x288 with 1 Axes>"
      ]
     },
     "metadata": {
      "needs_background": "light"
     },
     "output_type": "display_data"
    }
   ],
   "source": [
    "game['year_of_release'].value_counts().plot(kind='bar', grid=True, figsize=(12,4))\n",
    "plt.title('Распределение года выпуска игр')\n",
    "plt.xlabel('Год выпуска')\n",
    "plt.ylabel('Количество');"
   ]
  },
  {
   "cell_type": "code",
   "execution_count": 24,
   "metadata": {},
   "outputs": [
    {
     "data": {
      "text/html": [
       "<div>\n",
       "<style scoped>\n",
       "    .dataframe tbody tr th:only-of-type {\n",
       "        vertical-align: middle;\n",
       "    }\n",
       "\n",
       "    .dataframe tbody tr th {\n",
       "        vertical-align: top;\n",
       "    }\n",
       "\n",
       "    .dataframe thead th {\n",
       "        text-align: right;\n",
       "    }\n",
       "</style>\n",
       "<table border=\"1\" class=\"dataframe\">\n",
       "  <thead>\n",
       "    <tr style=\"text-align: right;\">\n",
       "      <th></th>\n",
       "      <th>name</th>\n",
       "      <th>platform</th>\n",
       "      <th>year_of_release</th>\n",
       "      <th>genre</th>\n",
       "      <th>na_sales</th>\n",
       "      <th>eu_sales</th>\n",
       "      <th>jp_sales</th>\n",
       "      <th>other_sales</th>\n",
       "      <th>critic_score</th>\n",
       "      <th>user_score</th>\n",
       "      <th>rating</th>\n",
       "      <th>total_sales</th>\n",
       "    </tr>\n",
       "  </thead>\n",
       "  <tbody>\n",
       "    <tr>\n",
       "      <th>1</th>\n",
       "      <td>Super Mario Bros.</td>\n",
       "      <td>NES</td>\n",
       "      <td>1985</td>\n",
       "      <td>Platform</td>\n",
       "      <td>29.08</td>\n",
       "      <td>3.58</td>\n",
       "      <td>6.81</td>\n",
       "      <td>0.77</td>\n",
       "      <td>0.0</td>\n",
       "      <td>-1.0</td>\n",
       "      <td>NaN</td>\n",
       "      <td>40.24</td>\n",
       "    </tr>\n",
       "    <tr>\n",
       "      <th>4</th>\n",
       "      <td>Pokemon Red/Pokemon Blue</td>\n",
       "      <td>GB</td>\n",
       "      <td>1996</td>\n",
       "      <td>Role-Playing</td>\n",
       "      <td>11.27</td>\n",
       "      <td>8.89</td>\n",
       "      <td>10.22</td>\n",
       "      <td>1.00</td>\n",
       "      <td>0.0</td>\n",
       "      <td>-1.0</td>\n",
       "      <td>NaN</td>\n",
       "      <td>31.38</td>\n",
       "    </tr>\n",
       "    <tr>\n",
       "      <th>5</th>\n",
       "      <td>Tetris</td>\n",
       "      <td>GB</td>\n",
       "      <td>1989</td>\n",
       "      <td>Puzzle</td>\n",
       "      <td>23.20</td>\n",
       "      <td>2.26</td>\n",
       "      <td>4.22</td>\n",
       "      <td>0.58</td>\n",
       "      <td>0.0</td>\n",
       "      <td>-1.0</td>\n",
       "      <td>NaN</td>\n",
       "      <td>30.26</td>\n",
       "    </tr>\n",
       "    <tr>\n",
       "      <th>9</th>\n",
       "      <td>Duck Hunt</td>\n",
       "      <td>NES</td>\n",
       "      <td>1984</td>\n",
       "      <td>Shooter</td>\n",
       "      <td>26.93</td>\n",
       "      <td>0.63</td>\n",
       "      <td>0.28</td>\n",
       "      <td>0.47</td>\n",
       "      <td>0.0</td>\n",
       "      <td>-1.0</td>\n",
       "      <td>NaN</td>\n",
       "      <td>28.31</td>\n",
       "    </tr>\n",
       "    <tr>\n",
       "      <th>18</th>\n",
       "      <td>Super Mario World</td>\n",
       "      <td>SNES</td>\n",
       "      <td>1990</td>\n",
       "      <td>Platform</td>\n",
       "      <td>12.78</td>\n",
       "      <td>3.75</td>\n",
       "      <td>3.54</td>\n",
       "      <td>0.55</td>\n",
       "      <td>0.0</td>\n",
       "      <td>-1.0</td>\n",
       "      <td>NaN</td>\n",
       "      <td>20.62</td>\n",
       "    </tr>\n",
       "    <tr>\n",
       "      <th>...</th>\n",
       "      <td>...</td>\n",
       "      <td>...</td>\n",
       "      <td>...</td>\n",
       "      <td>...</td>\n",
       "      <td>...</td>\n",
       "      <td>...</td>\n",
       "      <td>...</td>\n",
       "      <td>...</td>\n",
       "      <td>...</td>\n",
       "      <td>...</td>\n",
       "      <td>...</td>\n",
       "      <td>...</td>\n",
       "    </tr>\n",
       "    <tr>\n",
       "      <th>16326</th>\n",
       "      <td>Victory Spike</td>\n",
       "      <td>PS</td>\n",
       "      <td>1996</td>\n",
       "      <td>Sports</td>\n",
       "      <td>0.00</td>\n",
       "      <td>0.00</td>\n",
       "      <td>0.01</td>\n",
       "      <td>0.00</td>\n",
       "      <td>0.0</td>\n",
       "      <td>-1.0</td>\n",
       "      <td>NaN</td>\n",
       "      <td>0.01</td>\n",
       "    </tr>\n",
       "    <tr>\n",
       "      <th>16468</th>\n",
       "      <td>Meru Purana</td>\n",
       "      <td>PS</td>\n",
       "      <td>1996</td>\n",
       "      <td>Strategy</td>\n",
       "      <td>0.00</td>\n",
       "      <td>0.00</td>\n",
       "      <td>0.01</td>\n",
       "      <td>0.00</td>\n",
       "      <td>0.0</td>\n",
       "      <td>-1.0</td>\n",
       "      <td>NaN</td>\n",
       "      <td>0.01</td>\n",
       "    </tr>\n",
       "    <tr>\n",
       "      <th>16539</th>\n",
       "      <td>Grand Prix Legends</td>\n",
       "      <td>PC</td>\n",
       "      <td>1997</td>\n",
       "      <td>Racing</td>\n",
       "      <td>0.00</td>\n",
       "      <td>0.01</td>\n",
       "      <td>0.00</td>\n",
       "      <td>0.00</td>\n",
       "      <td>0.0</td>\n",
       "      <td>7.5</td>\n",
       "      <td>E</td>\n",
       "      <td>0.01</td>\n",
       "    </tr>\n",
       "    <tr>\n",
       "      <th>16666</th>\n",
       "      <td>Psychic Detective</td>\n",
       "      <td>PS</td>\n",
       "      <td>1995</td>\n",
       "      <td>Adventure</td>\n",
       "      <td>0.01</td>\n",
       "      <td>0.00</td>\n",
       "      <td>0.00</td>\n",
       "      <td>0.00</td>\n",
       "      <td>0.0</td>\n",
       "      <td>-1.0</td>\n",
       "      <td>NaN</td>\n",
       "      <td>0.01</td>\n",
       "    </tr>\n",
       "    <tr>\n",
       "      <th>16681</th>\n",
       "      <td>Worms 2</td>\n",
       "      <td>PC</td>\n",
       "      <td>1997</td>\n",
       "      <td>Strategy</td>\n",
       "      <td>0.00</td>\n",
       "      <td>0.01</td>\n",
       "      <td>0.00</td>\n",
       "      <td>0.00</td>\n",
       "      <td>0.0</td>\n",
       "      <td>8.1</td>\n",
       "      <td>K-A</td>\n",
       "      <td>0.01</td>\n",
       "    </tr>\n",
       "  </tbody>\n",
       "</table>\n",
       "<p>1259 rows × 12 columns</p>\n",
       "</div>"
      ],
      "text/plain": [
       "                           name platform  year_of_release         genre  \\\n",
       "1             Super Mario Bros.      NES             1985      Platform   \n",
       "4      Pokemon Red/Pokemon Blue       GB             1996  Role-Playing   \n",
       "5                        Tetris       GB             1989        Puzzle   \n",
       "9                     Duck Hunt      NES             1984       Shooter   \n",
       "18            Super Mario World     SNES             1990      Platform   \n",
       "...                         ...      ...              ...           ...   \n",
       "16326             Victory Spike       PS             1996        Sports   \n",
       "16468               Meru Purana       PS             1996      Strategy   \n",
       "16539        Grand Prix Legends       PC             1997        Racing   \n",
       "16666         Psychic Detective       PS             1995     Adventure   \n",
       "16681                   Worms 2       PC             1997      Strategy   \n",
       "\n",
       "       na_sales  eu_sales  jp_sales  other_sales  critic_score  user_score  \\\n",
       "1         29.08      3.58      6.81         0.77           0.0        -1.0   \n",
       "4         11.27      8.89     10.22         1.00           0.0        -1.0   \n",
       "5         23.20      2.26      4.22         0.58           0.0        -1.0   \n",
       "9         26.93      0.63      0.28         0.47           0.0        -1.0   \n",
       "18        12.78      3.75      3.54         0.55           0.0        -1.0   \n",
       "...         ...       ...       ...          ...           ...         ...   \n",
       "16326      0.00      0.00      0.01         0.00           0.0        -1.0   \n",
       "16468      0.00      0.00      0.01         0.00           0.0        -1.0   \n",
       "16539      0.00      0.01      0.00         0.00           0.0         7.5   \n",
       "16666      0.01      0.00      0.00         0.00           0.0        -1.0   \n",
       "16681      0.00      0.01      0.00         0.00           0.0         8.1   \n",
       "\n",
       "      rating  total_sales  \n",
       "1        NaN        40.24  \n",
       "4        NaN        31.38  \n",
       "5        NaN        30.26  \n",
       "9        NaN        28.31  \n",
       "18       NaN        20.62  \n",
       "...      ...          ...  \n",
       "16326    NaN         0.01  \n",
       "16468    NaN         0.01  \n",
       "16539      E         0.01  \n",
       "16666    NaN         0.01  \n",
       "16681    K-A         0.01  \n",
       "\n",
       "[1259 rows x 12 columns]"
      ]
     },
     "execution_count": 24,
     "metadata": {},
     "output_type": "execute_result"
    }
   ],
   "source": [
    "game.query('0 < year_of_release <= 1997')\n"
   ]
  },
  {
   "cell_type": "markdown",
   "metadata": {},
   "source": [
    "Рассморев выпуск игр по годам, можем отметить,что до 1997 года(включительно) было выпущено прмерно 7.5%  игр от общего объема исследуемых игр. Исходя из этого считаю,что можно рассматривать данные  о выпуске игр\n",
    "с 1998 года."
   ]
  },
  {
   "cell_type": "markdown",
   "metadata": {},
   "source": [
    "#### Посмотрим, как менялись продажи по платформам. Выбирем платформы с наибольшими суммарными продажами и построим распределение по годам. За какой характерный срок появляются новые и исчезают старые платформы?\n"
   ]
  },
  {
   "cell_type": "code",
   "execution_count": 25,
   "metadata": {},
   "outputs": [
    {
     "data": {
      "image/png": "[encoded data removed]",
      "text/plain": [
       "<Figure size 864x288 with 1 Axes>"
      ]
     },
     "metadata": {
      "needs_background": "light"
     },
     "output_type": "display_data"
    }
   ],
   "source": [
    "game['platform'].value_counts(ascending=False).plot(kind='bar', grid=True, figsize=(12,4))\n",
    "plt.title('Распределение  игр по платформам')\n",
    "plt.xlabel('Название платформы')\n",
    "plt.ylabel('Количество')\n",
    "plt.ylabel('Количество');"
   ]
  },
  {
   "cell_type": "code",
   "execution_count": 26,
   "metadata": {},
   "outputs": [
    {
     "data": {
      "text/plain": [
       "PS2     2161\n",
       "DS      2151\n",
       "PS3     1331\n",
       "Wii     1320\n",
       "X360    1262\n",
       "Name: platform, dtype: int64"
      ]
     },
     "execution_count": 26,
     "metadata": {},
     "output_type": "execute_result"
    }
   ],
   "source": [
    "game_platTop = game['platform'].value_counts().head()\n",
    "game_platTop"
   ]
  },
  {
   "cell_type": "markdown",
   "metadata": {},
   "source": [
    "Оценив распределение по платформам,видим, что самыми популярными по количеству игр за весь период  былиЖ\n",
    "- PS2;\n",
    "- DS;\n",
    "- PS3.\n",
    "    "
   ]
  },
  {
   "cell_type": "markdown",
   "metadata": {},
   "source": [
    "Построим графики распределения продаж по наиболее популярным платформам за весь период:"
   ]
  },
  {
   "cell_type": "code",
   "execution_count": 27,
   "metadata": {},
   "outputs": [
    {
     "data": {
      "image/png": "[encoded data removed]",
      "text/plain": [
       "<Figure size 432x288 with 1 Axes>"
      ]
     },
     "metadata": {
      "needs_background": "light"
     },
     "output_type": "display_data"
    }
   ],
   "source": [
    "game.query('platform == \"PS2\" & year_of_release > 0').groupby(['year_of_release'])['total_sales'].count().plot( grid=True, figsize=(6,4))\n",
    "plt.title('Распределение продаж PS2 по годам')\n",
    "plt.xlabel('Год')\n",
    "plt.ylabel('Количество');\n"
   ]
  },
  {
   "cell_type": "code",
   "execution_count": 28,
   "metadata": {},
   "outputs": [
    {
     "data": {
      "image/png": "[encoded data removed]",
      "text/plain": [
       "<Figure size 432x288 with 1 Axes>"
      ]
     },
     "metadata": {
      "needs_background": "light"
     },
     "output_type": "display_data"
    }
   ],
   "source": [
    "game.query('platform == \"DS\" & year_of_release > 0').groupby(['year_of_release'])['total_sales'].count().plot( grid=True, figsize=(6,4))\n",
    "plt.title('Распределение продаж DS по годам')\n",
    "plt.xlabel('Год')\n",
    "plt.ylabel('Количество');"
   ]
  },
  {
   "cell_type": "code",
   "execution_count": 29,
   "metadata": {},
   "outputs": [
    {
     "data": {
      "text/html": [
       "<div>\n",
       "<style scoped>\n",
       "    .dataframe tbody tr th:only-of-type {\n",
       "        vertical-align: middle;\n",
       "    }\n",
       "\n",
       "    .dataframe tbody tr th {\n",
       "        vertical-align: top;\n",
       "    }\n",
       "\n",
       "    .dataframe thead th {\n",
       "        text-align: right;\n",
       "    }\n",
       "</style>\n",
       "<table border=\"1\" class=\"dataframe\">\n",
       "  <thead>\n",
       "    <tr style=\"text-align: right;\">\n",
       "      <th></th>\n",
       "      <th>name</th>\n",
       "      <th>platform</th>\n",
       "      <th>year_of_release</th>\n",
       "      <th>genre</th>\n",
       "      <th>na_sales</th>\n",
       "      <th>eu_sales</th>\n",
       "      <th>jp_sales</th>\n",
       "      <th>other_sales</th>\n",
       "      <th>critic_score</th>\n",
       "      <th>user_score</th>\n",
       "      <th>rating</th>\n",
       "      <th>total_sales</th>\n",
       "    </tr>\n",
       "  </thead>\n",
       "  <tbody>\n",
       "    <tr>\n",
       "      <th>15957</th>\n",
       "      <td>Strongest Tokyo University Shogi DS</td>\n",
       "      <td>DS</td>\n",
       "      <td>1985</td>\n",
       "      <td>Action</td>\n",
       "      <td>0.0</td>\n",
       "      <td>0.0</td>\n",
       "      <td>0.02</td>\n",
       "      <td>0.0</td>\n",
       "      <td>0.0</td>\n",
       "      <td>-1.0</td>\n",
       "      <td>NaN</td>\n",
       "      <td>0.02</td>\n",
       "    </tr>\n",
       "  </tbody>\n",
       "</table>\n",
       "</div>"
      ],
      "text/plain": [
       "                                      name platform  year_of_release   genre  \\\n",
       "15957  Strongest Tokyo University Shogi DS       DS             1985  Action   \n",
       "\n",
       "       na_sales  eu_sales  jp_sales  other_sales  critic_score  user_score  \\\n",
       "15957       0.0       0.0      0.02          0.0           0.0        -1.0   \n",
       "\n",
       "      rating  total_sales  \n",
       "15957    NaN         0.02  "
      ]
     },
     "execution_count": 29,
     "metadata": {},
     "output_type": "execute_result"
    }
   ],
   "source": [
    "game.query('platform == \"DS\" & year_of_release == 1985')"
   ]
  },
  {
   "cell_type": "markdown",
   "metadata": {},
   "source": [
    "По графику распределения продаж на DS мы видим одно аномальное значение года выпуска равное 1985, что скорее всего является ошибкой,т.к. по данным https://www.vgchartz.com данная игра выпущена в мае 2010г."
   ]
  },
  {
   "cell_type": "code",
   "execution_count": 30,
   "metadata": {},
   "outputs": [
    {
     "data": {
      "image/png": "[encoded data removed]",
      "text/plain": [
       "<Figure size 432x288 with 1 Axes>"
      ]
     },
     "metadata": {
      "needs_background": "light"
     },
     "output_type": "display_data"
    }
   ],
   "source": [
    "game.query('platform == \"PS3\" & year_of_release > 0').groupby(['year_of_release'])['total_sales'].count().plot( grid=True, figsize=(6,4))\n",
    "plt.title('Распределение продаж PS3 по годам')\n",
    "plt.xlabel('Год')\n",
    "plt.ylabel('Количество');"
   ]
  },
  {
   "cell_type": "code",
   "execution_count": 31,
   "metadata": {},
   "outputs": [
    {
     "data": {
      "image/png": "[encoded data removed]",
      "text/plain": [
       "<Figure size 432x288 with 1 Axes>"
      ]
     },
     "metadata": {
      "needs_background": "light"
     },
     "output_type": "display_data"
    }
   ],
   "source": [
    "game.query('platform == \"Wii\" & year_of_release > 0').groupby(['year_of_release'])['total_sales'].count().plot( grid=True, figsize=(6,4))\n",
    "plt.title('Распределение продаж Wii по годам')\n",
    "plt.xlabel('Год')\n",
    "plt.ylabel('Количество');"
   ]
  },
  {
   "cell_type": "code",
   "execution_count": 32,
   "metadata": {},
   "outputs": [
    {
     "data": {
      "image/png": "[encoded data removed]",
      "text/plain": [
       "<Figure size 432x288 with 1 Axes>"
      ]
     },
     "metadata": {
      "needs_background": "light"
     },
     "output_type": "display_data"
    }
   ],
   "source": [
    "game.query('platform == \"X360\" & year_of_release > 0').groupby(['year_of_release'])['total_sales'].count().plot( grid=True, figsize=(6,4))\n",
    "plt.title('Распределение продаж X360 по годам')\n",
    "plt.xlabel('Год')\n",
    "plt.ylabel('Количество');"
   ]
  },
  {
   "cell_type": "markdown",
   "metadata": {},
   "source": [
    "Оценив графики распределения продаж  ТОП-5 платформ по годам, можно сделать вывод, что средний жизненный цикл платформы 10 лет."
   ]
  },
  {
   "cell_type": "code",
   "execution_count": 33,
   "metadata": {},
   "outputs": [
    {
     "data": {
      "image/png": "[encoded data removed]",
      "text/plain": [
       "<Figure size 720x432 with 1 Axes>"
      ]
     },
     "metadata": {
      "needs_background": "light"
     },
     "output_type": "display_data"
    }
   ],
   "source": [
    "# Код ревьюера\n",
    "\n",
    "import matplotlib.pyplot as plt\n",
    "\n",
    "# Список платформ, которые хотим отобразить\n",
    "platforms = [\"PS2\", \"DS\", \"PS3\", \"Wii\", \"X360\"]\n",
    "\n",
    "# Начинаем создание графика\n",
    "plt.figure(figsize=(10, 6))  # Задаем размер графика\n",
    "\n",
    "# Проходим по каждой платформе в списке\n",
    "for platform in platforms:\n",
    "    # Фильтруем данные по платформе и группируем по годам выпуска\n",
    "    sales_data = game.query(f'platform == \"{platform}\" & year_of_release > 0').groupby('year_of_release')['total_sales'].count()\n",
    "    \n",
    "    # Добавляем данные на график\n",
    "    plt.plot(sales_data, marker='o', label=platform)\n",
    "\n",
    "# Добавляем сетку, заголовок и подписи осей\n",
    "plt.grid(True)\n",
    "plt.title('Распределение продаж по годам для разных платформ')\n",
    "plt.xlabel('Год')\n",
    "plt.ylabel('Количество')\n",
    "plt.legend(title='Платформа')  # Легенда, чтобы различать платформы\n",
    "\n",
    "# Отображаем график\n",
    "plt.show()"
   ]
  },
  {
   "cell_type": "markdown",
   "metadata": {},
   "source": [
    "#### Возьмьмем данные за соответствующий актуальный период. Актуальный период определяем самостоятельно в результате исследования предыдущих вопросов. Основной фактор — эти данные помогут построить прогноз на 2017 год. Не учитываем в работе данные за предыдущие годы.\n"
   ]
  },
  {
   "cell_type": "markdown",
   "metadata": {},
   "source": [
    " В качестве актуального периода возьмем период за последний 5 лет 2012-2016гг."
   ]
  },
  {
   "cell_type": "markdown",
   "metadata": {},
   "source": [
    "Сортируем таблицу game и создаем таблицу game_period по выбранному временному периоду."
   ]
  },
  {
   "cell_type": "code",
   "execution_count": 34,
   "metadata": {},
   "outputs": [],
   "source": [
    "game_period = game.query('year_of_release >= 2012')"
   ]
  },
  {
   "cell_type": "code",
   "execution_count": 35,
   "metadata": {},
   "outputs": [
    {
     "data": {
      "text/html": [
       "<div>\n",
       "<style scoped>\n",
       "    .dataframe tbody tr th:only-of-type {\n",
       "        vertical-align: middle;\n",
       "    }\n",
       "\n",
       "    .dataframe tbody tr th {\n",
       "        vertical-align: top;\n",
       "    }\n",
       "\n",
       "    .dataframe thead th {\n",
       "        text-align: right;\n",
       "    }\n",
       "</style>\n",
       "<table border=\"1\" class=\"dataframe\">\n",
       "  <thead>\n",
       "    <tr style=\"text-align: right;\">\n",
       "      <th></th>\n",
       "      <th>name</th>\n",
       "      <th>platform</th>\n",
       "      <th>year_of_release</th>\n",
       "      <th>genre</th>\n",
       "      <th>na_sales</th>\n",
       "      <th>eu_sales</th>\n",
       "      <th>jp_sales</th>\n",
       "      <th>other_sales</th>\n",
       "      <th>critic_score</th>\n",
       "      <th>user_score</th>\n",
       "      <th>rating</th>\n",
       "      <th>total_sales</th>\n",
       "    </tr>\n",
       "  </thead>\n",
       "  <tbody>\n",
       "    <tr>\n",
       "      <th>16</th>\n",
       "      <td>Grand Theft Auto V</td>\n",
       "      <td>PS3</td>\n",
       "      <td>2013</td>\n",
       "      <td>Action</td>\n",
       "      <td>7.02</td>\n",
       "      <td>9.09</td>\n",
       "      <td>0.98</td>\n",
       "      <td>3.96</td>\n",
       "      <td>97.0</td>\n",
       "      <td>8.2</td>\n",
       "      <td>M</td>\n",
       "      <td>21.05</td>\n",
       "    </tr>\n",
       "    <tr>\n",
       "      <th>23</th>\n",
       "      <td>Grand Theft Auto V</td>\n",
       "      <td>X360</td>\n",
       "      <td>2013</td>\n",
       "      <td>Action</td>\n",
       "      <td>9.66</td>\n",
       "      <td>5.14</td>\n",
       "      <td>0.06</td>\n",
       "      <td>1.41</td>\n",
       "      <td>97.0</td>\n",
       "      <td>8.1</td>\n",
       "      <td>M</td>\n",
       "      <td>16.27</td>\n",
       "    </tr>\n",
       "    <tr>\n",
       "      <th>31</th>\n",
       "      <td>Call of Duty: Black Ops 3</td>\n",
       "      <td>PS4</td>\n",
       "      <td>2015</td>\n",
       "      <td>Shooter</td>\n",
       "      <td>6.03</td>\n",
       "      <td>5.86</td>\n",
       "      <td>0.36</td>\n",
       "      <td>2.38</td>\n",
       "      <td>0.0</td>\n",
       "      <td>-1.0</td>\n",
       "      <td>NaN</td>\n",
       "      <td>14.63</td>\n",
       "    </tr>\n",
       "    <tr>\n",
       "      <th>33</th>\n",
       "      <td>Pokemon X/Pokemon Y</td>\n",
       "      <td>3DS</td>\n",
       "      <td>2013</td>\n",
       "      <td>Role-Playing</td>\n",
       "      <td>5.28</td>\n",
       "      <td>4.19</td>\n",
       "      <td>4.35</td>\n",
       "      <td>0.78</td>\n",
       "      <td>0.0</td>\n",
       "      <td>-1.0</td>\n",
       "      <td>NaN</td>\n",
       "      <td>14.60</td>\n",
       "    </tr>\n",
       "    <tr>\n",
       "      <th>34</th>\n",
       "      <td>Call of Duty: Black Ops II</td>\n",
       "      <td>PS3</td>\n",
       "      <td>2012</td>\n",
       "      <td>Shooter</td>\n",
       "      <td>4.99</td>\n",
       "      <td>5.73</td>\n",
       "      <td>0.65</td>\n",
       "      <td>2.42</td>\n",
       "      <td>83.0</td>\n",
       "      <td>5.3</td>\n",
       "      <td>M</td>\n",
       "      <td>13.79</td>\n",
       "    </tr>\n",
       "  </tbody>\n",
       "</table>\n",
       "</div>"
      ],
      "text/plain": [
       "                          name platform  year_of_release         genre  \\\n",
       "16          Grand Theft Auto V      PS3             2013        Action   \n",
       "23          Grand Theft Auto V     X360             2013        Action   \n",
       "31   Call of Duty: Black Ops 3      PS4             2015       Shooter   \n",
       "33         Pokemon X/Pokemon Y      3DS             2013  Role-Playing   \n",
       "34  Call of Duty: Black Ops II      PS3             2012       Shooter   \n",
       "\n",
       "    na_sales  eu_sales  jp_sales  other_sales  critic_score  user_score  \\\n",
       "16      7.02      9.09      0.98         3.96          97.0         8.2   \n",
       "23      9.66      5.14      0.06         1.41          97.0         8.1   \n",
       "31      6.03      5.86      0.36         2.38           0.0        -1.0   \n",
       "33      5.28      4.19      4.35         0.78           0.0        -1.0   \n",
       "34      4.99      5.73      0.65         2.42          83.0         5.3   \n",
       "\n",
       "   rating  total_sales  \n",
       "16      M        21.05  \n",
       "23      M        16.27  \n",
       "31    NaN        14.63  \n",
       "33    NaN        14.60  \n",
       "34      M        13.79  "
      ]
     },
     "execution_count": 35,
     "metadata": {},
     "output_type": "execute_result"
    }
   ],
   "source": [
    "game_period.head()"
   ]
  },
  {
   "cell_type": "markdown",
   "metadata": {},
   "source": [
    "#### Определим какие платформы лидируют по продажам, растут или падают? Выберем несколько потенциально прибыльных платформ.\n"
   ]
  },
  {
   "cell_type": "code",
   "execution_count": 36,
   "metadata": {},
   "outputs": [],
   "source": [
    "(game_period.pivot_table( index = ['platform', 'year_of_release'], values = 'total_sales', aggfunc = 'sum'));\n",
    "\n"
   ]
  },
  {
   "cell_type": "code",
   "execution_count": 37,
   "metadata": {},
   "outputs": [
    {
     "data": {
      "image/png": "[encoded data removed]",
      "text/plain": [
       "<Figure size 864x288 with 1 Axes>"
      ]
     },
     "metadata": {
      "needs_background": "light"
     },
     "output_type": "display_data"
    }
   ],
   "source": [
    "ax = (game_period.pivot_table( index = ['platform','year_of_release'], values = 'total_sales', aggfunc = 'sum')).unstack().plot(kind='bar', grid=True, figsize=(12,4))\n",
    "plt.title('Распределение продаж в разрезе платформ по годам')\n",
    "plt.xlabel('Платформа')\n",
    "plt.ylabel('Общие продажи');\n"
   ]
  },
  {
   "cell_type": "markdown",
   "metadata": {},
   "source": [
    "По данным графика и сводной таблицы делаем вывод,что лидируют следующие 5 платформ:\n",
    "     1. PS4\n",
    "     2. PS3\n",
    "     3. X360\n",
    "     4. 3DS\n",
    "     5. XOne\n",
    " Однако рассматривая динамику продаж по годам,мы видим спад продаж по всем платформам  и, продажи к 2016 году по некторым платформам незначительные, и, возможно,было бы  целесообразнее, для планирования продаж на 2017г. оценить  только период 2016 гг.   "
   ]
  },
  {
   "cell_type": "markdown",
   "metadata": {},
   "source": [
    "Оценим продажи в разрезе платформ за новый,выбранный период 2016г."
   ]
  },
  {
   "cell_type": "code",
   "execution_count": 38,
   "metadata": {},
   "outputs": [
    {
     "data": {
      "text/html": [
       "<div>\n",
       "<style scoped>\n",
       "    .dataframe tbody tr th:only-of-type {\n",
       "        vertical-align: middle;\n",
       "    }\n",
       "\n",
       "    .dataframe tbody tr th {\n",
       "        vertical-align: top;\n",
       "    }\n",
       "\n",
       "    .dataframe thead th {\n",
       "        text-align: right;\n",
       "    }\n",
       "</style>\n",
       "<table border=\"1\" class=\"dataframe\">\n",
       "  <thead>\n",
       "    <tr style=\"text-align: right;\">\n",
       "      <th></th>\n",
       "      <th>name</th>\n",
       "      <th>platform</th>\n",
       "      <th>year_of_release</th>\n",
       "      <th>genre</th>\n",
       "      <th>na_sales</th>\n",
       "      <th>eu_sales</th>\n",
       "      <th>jp_sales</th>\n",
       "      <th>other_sales</th>\n",
       "      <th>critic_score</th>\n",
       "      <th>user_score</th>\n",
       "      <th>rating</th>\n",
       "      <th>total_sales</th>\n",
       "    </tr>\n",
       "  </thead>\n",
       "  <tbody>\n",
       "    <tr>\n",
       "      <th>94</th>\n",
       "      <td>FIFA 17</td>\n",
       "      <td>PS4</td>\n",
       "      <td>2016</td>\n",
       "      <td>Sports</td>\n",
       "      <td>0.66</td>\n",
       "      <td>5.75</td>\n",
       "      <td>0.08</td>\n",
       "      <td>1.11</td>\n",
       "      <td>85.0</td>\n",
       "      <td>5.0</td>\n",
       "      <td>E</td>\n",
       "      <td>7.60</td>\n",
       "    </tr>\n",
       "    <tr>\n",
       "      <th>108</th>\n",
       "      <td>Pokemon Sun/Moon</td>\n",
       "      <td>3DS</td>\n",
       "      <td>2016</td>\n",
       "      <td>Role-Playing</td>\n",
       "      <td>2.98</td>\n",
       "      <td>1.45</td>\n",
       "      <td>2.26</td>\n",
       "      <td>0.45</td>\n",
       "      <td>0.0</td>\n",
       "      <td>-1.0</td>\n",
       "      <td>NaN</td>\n",
       "      <td>7.14</td>\n",
       "    </tr>\n",
       "    <tr>\n",
       "      <th>171</th>\n",
       "      <td>Uncharted 4: A Thief's End</td>\n",
       "      <td>PS4</td>\n",
       "      <td>2016</td>\n",
       "      <td>Shooter</td>\n",
       "      <td>1.85</td>\n",
       "      <td>2.50</td>\n",
       "      <td>0.19</td>\n",
       "      <td>0.85</td>\n",
       "      <td>93.0</td>\n",
       "      <td>7.9</td>\n",
       "      <td>T</td>\n",
       "      <td>5.39</td>\n",
       "    </tr>\n",
       "    <tr>\n",
       "      <th>245</th>\n",
       "      <td>Call of Duty: Infinite Warfare</td>\n",
       "      <td>PS4</td>\n",
       "      <td>2016</td>\n",
       "      <td>Shooter</td>\n",
       "      <td>1.61</td>\n",
       "      <td>2.00</td>\n",
       "      <td>0.15</td>\n",
       "      <td>0.71</td>\n",
       "      <td>77.0</td>\n",
       "      <td>3.4</td>\n",
       "      <td>M</td>\n",
       "      <td>4.47</td>\n",
       "    </tr>\n",
       "    <tr>\n",
       "      <th>289</th>\n",
       "      <td>Battlefield 1</td>\n",
       "      <td>PS4</td>\n",
       "      <td>2016</td>\n",
       "      <td>Shooter</td>\n",
       "      <td>1.10</td>\n",
       "      <td>2.15</td>\n",
       "      <td>0.21</td>\n",
       "      <td>0.61</td>\n",
       "      <td>88.0</td>\n",
       "      <td>8.4</td>\n",
       "      <td>M</td>\n",
       "      <td>4.07</td>\n",
       "    </tr>\n",
       "    <tr>\n",
       "      <th>...</th>\n",
       "      <td>...</td>\n",
       "      <td>...</td>\n",
       "      <td>...</td>\n",
       "      <td>...</td>\n",
       "      <td>...</td>\n",
       "      <td>...</td>\n",
       "      <td>...</td>\n",
       "      <td>...</td>\n",
       "      <td>...</td>\n",
       "      <td>...</td>\n",
       "      <td>...</td>\n",
       "      <td>...</td>\n",
       "    </tr>\n",
       "    <tr>\n",
       "      <th>16699</th>\n",
       "      <td>The Longest 5 Minutes</td>\n",
       "      <td>PSV</td>\n",
       "      <td>2016</td>\n",
       "      <td>Action</td>\n",
       "      <td>0.00</td>\n",
       "      <td>0.00</td>\n",
       "      <td>0.01</td>\n",
       "      <td>0.00</td>\n",
       "      <td>0.0</td>\n",
       "      <td>-1.0</td>\n",
       "      <td>NaN</td>\n",
       "      <td>0.01</td>\n",
       "    </tr>\n",
       "    <tr>\n",
       "      <th>16703</th>\n",
       "      <td>Strawberry Nauts</td>\n",
       "      <td>PSV</td>\n",
       "      <td>2016</td>\n",
       "      <td>Adventure</td>\n",
       "      <td>0.00</td>\n",
       "      <td>0.00</td>\n",
       "      <td>0.01</td>\n",
       "      <td>0.00</td>\n",
       "      <td>0.0</td>\n",
       "      <td>-1.0</td>\n",
       "      <td>NaN</td>\n",
       "      <td>0.01</td>\n",
       "    </tr>\n",
       "    <tr>\n",
       "      <th>16710</th>\n",
       "      <td>Samurai Warriors: Sanada Maru</td>\n",
       "      <td>PS3</td>\n",
       "      <td>2016</td>\n",
       "      <td>Action</td>\n",
       "      <td>0.00</td>\n",
       "      <td>0.00</td>\n",
       "      <td>0.01</td>\n",
       "      <td>0.00</td>\n",
       "      <td>0.0</td>\n",
       "      <td>-1.0</td>\n",
       "      <td>NaN</td>\n",
       "      <td>0.01</td>\n",
       "    </tr>\n",
       "    <tr>\n",
       "      <th>16712</th>\n",
       "      <td>Haitaka no Psychedelica</td>\n",
       "      <td>PSV</td>\n",
       "      <td>2016</td>\n",
       "      <td>Adventure</td>\n",
       "      <td>0.00</td>\n",
       "      <td>0.00</td>\n",
       "      <td>0.01</td>\n",
       "      <td>0.00</td>\n",
       "      <td>0.0</td>\n",
       "      <td>-1.0</td>\n",
       "      <td>NaN</td>\n",
       "      <td>0.01</td>\n",
       "    </tr>\n",
       "    <tr>\n",
       "      <th>16714</th>\n",
       "      <td>Winning Post 8 2016</td>\n",
       "      <td>PSV</td>\n",
       "      <td>2016</td>\n",
       "      <td>Simulation</td>\n",
       "      <td>0.00</td>\n",
       "      <td>0.00</td>\n",
       "      <td>0.01</td>\n",
       "      <td>0.00</td>\n",
       "      <td>0.0</td>\n",
       "      <td>-1.0</td>\n",
       "      <td>NaN</td>\n",
       "      <td>0.01</td>\n",
       "    </tr>\n",
       "  </tbody>\n",
       "</table>\n",
       "<p>502 rows × 12 columns</p>\n",
       "</div>"
      ],
      "text/plain": [
       "                                 name platform  year_of_release         genre  \\\n",
       "94                            FIFA 17      PS4             2016        Sports   \n",
       "108                  Pokemon Sun/Moon      3DS             2016  Role-Playing   \n",
       "171        Uncharted 4: A Thief's End      PS4             2016       Shooter   \n",
       "245    Call of Duty: Infinite Warfare      PS4             2016       Shooter   \n",
       "289                     Battlefield 1      PS4             2016       Shooter   \n",
       "...                               ...      ...              ...           ...   \n",
       "16699           The Longest 5 Minutes      PSV             2016        Action   \n",
       "16703                Strawberry Nauts      PSV             2016     Adventure   \n",
       "16710   Samurai Warriors: Sanada Maru      PS3             2016        Action   \n",
       "16712         Haitaka no Psychedelica      PSV             2016     Adventure   \n",
       "16714             Winning Post 8 2016      PSV             2016    Simulation   \n",
       "\n",
       "       na_sales  eu_sales  jp_sales  other_sales  critic_score  user_score  \\\n",
       "94         0.66      5.75      0.08         1.11          85.0         5.0   \n",
       "108        2.98      1.45      2.26         0.45           0.0        -1.0   \n",
       "171        1.85      2.50      0.19         0.85          93.0         7.9   \n",
       "245        1.61      2.00      0.15         0.71          77.0         3.4   \n",
       "289        1.10      2.15      0.21         0.61          88.0         8.4   \n",
       "...         ...       ...       ...          ...           ...         ...   \n",
       "16699      0.00      0.00      0.01         0.00           0.0        -1.0   \n",
       "16703      0.00      0.00      0.01         0.00           0.0        -1.0   \n",
       "16710      0.00      0.00      0.01         0.00           0.0        -1.0   \n",
       "16712      0.00      0.00      0.01         0.00           0.0        -1.0   \n",
       "16714      0.00      0.00      0.01         0.00           0.0        -1.0   \n",
       "\n",
       "      rating  total_sales  \n",
       "94         E         7.60  \n",
       "108      NaN         7.14  \n",
       "171        T         5.39  \n",
       "245        M         4.47  \n",
       "289        M         4.07  \n",
       "...      ...          ...  \n",
       "16699    NaN         0.01  \n",
       "16703    NaN         0.01  \n",
       "16710    NaN         0.01  \n",
       "16712    NaN         0.01  \n",
       "16714    NaN         0.01  \n",
       "\n",
       "[502 rows x 12 columns]"
      ]
     },
     "metadata": {},
     "output_type": "display_data"
    }
   ],
   "source": [
    "game_period2 = game.query('year_of_release == 2016')\n",
    "display(game_period2)"
   ]
  },
  {
   "cell_type": "code",
   "execution_count": 39,
   "metadata": {},
   "outputs": [
    {
     "data": {
      "image/png": "[encoded data removed]",
      "text/plain": [
       "<Figure size 432x288 with 1 Axes>"
      ]
     },
     "metadata": {
      "needs_background": "light"
     },
     "output_type": "display_data"
    }
   ],
   "source": [
    "(game_period2.pivot_table( index = ['platform', 'year_of_release'], values = 'total_sales', aggfunc = 'sum')).plot(kind='bar', grid=True)\n",
    "plt.title('Распределение продаж в разрезе платформ за 2016г.')\n",
    "plt.xlabel('Платформа')\n",
    "plt.ylabel('Общие продажи');\n"
   ]
  },
  {
   "cell_type": "markdown",
   "metadata": {},
   "source": [
    "По данным графика делаем вывод, что  в 2016 году наиболее переспективны платформы  PS4 и XOne, 3DS."
   ]
  },
  {
   "cell_type": "markdown",
   "metadata": {},
   "source": [
    "#### Построим график «ящик с усами» по глобальным продажам игр в разбивке по платформам. Опишем результат.\n"
   ]
  },
  {
   "cell_type": "code",
   "execution_count": 40,
   "metadata": {},
   "outputs": [
    {
     "data": {
      "text/html": [
       "<div>\n",
       "<style scoped>\n",
       "    .dataframe tbody tr th:only-of-type {\n",
       "        vertical-align: middle;\n",
       "    }\n",
       "\n",
       "    .dataframe tbody tr th {\n",
       "        vertical-align: top;\n",
       "    }\n",
       "\n",
       "    .dataframe thead th {\n",
       "        text-align: right;\n",
       "    }\n",
       "</style>\n",
       "<table border=\"1\" class=\"dataframe\">\n",
       "  <thead>\n",
       "    <tr style=\"text-align: right;\">\n",
       "      <th></th>\n",
       "      <th>platform</th>\n",
       "      <th>year_of_release</th>\n",
       "      <th>total_sales</th>\n",
       "    </tr>\n",
       "  </thead>\n",
       "  <tbody>\n",
       "    <tr>\n",
       "      <th>0</th>\n",
       "      <td>3DS</td>\n",
       "      <td>2016</td>\n",
       "      <td>15.14</td>\n",
       "    </tr>\n",
       "    <tr>\n",
       "      <th>1</th>\n",
       "      <td>PC</td>\n",
       "      <td>2016</td>\n",
       "      <td>5.25</td>\n",
       "    </tr>\n",
       "    <tr>\n",
       "      <th>2</th>\n",
       "      <td>PS3</td>\n",
       "      <td>2016</td>\n",
       "      <td>3.60</td>\n",
       "    </tr>\n",
       "    <tr>\n",
       "      <th>3</th>\n",
       "      <td>PS4</td>\n",
       "      <td>2016</td>\n",
       "      <td>69.25</td>\n",
       "    </tr>\n",
       "    <tr>\n",
       "      <th>4</th>\n",
       "      <td>PSV</td>\n",
       "      <td>2016</td>\n",
       "      <td>4.25</td>\n",
       "    </tr>\n",
       "    <tr>\n",
       "      <th>5</th>\n",
       "      <td>Wii</td>\n",
       "      <td>2016</td>\n",
       "      <td>0.18</td>\n",
       "    </tr>\n",
       "    <tr>\n",
       "      <th>6</th>\n",
       "      <td>WiiU</td>\n",
       "      <td>2016</td>\n",
       "      <td>4.60</td>\n",
       "    </tr>\n",
       "    <tr>\n",
       "      <th>7</th>\n",
       "      <td>X360</td>\n",
       "      <td>2016</td>\n",
       "      <td>1.52</td>\n",
       "    </tr>\n",
       "    <tr>\n",
       "      <th>8</th>\n",
       "      <td>XOne</td>\n",
       "      <td>2016</td>\n",
       "      <td>26.15</td>\n",
       "    </tr>\n",
       "  </tbody>\n",
       "</table>\n",
       "</div>"
      ],
      "text/plain": [
       "  platform  year_of_release  total_sales\n",
       "0      3DS             2016        15.14\n",
       "1       PC             2016         5.25\n",
       "2      PS3             2016         3.60\n",
       "3      PS4             2016        69.25\n",
       "4      PSV             2016         4.25\n",
       "5      Wii             2016         0.18\n",
       "6     WiiU             2016         4.60\n",
       "7     X360             2016         1.52\n",
       "8     XOne             2016        26.15"
      ]
     },
     "metadata": {},
     "output_type": "display_data"
    }
   ],
   "source": [
    "game_periodPivot=game_period2.pivot_table(index=['platform','year_of_release'], values= 'total_sales', aggfunc ='sum').reset_index()\n",
    "display(game_periodPivot)"
   ]
  },
  {
   "cell_type": "code",
   "execution_count": 41,
   "metadata": {},
   "outputs": [
    {
     "data": {
      "image/png": "[encoded data removed]",
      "text/plain": [
       "<Figure size 864x288 with 1 Axes>"
      ]
     },
     "metadata": {
      "needs_background": "light"
     },
     "output_type": "display_data"
    }
   ],
   "source": [
    "plt.figure(figsize=(12,4))\n",
    "sns.boxplot(x='platform', y='total_sales', data=game_period2)\n",
    "plt.ylim([0,2])\n",
    "plt.title('Боксплот по глобальным продажам игр в разрезе платформ за 2016г.')\n",
    "plt.xlabel('Платформа')\n",
    "plt.ylabel('Общие продажи');"
   ]
  },
  {
   "cell_type": "markdown",
   "metadata": {},
   "source": [
    "По полученному выше графику, видим, что имеется очень много выбросов ис ложно оценить полученный результат.Ограничим график по оси y значением 0.8."
   ]
  },
  {
   "cell_type": "code",
   "execution_count": 42,
   "metadata": {},
   "outputs": [
    {
     "data": {
      "image/png": "[encoded data removed]",
      "text/plain": [
       "<Figure size 864x288 with 1 Axes>"
      ]
     },
     "metadata": {
      "needs_background": "light"
     },
     "output_type": "display_data"
    }
   ],
   "source": [
    "plt.figure(figsize=(12,4))\n",
    "sns.boxplot(x='platform', y='total_sales', data=game_period2)\n",
    "plt.ylim([0,0.8])\n",
    "plt.title('Боксплот по глобальным продажам игр в разрезе платформ за 2016г.')\n",
    "plt.xlabel('Платформа')\n",
    "plt.ylabel('Общие продажи');"
   ]
  },
  {
   "cell_type": "markdown",
   "metadata": {},
   "source": [
    "#### Посмотрим, как влияют на продажи внутри одной популярной платформы отзывы пользователей и критиков. Построим диаграмму рассеяния и посчитайте корреляцию между отзывами и продажами. Сформулируйте выводы.\n"
   ]
  },
  {
   "cell_type": "markdown",
   "metadata": {},
   "source": [
    "Для анализа возьмем наиболее популярную платформу PS4. Сформируем новую таблицу по выбранной платформе, и также отсеим данные по рейтингу пользователей и критиков, где были заменены пропущенные значения."
   ]
  },
  {
   "cell_type": "code",
   "execution_count": 43,
   "metadata": {},
   "outputs": [],
   "source": [
    "game_period2PS4 = game_period2.query('platform == \"PS4\" & user_score > -1 & critic_score > 0')\n"
   ]
  },
  {
   "cell_type": "markdown",
   "metadata": {},
   "source": [
    "Построим диаграммы рассеяния, проверим есть ли корреляция между 'critic_score', 'user_score' и'total_sales'."
   ]
  },
  {
   "cell_type": "code",
   "execution_count": 44,
   "metadata": {},
   "outputs": [
    {
     "data": {
      "image/png": "[encoded data removed]",
      "text/plain": [
       "<Figure size 648x648 with 12 Axes>"
      ]
     },
     "metadata": {
      "needs_background": "light"
     },
     "output_type": "display_data"
    }
   ],
   "source": [
    "sns.pairplot(game_period2PS4[['critic_score', 'user_score', 'total_sales']])\n",
    "plt.gcf().set_size_inches(9,9);"
   ]
  },
  {
   "cell_type": "markdown",
   "metadata": {},
   "source": [
    "Рассчитаем коэффициенты корреляции:"
   ]
  },
  {
   "cell_type": "code",
   "execution_count": 45,
   "metadata": {},
   "outputs": [
    {
     "data": {
      "text/html": [
       "<div>\n",
       "<style scoped>\n",
       "    .dataframe tbody tr th:only-of-type {\n",
       "        vertical-align: middle;\n",
       "    }\n",
       "\n",
       "    .dataframe tbody tr th {\n",
       "        vertical-align: top;\n",
       "    }\n",
       "\n",
       "    .dataframe thead th {\n",
       "        text-align: right;\n",
       "    }\n",
       "</style>\n",
       "<table border=\"1\" class=\"dataframe\">\n",
       "  <thead>\n",
       "    <tr style=\"text-align: right;\">\n",
       "      <th></th>\n",
       "      <th>critic_score</th>\n",
       "      <th>user_score</th>\n",
       "      <th>total_sales</th>\n",
       "    </tr>\n",
       "  </thead>\n",
       "  <tbody>\n",
       "    <tr>\n",
       "      <th>critic_score</th>\n",
       "      <td>1.000000</td>\n",
       "      <td>0.480147</td>\n",
       "      <td>0.375504</td>\n",
       "    </tr>\n",
       "    <tr>\n",
       "      <th>user_score</th>\n",
       "      <td>0.480147</td>\n",
       "      <td>1.000000</td>\n",
       "      <td>-0.120534</td>\n",
       "    </tr>\n",
       "    <tr>\n",
       "      <th>total_sales</th>\n",
       "      <td>0.375504</td>\n",
       "      <td>-0.120534</td>\n",
       "      <td>1.000000</td>\n",
       "    </tr>\n",
       "  </tbody>\n",
       "</table>\n",
       "</div>"
      ],
      "text/plain": [
       "              critic_score  user_score  total_sales\n",
       "critic_score      1.000000    0.480147     0.375504\n",
       "user_score        0.480147    1.000000    -0.120534\n",
       "total_sales       0.375504   -0.120534     1.000000"
      ]
     },
     "metadata": {},
     "output_type": "display_data"
    }
   ],
   "source": [
    "corrPS4 = game_period2PS4[['critic_score', 'user_score', 'total_sales']].corr()\n",
    "display(corrPS4)\n"
   ]
  },
  {
   "cell_type": "markdown",
   "metadata": {},
   "source": [
    "По данным расчетов,видим положительную взаимосвязь между оценкой критиков и суммарными продажами, между оценками пользователей и продажами видим небольшую отрицательную корреляцию.\n",
    "Возможно оценки критиков заслуживают \"большего доверия\",чем пользовательские."
   ]
  },
  {
   "cell_type": "markdown",
   "metadata": {},
   "source": [
    "#### Соотнесем выводы с продажами игр на других платформах."
   ]
  },
  {
   "cell_type": "markdown",
   "metadata": {},
   "source": [
    "Для сравнения и анализа возьмем еще две популярные в 2016 г. платформы: XOne и 3DS."
   ]
  },
  {
   "cell_type": "code",
   "execution_count": 46,
   "metadata": {},
   "outputs": [],
   "source": [
    "game_period2XOne = game_period2.query('platform == \"XOne\" & user_score > -1 & critic_score > 0')\n"
   ]
  },
  {
   "cell_type": "code",
   "execution_count": 47,
   "metadata": {},
   "outputs": [
    {
     "data": {
      "image/png": "[encoded data removed]",
      "text/plain": [
       "<Figure size 648x648 with 12 Axes>"
      ]
     },
     "metadata": {
      "needs_background": "light"
     },
     "output_type": "display_data"
    }
   ],
   "source": [
    "sns.pairplot(game_period2XOne[['critic_score', 'user_score', 'total_sales']])\n",
    "plt.gcf().set_size_inches(9,9);"
   ]
  },
  {
   "cell_type": "code",
   "execution_count": 48,
   "metadata": {},
   "outputs": [
    {
     "data": {
      "text/html": [
       "<div>\n",
       "<style scoped>\n",
       "    .dataframe tbody tr th:only-of-type {\n",
       "        vertical-align: middle;\n",
       "    }\n",
       "\n",
       "    .dataframe tbody tr th {\n",
       "        vertical-align: top;\n",
       "    }\n",
       "\n",
       "    .dataframe thead th {\n",
       "        text-align: right;\n",
       "    }\n",
       "</style>\n",
       "<table border=\"1\" class=\"dataframe\">\n",
       "  <thead>\n",
       "    <tr style=\"text-align: right;\">\n",
       "      <th></th>\n",
       "      <th>critic_score</th>\n",
       "      <th>user_score</th>\n",
       "      <th>total_sales</th>\n",
       "    </tr>\n",
       "  </thead>\n",
       "  <tbody>\n",
       "    <tr>\n",
       "      <th>critic_score</th>\n",
       "      <td>1.000000</td>\n",
       "      <td>0.426034</td>\n",
       "      <td>0.407125</td>\n",
       "    </tr>\n",
       "    <tr>\n",
       "      <th>user_score</th>\n",
       "      <td>0.426034</td>\n",
       "      <td>1.000000</td>\n",
       "      <td>-0.179308</td>\n",
       "    </tr>\n",
       "    <tr>\n",
       "      <th>total_sales</th>\n",
       "      <td>0.407125</td>\n",
       "      <td>-0.179308</td>\n",
       "      <td>1.000000</td>\n",
       "    </tr>\n",
       "  </tbody>\n",
       "</table>\n",
       "</div>"
      ],
      "text/plain": [
       "              critic_score  user_score  total_sales\n",
       "critic_score      1.000000    0.426034     0.407125\n",
       "user_score        0.426034    1.000000    -0.179308\n",
       "total_sales       0.407125   -0.179308     1.000000"
      ]
     },
     "metadata": {},
     "output_type": "display_data"
    }
   ],
   "source": [
    "corrXOne = game_period2XOne[['critic_score', 'user_score', 'total_sales']].corr()\n",
    "display(corrXOne)"
   ]
  },
  {
   "cell_type": "markdown",
   "metadata": {},
   "source": [
    "В данном случае мы видим иную картину: в отличает от PS4, XOne имеет положительную корреляции и общих продаж с отзывами критиков, и общих продаж с отзывами пользователей."
   ]
  },
  {
   "cell_type": "code",
   "execution_count": 49,
   "metadata": {},
   "outputs": [],
   "source": [
    "game_period23DS = game_period2.query('platform == \"3DS\" & user_score > -1 & critic_score > 0')\n"
   ]
  },
  {
   "cell_type": "code",
   "execution_count": 50,
   "metadata": {},
   "outputs": [
    {
     "data": {
      "image/png": "[encoded data removed]",
      "text/plain": [
       "<Figure size 648x648 with 12 Axes>"
      ]
     },
     "metadata": {
      "needs_background": "light"
     },
     "output_type": "display_data"
    }
   ],
   "source": [
    "sns.pairplot(game_period23DS[['critic_score', 'user_score', 'total_sales']])\n",
    "plt.gcf().set_size_inches(9,9);"
   ]
  },
  {
   "cell_type": "code",
   "execution_count": 51,
   "metadata": {},
   "outputs": [
    {
     "data": {
      "text/html": [
       "<div>\n",
       "<style scoped>\n",
       "    .dataframe tbody tr th:only-of-type {\n",
       "        vertical-align: middle;\n",
       "    }\n",
       "\n",
       "    .dataframe tbody tr th {\n",
       "        vertical-align: top;\n",
       "    }\n",
       "\n",
       "    .dataframe thead th {\n",
       "        text-align: right;\n",
       "    }\n",
       "</style>\n",
       "<table border=\"1\" class=\"dataframe\">\n",
       "  <thead>\n",
       "    <tr style=\"text-align: right;\">\n",
       "      <th></th>\n",
       "      <th>critic_score</th>\n",
       "      <th>user_score</th>\n",
       "      <th>total_sales</th>\n",
       "    </tr>\n",
       "  </thead>\n",
       "  <tbody>\n",
       "    <tr>\n",
       "      <th>critic_score</th>\n",
       "      <td>1.000000</td>\n",
       "      <td>0.721313</td>\n",
       "      <td>0.338408</td>\n",
       "    </tr>\n",
       "    <tr>\n",
       "      <th>user_score</th>\n",
       "      <td>0.721313</td>\n",
       "      <td>1.000000</td>\n",
       "      <td>0.406123</td>\n",
       "    </tr>\n",
       "    <tr>\n",
       "      <th>total_sales</th>\n",
       "      <td>0.338408</td>\n",
       "      <td>0.406123</td>\n",
       "      <td>1.000000</td>\n",
       "    </tr>\n",
       "  </tbody>\n",
       "</table>\n",
       "</div>"
      ],
      "text/plain": [
       "              critic_score  user_score  total_sales\n",
       "critic_score      1.000000    0.721313     0.338408\n",
       "user_score        0.721313    1.000000     0.406123\n",
       "total_sales       0.338408    0.406123     1.000000"
      ]
     },
     "metadata": {},
     "output_type": "display_data"
    }
   ],
   "source": [
    "corr3DS = game_period23DS[['critic_score', 'user_score', 'total_sales']].corr()\n",
    "display(corr3DS)"
   ]
  },
  {
   "cell_type": "markdown",
   "metadata": {},
   "source": [
    "По платформе 3DS ситуация аналогичная платформе XOne"
   ]
  },
  {
   "cell_type": "markdown",
   "metadata": {},
   "source": [
    "#### Посмотрим на общее распределение игр по жанрам. Что можно сказать о самых прибыльных жанрах? Выделяются ли жанры с высокими и низкими продажами?\n",
    "\n"
   ]
  },
  {
   "cell_type": "code",
   "execution_count": 52,
   "metadata": {},
   "outputs": [
    {
     "data": {
      "image/png": "[encoded data removed]",
      "text/plain": [
       "<Figure size 864x288 with 1 Axes>"
      ]
     },
     "metadata": {
      "needs_background": "light"
     },
     "output_type": "display_data"
    }
   ],
   "source": [
    "plt.figure(figsize=(12,4))\n",
    "sns.boxplot(x='genre', y='total_sales', data=game_period2)\n",
    "plt.ylim([0,1.5])\n",
    "plt.title('Боксплот по глобальным продажам игр в разрезе жанров за 2016г.')\n",
    "plt.xlabel('Платформа')\n",
    "plt.ylabel('Общие продажи');"
   ]
  },
  {
   "cell_type": "markdown",
   "metadata": {},
   "source": [
    "Наиболее популярными жанрами игр являются:\n",
    "    -Shooter\n",
    "    -Sports\n",
    "    -Role-Playing"
   ]
  },
  {
   "cell_type": "markdown",
   "metadata": {},
   "source": [
    "### Составим портрет пользователя каждого региона"
   ]
  },
  {
   "cell_type": "markdown",
   "metadata": {},
   "source": [
    "#### Определим для пользователя каждого региона (NA, EU, JP) самые популярные платформы (топ-5). Опишем различия в долях продаж"
   ]
  },
  {
   "cell_type": "code",
   "execution_count": 53,
   "metadata": {},
   "outputs": [
    {
     "data": {
      "text/html": [
       "<div>\n",
       "<style scoped>\n",
       "    .dataframe tbody tr th:only-of-type {\n",
       "        vertical-align: middle;\n",
       "    }\n",
       "\n",
       "    .dataframe tbody tr th {\n",
       "        vertical-align: top;\n",
       "    }\n",
       "\n",
       "    .dataframe thead th {\n",
       "        text-align: right;\n",
       "    }\n",
       "</style>\n",
       "<table border=\"1\" class=\"dataframe\">\n",
       "  <thead>\n",
       "    <tr style=\"text-align: right;\">\n",
       "      <th></th>\n",
       "      <th>platform</th>\n",
       "      <th>mean</th>\n",
       "      <th>sum</th>\n",
       "      <th>count</th>\n",
       "    </tr>\n",
       "  </thead>\n",
       "  <tbody>\n",
       "    <tr>\n",
       "      <th>0</th>\n",
       "      <td>PS4</td>\n",
       "      <td>0.131037</td>\n",
       "      <td>21.49</td>\n",
       "      <td>164</td>\n",
       "    </tr>\n",
       "    <tr>\n",
       "      <th>1</th>\n",
       "      <td>XOne</td>\n",
       "      <td>0.164023</td>\n",
       "      <td>14.27</td>\n",
       "      <td>87</td>\n",
       "    </tr>\n",
       "    <tr>\n",
       "      <th>2</th>\n",
       "      <td>3DS</td>\n",
       "      <td>0.090000</td>\n",
       "      <td>4.14</td>\n",
       "      <td>46</td>\n",
       "    </tr>\n",
       "    <tr>\n",
       "      <th>3</th>\n",
       "      <td>WiiU</td>\n",
       "      <td>0.150000</td>\n",
       "      <td>2.10</td>\n",
       "      <td>14</td>\n",
       "    </tr>\n",
       "    <tr>\n",
       "      <th>4</th>\n",
       "      <td>PC</td>\n",
       "      <td>0.025185</td>\n",
       "      <td>1.36</td>\n",
       "      <td>54</td>\n",
       "    </tr>\n",
       "  </tbody>\n",
       "</table>\n",
       "</div>"
      ],
      "text/plain": [
       "  platform      mean    sum  count\n",
       "0      PS4  0.131037  21.49    164\n",
       "1     XOne  0.164023  14.27     87\n",
       "2      3DS  0.090000   4.14     46\n",
       "3     WiiU  0.150000   2.10     14\n",
       "4       PC  0.025185   1.36     54"
      ]
     },
     "execution_count": 53,
     "metadata": {},
     "output_type": "execute_result"
    }
   ],
   "source": [
    "game_period2.groupby('platform')['na_sales'].agg({'count', 'sum', 'mean'}).sort_values(by = 'sum', ascending = False).head().reset_index()\n"
   ]
  },
  {
   "cell_type": "code",
   "execution_count": 54,
   "metadata": {},
   "outputs": [
    {
     "data": {
      "image/png": "[encoded data removed]",
      "text/plain": [
       "<Figure size 432x288 with 1 Axes>"
      ]
     },
     "metadata": {
      "needs_background": "light"
     },
     "output_type": "display_data"
    }
   ],
   "source": [
    "game_period2.groupby('platform')['na_sales'].agg({'count', 'sum', 'mean'}).sort_values(by = 'sum', ascending = False).head().reset_index().plot(x = 'platform', y = 'sum', kind = 'bar', grid=True, legend=False)\n",
    "plt.title('ТОП-5 наиболее популярных платформ на Американском рынке в 2016 г.')\n",
    "plt.xlabel('Платформа')\n",
    "plt.ylabel('Количество');"
   ]
  },
  {
   "cell_type": "code",
   "execution_count": 55,
   "metadata": {},
   "outputs": [
    {
     "data": {
      "text/html": [
       "<div>\n",
       "<style scoped>\n",
       "    .dataframe tbody tr th:only-of-type {\n",
       "        vertical-align: middle;\n",
       "    }\n",
       "\n",
       "    .dataframe tbody tr th {\n",
       "        vertical-align: top;\n",
       "    }\n",
       "\n",
       "    .dataframe thead th {\n",
       "        text-align: right;\n",
       "    }\n",
       "</style>\n",
       "<table border=\"1\" class=\"dataframe\">\n",
       "  <thead>\n",
       "    <tr style=\"text-align: right;\">\n",
       "      <th></th>\n",
       "      <th>platform</th>\n",
       "      <th>mean</th>\n",
       "      <th>sum</th>\n",
       "      <th>count</th>\n",
       "    </tr>\n",
       "  </thead>\n",
       "  <tbody>\n",
       "    <tr>\n",
       "      <th>0</th>\n",
       "      <td>PS4</td>\n",
       "      <td>0.193780</td>\n",
       "      <td>31.78</td>\n",
       "      <td>164</td>\n",
       "    </tr>\n",
       "    <tr>\n",
       "      <th>1</th>\n",
       "      <td>XOne</td>\n",
       "      <td>0.110690</td>\n",
       "      <td>9.63</td>\n",
       "      <td>87</td>\n",
       "    </tr>\n",
       "    <tr>\n",
       "      <th>2</th>\n",
       "      <td>PC</td>\n",
       "      <td>0.065370</td>\n",
       "      <td>3.53</td>\n",
       "      <td>54</td>\n",
       "    </tr>\n",
       "    <tr>\n",
       "      <th>3</th>\n",
       "      <td>3DS</td>\n",
       "      <td>0.050652</td>\n",
       "      <td>2.33</td>\n",
       "      <td>46</td>\n",
       "    </tr>\n",
       "    <tr>\n",
       "      <th>4</th>\n",
       "      <td>WiiU</td>\n",
       "      <td>0.105714</td>\n",
       "      <td>1.48</td>\n",
       "      <td>14</td>\n",
       "    </tr>\n",
       "  </tbody>\n",
       "</table>\n",
       "</div>"
      ],
      "text/plain": [
       "  platform      mean    sum  count\n",
       "0      PS4  0.193780  31.78    164\n",
       "1     XOne  0.110690   9.63     87\n",
       "2       PC  0.065370   3.53     54\n",
       "3      3DS  0.050652   2.33     46\n",
       "4     WiiU  0.105714   1.48     14"
      ]
     },
     "execution_count": 55,
     "metadata": {},
     "output_type": "execute_result"
    }
   ],
   "source": [
    "game_period2.groupby('platform')['eu_sales'].agg({'count', 'sum', 'mean'}).sort_values(by = 'sum', ascending = False).head().reset_index()\n"
   ]
  },
  {
   "cell_type": "code",
   "execution_count": 56,
   "metadata": {},
   "outputs": [
    {
     "data": {
      "image/png": "[encoded data removed]",
      "text/plain": [
       "<Figure size 432x288 with 1 Axes>"
      ]
     },
     "metadata": {
      "needs_background": "light"
     },
     "output_type": "display_data"
    }
   ],
   "source": [
    "game_period2.groupby('platform')['eu_sales'].agg({'count', 'sum', 'mean'}).sort_values(by = 'sum', ascending = False).head().reset_index().plot(x = 'platform', y = 'sum', kind = 'bar', grid=True, legend=False)\n",
    "plt.title('ТОП-5 наиболее популярных платформ на Европейском рынке в 2016 г.')\n",
    "plt.xlabel('Платформа')\n",
    "plt.ylabel('Количество');"
   ]
  },
  {
   "cell_type": "code",
   "execution_count": 57,
   "metadata": {},
   "outputs": [
    {
     "data": {
      "text/html": [
       "<div>\n",
       "<style scoped>\n",
       "    .dataframe tbody tr th:only-of-type {\n",
       "        vertical-align: middle;\n",
       "    }\n",
       "\n",
       "    .dataframe tbody tr th {\n",
       "        vertical-align: top;\n",
       "    }\n",
       "\n",
       "    .dataframe thead th {\n",
       "        text-align: right;\n",
       "    }\n",
       "</style>\n",
       "<table border=\"1\" class=\"dataframe\">\n",
       "  <thead>\n",
       "    <tr style=\"text-align: right;\">\n",
       "      <th></th>\n",
       "      <th>platform</th>\n",
       "      <th>mean</th>\n",
       "      <th>sum</th>\n",
       "      <th>count</th>\n",
       "    </tr>\n",
       "  </thead>\n",
       "  <tbody>\n",
       "    <tr>\n",
       "      <th>0</th>\n",
       "      <td>3DS</td>\n",
       "      <td>0.174565</td>\n",
       "      <td>8.03</td>\n",
       "      <td>46</td>\n",
       "    </tr>\n",
       "    <tr>\n",
       "      <th>1</th>\n",
       "      <td>PS4</td>\n",
       "      <td>0.035000</td>\n",
       "      <td>5.74</td>\n",
       "      <td>164</td>\n",
       "    </tr>\n",
       "    <tr>\n",
       "      <th>2</th>\n",
       "      <td>PSV</td>\n",
       "      <td>0.041882</td>\n",
       "      <td>3.56</td>\n",
       "      <td>85</td>\n",
       "    </tr>\n",
       "    <tr>\n",
       "      <th>3</th>\n",
       "      <td>PS3</td>\n",
       "      <td>0.034211</td>\n",
       "      <td>1.30</td>\n",
       "      <td>38</td>\n",
       "    </tr>\n",
       "    <tr>\n",
       "      <th>4</th>\n",
       "      <td>WiiU</td>\n",
       "      <td>0.047857</td>\n",
       "      <td>0.67</td>\n",
       "      <td>14</td>\n",
       "    </tr>\n",
       "  </tbody>\n",
       "</table>\n",
       "</div>"
      ],
      "text/plain": [
       "  platform      mean   sum  count\n",
       "0      3DS  0.174565  8.03     46\n",
       "1      PS4  0.035000  5.74    164\n",
       "2      PSV  0.041882  3.56     85\n",
       "3      PS3  0.034211  1.30     38\n",
       "4     WiiU  0.047857  0.67     14"
      ]
     },
     "execution_count": 57,
     "metadata": {},
     "output_type": "execute_result"
    }
   ],
   "source": [
    "game_period2.groupby('platform')['jp_sales'].agg({'count', 'sum', 'mean'}).sort_values(by = 'sum', ascending = False).head().reset_index()\n"
   ]
  },
  {
   "cell_type": "code",
   "execution_count": 58,
   "metadata": {},
   "outputs": [
    {
     "data": {
      "image/png": "[encoded data removed]",
      "text/plain": [
       "<Figure size 432x288 with 1 Axes>"
      ]
     },
     "metadata": {
      "needs_background": "light"
     },
     "output_type": "display_data"
    }
   ],
   "source": [
    "game_period2.groupby('platform')['jp_sales'].agg({'count', 'sum', 'mean'}).sort_values(by = 'sum', ascending = False).head().reset_index().plot(x = 'platform', y = 'sum', kind = 'bar', grid=True, legend=False)\n",
    "plt.title('ТОП-5 наиболее популярных платформ на Японском рынке в 2016 г.')\n",
    "plt.xlabel('Платформа')\n",
    "plt.ylabel('Количество');"
   ]
  },
  {
   "cell_type": "markdown",
   "metadata": {},
   "source": [
    "Рассмотрев ТОП-5платформ,для пользователей каждого сегмента рынка, можем сделать выводы:\n",
    "наиболее популярные платформы на американском рынке:\n",
    "- PS4\n",
    "- XOne\n",
    "- 3DS\n",
    "- WiiU\n",
    "- PC\n",
    "на европейском рынке:\n",
    "- PS4\n",
    "- XOne\n",
    "- PC\n",
    "- 3DS\n",
    "- WiiU\n",
    "на японском рынке:\n",
    "- 3DS\n",
    "- PS4\n",
    "- PSV\n",
    "- PS3\n",
    "- WiiU.\n",
    "   "
   ]
  },
  {
   "cell_type": "markdown",
   "metadata": {},
   "source": [
    "#### Определим для пользователя каждого региона (NA, EU, JP) самые популярные жанры (топ-5). Поясним разницу."
   ]
  },
  {
   "cell_type": "code",
   "execution_count": 59,
   "metadata": {},
   "outputs": [
    {
     "data": {
      "text/html": [
       "<div>\n",
       "<style scoped>\n",
       "    .dataframe tbody tr th:only-of-type {\n",
       "        vertical-align: middle;\n",
       "    }\n",
       "\n",
       "    .dataframe tbody tr th {\n",
       "        vertical-align: top;\n",
       "    }\n",
       "\n",
       "    .dataframe thead th {\n",
       "        text-align: right;\n",
       "    }\n",
       "</style>\n",
       "<table border=\"1\" class=\"dataframe\">\n",
       "  <thead>\n",
       "    <tr style=\"text-align: right;\">\n",
       "      <th></th>\n",
       "      <th>genre</th>\n",
       "      <th>mean</th>\n",
       "      <th>sum</th>\n",
       "      <th>count</th>\n",
       "    </tr>\n",
       "  </thead>\n",
       "  <tbody>\n",
       "    <tr>\n",
       "      <th>0</th>\n",
       "      <td>Shooter</td>\n",
       "      <td>0.345532</td>\n",
       "      <td>16.24</td>\n",
       "      <td>47</td>\n",
       "    </tr>\n",
       "    <tr>\n",
       "      <th>1</th>\n",
       "      <td>Action</td>\n",
       "      <td>0.052191</td>\n",
       "      <td>9.29</td>\n",
       "      <td>178</td>\n",
       "    </tr>\n",
       "    <tr>\n",
       "      <th>2</th>\n",
       "      <td>Sports</td>\n",
       "      <td>0.157083</td>\n",
       "      <td>7.54</td>\n",
       "      <td>48</td>\n",
       "    </tr>\n",
       "    <tr>\n",
       "      <th>3</th>\n",
       "      <td>Role-Playing</td>\n",
       "      <td>0.109074</td>\n",
       "      <td>5.89</td>\n",
       "      <td>54</td>\n",
       "    </tr>\n",
       "    <tr>\n",
       "      <th>4</th>\n",
       "      <td>Fighting</td>\n",
       "      <td>0.115000</td>\n",
       "      <td>1.84</td>\n",
       "      <td>16</td>\n",
       "    </tr>\n",
       "  </tbody>\n",
       "</table>\n",
       "</div>"
      ],
      "text/plain": [
       "          genre      mean    sum  count\n",
       "0       Shooter  0.345532  16.24     47\n",
       "1        Action  0.052191   9.29    178\n",
       "2        Sports  0.157083   7.54     48\n",
       "3  Role-Playing  0.109074   5.89     54\n",
       "4      Fighting  0.115000   1.84     16"
      ]
     },
     "execution_count": 59,
     "metadata": {},
     "output_type": "execute_result"
    }
   ],
   "source": [
    "game_period2.groupby('genre')['na_sales'].agg({'count', 'sum', 'mean'}).sort_values(by = 'sum', ascending = False).head().reset_index()\n"
   ]
  },
  {
   "cell_type": "code",
   "execution_count": 60,
   "metadata": {},
   "outputs": [
    {
     "data": {
      "image/png": "[encoded data removed]",
      "text/plain": [
       "<Figure size 432x288 with 1 Axes>"
      ]
     },
     "metadata": {
      "needs_background": "light"
     },
     "output_type": "display_data"
    }
   ],
   "source": [
    "game_period2.groupby('genre')['na_sales'].agg({'count', 'sum', 'mean'}).sort_values(by = 'sum', ascending = False).head().reset_index().plot(x = 'genre', y = 'sum', kind = 'bar', grid=True, legend=False)\n",
    "plt.title('ТОП-5 наиболее популярных жанров на Американском рынке в 2016 г.')\n",
    "plt.xlabel('Жанр')\n",
    "plt.ylabel('Количество');"
   ]
  },
  {
   "cell_type": "code",
   "execution_count": 61,
   "metadata": {},
   "outputs": [
    {
     "data": {
      "text/html": [
       "<div>\n",
       "<style scoped>\n",
       "    .dataframe tbody tr th:only-of-type {\n",
       "        vertical-align: middle;\n",
       "    }\n",
       "\n",
       "    .dataframe tbody tr th {\n",
       "        vertical-align: top;\n",
       "    }\n",
       "\n",
       "    .dataframe thead th {\n",
       "        text-align: right;\n",
       "    }\n",
       "</style>\n",
       "<table border=\"1\" class=\"dataframe\">\n",
       "  <thead>\n",
       "    <tr style=\"text-align: right;\">\n",
       "      <th></th>\n",
       "      <th>genre</th>\n",
       "      <th>mean</th>\n",
       "      <th>sum</th>\n",
       "      <th>count</th>\n",
       "    </tr>\n",
       "  </thead>\n",
       "  <tbody>\n",
       "    <tr>\n",
       "      <th>0</th>\n",
       "      <td>Shooter</td>\n",
       "      <td>0.338298</td>\n",
       "      <td>15.90</td>\n",
       "      <td>47</td>\n",
       "    </tr>\n",
       "    <tr>\n",
       "      <th>1</th>\n",
       "      <td>Sports</td>\n",
       "      <td>0.250208</td>\n",
       "      <td>12.01</td>\n",
       "      <td>48</td>\n",
       "    </tr>\n",
       "    <tr>\n",
       "      <th>2</th>\n",
       "      <td>Action</td>\n",
       "      <td>0.060000</td>\n",
       "      <td>10.68</td>\n",
       "      <td>178</td>\n",
       "    </tr>\n",
       "    <tr>\n",
       "      <th>3</th>\n",
       "      <td>Role-Playing</td>\n",
       "      <td>0.079259</td>\n",
       "      <td>4.28</td>\n",
       "      <td>54</td>\n",
       "    </tr>\n",
       "    <tr>\n",
       "      <th>4</th>\n",
       "      <td>Racing</td>\n",
       "      <td>0.073750</td>\n",
       "      <td>1.77</td>\n",
       "      <td>24</td>\n",
       "    </tr>\n",
       "  </tbody>\n",
       "</table>\n",
       "</div>"
      ],
      "text/plain": [
       "          genre      mean    sum  count\n",
       "0       Shooter  0.338298  15.90     47\n",
       "1        Sports  0.250208  12.01     48\n",
       "2        Action  0.060000  10.68    178\n",
       "3  Role-Playing  0.079259   4.28     54\n",
       "4        Racing  0.073750   1.77     24"
      ]
     },
     "execution_count": 61,
     "metadata": {},
     "output_type": "execute_result"
    }
   ],
   "source": [
    "game_period2.groupby('genre')['eu_sales'].agg({'count', 'sum', 'mean'}).sort_values(by = 'sum', ascending = False).head().reset_index()\n"
   ]
  },
  {
   "cell_type": "code",
   "execution_count": 62,
   "metadata": {},
   "outputs": [
    {
     "data": {
      "image/png": "[encoded data removed]",
      "text/plain": [
       "<Figure size 432x288 with 1 Axes>"
      ]
     },
     "metadata": {
      "needs_background": "light"
     },
     "output_type": "display_data"
    }
   ],
   "source": [
    "game_period2.groupby('genre')['eu_sales'].agg({'count', 'sum', 'mean'}).sort_values(by = 'sum', ascending = False).head().reset_index().plot(x = 'genre', y = 'sum', kind = 'bar', grid=True, legend=False)\n",
    "plt.title('ТОП-5 наиболее популярных жанров на Европейском рынке в 2016 г.')\n",
    "plt.xlabel('Жанр')\n",
    "plt.ylabel('Количество');"
   ]
  },
  {
   "cell_type": "code",
   "execution_count": 63,
   "metadata": {},
   "outputs": [
    {
     "data": {
      "text/html": [
       "<div>\n",
       "<style scoped>\n",
       "    .dataframe tbody tr th:only-of-type {\n",
       "        vertical-align: middle;\n",
       "    }\n",
       "\n",
       "    .dataframe tbody tr th {\n",
       "        vertical-align: top;\n",
       "    }\n",
       "\n",
       "    .dataframe thead th {\n",
       "        text-align: right;\n",
       "    }\n",
       "</style>\n",
       "<table border=\"1\" class=\"dataframe\">\n",
       "  <thead>\n",
       "    <tr style=\"text-align: right;\">\n",
       "      <th></th>\n",
       "      <th>genre</th>\n",
       "      <th>mean</th>\n",
       "      <th>sum</th>\n",
       "      <th>count</th>\n",
       "    </tr>\n",
       "  </thead>\n",
       "  <tbody>\n",
       "    <tr>\n",
       "      <th>0</th>\n",
       "      <td>Action</td>\n",
       "      <td>0.039719</td>\n",
       "      <td>7.07</td>\n",
       "      <td>178</td>\n",
       "    </tr>\n",
       "    <tr>\n",
       "      <th>1</th>\n",
       "      <td>Role-Playing</td>\n",
       "      <td>0.122407</td>\n",
       "      <td>6.61</td>\n",
       "      <td>54</td>\n",
       "    </tr>\n",
       "    <tr>\n",
       "      <th>2</th>\n",
       "      <td>Adventure</td>\n",
       "      <td>0.021071</td>\n",
       "      <td>1.18</td>\n",
       "      <td>56</td>\n",
       "    </tr>\n",
       "    <tr>\n",
       "      <th>3</th>\n",
       "      <td>Shooter</td>\n",
       "      <td>0.022553</td>\n",
       "      <td>1.06</td>\n",
       "      <td>47</td>\n",
       "    </tr>\n",
       "    <tr>\n",
       "      <th>4</th>\n",
       "      <td>Misc</td>\n",
       "      <td>0.032500</td>\n",
       "      <td>1.04</td>\n",
       "      <td>32</td>\n",
       "    </tr>\n",
       "  </tbody>\n",
       "</table>\n",
       "</div>"
      ],
      "text/plain": [
       "          genre      mean   sum  count\n",
       "0        Action  0.039719  7.07    178\n",
       "1  Role-Playing  0.122407  6.61     54\n",
       "2     Adventure  0.021071  1.18     56\n",
       "3       Shooter  0.022553  1.06     47\n",
       "4          Misc  0.032500  1.04     32"
      ]
     },
     "execution_count": 63,
     "metadata": {},
     "output_type": "execute_result"
    }
   ],
   "source": [
    "game_period2.groupby('genre')['jp_sales'].agg({'count', 'sum', 'mean'}).sort_values(by = 'sum', ascending = False).head().reset_index()\n"
   ]
  },
  {
   "cell_type": "code",
   "execution_count": 64,
   "metadata": {},
   "outputs": [
    {
     "data": {
      "image/png": "[encoded data removed]",
      "text/plain": [
       "<Figure size 432x288 with 1 Axes>"
      ]
     },
     "metadata": {
      "needs_background": "light"
     },
     "output_type": "display_data"
    }
   ],
   "source": [
    "game_period2.groupby('genre')['jp_sales'].agg({'count', 'sum', 'mean'}).sort_values(by = 'sum', ascending = False).head().reset_index().plot(x = 'genre', y = 'sum', kind = 'bar', grid=True, legend=False)\n",
    "plt.title('ТОП-5 наиболее популярных жанров игр на Японском рынке в 2016 г.')\n",
    "plt.xlabel('Жанр')\n",
    "plt.ylabel('Количество');"
   ]
  },
  {
   "cell_type": "markdown",
   "metadata": {},
   "source": [
    "В разрезе жанров американский рынок имеет следующий ТОП-5 :\n",
    "    - Shooter\n",
    "    - Action\n",
    "    - Sports\n",
    "    - Role-playing\n",
    "    - Fighting\n",
    " европейский рынок : \n",
    "    - Shooter\n",
    "    - Sports\n",
    "    - Action\n",
    "    - Role-Playing\n",
    "    - Racing\n",
    " японский рынок :\n",
    "    - Action\n",
    "    - Role-Playing\n",
    "    - Adventure\n",
    "    - Shooter\n",
    "    - Misc"
   ]
  },
  {
   "cell_type": "markdown",
   "metadata": {},
   "source": [
    "#### Определим влияет ли рейтинг ESRB на продажи в отдельном регионе?"
   ]
  },
  {
   "cell_type": "code",
   "execution_count": 65,
   "metadata": {
    "scrolled": true
   },
   "outputs": [
    {
     "data": {
      "text/plain": [
       "array(['E', nan, 'T', 'M', 'E10+'], dtype=object)"
      ]
     },
     "execution_count": 65,
     "metadata": {},
     "output_type": "execute_result"
    }
   ],
   "source": [
    "game_period2['rating'].unique()"
   ]
  },
  {
   "cell_type": "code",
   "execution_count": 66,
   "metadata": {},
   "outputs": [
    {
     "data": {
      "text/plain": [
       "<AxesSubplot:title={'center':'Соотношение типов рейтинга'}, ylabel='rating'>"
      ]
     },
     "execution_count": 66,
     "metadata": {},
     "output_type": "execute_result"
    },
    {
     "data": {
      "image/png": "[encoded data removed]",
      "text/plain": [
       "<Figure size 432x288 with 1 Axes>"
      ]
     },
     "metadata": {},
     "output_type": "display_data"
    }
   ],
   "source": [
    "game_period2['rating'].value_counts().plot(kind='pie', title='Соотношение типов рейтинга', autopct='%i%%')"
   ]
  },
  {
   "cell_type": "code",
   "execution_count": 67,
   "metadata": {},
   "outputs": [
    {
     "data": {
      "text/html": [
       "<div>\n",
       "<style scoped>\n",
       "    .dataframe tbody tr th:only-of-type {\n",
       "        vertical-align: middle;\n",
       "    }\n",
       "\n",
       "    .dataframe tbody tr th {\n",
       "        vertical-align: top;\n",
       "    }\n",
       "\n",
       "    .dataframe thead th {\n",
       "        text-align: right;\n",
       "    }\n",
       "</style>\n",
       "<table border=\"1\" class=\"dataframe\">\n",
       "  <thead>\n",
       "    <tr style=\"text-align: right;\">\n",
       "      <th></th>\n",
       "      <th>rating</th>\n",
       "      <th>total_sales</th>\n",
       "    </tr>\n",
       "  </thead>\n",
       "  <tbody>\n",
       "    <tr>\n",
       "      <th>0</th>\n",
       "      <td>E</td>\n",
       "      <td>25.74</td>\n",
       "    </tr>\n",
       "    <tr>\n",
       "      <th>1</th>\n",
       "      <td>E10+</td>\n",
       "      <td>9.13</td>\n",
       "    </tr>\n",
       "    <tr>\n",
       "      <th>2</th>\n",
       "      <td>M</td>\n",
       "      <td>38.35</td>\n",
       "    </tr>\n",
       "    <tr>\n",
       "      <th>3</th>\n",
       "      <td>T</td>\n",
       "      <td>24.12</td>\n",
       "    </tr>\n",
       "  </tbody>\n",
       "</table>\n",
       "</div>"
      ],
      "text/plain": [
       "  rating  total_sales\n",
       "0      E        25.74\n",
       "1   E10+         9.13\n",
       "2      M        38.35\n",
       "3      T        24.12"
      ]
     },
     "execution_count": 67,
     "metadata": {},
     "output_type": "execute_result"
    }
   ],
   "source": [
    "game_period2.pivot_table(index='rating', values='total_sales', aggfunc = sum).reset_index()"
   ]
  },
  {
   "cell_type": "code",
   "execution_count": 68,
   "metadata": {},
   "outputs": [
    {
     "data": {
      "image/png": "[encoded data removed]",
      "text/plain": [
       "<Figure size 432x288 with 1 Axes>"
      ]
     },
     "metadata": {
      "needs_background": "light"
     },
     "output_type": "display_data"
    }
   ],
   "source": [
    "game_period2.pivot_table(index='rating', values='total_sales', aggfunc = sum).reset_index().plot(kind='bar', x='rating', y='total_sales', legend=False)\n",
    "plt.title('Глобальные продажи игр по видам рейтинга')\n",
    "plt.xlabel('Рейтинг')\n",
    "plt.ylabel('Суммарные продажи');"
   ]
  },
  {
   "cell_type": "markdown",
   "metadata": {},
   "source": [
    "Согласно данным википедии, классификации ESRB есть следующие виды рейтингов:\n",
    "     -«EC» («Early childhood») — «Для детей младшего возраста»\n",
    "    - «E» («Everyone») — «Для всех»:\n",
    "    - «E10+» («Everyone 10 and older») — «Для всех от 10 лет и старше»\n",
    "    - «T» («Teen») — «Подросткам»: Игра подходит для лиц от 13 лет\n",
    "    - «M» («Mature») — «Для взрослых»: Материалы игры не подходят для лиц младше 17 лет    \n",
    "        \n",
    "        По вышепроизведенной оценке можем сделать вывод, что рейтинг влияет на продажи и больше продаж у игр категории \"для взрослых\" и \"для всех\".\n",
    "        "
   ]
  },
  {
   "cell_type": "markdown",
   "metadata": {},
   "source": [
    "### Проверим гипотезы"
   ]
  },
  {
   "cell_type": "markdown",
   "metadata": {},
   "source": [
    "#### Средние пользовательские рейтинги платформ Xbox One и PC одинаковые;"
   ]
  },
  {
   "cell_type": "markdown",
   "metadata": {},
   "source": [
    "Сформулируем гипотезы:\n",
    "    Но: Средние пользовательские рейтинги платформ Xbox One и PC одинаковые\n",
    "    H1: Средние пользовательские рейтинги платформ Xbox One и PC разные\n",
    "        "
   ]
  },
  {
   "cell_type": "markdown",
   "metadata": {},
   "source": [
    "Т.к. мы имеем дело со средними рейтингами 2-х независимых выборок, то для проверки гипотез будем использовать метод,  st.ttest_ind. Будем использовать двухстороннюю гипотезу,т.к. не знаем в сторону уменьшения или увеличения отличаются рейтинги."
   ]
  },
  {
   "cell_type": "code",
   "execution_count": 69,
   "metadata": {},
   "outputs": [],
   "source": [
    "PS4 = game_period2PS4['user_score'] \n",
    "XOne = game_period2XOne['user_score']\n"
   ]
  },
  {
   "cell_type": "code",
   "execution_count": 70,
   "metadata": {},
   "outputs": [
    {
     "name": "stdout",
     "output_type": "stream",
     "text": [
      "p-значение: 0.41864445657790605\n",
      "Не отвергаем нулевую гипотезу о том, что средние пользовательские рейтинги платформ Xbox One и PC одинаковые\n"
     ]
    }
   ],
   "source": [
    "from scipy import stats as st \n",
    "alpha = 0.05 # уровень статистической значимости\n",
    "PS4 = game_period2PS4['user_score'] \n",
    "XOne = game_period2XOne['user_score']\n",
    "results = st.ttest_ind(XOne, PS4)\n",
    "\n",
    "print('p-значение:', results.pvalue)\n",
    "\n",
    "if (results.pvalue < alpha):\n",
    "    print('Отвергаем нулевую гипотезу о том, что средние пользовательские рейтинги платформ Xbox One и PC одинаковые')\n",
    "else:\n",
    "    print('Не отвергаем нулевую гипотезу о том, что средние пользовательские рейтинги платформ Xbox One и PC одинаковые') \n"
   ]
  },
  {
   "cell_type": "markdown",
   "metadata": {},
   "source": [
    "#### Проверим гипотезу о том, что средние пользовательские рейтинги жанров Action (англ. «действие», экшен-игры) и Sports (англ. «спортивные соревнования») разные."
   ]
  },
  {
   "cell_type": "markdown",
   "metadata": {},
   "source": [
    "Ho: средние пользовательские рейтинги жанров Action (англ. «действие», экшен-игры) и Sports (англ. «спортивные соревнования») равны"
   ]
  },
  {
   "cell_type": "markdown",
   "metadata": {},
   "source": [
    "H1: средние пользовательские рейтинги жанров Action (англ. «действие», экшен-игры) и Sports (англ. «спортивные соревнования») отличаются"
   ]
  },
  {
   "cell_type": "markdown",
   "metadata": {},
   "source": [
    "В данном случае мы также имеем дело со средними рейтингами 2-х независимых выборок, поэтому для проверки гипотез будем использовать метод,  st.ttest_ind. Будем использовать двухстороннюю гипотезу,т.к. не знаем в  какую сторону имеются отличия  в рейтинге."
   ]
  },
  {
   "cell_type": "code",
   "execution_count": 71,
   "metadata": {},
   "outputs": [],
   "source": [
    "Action = game_period2.query('genre == \"Action\" & user_score >-1')\n",
    "Sports = game_period2.query('genre == \"Sports\" & user_score > -1')\n"
   ]
  },
  {
   "cell_type": "code",
   "execution_count": 72,
   "metadata": {},
   "outputs": [
    {
     "name": "stdout",
     "output_type": "stream",
     "text": [
      "p-значение: 0.000347482871898091\n",
      "Отвергаем нулевую гипотезу о том, что средние пользовательские рейтинги  жанров Action и Sports равны\n"
     ]
    }
   ],
   "source": [
    "\n",
    "alpha = 0.05 # уровень статистической значимости\n",
    "results = st.ttest_ind(Action['user_score'], Sports['user_score'])\n",
    "\n",
    "print('p-значение:', results.pvalue)\n",
    "\n",
    "if (results.pvalue < alpha):\n",
    "    print('Отвергаем нулевую гипотезу о том, что средние пользовательские рейтинги  жанров Action и Sports равны')\n",
    "else:\n",
    "    print('Не отвергаем нулевую гипотезу о том, что средние пользовательские рейтинги жанров Action и Sports отличаются') "
   ]
  },
  {
   "cell_type": "markdown",
   "metadata": {},
   "source": [
    "Таким образом можем сделать выводы, о том, что мы не отвергнаем нулевую гипотезу, говорящую о том, что средние пользовательские рейтинги платформ Xbox One и PC одинаковые.\n",
    "А также мы  отвергли нулевую гипотезу о том, что средние пользовательские рейтинги жанров Action и Sports равны."
   ]
  },
  {
   "cell_type": "markdown",
   "metadata": {},
   "source": [
    "Вывод:\n",
    "    По итогам проведенного исследования можно сделать следующие выводы:\n",
    "    была исследована таблица game, в которой были выявлены пропуски и заполнены подходящими данными,были изменены типы данных,где это потребовалось. Были рассчитаны суммарные продажи по регионам (total_sales), было рассмотрено распределение количества игр по годам,  и выявлено что наибольшее количество игр за весь период выпускалось на PS2, DS и PS3. Были рассмотрены\n",
    "    графики в разрезе платформы по годам и определен средний жизненный цикл платформы(10 лет).\n",
    "    Был выбран 5-летний период 2012-2016гг.для дальнейшего анализа и рассмотрены распределение продаж в разрезе платформ по годам и с помощью графика было выявлено, что наблюдается спад продаж по всем платформам  и, продажи к 2016 году по некторым платформам незначительные, и, возможно,было бы  целесообразнее, для планирования продаж на 2017г. оценить  только период 2016 гг, т.к.рынок меняет,одни платформы заменяют другие и в целом количество выпускаемых игр значительно уменьшается.По данным графика делаем вывод, что  в 2016 году наиболее переспективны платформы  PS4 и XOne, 3DS.\n",
    "    Исследовано влияние рейтингов пользователей  и критиков на общие продажи платформы PS4. По данным расчетов,видим положительную взаимосвязь между оценкой критиков и суммарными продажами, между оценками пользователей и продажами видим небольшую отрицательную корреляцию.Возможно оценки критиков заслуживают \"большего доверия\",чем пользовательские.Для сравнения проведены  также оценки по 2-м другим популярным платформам ХОne и 3DS.В данном случае мы видим иную картину: в отличает от PS4, XOne и 3DS имеет положительную корреляции и общих продаж с отзывами критиков, и общих продаж с отзывами пользователей.\n",
    "    Определены наиболее популярные жанры игр по всем пользователям: наиболее популярными жанрами игр являются: -Shooter -Sports -Role-Playing.\n",
    "    Рассмотрены платформы и жанры в разрезе рынков,на основании чего можно составить примерный \"портрет\" пользователя каждого рынка: \n",
    "                  Американский рынок:\n",
    "                  \n",
    "наиболее популярные платформы :     Наиболее популярные жанры:\n",
    "    \n",
    "- PS4                                - Shooter\n",
    "- XOne                               - Action\n",
    "- 3DS                                - Sports\n",
    "- WiiU                               - Role-playing\n",
    "- PC                                 - Fighting\n",
    "\n",
    "                 Европейский рынок:\n",
    "- PS4                                - Shooter\n",
    "- XOne                               - Sports\n",
    "- PC                                 - Action\n",
    "- 3DS                                - Role-Playing\n",
    "- WiiU                               - Racing\n",
    " \n",
    "                  Японский рынок:\n",
    "- 3DS                                - Action\n",
    "- PS4                                - Role-Playing\n",
    "- PSV                                 - Adventure\n",
    "- PS3                                 - Shooter\n",
    "- WiiU                                - Misc\n",
    "    \n",
    "    Оценено влияние рейтинга ESTB на продажи и выявлено, что рейтинг влияет на продажи и больше продаж у игр категории \"для взрослых\" и \"для всех\".\n",
    "    Также были проверены статистические гипотезы и сделаны выводы о том, что не удалось отвергнуть нулевую гипотезу, говорящую о том, что средние пользовательские рейтинги платформ Xbox One и PC одинаковые.А кроме этого мы отвергли нулевую гипотезу о том, что средние пользовательские рейтинги жанров Action и Sports равны.\n",
    "    \n",
    "\n",
    "    "
   ]
  }
 ],
 "metadata": {
  "ExecuteTimeLog": [
   {
    "duration": 3,
    "start_time": "2024-08-18T12:54:24.041Z"
   },
   {
    "duration": 50,
    "start_time": "2024-08-18T12:55:30.089Z"
   },
   {
    "duration": 377,
    "start_time": "2024-08-18T12:55:46.289Z"
   },
   {
    "duration": 73,
    "start_time": "2024-08-18T12:55:47.092Z"
   },
   {
    "duration": 51,
    "start_time": "2024-08-18T12:55:53.254Z"
   },
   {
    "duration": 3,
    "start_time": "2024-08-18T12:56:27.729Z"
   },
   {
    "duration": 52,
    "start_time": "2024-08-18T12:56:28.541Z"
   },
   {
    "duration": 236,
    "start_time": "2024-08-18T12:57:37.033Z"
   },
   {
    "duration": 74,
    "start_time": "2024-08-18T12:57:45.106Z"
   },
   {
    "duration": 70,
    "start_time": "2024-08-18T12:58:28.347Z"
   },
   {
    "duration": 392,
    "start_time": "2024-08-18T12:59:56.367Z"
   },
   {
    "duration": 17,
    "start_time": "2024-08-18T13:00:17.714Z"
   },
   {
    "duration": 16,
    "start_time": "2024-08-18T13:00:24.917Z"
   },
   {
    "duration": 5,
    "start_time": "2024-08-18T13:12:22.306Z"
   },
   {
    "duration": 7,
    "start_time": "2024-08-18T13:16:08.194Z"
   },
   {
    "duration": 943,
    "start_time": "2024-08-18T13:19:41.489Z"
   },
   {
    "duration": 4,
    "start_time": "2024-08-18T13:19:51.322Z"
   },
   {
    "duration": 2,
    "start_time": "2024-08-18T13:20:45.478Z"
   },
   {
    "duration": 5,
    "start_time": "2024-08-18T13:21:24.817Z"
   },
   {
    "duration": 11,
    "start_time": "2024-08-18T13:22:53.611Z"
   },
   {
    "duration": 10,
    "start_time": "2024-08-18T13:23:44.913Z"
   },
   {
    "duration": 63,
    "start_time": "2024-08-18T13:24:05.698Z"
   },
   {
    "duration": 88,
    "start_time": "2024-08-18T13:24:13.486Z"
   },
   {
    "duration": 8,
    "start_time": "2024-08-18T13:25:47.408Z"
   },
   {
    "duration": 7,
    "start_time": "2024-08-18T13:25:58.412Z"
   },
   {
    "duration": 7,
    "start_time": "2024-08-18T13:44:13.160Z"
   },
   {
    "duration": 7,
    "start_time": "2024-08-18T13:45:25.362Z"
   },
   {
    "duration": 7,
    "start_time": "2024-08-18T13:45:37.065Z"
   },
   {
    "duration": 7,
    "start_time": "2024-08-18T13:59:51.429Z"
   },
   {
    "duration": 7,
    "start_time": "2024-08-18T14:02:17.445Z"
   },
   {
    "duration": 13,
    "start_time": "2024-08-18T14:02:41.022Z"
   },
   {
    "duration": 8,
    "start_time": "2024-08-18T14:03:36.235Z"
   },
   {
    "duration": 16,
    "start_time": "2024-08-19T06:18:40.218Z"
   },
   {
    "duration": 10,
    "start_time": "2024-08-19T06:18:50.159Z"
   },
   {
    "duration": 8,
    "start_time": "2024-08-19T06:19:02.141Z"
   },
   {
    "duration": 7,
    "start_time": "2024-08-19T06:19:06.831Z"
   },
   {
    "duration": 7,
    "start_time": "2024-08-19T06:19:11.020Z"
   },
   {
    "duration": 7,
    "start_time": "2024-08-19T06:19:14.797Z"
   },
   {
    "duration": 4,
    "start_time": "2024-08-19T06:19:22.590Z"
   },
   {
    "duration": 4,
    "start_time": "2024-08-19T06:19:36.511Z"
   },
   {
    "duration": 5,
    "start_time": "2024-08-19T06:20:00.158Z"
   },
   {
    "duration": 625,
    "start_time": "2024-08-19T06:20:09.566Z"
   },
   {
    "duration": 80,
    "start_time": "2024-08-19T06:20:10.193Z"
   },
   {
    "duration": 19,
    "start_time": "2024-08-19T06:20:10.275Z"
   },
   {
    "duration": 5,
    "start_time": "2024-08-19T06:20:10.296Z"
   },
   {
    "duration": 7,
    "start_time": "2024-08-19T06:20:10.302Z"
   },
   {
    "duration": 5,
    "start_time": "2024-08-19T06:20:10.325Z"
   },
   {
    "duration": 77,
    "start_time": "2024-08-19T06:20:10.331Z"
   },
   {
    "duration": 0,
    "start_time": "2024-08-19T06:20:10.410Z"
   },
   {
    "duration": 8,
    "start_time": "2024-08-19T06:20:28.023Z"
   },
   {
    "duration": 8,
    "start_time": "2024-08-19T06:26:40.667Z"
   },
   {
    "duration": 4,
    "start_time": "2024-08-19T06:26:44.915Z"
   },
   {
    "duration": 14,
    "start_time": "2024-08-19T06:27:51.748Z"
   },
   {
    "duration": 866,
    "start_time": "2024-08-19T06:28:09.289Z"
   },
   {
    "duration": 68,
    "start_time": "2024-08-19T06:35:53.101Z"
   },
   {
    "duration": 70,
    "start_time": "2024-08-19T06:36:04.910Z"
   },
   {
    "duration": 65,
    "start_time": "2024-08-19T06:38:18.897Z"
   },
   {
    "duration": 80,
    "start_time": "2024-08-19T06:40:34.598Z"
   },
   {
    "duration": 78,
    "start_time": "2024-08-19T06:41:35.308Z"
   },
   {
    "duration": 958,
    "start_time": "2024-08-19T06:43:53.701Z"
   },
   {
    "duration": 7,
    "start_time": "2024-08-19T06:44:17.255Z"
   },
   {
    "duration": 3,
    "start_time": "2024-08-19T06:44:31.098Z"
   },
   {
    "duration": 7,
    "start_time": "2024-08-19T06:44:38.314Z"
   },
   {
    "duration": 2,
    "start_time": "2024-08-19T06:44:49.176Z"
   },
   {
    "duration": 3,
    "start_time": "2024-08-19T06:45:07.580Z"
   },
   {
    "duration": 612,
    "start_time": "2024-08-19T06:45:24.175Z"
   },
   {
    "duration": 74,
    "start_time": "2024-08-19T06:45:24.789Z"
   },
   {
    "duration": 20,
    "start_time": "2024-08-19T06:45:24.865Z"
   },
   {
    "duration": 5,
    "start_time": "2024-08-19T06:45:24.886Z"
   },
   {
    "duration": 16,
    "start_time": "2024-08-19T06:45:24.892Z"
   },
   {
    "duration": 23,
    "start_time": "2024-08-19T06:45:24.910Z"
   },
   {
    "duration": 52,
    "start_time": "2024-08-19T06:45:24.934Z"
   },
   {
    "duration": 43,
    "start_time": "2024-08-19T06:45:24.988Z"
   },
   {
    "duration": 31,
    "start_time": "2024-08-19T06:45:25.033Z"
   },
   {
    "duration": 89,
    "start_time": "2024-08-19T06:45:25.066Z"
   },
   {
    "duration": 0,
    "start_time": "2024-08-19T06:45:25.156Z"
   },
   {
    "duration": 610,
    "start_time": "2024-08-19T06:45:46.978Z"
   },
   {
    "duration": 76,
    "start_time": "2024-08-19T06:45:47.589Z"
   },
   {
    "duration": 20,
    "start_time": "2024-08-19T06:45:47.666Z"
   },
   {
    "duration": 5,
    "start_time": "2024-08-19T06:45:47.688Z"
   },
   {
    "duration": 12,
    "start_time": "2024-08-19T06:45:47.694Z"
   },
   {
    "duration": 19,
    "start_time": "2024-08-19T06:45:47.708Z"
   },
   {
    "duration": 9,
    "start_time": "2024-08-19T06:45:47.728Z"
   },
   {
    "duration": 15,
    "start_time": "2024-08-19T06:45:47.738Z"
   },
   {
    "duration": 25,
    "start_time": "2024-08-19T06:45:47.755Z"
   },
   {
    "duration": 65,
    "start_time": "2024-08-19T06:45:47.782Z"
   },
   {
    "duration": 2,
    "start_time": "2024-08-19T06:45:58.370Z"
   },
   {
    "duration": 69,
    "start_time": "2024-08-19T06:47:24.063Z"
   },
   {
    "duration": 7,
    "start_time": "2024-08-19T06:47:34.774Z"
   },
   {
    "duration": 648,
    "start_time": "2024-08-19T06:47:51.534Z"
   },
   {
    "duration": 73,
    "start_time": "2024-08-19T06:47:52.184Z"
   },
   {
    "duration": 20,
    "start_time": "2024-08-19T06:47:52.259Z"
   },
   {
    "duration": 10,
    "start_time": "2024-08-19T06:47:52.281Z"
   },
   {
    "duration": 12,
    "start_time": "2024-08-19T06:47:52.293Z"
   },
   {
    "duration": 40,
    "start_time": "2024-08-19T06:47:52.306Z"
   },
   {
    "duration": 28,
    "start_time": "2024-08-19T06:47:52.347Z"
   },
   {
    "duration": 9,
    "start_time": "2024-08-19T06:47:52.377Z"
   },
   {
    "duration": 17,
    "start_time": "2024-08-19T06:47:52.387Z"
   },
   {
    "duration": 64,
    "start_time": "2024-08-19T06:47:52.406Z"
   },
   {
    "duration": 70,
    "start_time": "2024-08-19T06:48:08.061Z"
   },
   {
    "duration": 7,
    "start_time": "2024-08-19T06:49:21.126Z"
   },
   {
    "duration": 7,
    "start_time": "2024-08-19T06:49:31.259Z"
   },
   {
    "duration": 7,
    "start_time": "2024-08-19T06:49:39.522Z"
   },
   {
    "duration": 617,
    "start_time": "2024-08-19T06:49:46.351Z"
   },
   {
    "duration": 71,
    "start_time": "2024-08-19T06:49:46.970Z"
   },
   {
    "duration": 19,
    "start_time": "2024-08-19T06:49:47.043Z"
   },
   {
    "duration": 4,
    "start_time": "2024-08-19T06:49:47.063Z"
   },
   {
    "duration": 6,
    "start_time": "2024-08-19T06:49:47.069Z"
   },
   {
    "duration": 11,
    "start_time": "2024-08-19T06:49:47.076Z"
   },
   {
    "duration": 18,
    "start_time": "2024-08-19T06:49:47.089Z"
   },
   {
    "duration": 16,
    "start_time": "2024-08-19T06:49:47.108Z"
   },
   {
    "duration": 4,
    "start_time": "2024-08-19T06:49:47.125Z"
   },
   {
    "duration": 72,
    "start_time": "2024-08-19T06:49:47.131Z"
   },
   {
    "duration": 73,
    "start_time": "2024-08-19T06:51:26.816Z"
   },
   {
    "duration": 3,
    "start_time": "2024-08-19T06:52:27.990Z"
   },
   {
    "duration": 4,
    "start_time": "2024-08-19T06:52:32.499Z"
   },
   {
    "duration": 14,
    "start_time": "2024-08-19T07:26:47.021Z"
   },
   {
    "duration": 5,
    "start_time": "2024-08-19T07:27:35.347Z"
   },
   {
    "duration": 11,
    "start_time": "2024-08-19T07:34:38.088Z"
   },
   {
    "duration": 33,
    "start_time": "2024-08-19T07:35:00.536Z"
   },
   {
    "duration": 21,
    "start_time": "2024-08-19T07:35:20.390Z"
   },
   {
    "duration": 5,
    "start_time": "2024-08-19T07:36:28.118Z"
   },
   {
    "duration": 13,
    "start_time": "2024-08-19T07:37:22.785Z"
   },
   {
    "duration": 5,
    "start_time": "2024-08-19T07:37:47.748Z"
   },
   {
    "duration": 6,
    "start_time": "2024-08-19T07:43:51.791Z"
   },
   {
    "duration": 5,
    "start_time": "2024-08-19T07:44:38.681Z"
   },
   {
    "duration": 7,
    "start_time": "2024-08-19T07:44:58.566Z"
   },
   {
    "duration": 152,
    "start_time": "2024-08-19T07:45:11.964Z"
   },
   {
    "duration": 203,
    "start_time": "2024-08-19T07:45:34.018Z"
   },
   {
    "duration": 168,
    "start_time": "2024-08-19T07:45:41.077Z"
   },
   {
    "duration": 204,
    "start_time": "2024-08-19T07:45:55.159Z"
   },
   {
    "duration": 146,
    "start_time": "2024-08-19T07:46:20.388Z"
   },
   {
    "duration": 608,
    "start_time": "2024-08-19T07:47:14.058Z"
   },
   {
    "duration": 73,
    "start_time": "2024-08-19T07:47:14.668Z"
   },
   {
    "duration": 957,
    "start_time": "2024-08-19T07:47:14.743Z"
   },
   {
    "duration": 0,
    "start_time": "2024-08-19T07:47:15.702Z"
   },
   {
    "duration": 0,
    "start_time": "2024-08-19T07:47:15.703Z"
   },
   {
    "duration": 0,
    "start_time": "2024-08-19T07:47:15.705Z"
   },
   {
    "duration": 0,
    "start_time": "2024-08-19T07:47:15.705Z"
   },
   {
    "duration": 0,
    "start_time": "2024-08-19T07:47:15.707Z"
   },
   {
    "duration": 629,
    "start_time": "2024-08-19T07:48:10.336Z"
   },
   {
    "duration": 74,
    "start_time": "2024-08-19T07:48:10.966Z"
   },
   {
    "duration": 11,
    "start_time": "2024-08-19T07:48:11.042Z"
   },
   {
    "duration": 3,
    "start_time": "2024-08-19T07:48:11.055Z"
   },
   {
    "duration": 15,
    "start_time": "2024-08-19T07:48:11.059Z"
   },
   {
    "duration": 5,
    "start_time": "2024-08-19T07:48:11.076Z"
   },
   {
    "duration": 173,
    "start_time": "2024-08-19T07:48:11.083Z"
   },
   {
    "duration": 5,
    "start_time": "2024-08-19T07:49:07.298Z"
   },
   {
    "duration": 4,
    "start_time": "2024-08-19T07:49:13.917Z"
   },
   {
    "duration": 144,
    "start_time": "2024-08-19T07:51:17.687Z"
   },
   {
    "duration": 304,
    "start_time": "2024-08-19T07:51:25.590Z"
   },
   {
    "duration": 357,
    "start_time": "2024-08-19T07:51:44.243Z"
   },
   {
    "duration": 296,
    "start_time": "2024-08-19T07:51:58.042Z"
   },
   {
    "duration": 333,
    "start_time": "2024-08-19T07:52:29.939Z"
   },
   {
    "duration": 4,
    "start_time": "2024-08-19T07:53:35.731Z"
   },
   {
    "duration": 5,
    "start_time": "2024-08-19T07:53:40.264Z"
   },
   {
    "duration": 5,
    "start_time": "2024-08-19T07:53:54.237Z"
   },
   {
    "duration": 4,
    "start_time": "2024-08-19T07:54:29.406Z"
   },
   {
    "duration": 317,
    "start_time": "2024-08-19T07:54:33.620Z"
   },
   {
    "duration": 352,
    "start_time": "2024-08-19T07:55:31.766Z"
   },
   {
    "duration": 398,
    "start_time": "2024-08-19T07:56:26.632Z"
   },
   {
    "duration": 6,
    "start_time": "2024-08-19T07:57:44.612Z"
   },
   {
    "duration": 23,
    "start_time": "2024-08-19T08:05:50.554Z"
   },
   {
    "duration": 168,
    "start_time": "2024-08-19T08:06:26.701Z"
   },
   {
    "duration": 123,
    "start_time": "2024-08-19T08:06:37.560Z"
   },
   {
    "duration": 23,
    "start_time": "2024-08-19T08:06:53.920Z"
   },
   {
    "duration": 20,
    "start_time": "2024-08-19T08:07:04.034Z"
   },
   {
    "duration": 9,
    "start_time": "2024-08-19T08:11:04.039Z"
   },
   {
    "duration": 949,
    "start_time": "2024-08-19T08:13:29.132Z"
   },
   {
    "duration": 894,
    "start_time": "2024-08-19T08:13:46.664Z"
   },
   {
    "duration": 9,
    "start_time": "2024-08-19T08:27:29.954Z"
   },
   {
    "duration": 6,
    "start_time": "2024-08-19T08:27:34.093Z"
   },
   {
    "duration": 13,
    "start_time": "2024-08-19T08:27:49.656Z"
   },
   {
    "duration": 9,
    "start_time": "2024-08-19T08:52:27.341Z"
   },
   {
    "duration": 2,
    "start_time": "2024-08-19T08:55:31.999Z"
   },
   {
    "duration": 8,
    "start_time": "2024-08-19T09:01:27.473Z"
   },
   {
    "duration": 26,
    "start_time": "2024-08-19T09:01:33.945Z"
   },
   {
    "duration": 2,
    "start_time": "2024-08-19T09:03:23.057Z"
   },
   {
    "duration": 341,
    "start_time": "2024-08-19T09:04:28.903Z"
   },
   {
    "duration": 14356,
    "start_time": "2024-08-19T09:09:47.005Z"
   },
   {
    "duration": 14584,
    "start_time": "2024-08-19T09:10:24.470Z"
   },
   {
    "duration": 5637,
    "start_time": "2024-08-19T09:10:47.405Z"
   },
   {
    "duration": 84,
    "start_time": "2024-08-19T09:11:42.192Z"
   },
   {
    "duration": 64,
    "start_time": "2024-08-19T09:11:57.497Z"
   },
   {
    "duration": 676,
    "start_time": "2024-08-19T09:14:00.957Z"
   },
   {
    "duration": 76,
    "start_time": "2024-08-19T09:14:01.636Z"
   },
   {
    "duration": 12,
    "start_time": "2024-08-19T09:14:01.714Z"
   },
   {
    "duration": 3,
    "start_time": "2024-08-19T09:14:01.729Z"
   },
   {
    "duration": 16,
    "start_time": "2024-08-19T09:14:01.734Z"
   },
   {
    "duration": 17,
    "start_time": "2024-08-19T09:14:01.751Z"
   },
   {
    "duration": 34,
    "start_time": "2024-08-19T09:14:01.770Z"
   },
   {
    "duration": 12,
    "start_time": "2024-08-19T09:14:01.806Z"
   },
   {
    "duration": 6,
    "start_time": "2024-08-19T09:14:01.820Z"
   },
   {
    "duration": 7,
    "start_time": "2024-08-19T09:14:01.829Z"
   },
   {
    "duration": 68,
    "start_time": "2024-08-19T09:14:01.838Z"
   },
   {
    "duration": 0,
    "start_time": "2024-08-19T09:14:01.908Z"
   },
   {
    "duration": 0,
    "start_time": "2024-08-19T09:14:01.909Z"
   },
   {
    "duration": 0,
    "start_time": "2024-08-19T09:14:01.911Z"
   },
   {
    "duration": 0,
    "start_time": "2024-08-19T09:14:01.913Z"
   },
   {
    "duration": 0,
    "start_time": "2024-08-19T09:14:01.914Z"
   },
   {
    "duration": 0,
    "start_time": "2024-08-19T09:14:01.916Z"
   },
   {
    "duration": 0,
    "start_time": "2024-08-19T09:14:01.917Z"
   },
   {
    "duration": 0,
    "start_time": "2024-08-19T09:14:01.918Z"
   },
   {
    "duration": 0,
    "start_time": "2024-08-19T09:14:01.920Z"
   },
   {
    "duration": 679,
    "start_time": "2024-08-19T09:14:31.256Z"
   },
   {
    "duration": 77,
    "start_time": "2024-08-19T09:14:31.937Z"
   },
   {
    "duration": 13,
    "start_time": "2024-08-19T09:14:32.016Z"
   },
   {
    "duration": 6,
    "start_time": "2024-08-19T09:14:32.031Z"
   },
   {
    "duration": 11,
    "start_time": "2024-08-19T09:14:32.039Z"
   },
   {
    "duration": 8,
    "start_time": "2024-08-19T09:14:32.052Z"
   },
   {
    "duration": 5,
    "start_time": "2024-08-19T09:14:32.062Z"
   },
   {
    "duration": 7,
    "start_time": "2024-08-19T09:14:32.069Z"
   },
   {
    "duration": 9,
    "start_time": "2024-08-19T09:14:32.078Z"
   },
   {
    "duration": 7,
    "start_time": "2024-08-19T09:14:32.091Z"
   },
   {
    "duration": 48,
    "start_time": "2024-08-19T09:14:32.099Z"
   },
   {
    "duration": 5,
    "start_time": "2024-08-19T09:14:32.149Z"
   },
   {
    "duration": 7,
    "start_time": "2024-08-19T09:14:32.155Z"
   },
   {
    "duration": 12,
    "start_time": "2024-08-19T09:14:32.164Z"
   },
   {
    "duration": 6,
    "start_time": "2024-08-19T09:14:32.178Z"
   },
   {
    "duration": 63,
    "start_time": "2024-08-19T09:14:32.186Z"
   },
   {
    "duration": 88,
    "start_time": "2024-08-19T09:14:32.250Z"
   },
   {
    "duration": 446,
    "start_time": "2024-08-19T09:14:32.340Z"
   },
   {
    "duration": 634,
    "start_time": "2024-08-19T09:15:40.164Z"
   },
   {
    "duration": 73,
    "start_time": "2024-08-19T09:15:40.801Z"
   },
   {
    "duration": 11,
    "start_time": "2024-08-19T09:15:40.875Z"
   },
   {
    "duration": 22,
    "start_time": "2024-08-19T09:15:40.888Z"
   },
   {
    "duration": 5,
    "start_time": "2024-08-19T09:15:40.912Z"
   },
   {
    "duration": 5,
    "start_time": "2024-08-19T09:15:40.918Z"
   },
   {
    "duration": 5,
    "start_time": "2024-08-19T09:15:40.924Z"
   },
   {
    "duration": 4,
    "start_time": "2024-08-19T09:15:40.930Z"
   },
   {
    "duration": 4,
    "start_time": "2024-08-19T09:15:40.935Z"
   },
   {
    "duration": 5,
    "start_time": "2024-08-19T09:15:40.941Z"
   },
   {
    "duration": 25,
    "start_time": "2024-08-19T09:15:40.948Z"
   },
   {
    "duration": 5,
    "start_time": "2024-08-19T09:15:40.974Z"
   },
   {
    "duration": 10,
    "start_time": "2024-08-19T09:15:40.980Z"
   },
   {
    "duration": 39,
    "start_time": "2024-08-19T09:15:40.992Z"
   },
   {
    "duration": 6,
    "start_time": "2024-08-19T09:15:41.033Z"
   },
   {
    "duration": 13,
    "start_time": "2024-08-19T09:15:41.041Z"
   },
   {
    "duration": 29,
    "start_time": "2024-08-19T09:15:41.056Z"
   },
   {
    "duration": 365,
    "start_time": "2024-08-19T09:15:41.087Z"
   },
   {
    "duration": 7,
    "start_time": "2024-08-19T09:15:41.454Z"
   },
   {
    "duration": 648,
    "start_time": "2024-08-19T09:16:20.863Z"
   },
   {
    "duration": 75,
    "start_time": "2024-08-19T09:16:21.513Z"
   },
   {
    "duration": 10,
    "start_time": "2024-08-19T09:16:21.590Z"
   },
   {
    "duration": 4,
    "start_time": "2024-08-19T09:16:21.602Z"
   },
   {
    "duration": 9,
    "start_time": "2024-08-19T09:16:21.608Z"
   },
   {
    "duration": 5,
    "start_time": "2024-08-19T09:16:21.619Z"
   },
   {
    "duration": 5,
    "start_time": "2024-08-19T09:16:21.626Z"
   },
   {
    "duration": 4,
    "start_time": "2024-08-19T09:16:21.633Z"
   },
   {
    "duration": 5,
    "start_time": "2024-08-19T09:16:21.639Z"
   },
   {
    "duration": 8,
    "start_time": "2024-08-19T09:16:21.645Z"
   },
   {
    "duration": 28,
    "start_time": "2024-08-19T09:16:21.654Z"
   },
   {
    "duration": 4,
    "start_time": "2024-08-19T09:16:21.684Z"
   },
   {
    "duration": 37,
    "start_time": "2024-08-19T09:16:21.689Z"
   },
   {
    "duration": 10,
    "start_time": "2024-08-19T09:16:21.730Z"
   },
   {
    "duration": 95,
    "start_time": "2024-08-19T09:16:21.742Z"
   },
   {
    "duration": 9,
    "start_time": "2024-08-19T09:16:21.839Z"
   },
   {
    "duration": 22,
    "start_time": "2024-08-19T09:16:21.850Z"
   },
   {
    "duration": 363,
    "start_time": "2024-08-19T09:16:21.874Z"
   },
   {
    "duration": 25,
    "start_time": "2024-08-19T09:16:22.239Z"
   },
   {
    "duration": 638,
    "start_time": "2024-08-19T09:19:44.848Z"
   },
   {
    "duration": 72,
    "start_time": "2024-08-19T09:19:45.488Z"
   },
   {
    "duration": 12,
    "start_time": "2024-08-19T09:19:45.563Z"
   },
   {
    "duration": 3,
    "start_time": "2024-08-19T09:19:45.577Z"
   },
   {
    "duration": 5,
    "start_time": "2024-08-19T09:19:45.583Z"
   },
   {
    "duration": 9,
    "start_time": "2024-08-19T09:19:45.589Z"
   },
   {
    "duration": 25,
    "start_time": "2024-08-19T09:19:45.600Z"
   },
   {
    "duration": 3,
    "start_time": "2024-08-19T09:19:45.627Z"
   },
   {
    "duration": 7,
    "start_time": "2024-08-19T09:19:45.631Z"
   },
   {
    "duration": 31,
    "start_time": "2024-08-19T09:19:45.640Z"
   },
   {
    "duration": 24,
    "start_time": "2024-08-19T09:19:45.673Z"
   },
   {
    "duration": 4,
    "start_time": "2024-08-19T09:19:45.699Z"
   },
   {
    "duration": 14,
    "start_time": "2024-08-19T09:19:45.704Z"
   },
   {
    "duration": 9,
    "start_time": "2024-08-19T09:19:45.723Z"
   },
   {
    "duration": 10,
    "start_time": "2024-08-19T09:19:45.733Z"
   },
   {
    "duration": 8,
    "start_time": "2024-08-19T09:19:45.744Z"
   },
   {
    "duration": 115,
    "start_time": "2024-08-19T09:19:45.754Z"
   },
   {
    "duration": 356,
    "start_time": "2024-08-19T09:19:45.870Z"
   },
   {
    "duration": 24,
    "start_time": "2024-08-19T09:19:46.227Z"
   },
   {
    "duration": 27,
    "start_time": "2024-08-19T09:20:43.296Z"
   },
   {
    "duration": 36,
    "start_time": "2024-08-19T09:21:05.458Z"
   },
   {
    "duration": 25,
    "start_time": "2024-08-19T09:21:22.051Z"
   },
   {
    "duration": 24,
    "start_time": "2024-08-19T09:21:34.310Z"
   },
   {
    "duration": 24,
    "start_time": "2024-08-19T09:21:48.796Z"
   },
   {
    "duration": 23,
    "start_time": "2024-08-19T09:22:00.351Z"
   },
   {
    "duration": 24,
    "start_time": "2024-08-19T09:23:25.155Z"
   },
   {
    "duration": 282,
    "start_time": "2024-08-19T09:29:25.093Z"
   },
   {
    "duration": 355,
    "start_time": "2024-08-19T09:30:01.517Z"
   },
   {
    "duration": 71,
    "start_time": "2024-08-19T09:30:41.330Z"
   },
   {
    "duration": 8,
    "start_time": "2024-08-19T09:30:53.177Z"
   },
   {
    "duration": 7,
    "start_time": "2024-08-19T09:31:19.213Z"
   },
   {
    "duration": 7,
    "start_time": "2024-08-19T09:31:36.695Z"
   },
   {
    "duration": 340,
    "start_time": "2024-08-19T09:33:17.158Z"
   },
   {
    "duration": 9,
    "start_time": "2024-08-19T09:48:06.597Z"
   },
   {
    "duration": 3,
    "start_time": "2024-08-19T09:48:14.201Z"
   },
   {
    "duration": 5,
    "start_time": "2024-08-19T09:48:23.611Z"
   },
   {
    "duration": 120,
    "start_time": "2024-08-19T09:48:24.842Z"
   },
   {
    "duration": 134,
    "start_time": "2024-08-19T09:48:36.601Z"
   },
   {
    "duration": 3,
    "start_time": "2024-08-19T09:48:48.692Z"
   },
   {
    "duration": 6,
    "start_time": "2024-08-19T09:48:59.203Z"
   },
   {
    "duration": 4,
    "start_time": "2024-08-19T09:49:59.484Z"
   },
   {
    "duration": 9,
    "start_time": "2024-08-19T09:50:13.874Z"
   },
   {
    "duration": 336,
    "start_time": "2024-08-19T09:50:23.096Z"
   },
   {
    "duration": 327,
    "start_time": "2024-08-19T09:50:44.405Z"
   },
   {
    "duration": 4,
    "start_time": "2024-08-19T09:52:51.855Z"
   },
   {
    "duration": 5,
    "start_time": "2024-08-19T09:53:06.039Z"
   },
   {
    "duration": 9,
    "start_time": "2024-08-19T09:53:21.134Z"
   },
   {
    "duration": 9,
    "start_time": "2024-08-19T09:53:29.461Z"
   },
   {
    "duration": 7,
    "start_time": "2024-08-19T09:53:42.783Z"
   },
   {
    "duration": 7,
    "start_time": "2024-08-19T09:54:36.877Z"
   },
   {
    "duration": 5,
    "start_time": "2024-08-19T09:55:09.972Z"
   },
   {
    "duration": 12,
    "start_time": "2024-08-19T09:55:23.196Z"
   },
   {
    "duration": 5,
    "start_time": "2024-08-19T09:55:42.638Z"
   },
   {
    "duration": 10,
    "start_time": "2024-08-19T09:55:43.521Z"
   },
   {
    "duration": 7,
    "start_time": "2024-08-19T09:56:12.458Z"
   },
   {
    "duration": 31,
    "start_time": "2024-08-19T10:03:26.754Z"
   },
   {
    "duration": 18,
    "start_time": "2024-08-19T10:03:38.085Z"
   },
   {
    "duration": 25,
    "start_time": "2024-08-19T10:04:23.391Z"
   },
   {
    "duration": 9,
    "start_time": "2024-08-19T10:05:27.537Z"
   },
   {
    "duration": 151,
    "start_time": "2024-08-19T10:05:44.769Z"
   },
   {
    "duration": 18,
    "start_time": "2024-08-19T10:26:35.723Z"
   },
   {
    "duration": 15,
    "start_time": "2024-08-19T10:26:44.717Z"
   },
   {
    "duration": 18,
    "start_time": "2024-08-19T10:26:59.759Z"
   },
   {
    "duration": 141,
    "start_time": "2024-08-19T10:28:11.161Z"
   },
   {
    "duration": 211,
    "start_time": "2024-08-19T10:28:44.642Z"
   },
   {
    "duration": 146,
    "start_time": "2024-08-19T10:30:18.590Z"
   },
   {
    "duration": 160,
    "start_time": "2024-08-19T10:30:50.950Z"
   },
   {
    "duration": 168,
    "start_time": "2024-08-19T10:31:18.125Z"
   },
   {
    "duration": 177,
    "start_time": "2024-08-19T10:31:41.772Z"
   },
   {
    "duration": 148,
    "start_time": "2024-08-19T10:32:22.591Z"
   },
   {
    "duration": 147,
    "start_time": "2024-08-19T10:32:41.670Z"
   },
   {
    "duration": 148,
    "start_time": "2024-08-19T10:32:54.977Z"
   },
   {
    "duration": 132,
    "start_time": "2024-08-19T10:33:03.868Z"
   },
   {
    "duration": 137,
    "start_time": "2024-08-19T10:33:18.755Z"
   },
   {
    "duration": 152,
    "start_time": "2024-08-19T10:34:06.070Z"
   },
   {
    "duration": 139,
    "start_time": "2024-08-19T10:34:51.364Z"
   },
   {
    "duration": 161,
    "start_time": "2024-08-19T10:35:20.922Z"
   },
   {
    "duration": 63,
    "start_time": "2024-08-19T10:57:05.947Z"
   },
   {
    "duration": 6,
    "start_time": "2024-08-19T10:59:12.496Z"
   },
   {
    "duration": 22,
    "start_time": "2024-08-19T10:59:23.602Z"
   },
   {
    "duration": 67,
    "start_time": "2024-08-19T11:01:56.023Z"
   },
   {
    "duration": 15,
    "start_time": "2024-08-19T11:02:24.261Z"
   },
   {
    "duration": 10,
    "start_time": "2024-08-19T11:22:15.572Z"
   },
   {
    "duration": 8,
    "start_time": "2024-08-19T11:22:30.319Z"
   },
   {
    "duration": 8,
    "start_time": "2024-08-19T11:23:14.610Z"
   },
   {
    "duration": 8,
    "start_time": "2024-08-19T11:24:43.521Z"
   },
   {
    "duration": 628,
    "start_time": "2024-08-19T11:25:41.456Z"
   },
   {
    "duration": 76,
    "start_time": "2024-08-19T11:25:42.086Z"
   },
   {
    "duration": 11,
    "start_time": "2024-08-19T11:25:42.164Z"
   },
   {
    "duration": 3,
    "start_time": "2024-08-19T11:25:42.176Z"
   },
   {
    "duration": 4,
    "start_time": "2024-08-19T11:25:42.181Z"
   },
   {
    "duration": 5,
    "start_time": "2024-08-19T11:25:42.186Z"
   },
   {
    "duration": 4,
    "start_time": "2024-08-19T11:25:42.192Z"
   },
   {
    "duration": 29,
    "start_time": "2024-08-19T11:25:42.198Z"
   },
   {
    "duration": 4,
    "start_time": "2024-08-19T11:25:42.228Z"
   },
   {
    "duration": 6,
    "start_time": "2024-08-19T11:25:42.234Z"
   },
   {
    "duration": 22,
    "start_time": "2024-08-19T11:25:42.242Z"
   },
   {
    "duration": 4,
    "start_time": "2024-08-19T11:25:42.265Z"
   },
   {
    "duration": 44,
    "start_time": "2024-08-19T11:25:42.271Z"
   },
   {
    "duration": 14,
    "start_time": "2024-08-19T11:25:42.318Z"
   },
   {
    "duration": 7,
    "start_time": "2024-08-19T11:25:42.333Z"
   },
   {
    "duration": 16,
    "start_time": "2024-08-19T11:25:42.341Z"
   },
   {
    "duration": 6,
    "start_time": "2024-08-19T11:25:42.358Z"
   },
   {
    "duration": 21,
    "start_time": "2024-08-19T11:25:42.365Z"
   },
   {
    "duration": 362,
    "start_time": "2024-08-19T11:25:42.387Z"
   },
   {
    "duration": 24,
    "start_time": "2024-08-19T11:25:42.750Z"
   },
   {
    "duration": 282,
    "start_time": "2024-08-19T11:25:42.775Z"
   },
   {
    "duration": 7,
    "start_time": "2024-08-19T11:25:43.058Z"
   },
   {
    "duration": 208,
    "start_time": "2024-08-19T11:25:43.067Z"
   },
   {
    "duration": 143,
    "start_time": "2024-08-19T11:25:43.276Z"
   },
   {
    "duration": 164,
    "start_time": "2024-08-19T11:25:43.421Z"
   },
   {
    "duration": 152,
    "start_time": "2024-08-19T11:25:43.586Z"
   },
   {
    "duration": 158,
    "start_time": "2024-08-19T11:25:43.739Z"
   },
   {
    "duration": 999,
    "start_time": "2024-08-19T11:25:43.898Z"
   },
   {
    "duration": 0,
    "start_time": "2024-08-19T11:25:44.898Z"
   },
   {
    "duration": 0,
    "start_time": "2024-08-19T11:25:44.899Z"
   },
   {
    "duration": 0,
    "start_time": "2024-08-19T11:25:44.900Z"
   },
   {
    "duration": 685,
    "start_time": "2024-08-19T11:26:14.296Z"
   },
   {
    "duration": 73,
    "start_time": "2024-08-19T11:26:14.983Z"
   },
   {
    "duration": 12,
    "start_time": "2024-08-19T11:26:15.057Z"
   },
   {
    "duration": 23,
    "start_time": "2024-08-19T11:26:15.071Z"
   },
   {
    "duration": 9,
    "start_time": "2024-08-19T11:26:15.095Z"
   },
   {
    "duration": 25,
    "start_time": "2024-08-19T11:26:15.106Z"
   },
   {
    "duration": 15,
    "start_time": "2024-08-19T11:26:15.133Z"
   },
   {
    "duration": 44,
    "start_time": "2024-08-19T11:26:15.149Z"
   },
   {
    "duration": 5,
    "start_time": "2024-08-19T11:26:15.195Z"
   },
   {
    "duration": 8,
    "start_time": "2024-08-19T11:26:15.202Z"
   },
   {
    "duration": 27,
    "start_time": "2024-08-19T11:26:15.212Z"
   },
   {
    "duration": 5,
    "start_time": "2024-08-19T11:26:15.240Z"
   },
   {
    "duration": 12,
    "start_time": "2024-08-19T11:26:15.246Z"
   },
   {
    "duration": 9,
    "start_time": "2024-08-19T11:26:15.259Z"
   },
   {
    "duration": 20,
    "start_time": "2024-08-19T11:26:15.270Z"
   },
   {
    "duration": 25,
    "start_time": "2024-08-19T11:26:15.292Z"
   },
   {
    "duration": 6,
    "start_time": "2024-08-19T11:26:15.318Z"
   },
   {
    "duration": 23,
    "start_time": "2024-08-19T11:26:15.325Z"
   },
   {
    "duration": 352,
    "start_time": "2024-08-19T11:26:15.349Z"
   },
   {
    "duration": 32,
    "start_time": "2024-08-19T11:26:15.702Z"
   },
   {
    "duration": 285,
    "start_time": "2024-08-19T11:26:15.736Z"
   },
   {
    "duration": 7,
    "start_time": "2024-08-19T11:26:16.024Z"
   },
   {
    "duration": 284,
    "start_time": "2024-08-19T11:26:16.032Z"
   },
   {
    "duration": 138,
    "start_time": "2024-08-19T11:26:16.318Z"
   },
   {
    "duration": 166,
    "start_time": "2024-08-19T11:26:16.458Z"
   },
   {
    "duration": 147,
    "start_time": "2024-08-19T11:26:16.626Z"
   },
   {
    "duration": 154,
    "start_time": "2024-08-19T11:26:16.775Z"
   },
   {
    "duration": 5,
    "start_time": "2024-08-19T11:26:16.932Z"
   },
   {
    "duration": 18,
    "start_time": "2024-08-19T11:26:16.938Z"
   },
   {
    "duration": 88,
    "start_time": "2024-08-19T11:26:16.957Z"
   },
   {
    "duration": 22,
    "start_time": "2024-08-19T11:27:07.590Z"
   },
   {
    "duration": 12,
    "start_time": "2024-08-19T11:27:23.186Z"
   },
   {
    "duration": 6,
    "start_time": "2024-08-19T11:27:51.606Z"
   },
   {
    "duration": 3,
    "start_time": "2024-08-19T11:42:49.037Z"
   },
   {
    "duration": 8,
    "start_time": "2024-08-19T11:44:45.167Z"
   },
   {
    "duration": 15,
    "start_time": "2024-08-19T11:44:55.040Z"
   },
   {
    "duration": 19,
    "start_time": "2024-08-19T11:45:09.111Z"
   },
   {
    "duration": 7,
    "start_time": "2024-08-19T11:45:43.994Z"
   },
   {
    "duration": 20,
    "start_time": "2024-08-19T11:46:01.474Z"
   },
   {
    "duration": 65,
    "start_time": "2024-08-19T11:47:03.297Z"
   },
   {
    "duration": 32,
    "start_time": "2024-08-19T11:47:25.068Z"
   },
   {
    "duration": 8,
    "start_time": "2024-08-19T11:48:54.072Z"
   },
   {
    "duration": 18,
    "start_time": "2024-08-19T11:50:41.143Z"
   },
   {
    "duration": 153,
    "start_time": "2024-08-19T11:56:33.605Z"
   },
   {
    "duration": 563,
    "start_time": "2024-08-19T11:56:53.545Z"
   },
   {
    "duration": 567,
    "start_time": "2024-08-19T11:57:17.610Z"
   },
   {
    "duration": 633,
    "start_time": "2024-08-19T11:57:26.667Z"
   },
   {
    "duration": 596,
    "start_time": "2024-08-19T11:57:39.937Z"
   },
   {
    "duration": 24,
    "start_time": "2024-08-19T12:22:03.634Z"
   },
   {
    "duration": 16,
    "start_time": "2024-08-19T12:23:53.759Z"
   },
   {
    "duration": 21,
    "start_time": "2024-08-19T12:25:38.915Z"
   },
   {
    "duration": 16,
    "start_time": "2024-08-19T12:28:05.328Z"
   },
   {
    "duration": 20,
    "start_time": "2024-08-19T12:29:38.191Z"
   },
   {
    "duration": 10,
    "start_time": "2024-08-19T12:29:58.640Z"
   },
   {
    "duration": 7,
    "start_time": "2024-08-19T12:30:21.174Z"
   },
   {
    "duration": 149,
    "start_time": "2024-08-19T12:30:30.498Z"
   },
   {
    "duration": 570,
    "start_time": "2024-08-19T12:30:46.253Z"
   },
   {
    "duration": 617,
    "start_time": "2024-08-19T12:32:02.975Z"
   },
   {
    "duration": 62,
    "start_time": "2024-08-19T12:32:48.164Z"
   },
   {
    "duration": 66,
    "start_time": "2024-08-19T12:33:10.422Z"
   },
   {
    "duration": 804,
    "start_time": "2024-08-19T20:16:39.806Z"
   },
   {
    "duration": 202,
    "start_time": "2024-08-19T20:16:40.612Z"
   },
   {
    "duration": 16,
    "start_time": "2024-08-19T20:16:40.816Z"
   },
   {
    "duration": 5,
    "start_time": "2024-08-19T20:16:40.834Z"
   },
   {
    "duration": 6,
    "start_time": "2024-08-19T20:16:40.842Z"
   },
   {
    "duration": 8,
    "start_time": "2024-08-19T20:16:40.850Z"
   },
   {
    "duration": 17,
    "start_time": "2024-08-19T20:16:40.860Z"
   },
   {
    "duration": 59,
    "start_time": "2024-08-19T20:16:40.878Z"
   },
   {
    "duration": 21,
    "start_time": "2024-08-19T20:16:40.939Z"
   },
   {
    "duration": 7,
    "start_time": "2024-08-19T20:16:40.963Z"
   },
   {
    "duration": 30,
    "start_time": "2024-08-19T20:16:40.971Z"
   },
   {
    "duration": 5,
    "start_time": "2024-08-19T20:16:41.003Z"
   },
   {
    "duration": 7,
    "start_time": "2024-08-19T20:16:41.010Z"
   },
   {
    "duration": 14,
    "start_time": "2024-08-19T20:16:41.020Z"
   },
   {
    "duration": 18,
    "start_time": "2024-08-19T20:16:41.035Z"
   },
   {
    "duration": 24,
    "start_time": "2024-08-19T20:16:41.055Z"
   },
   {
    "duration": 8,
    "start_time": "2024-08-19T20:16:41.081Z"
   },
   {
    "duration": 24,
    "start_time": "2024-08-19T20:16:41.091Z"
   },
   {
    "duration": 400,
    "start_time": "2024-08-19T20:16:41.117Z"
   },
   {
    "duration": 34,
    "start_time": "2024-08-19T20:16:41.518Z"
   },
   {
    "duration": 280,
    "start_time": "2024-08-19T20:16:41.554Z"
   },
   {
    "duration": 14,
    "start_time": "2024-08-19T20:16:41.836Z"
   },
   {
    "duration": 207,
    "start_time": "2024-08-19T20:16:41.852Z"
   },
   {
    "duration": 210,
    "start_time": "2024-08-19T20:16:42.061Z"
   },
   {
    "duration": 150,
    "start_time": "2024-08-19T20:16:42.273Z"
   },
   {
    "duration": 155,
    "start_time": "2024-08-19T20:16:42.425Z"
   },
   {
    "duration": 199,
    "start_time": "2024-08-19T20:16:42.582Z"
   },
   {
    "duration": 7,
    "start_time": "2024-08-19T20:16:42.783Z"
   },
   {
    "duration": 18,
    "start_time": "2024-08-19T20:16:42.792Z"
   },
   {
    "duration": 39,
    "start_time": "2024-08-19T20:16:42.811Z"
   },
   {
    "duration": 52,
    "start_time": "2024-08-19T20:16:42.853Z"
   },
   {
    "duration": 0,
    "start_time": "2024-08-19T20:16:42.907Z"
   },
   {
    "duration": 0,
    "start_time": "2024-08-19T20:16:42.908Z"
   },
   {
    "duration": 110,
    "start_time": "2024-08-19T20:17:02.529Z"
   },
   {
    "duration": 117,
    "start_time": "2024-08-19T20:19:06.768Z"
   },
   {
    "duration": 785,
    "start_time": "2024-08-20T06:57:31.772Z"
   },
   {
    "duration": 199,
    "start_time": "2024-08-20T06:57:32.559Z"
   },
   {
    "duration": 14,
    "start_time": "2024-08-20T06:57:32.760Z"
   },
   {
    "duration": 4,
    "start_time": "2024-08-20T06:57:32.777Z"
   },
   {
    "duration": 6,
    "start_time": "2024-08-20T06:57:32.783Z"
   },
   {
    "duration": 7,
    "start_time": "2024-08-20T06:57:32.791Z"
   },
   {
    "duration": 19,
    "start_time": "2024-08-20T06:57:32.801Z"
   },
   {
    "duration": 27,
    "start_time": "2024-08-20T06:57:32.822Z"
   },
   {
    "duration": 15,
    "start_time": "2024-08-20T06:57:32.851Z"
   },
   {
    "duration": 23,
    "start_time": "2024-08-20T06:57:32.870Z"
   },
   {
    "duration": 42,
    "start_time": "2024-08-20T06:57:32.895Z"
   },
   {
    "duration": 5,
    "start_time": "2024-08-20T06:57:32.938Z"
   },
   {
    "duration": 15,
    "start_time": "2024-08-20T06:57:32.944Z"
   },
   {
    "duration": 12,
    "start_time": "2024-08-20T06:57:32.961Z"
   },
   {
    "duration": 12,
    "start_time": "2024-08-20T06:57:32.974Z"
   },
   {
    "duration": 16,
    "start_time": "2024-08-20T06:57:32.988Z"
   },
   {
    "duration": 6,
    "start_time": "2024-08-20T06:57:33.006Z"
   },
   {
    "duration": 43,
    "start_time": "2024-08-20T06:57:33.013Z"
   },
   {
    "duration": 346,
    "start_time": "2024-08-20T06:57:33.059Z"
   },
   {
    "duration": 23,
    "start_time": "2024-08-20T06:57:33.407Z"
   },
   {
    "duration": 317,
    "start_time": "2024-08-20T06:57:33.431Z"
   },
   {
    "duration": 8,
    "start_time": "2024-08-20T06:57:33.750Z"
   },
   {
    "duration": 209,
    "start_time": "2024-08-20T06:57:33.759Z"
   },
   {
    "duration": 152,
    "start_time": "2024-08-20T06:57:33.970Z"
   },
   {
    "duration": 164,
    "start_time": "2024-08-20T06:57:34.124Z"
   },
   {
    "duration": 161,
    "start_time": "2024-08-20T06:57:34.290Z"
   },
   {
    "duration": 156,
    "start_time": "2024-08-20T06:57:34.453Z"
   },
   {
    "duration": 6,
    "start_time": "2024-08-20T06:57:34.612Z"
   },
   {
    "duration": 60,
    "start_time": "2024-08-20T06:57:34.619Z"
   },
   {
    "duration": 19,
    "start_time": "2024-08-20T06:57:34.680Z"
   },
   {
    "duration": 16,
    "start_time": "2024-08-20T06:57:34.700Z"
   },
   {
    "duration": 7,
    "start_time": "2024-08-20T06:57:34.718Z"
   },
   {
    "duration": 102,
    "start_time": "2024-08-20T06:57:34.727Z"
   },
   {
    "duration": 8,
    "start_time": "2024-08-20T07:17:03.205Z"
   },
   {
    "duration": 69,
    "start_time": "2024-08-20T07:18:16.596Z"
   },
   {
    "duration": 4,
    "start_time": "2024-08-20T07:18:21.826Z"
   },
   {
    "duration": 6,
    "start_time": "2024-08-20T07:18:41.182Z"
   },
   {
    "duration": 20,
    "start_time": "2024-08-20T07:19:05.148Z"
   },
   {
    "duration": 1403,
    "start_time": "2024-08-20T07:20:47.795Z"
   },
   {
    "duration": 165,
    "start_time": "2024-08-20T07:24:19.205Z"
   },
   {
    "duration": 7009,
    "start_time": "2024-08-20T07:25:28.644Z"
   },
   {
    "duration": 15,
    "start_time": "2024-08-20T07:26:16.685Z"
   },
   {
    "duration": 12,
    "start_time": "2024-08-20T07:26:36.090Z"
   },
   {
    "duration": 175,
    "start_time": "2024-08-20T07:27:00.437Z"
   },
   {
    "duration": 114,
    "start_time": "2024-08-20T07:27:20.123Z"
   },
   {
    "duration": 255,
    "start_time": "2024-08-20T07:27:32.650Z"
   },
   {
    "duration": 155,
    "start_time": "2024-08-20T07:27:46.530Z"
   },
   {
    "duration": 158,
    "start_time": "2024-08-20T07:27:51.681Z"
   },
   {
    "duration": 140,
    "start_time": "2024-08-20T07:29:18.664Z"
   },
   {
    "duration": 163,
    "start_time": "2024-08-20T07:29:36.042Z"
   },
   {
    "duration": 9,
    "start_time": "2024-08-20T07:30:55.133Z"
   },
   {
    "duration": 168,
    "start_time": "2024-08-20T07:31:03.261Z"
   },
   {
    "duration": 17,
    "start_time": "2024-08-20T07:36:51.428Z"
   },
   {
    "duration": 6,
    "start_time": "2024-08-20T07:43:16.244Z"
   },
   {
    "duration": 16,
    "start_time": "2024-08-20T07:43:38.669Z"
   },
   {
    "duration": 199,
    "start_time": "2024-08-20T07:44:13.002Z"
   },
   {
    "duration": 210,
    "start_time": "2024-08-20T07:58:42.875Z"
   },
   {
    "duration": 544,
    "start_time": "2024-08-20T08:02:34.292Z"
   },
   {
    "duration": 612,
    "start_time": "2024-08-20T08:03:03.808Z"
   },
   {
    "duration": 771,
    "start_time": "2024-08-20T08:36:01.632Z"
   },
   {
    "duration": 602,
    "start_time": "2024-08-20T08:36:33.768Z"
   },
   {
    "duration": 627,
    "start_time": "2024-08-20T08:37:42.063Z"
   },
   {
    "duration": 637,
    "start_time": "2024-08-20T08:38:48.648Z"
   },
   {
    "duration": 646,
    "start_time": "2024-08-20T08:39:05.999Z"
   },
   {
    "duration": 7,
    "start_time": "2024-08-20T08:46:28.513Z"
   },
   {
    "duration": 240,
    "start_time": "2024-08-20T08:46:41.177Z"
   },
   {
    "duration": 110,
    "start_time": "2024-08-20T08:46:56.858Z"
   },
   {
    "duration": 57,
    "start_time": "2024-08-20T08:49:06.669Z"
   },
   {
    "duration": 214,
    "start_time": "2024-08-20T08:49:14.134Z"
   },
   {
    "duration": 10,
    "start_time": "2024-08-20T08:50:06.661Z"
   },
   {
    "duration": 13,
    "start_time": "2024-08-20T08:51:32.847Z"
   },
   {
    "duration": 110,
    "start_time": "2024-08-20T08:51:43.015Z"
   },
   {
    "duration": 9,
    "start_time": "2024-08-20T08:53:41.302Z"
   },
   {
    "duration": 655,
    "start_time": "2024-08-20T08:54:16.223Z"
   },
   {
    "duration": 39,
    "start_time": "2024-08-20T08:54:33.145Z"
   },
   {
    "duration": 11,
    "start_time": "2024-08-20T08:54:53.927Z"
   },
   {
    "duration": 233,
    "start_time": "2024-08-20T08:59:22.206Z"
   },
   {
    "duration": 214,
    "start_time": "2024-08-20T08:59:44.051Z"
   },
   {
    "duration": 228,
    "start_time": "2024-08-20T09:00:22.264Z"
   },
   {
    "duration": 341,
    "start_time": "2024-08-20T09:00:47.161Z"
   },
   {
    "duration": 249,
    "start_time": "2024-08-20T09:01:14.412Z"
   },
   {
    "duration": 20,
    "start_time": "2024-08-20T09:01:34.267Z"
   },
   {
    "duration": 11,
    "start_time": "2024-08-20T09:02:32.721Z"
   },
   {
    "duration": 9,
    "start_time": "2024-08-20T09:02:41.558Z"
   },
   {
    "duration": 11,
    "start_time": "2024-08-20T09:02:43.876Z"
   },
   {
    "duration": 11,
    "start_time": "2024-08-20T09:02:59.999Z"
   },
   {
    "duration": 208,
    "start_time": "2024-08-20T09:03:13.272Z"
   },
   {
    "duration": 11,
    "start_time": "2024-08-20T09:03:21.609Z"
   },
   {
    "duration": 24,
    "start_time": "2024-08-20T09:03:41.347Z"
   },
   {
    "duration": 12,
    "start_time": "2024-08-20T09:04:07.401Z"
   },
   {
    "duration": 400,
    "start_time": "2024-08-20T09:04:20.770Z"
   },
   {
    "duration": 289,
    "start_time": "2024-08-20T09:05:58.812Z"
   },
   {
    "duration": 284,
    "start_time": "2024-08-20T09:14:15.506Z"
   },
   {
    "duration": 204,
    "start_time": "2024-08-20T09:38:52.494Z"
   },
   {
    "duration": 193,
    "start_time": "2024-08-20T09:45:35.885Z"
   },
   {
    "duration": 6,
    "start_time": "2024-08-20T09:51:31.492Z"
   },
   {
    "duration": 1113,
    "start_time": "2024-08-20T09:51:41.645Z"
   },
   {
    "duration": 65,
    "start_time": "2024-08-20T09:51:42.760Z"
   },
   {
    "duration": 11,
    "start_time": "2024-08-20T09:51:42.826Z"
   },
   {
    "duration": 3,
    "start_time": "2024-08-20T09:51:42.838Z"
   },
   {
    "duration": 8,
    "start_time": "2024-08-20T09:51:42.844Z"
   },
   {
    "duration": 12,
    "start_time": "2024-08-20T09:51:42.853Z"
   },
   {
    "duration": 5,
    "start_time": "2024-08-20T09:51:42.866Z"
   },
   {
    "duration": 12,
    "start_time": "2024-08-20T09:51:42.872Z"
   },
   {
    "duration": 14,
    "start_time": "2024-08-20T09:51:42.886Z"
   },
   {
    "duration": 6,
    "start_time": "2024-08-20T09:51:42.901Z"
   },
   {
    "duration": 22,
    "start_time": "2024-08-20T09:51:42.908Z"
   },
   {
    "duration": 4,
    "start_time": "2024-08-20T09:51:42.932Z"
   },
   {
    "duration": 26,
    "start_time": "2024-08-20T09:51:42.937Z"
   },
   {
    "duration": 9,
    "start_time": "2024-08-20T09:51:42.966Z"
   },
   {
    "duration": 6,
    "start_time": "2024-08-20T09:51:42.976Z"
   },
   {
    "duration": 18,
    "start_time": "2024-08-20T09:51:42.983Z"
   },
   {
    "duration": 5,
    "start_time": "2024-08-20T09:51:43.003Z"
   },
   {
    "duration": 23,
    "start_time": "2024-08-20T09:51:43.010Z"
   },
   {
    "duration": 357,
    "start_time": "2024-08-20T09:51:43.035Z"
   },
   {
    "duration": 23,
    "start_time": "2024-08-20T09:51:43.393Z"
   },
   {
    "duration": 289,
    "start_time": "2024-08-20T09:51:43.417Z"
   },
   {
    "duration": 10,
    "start_time": "2024-08-20T09:51:43.708Z"
   },
   {
    "duration": 157,
    "start_time": "2024-08-20T09:51:43.719Z"
   },
   {
    "duration": 133,
    "start_time": "2024-08-20T09:51:43.878Z"
   },
   {
    "duration": 145,
    "start_time": "2024-08-20T09:51:44.013Z"
   },
   {
    "duration": 139,
    "start_time": "2024-08-20T09:51:44.160Z"
   },
   {
    "duration": 218,
    "start_time": "2024-08-20T09:51:44.301Z"
   },
   {
    "duration": 5,
    "start_time": "2024-08-20T09:51:44.521Z"
   },
   {
    "duration": 31,
    "start_time": "2024-08-20T09:51:44.528Z"
   },
   {
    "duration": 34,
    "start_time": "2024-08-20T09:51:44.561Z"
   },
   {
    "duration": 277,
    "start_time": "2024-08-20T09:51:44.597Z"
   },
   {
    "duration": 6,
    "start_time": "2024-08-20T09:51:44.876Z"
   },
   {
    "duration": 108,
    "start_time": "2024-08-20T09:51:44.883Z"
   },
   {
    "duration": 0,
    "start_time": "2024-08-20T09:51:44.993Z"
   },
   {
    "duration": 0,
    "start_time": "2024-08-20T09:51:44.995Z"
   },
   {
    "duration": 0,
    "start_time": "2024-08-20T09:51:44.996Z"
   },
   {
    "duration": 6,
    "start_time": "2024-08-20T09:52:20.191Z"
   },
   {
    "duration": 178,
    "start_time": "2024-08-20T09:52:21.135Z"
   },
   {
    "duration": 74,
    "start_time": "2024-08-20T09:52:30.277Z"
   },
   {
    "duration": 21,
    "start_time": "2024-08-20T09:52:37.868Z"
   },
   {
    "duration": 224,
    "start_time": "2024-08-20T09:52:43.487Z"
   },
   {
    "duration": 222,
    "start_time": "2024-08-20T09:53:00.768Z"
   },
   {
    "duration": 190,
    "start_time": "2024-08-20T09:53:08.461Z"
   },
   {
    "duration": 23,
    "start_time": "2024-08-20T09:53:31.889Z"
   },
   {
    "duration": 336,
    "start_time": "2024-08-20T10:06:42.503Z"
   },
   {
    "duration": 254,
    "start_time": "2024-08-20T10:06:49.826Z"
   },
   {
    "duration": 107,
    "start_time": "2024-08-20T10:08:58.232Z"
   },
   {
    "duration": 118,
    "start_time": "2024-08-20T10:09:13.557Z"
   },
   {
    "duration": 238,
    "start_time": "2024-08-20T10:09:23.660Z"
   },
   {
    "duration": 266,
    "start_time": "2024-08-20T10:10:08.091Z"
   },
   {
    "duration": 309,
    "start_time": "2024-08-20T10:38:32.707Z"
   },
   {
    "duration": 340,
    "start_time": "2024-08-20T10:39:31.666Z"
   },
   {
    "duration": 244,
    "start_time": "2024-08-20T10:39:44.716Z"
   },
   {
    "duration": 496,
    "start_time": "2024-08-20T10:40:53.602Z"
   },
   {
    "duration": 562,
    "start_time": "2024-08-20T10:41:02.674Z"
   },
   {
    "duration": 660,
    "start_time": "2024-08-20T10:41:16.266Z"
   },
   {
    "duration": 199,
    "start_time": "2024-08-20T10:46:19.422Z"
   },
   {
    "duration": 208,
    "start_time": "2024-08-20T10:46:30.614Z"
   },
   {
    "duration": 17,
    "start_time": "2024-08-20T12:20:03.910Z"
   },
   {
    "duration": 196,
    "start_time": "2024-08-20T12:21:00.198Z"
   },
   {
    "duration": 271,
    "start_time": "2024-08-20T12:21:15.036Z"
   },
   {
    "duration": 325,
    "start_time": "2024-08-20T12:21:33.141Z"
   },
   {
    "duration": 4,
    "start_time": "2024-08-20T12:22:38.614Z"
   },
   {
    "duration": 222,
    "start_time": "2024-08-20T12:23:03.422Z"
   },
   {
    "duration": 228,
    "start_time": "2024-08-20T12:23:22.859Z"
   },
   {
    "duration": 14,
    "start_time": "2024-08-20T12:37:20.890Z"
   },
   {
    "duration": 12,
    "start_time": "2024-08-20T12:37:46.740Z"
   },
   {
    "duration": 12,
    "start_time": "2024-08-20T12:38:08.804Z"
   },
   {
    "duration": 11,
    "start_time": "2024-08-20T12:38:18.333Z"
   },
   {
    "duration": 96,
    "start_time": "2024-08-20T12:44:23.954Z"
   },
   {
    "duration": 92,
    "start_time": "2024-08-20T12:44:47.780Z"
   },
   {
    "duration": 1343,
    "start_time": "2024-08-20T16:26:26.539Z"
   },
   {
    "duration": 174,
    "start_time": "2024-08-20T16:26:27.884Z"
   },
   {
    "duration": 11,
    "start_time": "2024-08-20T16:26:28.059Z"
   },
   {
    "duration": 3,
    "start_time": "2024-08-20T16:26:28.072Z"
   },
   {
    "duration": 5,
    "start_time": "2024-08-20T16:26:28.076Z"
   },
   {
    "duration": 5,
    "start_time": "2024-08-20T16:26:28.082Z"
   },
   {
    "duration": 4,
    "start_time": "2024-08-20T16:26:28.088Z"
   },
   {
    "duration": 3,
    "start_time": "2024-08-20T16:26:28.093Z"
   },
   {
    "duration": 3,
    "start_time": "2024-08-20T16:26:28.098Z"
   },
   {
    "duration": 5,
    "start_time": "2024-08-20T16:26:28.103Z"
   },
   {
    "duration": 21,
    "start_time": "2024-08-20T16:26:28.147Z"
   },
   {
    "duration": 4,
    "start_time": "2024-08-20T16:26:28.170Z"
   },
   {
    "duration": 44,
    "start_time": "2024-08-20T16:26:28.175Z"
   },
   {
    "duration": 10,
    "start_time": "2024-08-20T16:26:28.221Z"
   },
   {
    "duration": 5,
    "start_time": "2024-08-20T16:26:28.232Z"
   },
   {
    "duration": 16,
    "start_time": "2024-08-20T16:26:28.238Z"
   },
   {
    "duration": 20,
    "start_time": "2024-08-20T16:26:28.255Z"
   },
   {
    "duration": 59,
    "start_time": "2024-08-20T16:26:28.277Z"
   },
   {
    "duration": 325,
    "start_time": "2024-08-20T16:26:28.338Z"
   },
   {
    "duration": 24,
    "start_time": "2024-08-20T16:26:28.664Z"
   },
   {
    "duration": 276,
    "start_time": "2024-08-20T16:26:28.690Z"
   },
   {
    "duration": 7,
    "start_time": "2024-08-20T16:26:28.967Z"
   },
   {
    "duration": 151,
    "start_time": "2024-08-20T16:26:28.975Z"
   },
   {
    "duration": 136,
    "start_time": "2024-08-20T16:26:29.128Z"
   },
   {
    "duration": 155,
    "start_time": "2024-08-20T16:26:29.265Z"
   },
   {
    "duration": 143,
    "start_time": "2024-08-20T16:26:29.421Z"
   },
   {
    "duration": 232,
    "start_time": "2024-08-20T16:26:29.565Z"
   },
   {
    "duration": 6,
    "start_time": "2024-08-20T16:26:29.801Z"
   },
   {
    "duration": 18,
    "start_time": "2024-08-20T16:26:29.808Z"
   },
   {
    "duration": 33,
    "start_time": "2024-08-20T16:26:29.828Z"
   },
   {
    "duration": 287,
    "start_time": "2024-08-20T16:26:29.863Z"
   },
   {
    "duration": 23,
    "start_time": "2024-08-20T16:26:30.152Z"
   },
   {
    "duration": 319,
    "start_time": "2024-08-20T16:26:30.177Z"
   },
   {
    "duration": 17,
    "start_time": "2024-08-20T16:26:30.498Z"
   },
   {
    "duration": 253,
    "start_time": "2024-08-20T16:26:30.516Z"
   },
   {
    "duration": 115,
    "start_time": "2024-08-20T16:26:30.771Z"
   },
   {
    "duration": 337,
    "start_time": "2024-08-20T16:26:30.887Z"
   },
   {
    "duration": 58,
    "start_time": "2024-08-20T16:26:31.226Z"
   },
   {
    "duration": 15,
    "start_time": "2024-08-20T16:29:46.256Z"
   },
   {
    "duration": 88,
    "start_time": "2024-08-20T16:30:38.991Z"
   },
   {
    "duration": 96,
    "start_time": "2024-08-20T16:49:34.446Z"
   },
   {
    "duration": 67,
    "start_time": "2024-08-20T16:50:04.025Z"
   },
   {
    "duration": 97,
    "start_time": "2024-08-20T16:52:10.006Z"
   },
   {
    "duration": 161,
    "start_time": "2024-08-20T16:52:16.484Z"
   },
   {
    "duration": 65,
    "start_time": "2024-08-20T16:52:22.307Z"
   },
   {
    "duration": 25,
    "start_time": "2024-08-20T16:53:15.875Z"
   },
   {
    "duration": 24,
    "start_time": "2024-08-20T16:54:03.909Z"
   },
   {
    "duration": 10,
    "start_time": "2024-08-20T17:04:17.057Z"
   },
   {
    "duration": 5,
    "start_time": "2024-08-20T17:04:32.559Z"
   },
   {
    "duration": 10,
    "start_time": "2024-08-20T17:04:51.684Z"
   },
   {
    "duration": 11,
    "start_time": "2024-08-20T17:05:27.949Z"
   },
   {
    "duration": 19,
    "start_time": "2024-08-20T17:09:30.925Z"
   },
   {
    "duration": 50,
    "start_time": "2024-08-21T06:19:17.545Z"
   },
   {
    "duration": 1415,
    "start_time": "2024-08-21T06:19:35.524Z"
   },
   {
    "duration": 259,
    "start_time": "2024-08-21T06:19:36.941Z"
   },
   {
    "duration": 12,
    "start_time": "2024-08-21T06:19:37.201Z"
   },
   {
    "duration": 11,
    "start_time": "2024-08-21T06:19:37.215Z"
   },
   {
    "duration": 17,
    "start_time": "2024-08-21T06:19:37.228Z"
   },
   {
    "duration": 76,
    "start_time": "2024-08-21T06:19:37.247Z"
   },
   {
    "duration": 5,
    "start_time": "2024-08-21T06:19:37.325Z"
   },
   {
    "duration": 8,
    "start_time": "2024-08-21T06:19:37.331Z"
   },
   {
    "duration": 5,
    "start_time": "2024-08-21T06:19:37.340Z"
   },
   {
    "duration": 6,
    "start_time": "2024-08-21T06:19:37.347Z"
   },
   {
    "duration": 32,
    "start_time": "2024-08-21T06:19:37.355Z"
   },
   {
    "duration": 5,
    "start_time": "2024-08-21T06:19:37.388Z"
   },
   {
    "duration": 31,
    "start_time": "2024-08-21T06:19:37.394Z"
   },
   {
    "duration": 19,
    "start_time": "2024-08-21T06:19:37.428Z"
   },
   {
    "duration": 6,
    "start_time": "2024-08-21T06:19:37.449Z"
   },
   {
    "duration": 18,
    "start_time": "2024-08-21T06:19:37.457Z"
   },
   {
    "duration": 5,
    "start_time": "2024-08-21T06:19:37.477Z"
   },
   {
    "duration": 41,
    "start_time": "2024-08-21T06:19:37.483Z"
   },
   {
    "duration": 45,
    "start_time": "2024-08-21T06:19:37.526Z"
   },
   {
    "duration": 353,
    "start_time": "2024-08-21T06:19:37.573Z"
   },
   {
    "duration": 25,
    "start_time": "2024-08-21T06:19:37.927Z"
   },
   {
    "duration": 295,
    "start_time": "2024-08-21T06:19:37.954Z"
   },
   {
    "duration": 7,
    "start_time": "2024-08-21T06:19:38.251Z"
   },
   {
    "duration": 156,
    "start_time": "2024-08-21T06:19:38.260Z"
   },
   {
    "duration": 145,
    "start_time": "2024-08-21T06:19:38.423Z"
   },
   {
    "duration": 158,
    "start_time": "2024-08-21T06:19:38.570Z"
   },
   {
    "duration": 159,
    "start_time": "2024-08-21T06:19:38.730Z"
   },
   {
    "duration": 235,
    "start_time": "2024-08-21T06:19:38.892Z"
   },
   {
    "duration": 6,
    "start_time": "2024-08-21T06:19:39.129Z"
   },
   {
    "duration": 16,
    "start_time": "2024-08-21T06:19:39.136Z"
   },
   {
    "duration": 23,
    "start_time": "2024-08-21T06:19:39.154Z"
   },
   {
    "duration": 319,
    "start_time": "2024-08-21T06:19:39.179Z"
   },
   {
    "duration": 33,
    "start_time": "2024-08-21T06:19:39.500Z"
   },
   {
    "duration": 247,
    "start_time": "2024-08-21T06:19:39.535Z"
   },
   {
    "duration": 18,
    "start_time": "2024-08-21T06:19:39.783Z"
   },
   {
    "duration": 268,
    "start_time": "2024-08-21T06:19:39.802Z"
   },
   {
    "duration": 25,
    "start_time": "2024-08-21T06:19:40.072Z"
   },
   {
    "duration": 98,
    "start_time": "2024-08-21T06:19:40.098Z"
   },
   {
    "duration": 29,
    "start_time": "2024-08-21T06:19:40.198Z"
   },
   {
    "duration": 35,
    "start_time": "2024-08-21T06:19:40.228Z"
   },
   {
    "duration": 65,
    "start_time": "2024-08-21T06:19:40.265Z"
   },
   {
    "duration": 0,
    "start_time": "2024-08-21T06:19:40.332Z"
   },
   {
    "duration": 0,
    "start_time": "2024-08-21T06:19:40.333Z"
   },
   {
    "duration": 6,
    "start_time": "2024-08-21T06:21:23.743Z"
   },
   {
    "duration": 221,
    "start_time": "2024-08-21T06:24:52.652Z"
   },
   {
    "duration": 235,
    "start_time": "2024-08-21T06:25:02.467Z"
   },
   {
    "duration": 5775,
    "start_time": "2024-08-21T06:27:47.854Z"
   },
   {
    "duration": 2170,
    "start_time": "2024-08-21T06:28:18.203Z"
   },
   {
    "duration": 1873,
    "start_time": "2024-08-21T06:29:18.177Z"
   },
   {
    "duration": 10,
    "start_time": "2024-08-21T06:53:50.948Z"
   },
   {
    "duration": 102,
    "start_time": "2024-08-21T06:57:20.887Z"
   },
   {
    "duration": 970,
    "start_time": "2024-08-21T06:57:53.815Z"
   },
   {
    "duration": 4,
    "start_time": "2024-08-21T06:58:07.923Z"
   },
   {
    "duration": 10,
    "start_time": "2024-08-21T06:58:27.145Z"
   },
   {
    "duration": 11,
    "start_time": "2024-08-21T06:58:36.825Z"
   },
   {
    "duration": 6,
    "start_time": "2024-08-21T06:58:45.583Z"
   },
   {
    "duration": 1644,
    "start_time": "2024-08-21T07:22:13.073Z"
   },
   {
    "duration": 9,
    "start_time": "2024-08-21T07:22:24.384Z"
   },
   {
    "duration": 6,
    "start_time": "2024-08-21T07:26:14.155Z"
   },
   {
    "duration": 19,
    "start_time": "2024-08-21T07:26:53.124Z"
   },
   {
    "duration": 1507,
    "start_time": "2024-08-21T07:27:07.724Z"
   },
   {
    "duration": 1572,
    "start_time": "2024-08-21T07:27:19.156Z"
   },
   {
    "duration": 9,
    "start_time": "2024-08-21T07:27:45.691Z"
   },
   {
    "duration": 10,
    "start_time": "2024-08-21T07:27:54.597Z"
   },
   {
    "duration": 5,
    "start_time": "2024-08-21T07:28:33.273Z"
   },
   {
    "duration": 1520,
    "start_time": "2024-08-21T07:28:52.229Z"
   },
   {
    "duration": 9,
    "start_time": "2024-08-21T07:29:15.357Z"
   },
   {
    "duration": 390,
    "start_time": "2024-08-21T07:30:44.672Z"
   },
   {
    "duration": 11,
    "start_time": "2024-08-21T07:31:02.802Z"
   },
   {
    "duration": 304,
    "start_time": "2024-08-21T07:31:15.312Z"
   },
   {
    "duration": 11,
    "start_time": "2024-08-21T07:31:31.731Z"
   },
   {
    "duration": 272,
    "start_time": "2024-08-21T07:31:39.740Z"
   },
   {
    "duration": 2,
    "start_time": "2024-08-21T07:32:28.976Z"
   },
   {
    "duration": 4,
    "start_time": "2024-08-21T07:48:34.199Z"
   },
   {
    "duration": 9,
    "start_time": "2024-08-21T07:53:34.639Z"
   },
   {
    "duration": 14,
    "start_time": "2024-08-21T07:53:49.431Z"
   },
   {
    "duration": 14,
    "start_time": "2024-08-21T07:54:07.904Z"
   },
   {
    "duration": 27,
    "start_time": "2024-08-21T07:55:51.538Z"
   },
   {
    "duration": 30,
    "start_time": "2024-08-21T07:58:48.408Z"
   },
   {
    "duration": 42,
    "start_time": "2024-08-21T07:59:07.822Z"
   },
   {
    "duration": 26,
    "start_time": "2024-08-21T07:59:23.423Z"
   },
   {
    "duration": 28,
    "start_time": "2024-08-21T07:59:39.655Z"
   },
   {
    "duration": 170,
    "start_time": "2024-08-21T08:00:22.639Z"
   },
   {
    "duration": 1034,
    "start_time": "2024-08-21T08:00:58.463Z"
   },
   {
    "duration": 955,
    "start_time": "2024-08-21T08:01:30.449Z"
   },
   {
    "duration": 941,
    "start_time": "2024-08-21T08:01:41.003Z"
   },
   {
    "duration": 24,
    "start_time": "2024-08-21T08:10:18.135Z"
   },
   {
    "duration": 4,
    "start_time": "2024-08-21T08:11:03.901Z"
   },
   {
    "duration": 19,
    "start_time": "2024-08-21T08:11:25.263Z"
   },
   {
    "duration": 3,
    "start_time": "2024-08-21T08:11:33.916Z"
   },
   {
    "duration": 19,
    "start_time": "2024-08-21T08:12:04.587Z"
   },
   {
    "duration": 26,
    "start_time": "2024-08-21T08:12:28.954Z"
   },
   {
    "duration": 25,
    "start_time": "2024-08-21T08:12:51.974Z"
   },
   {
    "duration": 135,
    "start_time": "2024-08-21T08:13:27.068Z"
   },
   {
    "duration": 90,
    "start_time": "2024-08-21T08:13:48.553Z"
   },
   {
    "duration": 157,
    "start_time": "2024-08-21T08:13:56.415Z"
   },
   {
    "duration": 149,
    "start_time": "2024-08-21T08:14:15.307Z"
   },
   {
    "duration": 158,
    "start_time": "2024-08-21T08:14:37.556Z"
   },
   {
    "duration": 151,
    "start_time": "2024-08-21T08:15:04.891Z"
   },
   {
    "duration": 14,
    "start_time": "2024-08-21T08:15:51.224Z"
   },
   {
    "duration": 216,
    "start_time": "2024-08-21T08:16:08.226Z"
   },
   {
    "duration": 277,
    "start_time": "2024-08-21T08:17:06.859Z"
   },
   {
    "duration": 280,
    "start_time": "2024-08-21T08:17:19.365Z"
   },
   {
    "duration": 66,
    "start_time": "2024-08-21T08:18:22.984Z"
   },
   {
    "duration": 270,
    "start_time": "2024-08-21T08:18:33.900Z"
   },
   {
    "duration": 150,
    "start_time": "2024-08-21T08:18:59.783Z"
   },
   {
    "duration": 73,
    "start_time": "2024-08-21T08:20:48.534Z"
   },
   {
    "duration": 29,
    "start_time": "2024-08-21T08:21:00.248Z"
   },
   {
    "duration": 63,
    "start_time": "2024-08-21T08:24:21.516Z"
   },
   {
    "duration": 66,
    "start_time": "2024-08-21T08:24:50.150Z"
   },
   {
    "duration": 12,
    "start_time": "2024-08-21T08:25:17.245Z"
   },
   {
    "duration": 29,
    "start_time": "2024-08-21T08:25:34.004Z"
   },
   {
    "duration": 27,
    "start_time": "2024-08-21T08:25:59.517Z"
   },
   {
    "duration": 13,
    "start_time": "2024-08-21T08:26:30.858Z"
   },
   {
    "duration": 12,
    "start_time": "2024-08-21T08:26:52.171Z"
   },
   {
    "duration": 121,
    "start_time": "2024-08-21T08:28:32.843Z"
   },
   {
    "duration": 128,
    "start_time": "2024-08-21T08:28:59.177Z"
   },
   {
    "duration": 146,
    "start_time": "2024-08-21T08:29:19.133Z"
   },
   {
    "duration": 117,
    "start_time": "2024-08-21T08:29:35.301Z"
   },
   {
    "duration": 125,
    "start_time": "2024-08-21T08:30:25.213Z"
   },
   {
    "duration": 14,
    "start_time": "2024-08-21T08:33:43.411Z"
   },
   {
    "duration": 146,
    "start_time": "2024-08-21T08:34:31.429Z"
   },
   {
    "duration": 18,
    "start_time": "2024-08-21T08:34:59.044Z"
   },
   {
    "duration": 145,
    "start_time": "2024-08-21T08:36:07.935Z"
   },
   {
    "duration": 151,
    "start_time": "2024-08-21T08:36:32.724Z"
   },
   {
    "duration": 129,
    "start_time": "2024-08-21T08:36:51.209Z"
   },
   {
    "duration": 2,
    "start_time": "2024-08-21T08:40:23.529Z"
   },
   {
    "duration": 14,
    "start_time": "2024-08-21T08:41:55.937Z"
   },
   {
    "duration": 934,
    "start_time": "2024-08-21T08:43:10.056Z"
   },
   {
    "duration": 153,
    "start_time": "2024-08-21T08:43:41.999Z"
   },
   {
    "duration": 13,
    "start_time": "2024-08-21T08:45:24.187Z"
   },
   {
    "duration": 159,
    "start_time": "2024-08-21T08:46:24.102Z"
   },
   {
    "duration": 16,
    "start_time": "2024-08-21T08:47:14.053Z"
   },
   {
    "duration": 258,
    "start_time": "2024-08-21T08:48:12.493Z"
   },
   {
    "duration": 928,
    "start_time": "2024-08-21T08:51:54.796Z"
   },
   {
    "duration": 4,
    "start_time": "2024-08-21T08:52:40.435Z"
   },
   {
    "duration": 5,
    "start_time": "2024-08-21T08:53:36.588Z"
   },
   {
    "duration": 6,
    "start_time": "2024-08-21T08:53:43.226Z"
   },
   {
    "duration": 3,
    "start_time": "2024-08-21T10:02:24.483Z"
   },
   {
    "duration": 3,
    "start_time": "2024-08-21T10:27:28.629Z"
   },
   {
    "duration": 17,
    "start_time": "2024-08-21T10:27:30.605Z"
   },
   {
    "duration": 15,
    "start_time": "2024-08-21T10:27:57.766Z"
   },
   {
    "duration": 5,
    "start_time": "2024-08-21T10:29:05.332Z"
   },
   {
    "duration": 3,
    "start_time": "2024-08-21T10:29:28.194Z"
   },
   {
    "duration": 6,
    "start_time": "2024-08-21T10:29:42.018Z"
   },
   {
    "duration": 12,
    "start_time": "2024-08-21T11:02:06.219Z"
   },
   {
    "duration": 11,
    "start_time": "2024-08-21T12:10:08.262Z"
   },
   {
    "duration": 1222,
    "start_time": "2024-08-21T12:10:37.749Z"
   },
   {
    "duration": 74,
    "start_time": "2024-08-21T12:10:38.973Z"
   },
   {
    "duration": 3,
    "start_time": "2024-08-21T12:10:39.048Z"
   },
   {
    "duration": 10,
    "start_time": "2024-08-21T12:10:39.053Z"
   },
   {
    "duration": 5,
    "start_time": "2024-08-21T12:10:39.065Z"
   },
   {
    "duration": 10,
    "start_time": "2024-08-21T12:10:39.071Z"
   },
   {
    "duration": 3,
    "start_time": "2024-08-21T12:10:39.083Z"
   },
   {
    "duration": 3,
    "start_time": "2024-08-21T12:10:39.088Z"
   },
   {
    "duration": 33,
    "start_time": "2024-08-21T12:10:39.093Z"
   },
   {
    "duration": 24,
    "start_time": "2024-08-21T12:10:39.128Z"
   },
   {
    "duration": 4,
    "start_time": "2024-08-21T12:10:39.155Z"
   },
   {
    "duration": 21,
    "start_time": "2024-08-21T12:10:39.161Z"
   },
   {
    "duration": 14,
    "start_time": "2024-08-21T12:10:39.183Z"
   },
   {
    "duration": 7,
    "start_time": "2024-08-21T12:10:39.200Z"
   },
   {
    "duration": 31,
    "start_time": "2024-08-21T12:10:39.208Z"
   },
   {
    "duration": 5,
    "start_time": "2024-08-21T12:10:39.240Z"
   },
   {
    "duration": 22,
    "start_time": "2024-08-21T12:10:39.247Z"
   },
   {
    "duration": 3,
    "start_time": "2024-08-21T12:10:39.271Z"
   },
   {
    "duration": 408,
    "start_time": "2024-08-21T12:10:39.275Z"
   },
   {
    "duration": 25,
    "start_time": "2024-08-21T12:10:39.685Z"
   },
   {
    "duration": 314,
    "start_time": "2024-08-21T12:10:39.712Z"
   },
   {
    "duration": 7,
    "start_time": "2024-08-21T12:10:40.027Z"
   },
   {
    "duration": 174,
    "start_time": "2024-08-21T12:10:40.035Z"
   },
   {
    "duration": 152,
    "start_time": "2024-08-21T12:10:40.211Z"
   },
   {
    "duration": 164,
    "start_time": "2024-08-21T12:10:40.364Z"
   },
   {
    "duration": 158,
    "start_time": "2024-08-21T12:10:40.529Z"
   },
   {
    "duration": 237,
    "start_time": "2024-08-21T12:10:40.689Z"
   },
   {
    "duration": 6,
    "start_time": "2024-08-21T12:10:40.928Z"
   },
   {
    "duration": 22,
    "start_time": "2024-08-21T12:10:40.936Z"
   },
   {
    "duration": 12,
    "start_time": "2024-08-21T12:10:40.960Z"
   },
   {
    "duration": 336,
    "start_time": "2024-08-21T12:10:40.973Z"
   },
   {
    "duration": 27,
    "start_time": "2024-08-21T12:10:41.311Z"
   },
   {
    "duration": 197,
    "start_time": "2024-08-21T12:10:41.340Z"
   },
   {
    "duration": 16,
    "start_time": "2024-08-21T12:10:41.539Z"
   },
   {
    "duration": 258,
    "start_time": "2024-08-21T12:10:41.557Z"
   },
   {
    "duration": 7,
    "start_time": "2024-08-21T12:10:41.817Z"
   },
   {
    "duration": 1717,
    "start_time": "2024-08-21T12:10:41.825Z"
   },
   {
    "duration": 112,
    "start_time": "2024-08-21T12:10:43.544Z"
   },
   {
    "duration": 0,
    "start_time": "2024-08-21T12:10:43.658Z"
   },
   {
    "duration": 0,
    "start_time": "2024-08-21T12:10:43.659Z"
   },
   {
    "duration": 0,
    "start_time": "2024-08-21T12:10:43.660Z"
   },
   {
    "duration": 0,
    "start_time": "2024-08-21T12:10:43.661Z"
   },
   {
    "duration": 0,
    "start_time": "2024-08-21T12:10:43.663Z"
   },
   {
    "duration": 0,
    "start_time": "2024-08-21T12:10:43.664Z"
   },
   {
    "duration": 0,
    "start_time": "2024-08-21T12:10:43.664Z"
   },
   {
    "duration": 0,
    "start_time": "2024-08-21T12:10:43.665Z"
   },
   {
    "duration": 0,
    "start_time": "2024-08-21T12:10:43.666Z"
   },
   {
    "duration": 0,
    "start_time": "2024-08-21T12:10:43.668Z"
   },
   {
    "duration": 1,
    "start_time": "2024-08-21T12:10:43.668Z"
   },
   {
    "duration": 0,
    "start_time": "2024-08-21T12:10:43.669Z"
   },
   {
    "duration": 0,
    "start_time": "2024-08-21T12:10:43.671Z"
   },
   {
    "duration": 0,
    "start_time": "2024-08-21T12:10:43.672Z"
   },
   {
    "duration": 0,
    "start_time": "2024-08-21T12:10:43.672Z"
   },
   {
    "duration": 0,
    "start_time": "2024-08-21T12:10:43.673Z"
   },
   {
    "duration": 0,
    "start_time": "2024-08-21T12:10:43.674Z"
   },
   {
    "duration": 0,
    "start_time": "2024-08-21T12:10:43.675Z"
   },
   {
    "duration": 0,
    "start_time": "2024-08-21T12:10:43.676Z"
   },
   {
    "duration": 0,
    "start_time": "2024-08-21T12:10:43.677Z"
   },
   {
    "duration": 0,
    "start_time": "2024-08-21T12:10:43.679Z"
   },
   {
    "duration": 0,
    "start_time": "2024-08-21T12:10:43.679Z"
   },
   {
    "duration": 0,
    "start_time": "2024-08-21T12:10:43.724Z"
   },
   {
    "duration": 9,
    "start_time": "2024-08-21T12:11:16.905Z"
   },
   {
    "duration": 1217,
    "start_time": "2024-08-21T12:11:55.740Z"
   },
   {
    "duration": 73,
    "start_time": "2024-08-21T12:11:56.959Z"
   },
   {
    "duration": 3,
    "start_time": "2024-08-21T12:11:57.035Z"
   },
   {
    "duration": 6,
    "start_time": "2024-08-21T12:11:57.040Z"
   },
   {
    "duration": 5,
    "start_time": "2024-08-21T12:11:57.049Z"
   },
   {
    "duration": 4,
    "start_time": "2024-08-21T12:11:57.055Z"
   },
   {
    "duration": 12,
    "start_time": "2024-08-21T12:11:57.060Z"
   },
   {
    "duration": 4,
    "start_time": "2024-08-21T12:11:57.073Z"
   },
   {
    "duration": 6,
    "start_time": "2024-08-21T12:11:57.078Z"
   },
   {
    "duration": 57,
    "start_time": "2024-08-21T12:11:57.085Z"
   },
   {
    "duration": 5,
    "start_time": "2024-08-21T12:11:57.144Z"
   },
   {
    "duration": 6,
    "start_time": "2024-08-21T12:11:57.150Z"
   },
   {
    "duration": 10,
    "start_time": "2024-08-21T12:11:57.158Z"
   },
   {
    "duration": 6,
    "start_time": "2024-08-21T12:11:57.171Z"
   },
   {
    "duration": 49,
    "start_time": "2024-08-21T12:11:57.178Z"
   },
   {
    "duration": 6,
    "start_time": "2024-08-21T12:11:57.228Z"
   },
   {
    "duration": 23,
    "start_time": "2024-08-21T12:11:57.235Z"
   },
   {
    "duration": 4,
    "start_time": "2024-08-21T12:11:57.259Z"
   },
   {
    "duration": 379,
    "start_time": "2024-08-21T12:11:57.264Z"
   },
   {
    "duration": 24,
    "start_time": "2024-08-21T12:11:57.645Z"
   },
   {
    "duration": 304,
    "start_time": "2024-08-21T12:11:57.671Z"
   },
   {
    "duration": 7,
    "start_time": "2024-08-21T12:11:57.977Z"
   },
   {
    "duration": 155,
    "start_time": "2024-08-21T12:11:57.985Z"
   },
   {
    "duration": 145,
    "start_time": "2024-08-21T12:11:58.142Z"
   },
   {
    "duration": 160,
    "start_time": "2024-08-21T12:11:58.289Z"
   },
   {
    "duration": 154,
    "start_time": "2024-08-21T12:11:58.451Z"
   },
   {
    "duration": 233,
    "start_time": "2024-08-21T12:11:58.607Z"
   },
   {
    "duration": 6,
    "start_time": "2024-08-21T12:11:58.842Z"
   },
   {
    "duration": 22,
    "start_time": "2024-08-21T12:11:58.849Z"
   },
   {
    "duration": 11,
    "start_time": "2024-08-21T12:11:58.873Z"
   },
   {
    "duration": 322,
    "start_time": "2024-08-21T12:11:58.885Z"
   },
   {
    "duration": 28,
    "start_time": "2024-08-21T12:11:59.208Z"
   },
   {
    "duration": 198,
    "start_time": "2024-08-21T12:11:59.238Z"
   },
   {
    "duration": 16,
    "start_time": "2024-08-21T12:11:59.437Z"
   },
   {
    "duration": 293,
    "start_time": "2024-08-21T12:11:59.455Z"
   },
   {
    "duration": 5,
    "start_time": "2024-08-21T12:11:59.749Z"
   },
   {
    "duration": 1682,
    "start_time": "2024-08-21T12:11:59.755Z"
   },
   {
    "duration": 9,
    "start_time": "2024-08-21T12:12:01.439Z"
   },
   {
    "duration": 41,
    "start_time": "2024-08-21T12:12:01.450Z"
   },
   {
    "duration": 1514,
    "start_time": "2024-08-21T12:12:01.492Z"
   },
   {
    "duration": 18,
    "start_time": "2024-08-21T12:12:03.010Z"
   },
   {
    "duration": 7,
    "start_time": "2024-08-21T12:12:03.029Z"
   },
   {
    "duration": 1509,
    "start_time": "2024-08-21T12:12:03.038Z"
   },
   {
    "duration": 9,
    "start_time": "2024-08-21T12:12:04.548Z"
   },
   {
    "duration": 431,
    "start_time": "2024-08-21T12:12:04.559Z"
   },
   {
    "duration": 13,
    "start_time": "2024-08-21T12:12:05.000Z"
   },
   {
    "duration": 142,
    "start_time": "2024-08-21T12:12:05.015Z"
   },
   {
    "duration": 15,
    "start_time": "2024-08-21T12:12:05.158Z"
   },
   {
    "duration": 156,
    "start_time": "2024-08-21T12:12:05.174Z"
   },
   {
    "duration": 13,
    "start_time": "2024-08-21T12:12:05.332Z"
   },
   {
    "duration": 167,
    "start_time": "2024-08-21T12:12:05.346Z"
   },
   {
    "duration": 19,
    "start_time": "2024-08-21T12:12:05.515Z"
   },
   {
    "duration": 165,
    "start_time": "2024-08-21T12:12:05.536Z"
   },
   {
    "duration": 28,
    "start_time": "2024-08-21T12:12:05.703Z"
   },
   {
    "duration": 168,
    "start_time": "2024-08-21T12:12:05.733Z"
   },
   {
    "duration": 21,
    "start_time": "2024-08-21T12:12:05.903Z"
   },
   {
    "duration": 167,
    "start_time": "2024-08-21T12:12:05.926Z"
   },
   {
    "duration": 4,
    "start_time": "2024-08-21T12:12:06.094Z"
   },
   {
    "duration": 13,
    "start_time": "2024-08-21T12:12:06.100Z"
   },
   {
    "duration": 20,
    "start_time": "2024-08-21T12:12:06.114Z"
   },
   {
    "duration": 5,
    "start_time": "2024-08-21T12:12:06.136Z"
   },
   {
    "duration": 9,
    "start_time": "2024-08-21T12:12:57.289Z"
   },
   {
    "duration": 10,
    "start_time": "2024-08-21T12:13:19.667Z"
   },
   {
    "duration": 1612,
    "start_time": "2024-08-21T12:13:47.975Z"
   },
   {
    "duration": 1246,
    "start_time": "2024-08-21T12:14:03.915Z"
   },
   {
    "duration": 75,
    "start_time": "2024-08-21T12:14:05.163Z"
   },
   {
    "duration": 4,
    "start_time": "2024-08-21T12:14:05.241Z"
   },
   {
    "duration": 8,
    "start_time": "2024-08-21T12:14:05.246Z"
   },
   {
    "duration": 44,
    "start_time": "2024-08-21T12:14:05.257Z"
   },
   {
    "duration": 11,
    "start_time": "2024-08-21T12:14:05.303Z"
   },
   {
    "duration": 18,
    "start_time": "2024-08-21T12:14:05.316Z"
   },
   {
    "duration": 24,
    "start_time": "2024-08-21T12:14:05.335Z"
   },
   {
    "duration": 19,
    "start_time": "2024-08-21T12:14:05.361Z"
   },
   {
    "duration": 26,
    "start_time": "2024-08-21T12:14:05.382Z"
   },
   {
    "duration": 5,
    "start_time": "2024-08-21T12:14:05.410Z"
   },
   {
    "duration": 7,
    "start_time": "2024-08-21T12:14:05.417Z"
   },
   {
    "duration": 16,
    "start_time": "2024-08-21T12:14:05.425Z"
   },
   {
    "duration": 8,
    "start_time": "2024-08-21T12:14:05.446Z"
   },
   {
    "duration": 35,
    "start_time": "2024-08-21T12:14:05.455Z"
   },
   {
    "duration": 6,
    "start_time": "2024-08-21T12:14:05.491Z"
   },
   {
    "duration": 36,
    "start_time": "2024-08-21T12:14:05.498Z"
   },
   {
    "duration": 4,
    "start_time": "2024-08-21T12:14:05.535Z"
   },
   {
    "duration": 368,
    "start_time": "2024-08-21T12:14:05.540Z"
   },
   {
    "duration": 35,
    "start_time": "2024-08-21T12:14:05.909Z"
   },
   {
    "duration": 308,
    "start_time": "2024-08-21T12:14:05.945Z"
   },
   {
    "duration": 9,
    "start_time": "2024-08-21T12:14:06.255Z"
   },
   {
    "duration": 212,
    "start_time": "2024-08-21T12:14:06.265Z"
   },
   {
    "duration": 150,
    "start_time": "2024-08-21T12:14:06.480Z"
   },
   {
    "duration": 159,
    "start_time": "2024-08-21T12:14:06.632Z"
   },
   {
    "duration": 160,
    "start_time": "2024-08-21T12:14:06.793Z"
   },
   {
    "duration": 227,
    "start_time": "2024-08-21T12:14:06.955Z"
   },
   {
    "duration": 6,
    "start_time": "2024-08-21T12:14:07.184Z"
   },
   {
    "duration": 35,
    "start_time": "2024-08-21T12:14:07.192Z"
   },
   {
    "duration": 15,
    "start_time": "2024-08-21T12:14:07.229Z"
   },
   {
    "duration": 307,
    "start_time": "2024-08-21T12:14:07.245Z"
   },
   {
    "duration": 23,
    "start_time": "2024-08-21T12:14:07.554Z"
   },
   {
    "duration": 206,
    "start_time": "2024-08-21T12:14:07.579Z"
   },
   {
    "duration": 15,
    "start_time": "2024-08-21T12:14:07.787Z"
   },
   {
    "duration": 253,
    "start_time": "2024-08-21T12:14:07.804Z"
   },
   {
    "duration": 5,
    "start_time": "2024-08-21T12:14:08.059Z"
   },
   {
    "duration": 1688,
    "start_time": "2024-08-21T12:14:08.066Z"
   },
   {
    "duration": 10,
    "start_time": "2024-08-21T12:14:09.756Z"
   },
   {
    "duration": 5,
    "start_time": "2024-08-21T12:14:09.768Z"
   },
   {
    "duration": 1532,
    "start_time": "2024-08-21T12:14:09.775Z"
   },
   {
    "duration": 14,
    "start_time": "2024-08-21T12:14:11.311Z"
   },
   {
    "duration": 8,
    "start_time": "2024-08-21T12:14:11.327Z"
   },
   {
    "duration": 1518,
    "start_time": "2024-08-21T12:14:11.337Z"
   },
   {
    "duration": 10,
    "start_time": "2024-08-21T12:14:12.857Z"
   },
   {
    "duration": 442,
    "start_time": "2024-08-21T12:14:12.869Z"
   },
   {
    "duration": 20,
    "start_time": "2024-08-21T12:14:13.313Z"
   },
   {
    "duration": 142,
    "start_time": "2024-08-21T12:14:13.334Z"
   },
   {
    "duration": 13,
    "start_time": "2024-08-21T12:14:13.477Z"
   },
   {
    "duration": 154,
    "start_time": "2024-08-21T12:14:13.492Z"
   },
   {
    "duration": 13,
    "start_time": "2024-08-21T12:14:13.647Z"
   },
   {
    "duration": 164,
    "start_time": "2024-08-21T12:14:13.662Z"
   },
   {
    "duration": 13,
    "start_time": "2024-08-21T12:14:13.828Z"
   },
   {
    "duration": 170,
    "start_time": "2024-08-21T12:14:13.842Z"
   },
   {
    "duration": 21,
    "start_time": "2024-08-21T12:14:14.014Z"
   },
   {
    "duration": 182,
    "start_time": "2024-08-21T12:14:14.037Z"
   },
   {
    "duration": 14,
    "start_time": "2024-08-21T12:14:14.221Z"
   },
   {
    "duration": 162,
    "start_time": "2024-08-21T12:14:14.237Z"
   },
   {
    "duration": 4,
    "start_time": "2024-08-21T12:14:14.401Z"
   },
   {
    "duration": 18,
    "start_time": "2024-08-21T12:14:14.407Z"
   },
   {
    "duration": 5,
    "start_time": "2024-08-21T12:14:14.427Z"
   },
   {
    "duration": 5,
    "start_time": "2024-08-21T12:14:14.434Z"
   },
   {
    "duration": 4,
    "start_time": "2024-08-21T12:20:04.973Z"
   },
   {
    "duration": 4,
    "start_time": "2024-08-21T12:20:12.340Z"
   },
   {
    "duration": 10,
    "start_time": "2024-08-21T12:20:15.020Z"
   },
   {
    "duration": 6,
    "start_time": "2024-08-21T12:24:22.546Z"
   },
   {
    "duration": 4,
    "start_time": "2024-08-21T12:25:46.794Z"
   },
   {
    "duration": 1222,
    "start_time": "2024-08-21T12:26:12.329Z"
   },
   {
    "duration": 73,
    "start_time": "2024-08-21T12:26:13.553Z"
   },
   {
    "duration": 3,
    "start_time": "2024-08-21T12:26:13.627Z"
   },
   {
    "duration": 8,
    "start_time": "2024-08-21T12:26:13.632Z"
   },
   {
    "duration": 5,
    "start_time": "2024-08-21T12:26:13.642Z"
   },
   {
    "duration": 4,
    "start_time": "2024-08-21T12:26:13.648Z"
   },
   {
    "duration": 3,
    "start_time": "2024-08-21T12:26:13.654Z"
   },
   {
    "duration": 4,
    "start_time": "2024-08-21T12:26:13.658Z"
   },
   {
    "duration": 5,
    "start_time": "2024-08-21T12:26:13.663Z"
   },
   {
    "duration": 54,
    "start_time": "2024-08-21T12:26:13.671Z"
   },
   {
    "duration": 4,
    "start_time": "2024-08-21T12:26:13.727Z"
   },
   {
    "duration": 5,
    "start_time": "2024-08-21T12:26:13.733Z"
   },
   {
    "duration": 5,
    "start_time": "2024-08-21T12:26:13.739Z"
   },
   {
    "duration": 14,
    "start_time": "2024-08-21T12:26:13.745Z"
   },
   {
    "duration": 6,
    "start_time": "2024-08-21T12:26:13.761Z"
   },
   {
    "duration": 4,
    "start_time": "2024-08-21T12:26:13.769Z"
   },
   {
    "duration": 51,
    "start_time": "2024-08-21T12:26:13.774Z"
   },
   {
    "duration": 7,
    "start_time": "2024-08-21T12:26:13.827Z"
   },
   {
    "duration": 23,
    "start_time": "2024-08-21T12:26:13.836Z"
   },
   {
    "duration": 4,
    "start_time": "2024-08-21T12:26:13.861Z"
   },
   {
    "duration": 379,
    "start_time": "2024-08-21T12:26:13.866Z"
   },
   {
    "duration": 25,
    "start_time": "2024-08-21T12:26:14.247Z"
   },
   {
    "duration": 369,
    "start_time": "2024-08-21T12:26:14.274Z"
   },
   {
    "duration": 7,
    "start_time": "2024-08-21T12:26:14.645Z"
   },
   {
    "duration": 155,
    "start_time": "2024-08-21T12:26:14.654Z"
   },
   {
    "duration": 146,
    "start_time": "2024-08-21T12:26:14.811Z"
   },
   {
    "duration": 167,
    "start_time": "2024-08-21T12:26:14.959Z"
   },
   {
    "duration": 151,
    "start_time": "2024-08-21T12:26:15.129Z"
   },
   {
    "duration": 228,
    "start_time": "2024-08-21T12:26:15.281Z"
   },
   {
    "duration": 13,
    "start_time": "2024-08-21T12:26:15.511Z"
   },
   {
    "duration": 15,
    "start_time": "2024-08-21T12:26:15.525Z"
   },
   {
    "duration": 10,
    "start_time": "2024-08-21T12:26:15.542Z"
   },
   {
    "duration": 314,
    "start_time": "2024-08-21T12:26:15.554Z"
   },
   {
    "duration": 24,
    "start_time": "2024-08-21T12:26:15.869Z"
   },
   {
    "duration": 210,
    "start_time": "2024-08-21T12:26:15.895Z"
   },
   {
    "duration": 24,
    "start_time": "2024-08-21T12:26:16.107Z"
   },
   {
    "duration": 241,
    "start_time": "2024-08-21T12:26:16.132Z"
   },
   {
    "duration": 6,
    "start_time": "2024-08-21T12:26:16.375Z"
   },
   {
    "duration": 1605,
    "start_time": "2024-08-21T12:26:16.382Z"
   },
   {
    "duration": 10,
    "start_time": "2024-08-21T12:26:17.989Z"
   },
   {
    "duration": 14,
    "start_time": "2024-08-21T12:26:18.001Z"
   },
   {
    "duration": 1452,
    "start_time": "2024-08-21T12:26:18.023Z"
   },
   {
    "duration": 9,
    "start_time": "2024-08-21T12:26:19.477Z"
   },
   {
    "duration": 5,
    "start_time": "2024-08-21T12:26:19.487Z"
   },
   {
    "duration": 1736,
    "start_time": "2024-08-21T12:26:19.493Z"
   },
   {
    "duration": 10,
    "start_time": "2024-08-21T12:26:21.231Z"
   },
   {
    "duration": 295,
    "start_time": "2024-08-21T12:26:21.243Z"
   },
   {
    "duration": 14,
    "start_time": "2024-08-21T12:26:21.539Z"
   },
   {
    "duration": 152,
    "start_time": "2024-08-21T12:26:21.554Z"
   },
   {
    "duration": 22,
    "start_time": "2024-08-21T12:26:21.708Z"
   },
   {
    "duration": 155,
    "start_time": "2024-08-21T12:26:21.732Z"
   },
   {
    "duration": 13,
    "start_time": "2024-08-21T12:26:21.889Z"
   },
   {
    "duration": 159,
    "start_time": "2024-08-21T12:26:21.904Z"
   },
   {
    "duration": 14,
    "start_time": "2024-08-21T12:26:22.065Z"
   },
   {
    "duration": 169,
    "start_time": "2024-08-21T12:26:22.081Z"
   },
   {
    "duration": 14,
    "start_time": "2024-08-21T12:26:22.251Z"
   },
   {
    "duration": 243,
    "start_time": "2024-08-21T12:26:22.266Z"
   },
   {
    "duration": 13,
    "start_time": "2024-08-21T12:26:22.511Z"
   },
   {
    "duration": 160,
    "start_time": "2024-08-21T12:26:22.525Z"
   },
   {
    "duration": 4,
    "start_time": "2024-08-21T12:26:22.687Z"
   },
   {
    "duration": 7,
    "start_time": "2024-08-21T12:26:22.693Z"
   },
   {
    "duration": 25,
    "start_time": "2024-08-21T12:26:22.702Z"
   },
   {
    "duration": 7,
    "start_time": "2024-08-21T12:26:22.729Z"
   },
   {
    "duration": 6,
    "start_time": "2024-08-21T12:27:37.085Z"
   },
   {
    "duration": 1593,
    "start_time": "2024-08-21T12:27:45.821Z"
   },
   {
    "duration": 9,
    "start_time": "2024-08-21T12:27:54.631Z"
   },
   {
    "duration": 6,
    "start_time": "2024-08-21T12:28:57.197Z"
   },
   {
    "duration": 1479,
    "start_time": "2024-08-21T12:28:59.598Z"
   },
   {
    "duration": 9,
    "start_time": "2024-08-21T12:29:09.566Z"
   },
   {
    "duration": 6,
    "start_time": "2024-08-21T12:29:31.702Z"
   },
   {
    "duration": 1561,
    "start_time": "2024-08-21T12:29:35.129Z"
   },
   {
    "duration": 9,
    "start_time": "2024-08-21T12:29:44.355Z"
   },
   {
    "duration": 7,
    "start_time": "2024-08-21T12:30:12.231Z"
   },
   {
    "duration": 6,
    "start_time": "2024-08-21T12:30:22.002Z"
   },
   {
    "duration": 5,
    "start_time": "2024-08-21T12:58:06.687Z"
   },
   {
    "duration": 72,
    "start_time": "2024-08-21T12:58:30.219Z"
   },
   {
    "duration": 5,
    "start_time": "2024-08-21T12:58:49.749Z"
   },
   {
    "duration": 7,
    "start_time": "2024-08-21T12:59:31.006Z"
   },
   {
    "duration": 115,
    "start_time": "2024-08-21T13:02:34.214Z"
   },
   {
    "duration": 26,
    "start_time": "2024-08-21T13:03:21.664Z"
   },
   {
    "duration": 6,
    "start_time": "2024-08-21T13:07:29.644Z"
   },
   {
    "duration": 5,
    "start_time": "2024-08-21T13:07:56.615Z"
   },
   {
    "duration": 6,
    "start_time": "2024-08-21T13:08:15.264Z"
   },
   {
    "duration": 33,
    "start_time": "2024-08-21T13:08:55.662Z"
   },
   {
    "duration": 35,
    "start_time": "2024-08-21T13:09:45.935Z"
   },
   {
    "duration": 8,
    "start_time": "2024-08-21T13:09:55.117Z"
   },
   {
    "duration": 6,
    "start_time": "2024-08-21T13:10:15.451Z"
   },
   {
    "duration": 5,
    "start_time": "2024-08-21T13:10:21.785Z"
   },
   {
    "duration": 5,
    "start_time": "2024-08-21T13:10:32.985Z"
   },
   {
    "duration": 1263,
    "start_time": "2024-08-21T13:12:54.094Z"
   },
   {
    "duration": 73,
    "start_time": "2024-08-21T13:12:55.359Z"
   },
   {
    "duration": 2,
    "start_time": "2024-08-21T13:12:55.434Z"
   },
   {
    "duration": 8,
    "start_time": "2024-08-21T13:12:55.438Z"
   },
   {
    "duration": 7,
    "start_time": "2024-08-21T13:12:55.447Z"
   },
   {
    "duration": 4,
    "start_time": "2024-08-21T13:12:55.456Z"
   },
   {
    "duration": 4,
    "start_time": "2024-08-21T13:12:55.461Z"
   },
   {
    "duration": 3,
    "start_time": "2024-08-21T13:12:55.466Z"
   },
   {
    "duration": 4,
    "start_time": "2024-08-21T13:12:55.471Z"
   },
   {
    "duration": 51,
    "start_time": "2024-08-21T13:12:55.478Z"
   },
   {
    "duration": 5,
    "start_time": "2024-08-21T13:12:55.530Z"
   },
   {
    "duration": 7,
    "start_time": "2024-08-21T13:12:55.536Z"
   },
   {
    "duration": 13,
    "start_time": "2024-08-21T13:12:55.544Z"
   },
   {
    "duration": 36,
    "start_time": "2024-08-21T13:12:55.559Z"
   },
   {
    "duration": 8,
    "start_time": "2024-08-21T13:12:55.596Z"
   },
   {
    "duration": 3,
    "start_time": "2024-08-21T13:12:55.605Z"
   },
   {
    "duration": 17,
    "start_time": "2024-08-21T13:12:55.609Z"
   },
   {
    "duration": 5,
    "start_time": "2024-08-21T13:12:55.627Z"
   },
   {
    "duration": 21,
    "start_time": "2024-08-21T13:12:55.634Z"
   },
   {
    "duration": 7,
    "start_time": "2024-08-21T13:12:55.657Z"
   },
   {
    "duration": 374,
    "start_time": "2024-08-21T13:12:55.666Z"
   },
   {
    "duration": 25,
    "start_time": "2024-08-21T13:12:56.041Z"
   },
   {
    "duration": 302,
    "start_time": "2024-08-21T13:12:56.068Z"
   },
   {
    "duration": 6,
    "start_time": "2024-08-21T13:12:56.372Z"
   },
   {
    "duration": 225,
    "start_time": "2024-08-21T13:12:56.380Z"
   },
   {
    "duration": 146,
    "start_time": "2024-08-21T13:12:56.607Z"
   },
   {
    "duration": 161,
    "start_time": "2024-08-21T13:12:56.755Z"
   },
   {
    "duration": 152,
    "start_time": "2024-08-21T13:12:56.925Z"
   },
   {
    "duration": 234,
    "start_time": "2024-08-21T13:12:57.079Z"
   },
   {
    "duration": 9,
    "start_time": "2024-08-21T13:12:57.315Z"
   },
   {
    "duration": 15,
    "start_time": "2024-08-21T13:12:57.325Z"
   },
   {
    "duration": 19,
    "start_time": "2024-08-21T13:12:57.341Z"
   },
   {
    "duration": 306,
    "start_time": "2024-08-21T13:12:57.362Z"
   },
   {
    "duration": 24,
    "start_time": "2024-08-21T13:12:57.670Z"
   },
   {
    "duration": 203,
    "start_time": "2024-08-21T13:12:57.696Z"
   },
   {
    "duration": 24,
    "start_time": "2024-08-21T13:12:57.901Z"
   },
   {
    "duration": 266,
    "start_time": "2024-08-21T13:12:57.927Z"
   },
   {
    "duration": 7,
    "start_time": "2024-08-21T13:12:58.195Z"
   },
   {
    "duration": 1527,
    "start_time": "2024-08-21T13:12:58.204Z"
   },
   {
    "duration": 11,
    "start_time": "2024-08-21T13:12:59.733Z"
   },
   {
    "duration": 6,
    "start_time": "2024-08-21T13:12:59.745Z"
   },
   {
    "duration": 1593,
    "start_time": "2024-08-21T13:12:59.753Z"
   },
   {
    "duration": 9,
    "start_time": "2024-08-21T13:13:01.347Z"
   },
   {
    "duration": 9,
    "start_time": "2024-08-21T13:13:01.358Z"
   },
   {
    "duration": 1495,
    "start_time": "2024-08-21T13:13:01.368Z"
   },
   {
    "duration": 10,
    "start_time": "2024-08-21T13:13:02.866Z"
   },
   {
    "duration": 406,
    "start_time": "2024-08-21T13:13:02.877Z"
   },
   {
    "duration": 13,
    "start_time": "2024-08-21T13:13:03.285Z"
   },
   {
    "duration": 147,
    "start_time": "2024-08-21T13:13:03.299Z"
   },
   {
    "duration": 13,
    "start_time": "2024-08-21T13:13:03.448Z"
   },
   {
    "duration": 155,
    "start_time": "2024-08-21T13:13:03.463Z"
   },
   {
    "duration": 13,
    "start_time": "2024-08-21T13:13:03.623Z"
   },
   {
    "duration": 158,
    "start_time": "2024-08-21T13:13:03.638Z"
   },
   {
    "duration": 13,
    "start_time": "2024-08-21T13:13:03.797Z"
   },
   {
    "duration": 179,
    "start_time": "2024-08-21T13:13:03.812Z"
   },
   {
    "duration": 14,
    "start_time": "2024-08-21T13:13:03.993Z"
   },
   {
    "duration": 178,
    "start_time": "2024-08-21T13:13:04.010Z"
   },
   {
    "duration": 14,
    "start_time": "2024-08-21T13:13:04.191Z"
   },
   {
    "duration": 201,
    "start_time": "2024-08-21T13:13:04.207Z"
   },
   {
    "duration": 5,
    "start_time": "2024-08-21T13:13:04.410Z"
   },
   {
    "duration": 78,
    "start_time": "2024-08-21T13:13:04.425Z"
   },
   {
    "duration": 33,
    "start_time": "2024-08-21T13:13:04.505Z"
   },
   {
    "duration": 50,
    "start_time": "2024-08-21T13:13:04.539Z"
   },
   {
    "duration": 10,
    "start_time": "2024-08-21T13:13:04.591Z"
   },
   {
    "duration": 27,
    "start_time": "2024-08-21T13:13:04.603Z"
   },
   {
    "duration": 7,
    "start_time": "2024-08-21T13:13:04.632Z"
   },
   {
    "duration": 24,
    "start_time": "2024-08-21T13:25:26.317Z"
   },
   {
    "duration": 147,
    "start_time": "2024-08-21T13:25:44.047Z"
   },
   {
    "duration": 6,
    "start_time": "2024-08-21T13:44:55.142Z"
   },
   {
    "duration": 326,
    "start_time": "2024-08-21T14:03:02.717Z"
   },
   {
    "duration": 454,
    "start_time": "2024-08-21T14:03:59.200Z"
   },
   {
    "duration": 433,
    "start_time": "2024-08-21T14:04:21.297Z"
   },
   {
    "duration": 1504,
    "start_time": "2024-08-21T14:19:22.780Z"
   },
   {
    "duration": 15,
    "start_time": "2024-08-21T14:31:45.938Z"
   },
   {
    "duration": 50,
    "start_time": "2024-08-21T17:51:33.101Z"
   },
   {
    "duration": 1422,
    "start_time": "2024-08-21T17:51:42.348Z"
   },
   {
    "duration": 243,
    "start_time": "2024-08-21T17:51:43.772Z"
   },
   {
    "duration": 3,
    "start_time": "2024-08-21T17:51:44.016Z"
   },
   {
    "duration": 6,
    "start_time": "2024-08-21T17:51:44.021Z"
   },
   {
    "duration": 7,
    "start_time": "2024-08-21T17:51:44.029Z"
   },
   {
    "duration": 69,
    "start_time": "2024-08-21T17:51:44.037Z"
   },
   {
    "duration": 0,
    "start_time": "2024-08-21T17:51:44.109Z"
   },
   {
    "duration": 0,
    "start_time": "2024-08-21T17:51:44.110Z"
   },
   {
    "duration": 0,
    "start_time": "2024-08-21T17:51:44.112Z"
   },
   {
    "duration": 0,
    "start_time": "2024-08-21T17:51:44.113Z"
   },
   {
    "duration": 0,
    "start_time": "2024-08-21T17:51:44.114Z"
   },
   {
    "duration": 0,
    "start_time": "2024-08-21T17:51:44.115Z"
   },
   {
    "duration": 0,
    "start_time": "2024-08-21T17:51:44.116Z"
   },
   {
    "duration": 0,
    "start_time": "2024-08-21T17:51:44.117Z"
   },
   {
    "duration": 0,
    "start_time": "2024-08-21T17:51:44.118Z"
   },
   {
    "duration": 0,
    "start_time": "2024-08-21T17:51:44.119Z"
   },
   {
    "duration": 1,
    "start_time": "2024-08-21T17:51:44.119Z"
   },
   {
    "duration": 0,
    "start_time": "2024-08-21T17:51:44.120Z"
   },
   {
    "duration": 0,
    "start_time": "2024-08-21T17:51:44.121Z"
   },
   {
    "duration": 0,
    "start_time": "2024-08-21T17:51:44.123Z"
   },
   {
    "duration": 0,
    "start_time": "2024-08-21T17:51:44.124Z"
   },
   {
    "duration": 0,
    "start_time": "2024-08-21T17:51:44.125Z"
   },
   {
    "duration": 0,
    "start_time": "2024-08-21T17:51:44.126Z"
   },
   {
    "duration": 0,
    "start_time": "2024-08-21T17:51:44.127Z"
   },
   {
    "duration": 0,
    "start_time": "2024-08-21T17:51:44.128Z"
   },
   {
    "duration": 1,
    "start_time": "2024-08-21T17:51:44.128Z"
   },
   {
    "duration": 0,
    "start_time": "2024-08-21T17:51:44.130Z"
   },
   {
    "duration": 1,
    "start_time": "2024-08-21T17:51:44.130Z"
   },
   {
    "duration": 0,
    "start_time": "2024-08-21T17:51:44.132Z"
   },
   {
    "duration": 0,
    "start_time": "2024-08-21T17:51:44.132Z"
   },
   {
    "duration": 0,
    "start_time": "2024-08-21T17:51:44.133Z"
   },
   {
    "duration": 0,
    "start_time": "2024-08-21T17:51:44.134Z"
   },
   {
    "duration": 0,
    "start_time": "2024-08-21T17:51:44.135Z"
   },
   {
    "duration": 0,
    "start_time": "2024-08-21T17:51:44.136Z"
   },
   {
    "duration": 0,
    "start_time": "2024-08-21T17:51:44.137Z"
   },
   {
    "duration": 0,
    "start_time": "2024-08-21T17:51:44.138Z"
   },
   {
    "duration": 0,
    "start_time": "2024-08-21T17:51:44.139Z"
   },
   {
    "duration": 0,
    "start_time": "2024-08-21T17:51:44.140Z"
   },
   {
    "duration": 0,
    "start_time": "2024-08-21T17:51:44.141Z"
   },
   {
    "duration": 0,
    "start_time": "2024-08-21T17:51:44.142Z"
   },
   {
    "duration": 0,
    "start_time": "2024-08-21T17:51:44.143Z"
   },
   {
    "duration": 0,
    "start_time": "2024-08-21T17:51:44.144Z"
   },
   {
    "duration": 0,
    "start_time": "2024-08-21T17:51:44.145Z"
   },
   {
    "duration": 0,
    "start_time": "2024-08-21T17:51:44.146Z"
   },
   {
    "duration": 0,
    "start_time": "2024-08-21T17:51:44.147Z"
   },
   {
    "duration": 0,
    "start_time": "2024-08-21T17:51:44.148Z"
   },
   {
    "duration": 0,
    "start_time": "2024-08-21T17:51:44.149Z"
   },
   {
    "duration": 0,
    "start_time": "2024-08-21T17:51:44.150Z"
   },
   {
    "duration": 0,
    "start_time": "2024-08-21T17:51:44.151Z"
   },
   {
    "duration": 0,
    "start_time": "2024-08-21T17:51:44.152Z"
   },
   {
    "duration": 0,
    "start_time": "2024-08-21T17:51:44.153Z"
   },
   {
    "duration": 0,
    "start_time": "2024-08-21T17:51:44.154Z"
   },
   {
    "duration": 0,
    "start_time": "2024-08-21T17:51:44.155Z"
   },
   {
    "duration": 0,
    "start_time": "2024-08-21T17:51:44.156Z"
   },
   {
    "duration": 0,
    "start_time": "2024-08-21T17:51:44.157Z"
   },
   {
    "duration": 0,
    "start_time": "2024-08-21T17:51:44.157Z"
   },
   {
    "duration": 0,
    "start_time": "2024-08-21T17:51:44.159Z"
   },
   {
    "duration": 0,
    "start_time": "2024-08-21T17:51:44.160Z"
   },
   {
    "duration": 0,
    "start_time": "2024-08-21T17:51:44.224Z"
   },
   {
    "duration": 0,
    "start_time": "2024-08-21T17:51:44.225Z"
   },
   {
    "duration": 0,
    "start_time": "2024-08-21T17:51:44.226Z"
   },
   {
    "duration": 0,
    "start_time": "2024-08-21T17:51:44.227Z"
   },
   {
    "duration": 0,
    "start_time": "2024-08-21T17:51:44.228Z"
   },
   {
    "duration": 0,
    "start_time": "2024-08-21T17:51:44.229Z"
   },
   {
    "duration": 0,
    "start_time": "2024-08-21T17:51:44.230Z"
   },
   {
    "duration": 0,
    "start_time": "2024-08-21T17:51:44.231Z"
   },
   {
    "duration": 0,
    "start_time": "2024-08-21T17:51:44.232Z"
   },
   {
    "duration": 0,
    "start_time": "2024-08-21T17:51:44.233Z"
   },
   {
    "duration": 0,
    "start_time": "2024-08-21T17:51:44.234Z"
   },
   {
    "duration": 1235,
    "start_time": "2024-08-21T17:52:19.515Z"
   },
   {
    "duration": 72,
    "start_time": "2024-08-21T17:52:20.752Z"
   },
   {
    "duration": 3,
    "start_time": "2024-08-21T17:52:20.826Z"
   },
   {
    "duration": 7,
    "start_time": "2024-08-21T17:52:20.831Z"
   },
   {
    "duration": 10,
    "start_time": "2024-08-21T17:52:20.840Z"
   },
   {
    "duration": 62,
    "start_time": "2024-08-21T17:52:20.851Z"
   },
   {
    "duration": 0,
    "start_time": "2024-08-21T17:52:20.916Z"
   },
   {
    "duration": 0,
    "start_time": "2024-08-21T17:52:20.918Z"
   },
   {
    "duration": 0,
    "start_time": "2024-08-21T17:52:20.918Z"
   },
   {
    "duration": 0,
    "start_time": "2024-08-21T17:52:20.920Z"
   },
   {
    "duration": 0,
    "start_time": "2024-08-21T17:52:20.921Z"
   },
   {
    "duration": 0,
    "start_time": "2024-08-21T17:52:20.922Z"
   },
   {
    "duration": 0,
    "start_time": "2024-08-21T17:52:20.923Z"
   },
   {
    "duration": 0,
    "start_time": "2024-08-21T17:52:20.924Z"
   },
   {
    "duration": 0,
    "start_time": "2024-08-21T17:52:20.925Z"
   },
   {
    "duration": 0,
    "start_time": "2024-08-21T17:52:20.926Z"
   },
   {
    "duration": 1,
    "start_time": "2024-08-21T17:52:20.926Z"
   },
   {
    "duration": 0,
    "start_time": "2024-08-21T17:52:20.927Z"
   },
   {
    "duration": 0,
    "start_time": "2024-08-21T17:52:20.928Z"
   },
   {
    "duration": 0,
    "start_time": "2024-08-21T17:52:20.929Z"
   },
   {
    "duration": 0,
    "start_time": "2024-08-21T17:52:20.931Z"
   },
   {
    "duration": 0,
    "start_time": "2024-08-21T17:52:20.932Z"
   },
   {
    "duration": 0,
    "start_time": "2024-08-21T17:52:20.932Z"
   },
   {
    "duration": 0,
    "start_time": "2024-08-21T17:52:20.933Z"
   },
   {
    "duration": 0,
    "start_time": "2024-08-21T17:52:20.934Z"
   },
   {
    "duration": 0,
    "start_time": "2024-08-21T17:52:20.935Z"
   },
   {
    "duration": 0,
    "start_time": "2024-08-21T17:52:20.936Z"
   },
   {
    "duration": 0,
    "start_time": "2024-08-21T17:52:20.937Z"
   },
   {
    "duration": 0,
    "start_time": "2024-08-21T17:52:20.938Z"
   },
   {
    "duration": 0,
    "start_time": "2024-08-21T17:52:20.939Z"
   },
   {
    "duration": 0,
    "start_time": "2024-08-21T17:52:20.940Z"
   },
   {
    "duration": 0,
    "start_time": "2024-08-21T17:52:20.941Z"
   },
   {
    "duration": 0,
    "start_time": "2024-08-21T17:52:20.942Z"
   },
   {
    "duration": 0,
    "start_time": "2024-08-21T17:52:20.943Z"
   },
   {
    "duration": 0,
    "start_time": "2024-08-21T17:52:20.944Z"
   },
   {
    "duration": 0,
    "start_time": "2024-08-21T17:52:20.945Z"
   },
   {
    "duration": 0,
    "start_time": "2024-08-21T17:52:20.946Z"
   },
   {
    "duration": 0,
    "start_time": "2024-08-21T17:52:20.946Z"
   },
   {
    "duration": 0,
    "start_time": "2024-08-21T17:52:20.948Z"
   },
   {
    "duration": 0,
    "start_time": "2024-08-21T17:52:20.948Z"
   },
   {
    "duration": 0,
    "start_time": "2024-08-21T17:52:20.949Z"
   },
   {
    "duration": 0,
    "start_time": "2024-08-21T17:52:20.951Z"
   },
   {
    "duration": 0,
    "start_time": "2024-08-21T17:52:20.951Z"
   },
   {
    "duration": 0,
    "start_time": "2024-08-21T17:52:20.953Z"
   },
   {
    "duration": 0,
    "start_time": "2024-08-21T17:52:20.953Z"
   },
   {
    "duration": 0,
    "start_time": "2024-08-21T17:52:20.954Z"
   },
   {
    "duration": 0,
    "start_time": "2024-08-21T17:52:20.955Z"
   },
   {
    "duration": 0,
    "start_time": "2024-08-21T17:52:20.956Z"
   },
   {
    "duration": 0,
    "start_time": "2024-08-21T17:52:20.957Z"
   },
   {
    "duration": 0,
    "start_time": "2024-08-21T17:52:20.958Z"
   },
   {
    "duration": 0,
    "start_time": "2024-08-21T17:52:20.959Z"
   },
   {
    "duration": 0,
    "start_time": "2024-08-21T17:52:20.960Z"
   },
   {
    "duration": 0,
    "start_time": "2024-08-21T17:52:21.024Z"
   },
   {
    "duration": 0,
    "start_time": "2024-08-21T17:52:21.025Z"
   },
   {
    "duration": 0,
    "start_time": "2024-08-21T17:52:21.027Z"
   },
   {
    "duration": 0,
    "start_time": "2024-08-21T17:52:21.028Z"
   },
   {
    "duration": 0,
    "start_time": "2024-08-21T17:52:21.029Z"
   },
   {
    "duration": 0,
    "start_time": "2024-08-21T17:52:21.030Z"
   },
   {
    "duration": 0,
    "start_time": "2024-08-21T17:52:21.030Z"
   },
   {
    "duration": 0,
    "start_time": "2024-08-21T17:52:21.032Z"
   },
   {
    "duration": 0,
    "start_time": "2024-08-21T17:52:21.032Z"
   },
   {
    "duration": 0,
    "start_time": "2024-08-21T17:52:21.034Z"
   },
   {
    "duration": 0,
    "start_time": "2024-08-21T17:52:21.034Z"
   },
   {
    "duration": 0,
    "start_time": "2024-08-21T17:52:21.035Z"
   },
   {
    "duration": 0,
    "start_time": "2024-08-21T17:52:21.036Z"
   },
   {
    "duration": 0,
    "start_time": "2024-08-21T17:52:21.037Z"
   },
   {
    "duration": 0,
    "start_time": "2024-08-21T17:52:21.039Z"
   },
   {
    "duration": 0,
    "start_time": "2024-08-21T17:52:21.040Z"
   },
   {
    "duration": 0,
    "start_time": "2024-08-21T17:52:21.041Z"
   },
   {
    "duration": 1237,
    "start_time": "2024-08-21T17:52:55.716Z"
   },
   {
    "duration": 75,
    "start_time": "2024-08-21T17:52:56.955Z"
   },
   {
    "duration": 3,
    "start_time": "2024-08-21T17:52:57.031Z"
   },
   {
    "duration": 69,
    "start_time": "2024-08-21T17:52:57.036Z"
   },
   {
    "duration": 7,
    "start_time": "2024-08-21T17:52:57.107Z"
   },
   {
    "duration": 6,
    "start_time": "2024-08-21T17:52:57.116Z"
   },
   {
    "duration": 5,
    "start_time": "2024-08-21T17:52:57.123Z"
   },
   {
    "duration": 8,
    "start_time": "2024-08-21T17:52:57.129Z"
   },
   {
    "duration": 8,
    "start_time": "2024-08-21T17:52:57.139Z"
   },
   {
    "duration": 37,
    "start_time": "2024-08-21T17:52:57.148Z"
   },
   {
    "duration": 4,
    "start_time": "2024-08-21T17:52:57.187Z"
   },
   {
    "duration": 33,
    "start_time": "2024-08-21T17:52:57.192Z"
   },
   {
    "duration": 5,
    "start_time": "2024-08-21T17:52:57.227Z"
   },
   {
    "duration": 11,
    "start_time": "2024-08-21T17:52:57.235Z"
   },
   {
    "duration": 5,
    "start_time": "2024-08-21T17:52:57.248Z"
   },
   {
    "duration": 4,
    "start_time": "2024-08-21T17:52:57.254Z"
   },
   {
    "duration": 16,
    "start_time": "2024-08-21T17:52:57.259Z"
   },
   {
    "duration": 53,
    "start_time": "2024-08-21T17:52:57.277Z"
   },
   {
    "duration": 24,
    "start_time": "2024-08-21T17:52:57.332Z"
   },
   {
    "duration": 4,
    "start_time": "2024-08-21T17:52:57.358Z"
   },
   {
    "duration": 375,
    "start_time": "2024-08-21T17:52:57.364Z"
   },
   {
    "duration": 26,
    "start_time": "2024-08-21T17:52:57.741Z"
   },
   {
    "duration": 300,
    "start_time": "2024-08-21T17:52:57.769Z"
   },
   {
    "duration": 6,
    "start_time": "2024-08-21T17:52:58.071Z"
   },
   {
    "duration": 167,
    "start_time": "2024-08-21T17:52:58.078Z"
   },
   {
    "duration": 155,
    "start_time": "2024-08-21T17:52:58.247Z"
   },
   {
    "duration": 163,
    "start_time": "2024-08-21T17:52:58.404Z"
   },
   {
    "duration": 159,
    "start_time": "2024-08-21T17:52:58.569Z"
   },
   {
    "duration": 237,
    "start_time": "2024-08-21T17:52:58.730Z"
   },
   {
    "duration": 6,
    "start_time": "2024-08-21T17:52:58.969Z"
   },
   {
    "duration": 20,
    "start_time": "2024-08-21T17:52:58.977Z"
   },
   {
    "duration": 29,
    "start_time": "2024-08-21T17:52:58.999Z"
   },
   {
    "duration": 333,
    "start_time": "2024-08-21T17:52:59.029Z"
   },
   {
    "duration": 69,
    "start_time": "2024-08-21T17:52:59.364Z"
   },
   {
    "duration": 0,
    "start_time": "2024-08-21T17:52:59.436Z"
   },
   {
    "duration": 0,
    "start_time": "2024-08-21T17:52:59.437Z"
   },
   {
    "duration": 0,
    "start_time": "2024-08-21T17:52:59.438Z"
   },
   {
    "duration": 0,
    "start_time": "2024-08-21T17:52:59.440Z"
   },
   {
    "duration": 0,
    "start_time": "2024-08-21T17:52:59.441Z"
   },
   {
    "duration": 0,
    "start_time": "2024-08-21T17:52:59.442Z"
   },
   {
    "duration": 1,
    "start_time": "2024-08-21T17:52:59.442Z"
   },
   {
    "duration": 0,
    "start_time": "2024-08-21T17:52:59.443Z"
   },
   {
    "duration": 0,
    "start_time": "2024-08-21T17:52:59.445Z"
   },
   {
    "duration": 0,
    "start_time": "2024-08-21T17:52:59.446Z"
   },
   {
    "duration": 0,
    "start_time": "2024-08-21T17:52:59.447Z"
   },
   {
    "duration": 0,
    "start_time": "2024-08-21T17:52:59.448Z"
   },
   {
    "duration": 0,
    "start_time": "2024-08-21T17:52:59.449Z"
   },
   {
    "duration": 0,
    "start_time": "2024-08-21T17:52:59.450Z"
   },
   {
    "duration": 0,
    "start_time": "2024-08-21T17:52:59.451Z"
   },
   {
    "duration": 0,
    "start_time": "2024-08-21T17:52:59.452Z"
   },
   {
    "duration": 0,
    "start_time": "2024-08-21T17:52:59.453Z"
   },
   {
    "duration": 0,
    "start_time": "2024-08-21T17:52:59.454Z"
   },
   {
    "duration": 1,
    "start_time": "2024-08-21T17:52:59.455Z"
   },
   {
    "duration": 0,
    "start_time": "2024-08-21T17:52:59.456Z"
   },
   {
    "duration": 0,
    "start_time": "2024-08-21T17:52:59.457Z"
   },
   {
    "duration": 0,
    "start_time": "2024-08-21T17:52:59.459Z"
   },
   {
    "duration": 0,
    "start_time": "2024-08-21T17:52:59.460Z"
   },
   {
    "duration": 0,
    "start_time": "2024-08-21T17:52:59.461Z"
   },
   {
    "duration": 0,
    "start_time": "2024-08-21T17:52:59.462Z"
   },
   {
    "duration": 0,
    "start_time": "2024-08-21T17:52:59.463Z"
   },
   {
    "duration": 0,
    "start_time": "2024-08-21T17:52:59.464Z"
   },
   {
    "duration": 0,
    "start_time": "2024-08-21T17:52:59.465Z"
   },
   {
    "duration": 0,
    "start_time": "2024-08-21T17:52:59.466Z"
   },
   {
    "duration": 0,
    "start_time": "2024-08-21T17:52:59.467Z"
   },
   {
    "duration": 0,
    "start_time": "2024-08-21T17:52:59.468Z"
   },
   {
    "duration": 0,
    "start_time": "2024-08-21T17:52:59.469Z"
   },
   {
    "duration": 0,
    "start_time": "2024-08-21T17:52:59.470Z"
   },
   {
    "duration": 0,
    "start_time": "2024-08-21T17:52:59.471Z"
   },
   {
    "duration": 1223,
    "start_time": "2024-08-21T17:53:22.019Z"
   },
   {
    "duration": 72,
    "start_time": "2024-08-21T17:53:23.244Z"
   },
   {
    "duration": 2,
    "start_time": "2024-08-21T17:53:23.318Z"
   },
   {
    "duration": 15,
    "start_time": "2024-08-21T17:53:23.322Z"
   },
   {
    "duration": 6,
    "start_time": "2024-08-21T17:53:23.340Z"
   },
   {
    "duration": 6,
    "start_time": "2024-08-21T17:53:23.347Z"
   },
   {
    "duration": 3,
    "start_time": "2024-08-21T17:53:23.355Z"
   },
   {
    "duration": 3,
    "start_time": "2024-08-21T17:53:23.360Z"
   },
   {
    "duration": 5,
    "start_time": "2024-08-21T17:53:23.365Z"
   },
   {
    "duration": 23,
    "start_time": "2024-08-21T17:53:23.371Z"
   },
   {
    "duration": 31,
    "start_time": "2024-08-21T17:53:23.395Z"
   },
   {
    "duration": 5,
    "start_time": "2024-08-21T17:53:23.428Z"
   },
   {
    "duration": 5,
    "start_time": "2024-08-21T17:53:23.434Z"
   },
   {
    "duration": 10,
    "start_time": "2024-08-21T17:53:23.443Z"
   },
   {
    "duration": 6,
    "start_time": "2024-08-21T17:53:23.455Z"
   },
   {
    "duration": 3,
    "start_time": "2024-08-21T17:53:23.463Z"
   },
   {
    "duration": 17,
    "start_time": "2024-08-21T17:53:23.468Z"
   },
   {
    "duration": 7,
    "start_time": "2024-08-21T17:53:23.525Z"
   },
   {
    "duration": 23,
    "start_time": "2024-08-21T17:53:23.533Z"
   },
   {
    "duration": 4,
    "start_time": "2024-08-21T17:53:23.558Z"
   },
   {
    "duration": 375,
    "start_time": "2024-08-21T17:53:23.564Z"
   },
   {
    "duration": 25,
    "start_time": "2024-08-21T17:53:23.941Z"
   },
   {
    "duration": 303,
    "start_time": "2024-08-21T17:53:23.968Z"
   },
   {
    "duration": 8,
    "start_time": "2024-08-21T17:53:24.273Z"
   },
   {
    "duration": 157,
    "start_time": "2024-08-21T17:53:24.283Z"
   },
   {
    "duration": 151,
    "start_time": "2024-08-21T17:53:24.442Z"
   },
   {
    "duration": 161,
    "start_time": "2024-08-21T17:53:24.595Z"
   },
   {
    "duration": 152,
    "start_time": "2024-08-21T17:53:24.758Z"
   },
   {
    "duration": 222,
    "start_time": "2024-08-21T17:53:24.911Z"
   },
   {
    "duration": 6,
    "start_time": "2024-08-21T17:53:25.134Z"
   },
   {
    "duration": 19,
    "start_time": "2024-08-21T17:53:25.141Z"
   },
   {
    "duration": 11,
    "start_time": "2024-08-21T17:53:25.162Z"
   },
   {
    "duration": 332,
    "start_time": "2024-08-21T17:53:25.175Z"
   },
   {
    "duration": 33,
    "start_time": "2024-08-21T17:53:25.509Z"
   },
   {
    "duration": 192,
    "start_time": "2024-08-21T17:53:25.543Z"
   },
   {
    "duration": 16,
    "start_time": "2024-08-21T17:53:25.737Z"
   },
   {
    "duration": 249,
    "start_time": "2024-08-21T17:53:25.754Z"
   },
   {
    "duration": 6,
    "start_time": "2024-08-21T17:53:26.005Z"
   },
   {
    "duration": 1505,
    "start_time": "2024-08-21T17:53:26.012Z"
   },
   {
    "duration": 10,
    "start_time": "2024-08-21T17:53:27.523Z"
   },
   {
    "duration": 7,
    "start_time": "2024-08-21T17:53:27.537Z"
   },
   {
    "duration": 1579,
    "start_time": "2024-08-21T17:53:27.545Z"
   },
   {
    "duration": 11,
    "start_time": "2024-08-21T17:53:29.125Z"
   },
   {
    "duration": 11,
    "start_time": "2024-08-21T17:53:29.137Z"
   },
   {
    "duration": 1494,
    "start_time": "2024-08-21T17:53:29.149Z"
   },
   {
    "duration": 10,
    "start_time": "2024-08-21T17:53:30.644Z"
   },
   {
    "duration": 403,
    "start_time": "2024-08-21T17:53:30.655Z"
   },
   {
    "duration": 13,
    "start_time": "2024-08-21T17:53:31.059Z"
   },
   {
    "duration": 147,
    "start_time": "2024-08-21T17:53:31.074Z"
   },
   {
    "duration": 13,
    "start_time": "2024-08-21T17:53:31.223Z"
   },
   {
    "duration": 155,
    "start_time": "2024-08-21T17:53:31.238Z"
   },
   {
    "duration": 13,
    "start_time": "2024-08-21T17:53:31.395Z"
   },
   {
    "duration": 156,
    "start_time": "2024-08-21T17:53:31.410Z"
   },
   {
    "duration": 60,
    "start_time": "2024-08-21T17:53:31.568Z"
   },
   {
    "duration": 0,
    "start_time": "2024-08-21T17:53:31.629Z"
   },
   {
    "duration": 0,
    "start_time": "2024-08-21T17:53:31.631Z"
   },
   {
    "duration": 0,
    "start_time": "2024-08-21T17:53:31.631Z"
   },
   {
    "duration": 0,
    "start_time": "2024-08-21T17:53:31.632Z"
   },
   {
    "duration": 0,
    "start_time": "2024-08-21T17:53:31.633Z"
   },
   {
    "duration": 0,
    "start_time": "2024-08-21T17:53:31.634Z"
   },
   {
    "duration": 0,
    "start_time": "2024-08-21T17:53:31.635Z"
   },
   {
    "duration": 0,
    "start_time": "2024-08-21T17:53:31.636Z"
   },
   {
    "duration": 0,
    "start_time": "2024-08-21T17:53:31.637Z"
   },
   {
    "duration": 0,
    "start_time": "2024-08-21T17:53:31.638Z"
   },
   {
    "duration": 0,
    "start_time": "2024-08-21T17:53:31.638Z"
   },
   {
    "duration": 0,
    "start_time": "2024-08-21T17:53:31.640Z"
   },
   {
    "duration": 0,
    "start_time": "2024-08-21T17:53:31.641Z"
   },
   {
    "duration": 1214,
    "start_time": "2024-08-21T18:28:59.440Z"
   },
   {
    "duration": 74,
    "start_time": "2024-08-21T18:29:00.655Z"
   },
   {
    "duration": 3,
    "start_time": "2024-08-21T18:29:00.731Z"
   },
   {
    "duration": 8,
    "start_time": "2024-08-21T18:29:00.736Z"
   },
   {
    "duration": 6,
    "start_time": "2024-08-21T18:29:00.745Z"
   },
   {
    "duration": 4,
    "start_time": "2024-08-21T18:29:00.752Z"
   },
   {
    "duration": 3,
    "start_time": "2024-08-21T18:29:00.758Z"
   },
   {
    "duration": 4,
    "start_time": "2024-08-21T18:29:00.762Z"
   },
   {
    "duration": 5,
    "start_time": "2024-08-21T18:29:00.768Z"
   },
   {
    "duration": 57,
    "start_time": "2024-08-21T18:29:00.776Z"
   },
   {
    "duration": 5,
    "start_time": "2024-08-21T18:29:00.834Z"
   },
   {
    "duration": 6,
    "start_time": "2024-08-21T18:29:00.840Z"
   },
   {
    "duration": 13,
    "start_time": "2024-08-21T18:29:00.848Z"
   },
   {
    "duration": 11,
    "start_time": "2024-08-21T18:29:00.862Z"
   },
   {
    "duration": 5,
    "start_time": "2024-08-21T18:29:00.874Z"
   },
   {
    "duration": 8,
    "start_time": "2024-08-21T18:29:00.880Z"
   },
   {
    "duration": 36,
    "start_time": "2024-08-21T18:29:00.889Z"
   },
   {
    "duration": 5,
    "start_time": "2024-08-21T18:29:00.927Z"
   },
   {
    "duration": 23,
    "start_time": "2024-08-21T18:29:00.933Z"
   },
   {
    "duration": 4,
    "start_time": "2024-08-21T18:29:00.957Z"
   },
   {
    "duration": 379,
    "start_time": "2024-08-21T18:29:00.963Z"
   },
   {
    "duration": 26,
    "start_time": "2024-08-21T18:29:01.343Z"
   },
   {
    "duration": 302,
    "start_time": "2024-08-21T18:29:01.370Z"
   },
   {
    "duration": 7,
    "start_time": "2024-08-21T18:29:01.674Z"
   },
   {
    "duration": 183,
    "start_time": "2024-08-21T18:29:01.683Z"
   },
   {
    "duration": 149,
    "start_time": "2024-08-21T18:29:01.868Z"
   },
   {
    "duration": 154,
    "start_time": "2024-08-21T18:29:02.023Z"
   },
   {
    "duration": 155,
    "start_time": "2024-08-21T18:29:02.181Z"
   },
   {
    "duration": 232,
    "start_time": "2024-08-21T18:29:02.338Z"
   },
   {
    "duration": 6,
    "start_time": "2024-08-21T18:29:02.571Z"
   },
   {
    "duration": 16,
    "start_time": "2024-08-21T18:29:02.578Z"
   },
   {
    "duration": 29,
    "start_time": "2024-08-21T18:29:02.595Z"
   },
   {
    "duration": 319,
    "start_time": "2024-08-21T18:29:02.626Z"
   },
   {
    "duration": 23,
    "start_time": "2024-08-21T18:29:02.946Z"
   },
   {
    "duration": 203,
    "start_time": "2024-08-21T18:29:02.971Z"
   },
   {
    "duration": 15,
    "start_time": "2024-08-21T18:29:03.176Z"
   },
   {
    "duration": 245,
    "start_time": "2024-08-21T18:29:03.193Z"
   },
   {
    "duration": 6,
    "start_time": "2024-08-21T18:29:03.440Z"
   },
   {
    "duration": 1505,
    "start_time": "2024-08-21T18:29:03.447Z"
   },
   {
    "duration": 9,
    "start_time": "2024-08-21T18:29:04.954Z"
   },
   {
    "duration": 13,
    "start_time": "2024-08-21T18:29:04.964Z"
   },
   {
    "duration": 1583,
    "start_time": "2024-08-21T18:29:04.979Z"
   },
   {
    "duration": 9,
    "start_time": "2024-08-21T18:29:06.564Z"
   },
   {
    "duration": 7,
    "start_time": "2024-08-21T18:29:06.575Z"
   },
   {
    "duration": 1436,
    "start_time": "2024-08-21T18:29:06.583Z"
   },
   {
    "duration": 9,
    "start_time": "2024-08-21T18:29:08.024Z"
   },
   {
    "duration": 401,
    "start_time": "2024-08-21T18:29:08.035Z"
   },
   {
    "duration": 13,
    "start_time": "2024-08-21T18:29:08.438Z"
   },
   {
    "duration": 151,
    "start_time": "2024-08-21T18:29:08.453Z"
   },
   {
    "duration": 27,
    "start_time": "2024-08-21T18:29:08.606Z"
   },
   {
    "duration": 151,
    "start_time": "2024-08-21T18:29:08.635Z"
   },
   {
    "duration": 13,
    "start_time": "2024-08-21T18:29:08.787Z"
   },
   {
    "duration": 167,
    "start_time": "2024-08-21T18:29:08.802Z"
   },
   {
    "duration": 14,
    "start_time": "2024-08-21T18:29:08.971Z"
   },
   {
    "duration": 191,
    "start_time": "2024-08-21T18:29:08.986Z"
   },
   {
    "duration": 13,
    "start_time": "2024-08-21T18:29:09.179Z"
   },
   {
    "duration": 172,
    "start_time": "2024-08-21T18:29:09.194Z"
   },
   {
    "duration": 14,
    "start_time": "2024-08-21T18:29:09.367Z"
   },
   {
    "duration": 162,
    "start_time": "2024-08-21T18:29:09.383Z"
   },
   {
    "duration": 4,
    "start_time": "2024-08-21T18:29:09.547Z"
   },
   {
    "duration": 9,
    "start_time": "2024-08-21T18:29:09.553Z"
   },
   {
    "duration": 11,
    "start_time": "2024-08-21T18:29:09.563Z"
   },
   {
    "duration": 5,
    "start_time": "2024-08-21T18:29:09.577Z"
   },
   {
    "duration": 9,
    "start_time": "2024-08-21T18:29:09.584Z"
   },
   {
    "duration": 57,
    "start_time": "2024-08-21T18:29:09.594Z"
   },
   {
    "duration": 8,
    "start_time": "2024-08-21T18:29:09.652Z"
   },
   {
    "duration": 78,
    "start_time": "2024-08-21T18:43:43.880Z"
   },
   {
    "duration": 91,
    "start_time": "2024-08-21T18:45:08.341Z"
   },
   {
    "duration": 65,
    "start_time": "2024-08-21T18:47:37.844Z"
   },
   {
    "duration": 104,
    "start_time": "2024-08-21T18:47:57.252Z"
   },
   {
    "duration": 10,
    "start_time": "2024-08-21T18:49:17.775Z"
   },
   {
    "duration": 9,
    "start_time": "2024-08-21T18:50:29.844Z"
   },
   {
    "duration": 8,
    "start_time": "2024-08-21T18:50:40.080Z"
   },
   {
    "duration": 9,
    "start_time": "2024-08-21T18:51:04.090Z"
   },
   {
    "duration": 14,
    "start_time": "2024-08-21T18:53:17.277Z"
   },
   {
    "duration": 15,
    "start_time": "2024-08-21T18:53:37.536Z"
   },
   {
    "duration": 153,
    "start_time": "2024-08-21T18:54:21.227Z"
   },
   {
    "duration": 146,
    "start_time": "2024-08-21T18:54:33.885Z"
   },
   {
    "duration": 146,
    "start_time": "2024-08-21T18:54:57.659Z"
   },
   {
    "duration": 24,
    "start_time": "2024-08-21T18:55:15.708Z"
   },
   {
    "duration": 146,
    "start_time": "2024-08-21T18:55:24.249Z"
   },
   {
    "duration": 143,
    "start_time": "2024-08-21T18:55:45.722Z"
   },
   {
    "duration": 142,
    "start_time": "2024-08-21T18:56:39.245Z"
   },
   {
    "duration": 25,
    "start_time": "2024-08-21T20:13:23.632Z"
   },
   {
    "duration": 10,
    "start_time": "2024-08-21T20:13:36.756Z"
   },
   {
    "duration": 13,
    "start_time": "2024-08-21T20:14:18.890Z"
   },
   {
    "duration": 12,
    "start_time": "2024-08-21T20:14:28.052Z"
   },
   {
    "duration": 10,
    "start_time": "2024-08-21T20:15:26.372Z"
   },
   {
    "duration": 9,
    "start_time": "2024-08-21T20:27:36.665Z"
   },
   {
    "duration": 24,
    "start_time": "2024-08-21T20:27:59.609Z"
   },
   {
    "duration": 1313,
    "start_time": "2024-08-21T21:25:37.603Z"
   },
   {
    "duration": 215,
    "start_time": "2024-08-21T21:25:38.918Z"
   },
   {
    "duration": 3,
    "start_time": "2024-08-21T21:25:39.135Z"
   },
   {
    "duration": 18,
    "start_time": "2024-08-21T21:25:39.140Z"
   },
   {
    "duration": 6,
    "start_time": "2024-08-21T21:25:39.160Z"
   },
   {
    "duration": 4,
    "start_time": "2024-08-21T21:25:39.167Z"
   },
   {
    "duration": 13,
    "start_time": "2024-08-21T21:25:39.172Z"
   },
   {
    "duration": 4,
    "start_time": "2024-08-21T21:25:39.186Z"
   },
   {
    "duration": 8,
    "start_time": "2024-08-21T21:25:39.192Z"
   },
   {
    "duration": 22,
    "start_time": "2024-08-21T21:25:39.203Z"
   },
   {
    "duration": 3,
    "start_time": "2024-08-21T21:25:39.227Z"
   },
   {
    "duration": 4,
    "start_time": "2024-08-21T21:25:39.232Z"
   },
   {
    "duration": 12,
    "start_time": "2024-08-21T21:25:39.237Z"
   },
   {
    "duration": 14,
    "start_time": "2024-08-21T21:25:39.250Z"
   },
   {
    "duration": 15,
    "start_time": "2024-08-21T21:25:39.265Z"
   },
   {
    "duration": 17,
    "start_time": "2024-08-21T21:25:39.281Z"
   },
   {
    "duration": 16,
    "start_time": "2024-08-21T21:25:39.300Z"
   },
   {
    "duration": 5,
    "start_time": "2024-08-21T21:25:39.317Z"
   },
   {
    "duration": 22,
    "start_time": "2024-08-21T21:25:39.323Z"
   },
   {
    "duration": 10,
    "start_time": "2024-08-21T21:25:39.346Z"
   },
   {
    "duration": 332,
    "start_time": "2024-08-21T21:25:39.357Z"
   },
   {
    "duration": 31,
    "start_time": "2024-08-21T21:25:39.690Z"
   },
   {
    "duration": 264,
    "start_time": "2024-08-21T21:25:39.723Z"
   },
   {
    "duration": 7,
    "start_time": "2024-08-21T21:25:39.988Z"
   },
   {
    "duration": 145,
    "start_time": "2024-08-21T21:25:39.996Z"
   },
   {
    "duration": 128,
    "start_time": "2024-08-21T21:25:40.142Z"
   },
   {
    "duration": 15,
    "start_time": "2024-08-21T21:25:40.272Z"
   },
   {
    "duration": 149,
    "start_time": "2024-08-21T21:25:40.290Z"
   },
   {
    "duration": 136,
    "start_time": "2024-08-21T21:25:40.441Z"
   },
   {
    "duration": 227,
    "start_time": "2024-08-21T21:25:40.579Z"
   },
   {
    "duration": 6,
    "start_time": "2024-08-21T21:25:40.808Z"
   },
   {
    "duration": 28,
    "start_time": "2024-08-21T21:25:40.815Z"
   },
   {
    "duration": 20,
    "start_time": "2024-08-21T21:25:40.844Z"
   },
   {
    "duration": 285,
    "start_time": "2024-08-21T21:25:40.865Z"
   },
   {
    "duration": 36,
    "start_time": "2024-08-21T21:25:41.152Z"
   },
   {
    "duration": 188,
    "start_time": "2024-08-21T21:25:41.190Z"
   },
   {
    "duration": 25,
    "start_time": "2024-08-21T21:25:41.380Z"
   },
   {
    "duration": 238,
    "start_time": "2024-08-21T21:25:41.406Z"
   },
   {
    "duration": 6,
    "start_time": "2024-08-21T21:25:41.646Z"
   },
   {
    "duration": 1476,
    "start_time": "2024-08-21T21:25:41.653Z"
   },
   {
    "duration": 9,
    "start_time": "2024-08-21T21:25:43.130Z"
   },
   {
    "duration": 6,
    "start_time": "2024-08-21T21:25:43.141Z"
   },
   {
    "duration": 1442,
    "start_time": "2024-08-21T21:25:43.149Z"
   },
   {
    "duration": 13,
    "start_time": "2024-08-21T21:25:44.593Z"
   },
   {
    "duration": 11,
    "start_time": "2024-08-21T21:25:44.607Z"
   },
   {
    "duration": 1392,
    "start_time": "2024-08-21T21:25:44.619Z"
   },
   {
    "duration": 9,
    "start_time": "2024-08-21T21:25:46.012Z"
   },
   {
    "duration": 388,
    "start_time": "2024-08-21T21:25:46.023Z"
   },
   {
    "duration": 13,
    "start_time": "2024-08-21T21:25:46.412Z"
   },
   {
    "duration": 135,
    "start_time": "2024-08-21T21:25:46.426Z"
   },
   {
    "duration": 12,
    "start_time": "2024-08-21T21:25:46.562Z"
   },
   {
    "duration": 138,
    "start_time": "2024-08-21T21:25:46.575Z"
   },
   {
    "duration": 11,
    "start_time": "2024-08-21T21:25:46.715Z"
   },
   {
    "duration": 147,
    "start_time": "2024-08-21T21:25:46.727Z"
   },
   {
    "duration": 11,
    "start_time": "2024-08-21T21:25:46.876Z"
   },
   {
    "duration": 152,
    "start_time": "2024-08-21T21:25:46.888Z"
   },
   {
    "duration": 12,
    "start_time": "2024-08-21T21:25:47.041Z"
   },
   {
    "duration": 151,
    "start_time": "2024-08-21T21:25:47.055Z"
   },
   {
    "duration": 12,
    "start_time": "2024-08-21T21:25:47.207Z"
   },
   {
    "duration": 150,
    "start_time": "2024-08-21T21:25:47.220Z"
   },
   {
    "duration": 3,
    "start_time": "2024-08-21T21:25:47.372Z"
   },
   {
    "duration": 109,
    "start_time": "2024-08-21T21:25:47.377Z"
   },
   {
    "duration": 23,
    "start_time": "2024-08-21T21:25:47.487Z"
   },
   {
    "duration": 143,
    "start_time": "2024-08-21T21:25:47.511Z"
   },
   {
    "duration": 3,
    "start_time": "2024-08-21T21:25:47.655Z"
   },
   {
    "duration": 33,
    "start_time": "2024-08-21T21:25:47.659Z"
   },
   {
    "duration": 9,
    "start_time": "2024-08-21T21:25:47.694Z"
   },
   {
    "duration": 8,
    "start_time": "2024-08-21T21:25:47.704Z"
   },
   {
    "duration": 1418,
    "start_time": "2024-08-22T06:13:06.285Z"
   },
   {
    "duration": 204,
    "start_time": "2024-08-22T06:13:07.705Z"
   },
   {
    "duration": 3,
    "start_time": "2024-08-22T06:13:07.911Z"
   },
   {
    "duration": 7,
    "start_time": "2024-08-22T06:13:07.916Z"
   },
   {
    "duration": 25,
    "start_time": "2024-08-22T06:13:07.925Z"
   },
   {
    "duration": 12,
    "start_time": "2024-08-22T06:13:07.952Z"
   },
   {
    "duration": 5,
    "start_time": "2024-08-22T06:13:07.966Z"
   },
   {
    "duration": 14,
    "start_time": "2024-08-22T06:13:07.972Z"
   },
   {
    "duration": 17,
    "start_time": "2024-08-22T06:13:07.988Z"
   },
   {
    "duration": 31,
    "start_time": "2024-08-22T06:13:08.007Z"
   },
   {
    "duration": 4,
    "start_time": "2024-08-22T06:13:08.040Z"
   },
   {
    "duration": 18,
    "start_time": "2024-08-22T06:13:08.045Z"
   },
   {
    "duration": 6,
    "start_time": "2024-08-22T06:13:08.064Z"
   },
   {
    "duration": 10,
    "start_time": "2024-08-22T06:13:08.071Z"
   },
   {
    "duration": 10,
    "start_time": "2024-08-22T06:13:08.082Z"
   },
   {
    "duration": 23,
    "start_time": "2024-08-22T06:13:08.093Z"
   },
   {
    "duration": 46,
    "start_time": "2024-08-22T06:13:08.118Z"
   },
   {
    "duration": 6,
    "start_time": "2024-08-22T06:13:08.166Z"
   },
   {
    "duration": 25,
    "start_time": "2024-08-22T06:13:08.174Z"
   },
   {
    "duration": 7,
    "start_time": "2024-08-22T06:13:08.201Z"
   },
   {
    "duration": 395,
    "start_time": "2024-08-22T06:13:08.209Z"
   },
   {
    "duration": 29,
    "start_time": "2024-08-22T06:13:08.606Z"
   },
   {
    "duration": 344,
    "start_time": "2024-08-22T06:13:08.637Z"
   },
   {
    "duration": 7,
    "start_time": "2024-08-22T06:13:08.983Z"
   },
   {
    "duration": 155,
    "start_time": "2024-08-22T06:13:08.992Z"
   },
   {
    "duration": 155,
    "start_time": "2024-08-22T06:13:09.149Z"
   },
   {
    "duration": 17,
    "start_time": "2024-08-22T06:13:09.306Z"
   },
   {
    "duration": 168,
    "start_time": "2024-08-22T06:13:09.327Z"
   },
   {
    "duration": 153,
    "start_time": "2024-08-22T06:13:09.497Z"
   },
   {
    "duration": 242,
    "start_time": "2024-08-22T06:13:09.652Z"
   },
   {
    "duration": 6,
    "start_time": "2024-08-22T06:13:09.895Z"
   },
   {
    "duration": 16,
    "start_time": "2024-08-22T06:13:09.902Z"
   },
   {
    "duration": 24,
    "start_time": "2024-08-22T06:13:09.920Z"
   },
   {
    "duration": 346,
    "start_time": "2024-08-22T06:13:09.946Z"
   },
   {
    "duration": 38,
    "start_time": "2024-08-22T06:13:10.294Z"
   },
   {
    "duration": 237,
    "start_time": "2024-08-22T06:13:10.333Z"
   },
   {
    "duration": 18,
    "start_time": "2024-08-22T06:13:10.572Z"
   },
   {
    "duration": 300,
    "start_time": "2024-08-22T06:13:10.591Z"
   },
   {
    "duration": 6,
    "start_time": "2024-08-22T06:13:10.893Z"
   },
   {
    "duration": 1589,
    "start_time": "2024-08-22T06:13:10.900Z"
   },
   {
    "duration": 16,
    "start_time": "2024-08-22T06:13:12.491Z"
   },
   {
    "duration": 47,
    "start_time": "2024-08-22T06:13:12.508Z"
   },
   {
    "duration": 1590,
    "start_time": "2024-08-22T06:13:12.556Z"
   },
   {
    "duration": 10,
    "start_time": "2024-08-22T06:13:14.148Z"
   },
   {
    "duration": 20,
    "start_time": "2024-08-22T06:13:14.165Z"
   },
   {
    "duration": 1501,
    "start_time": "2024-08-22T06:13:14.186Z"
   },
   {
    "duration": 10,
    "start_time": "2024-08-22T06:13:15.689Z"
   },
   {
    "duration": 447,
    "start_time": "2024-08-22T06:13:15.700Z"
   },
   {
    "duration": 21,
    "start_time": "2024-08-22T06:13:16.148Z"
   },
   {
    "duration": 156,
    "start_time": "2024-08-22T06:13:16.170Z"
   },
   {
    "duration": 12,
    "start_time": "2024-08-22T06:13:16.328Z"
   },
   {
    "duration": 148,
    "start_time": "2024-08-22T06:13:16.342Z"
   },
   {
    "duration": 12,
    "start_time": "2024-08-22T06:13:16.492Z"
   },
   {
    "duration": 159,
    "start_time": "2024-08-22T06:13:16.505Z"
   },
   {
    "duration": 13,
    "start_time": "2024-08-22T06:13:16.665Z"
   },
   {
    "duration": 164,
    "start_time": "2024-08-22T06:13:16.679Z"
   },
   {
    "duration": 13,
    "start_time": "2024-08-22T06:13:16.845Z"
   },
   {
    "duration": 171,
    "start_time": "2024-08-22T06:13:16.865Z"
   },
   {
    "duration": 13,
    "start_time": "2024-08-22T06:13:17.037Z"
   },
   {
    "duration": 155,
    "start_time": "2024-08-22T06:13:17.051Z"
   },
   {
    "duration": 4,
    "start_time": "2024-08-22T06:13:17.208Z"
   },
   {
    "duration": 116,
    "start_time": "2024-08-22T06:13:17.213Z"
   },
   {
    "duration": 14,
    "start_time": "2024-08-22T06:13:17.331Z"
   },
   {
    "duration": 143,
    "start_time": "2024-08-22T06:13:17.347Z"
   },
   {
    "duration": 3,
    "start_time": "2024-08-22T06:13:17.491Z"
   },
   {
    "duration": 26,
    "start_time": "2024-08-22T06:13:17.496Z"
   },
   {
    "duration": 49,
    "start_time": "2024-08-22T06:13:17.523Z"
   },
   {
    "duration": 34,
    "start_time": "2024-08-22T06:13:17.573Z"
   },
   {
    "duration": 14,
    "start_time": "2024-08-22T06:13:49.028Z"
   },
   {
    "duration": 4,
    "start_time": "2024-08-22T06:14:38.907Z"
   },
   {
    "duration": 4,
    "start_time": "2024-08-22T06:14:46.328Z"
   },
   {
    "duration": 61,
    "start_time": "2024-08-22T06:17:44.468Z"
   },
   {
    "duration": 6,
    "start_time": "2024-08-22T06:18:44.238Z"
   },
   {
    "duration": 442,
    "start_time": "2024-08-22T07:12:50.045Z"
   },
   {
    "duration": 215,
    "start_time": "2024-08-22T07:13:27.296Z"
   },
   {
    "duration": 219,
    "start_time": "2024-08-22T07:14:12.113Z"
   },
   {
    "duration": 238,
    "start_time": "2024-08-22T07:14:46.415Z"
   },
   {
    "duration": 365,
    "start_time": "2024-08-22T07:14:59.676Z"
   },
   {
    "duration": 248,
    "start_time": "2024-08-22T07:15:06.888Z"
   },
   {
    "duration": 274,
    "start_time": "2024-08-22T07:17:11.805Z"
   },
   {
    "duration": 274,
    "start_time": "2024-08-22T07:18:47.395Z"
   },
   {
    "duration": 255,
    "start_time": "2024-08-22T07:19:26.105Z"
   },
   {
    "duration": 380,
    "start_time": "2024-08-22T07:20:49.258Z"
   },
   {
    "duration": 180,
    "start_time": "2024-08-22T07:21:16.760Z"
   },
   {
    "duration": 151,
    "start_time": "2024-08-22T07:21:24.957Z"
   },
   {
    "duration": 297,
    "start_time": "2024-08-22T07:21:30.072Z"
   },
   {
    "duration": 162,
    "start_time": "2024-08-22T07:21:45.109Z"
   },
   {
    "duration": 165,
    "start_time": "2024-08-22T07:21:50.319Z"
   },
   {
    "duration": 335,
    "start_time": "2024-08-22T07:21:57.688Z"
   },
   {
    "duration": 384,
    "start_time": "2024-08-22T07:22:05.708Z"
   },
   {
    "duration": 116,
    "start_time": "2024-08-22T07:23:35.619Z"
   },
   {
    "duration": 10,
    "start_time": "2024-08-22T07:23:44.797Z"
   },
   {
    "duration": 9,
    "start_time": "2024-08-22T07:24:10.729Z"
   },
   {
    "duration": 293,
    "start_time": "2024-08-22T07:24:19.845Z"
   },
   {
    "duration": 87,
    "start_time": "2024-08-22T07:24:58.205Z"
   },
   {
    "duration": 336,
    "start_time": "2024-08-22T07:25:04.353Z"
   },
   {
    "duration": 313,
    "start_time": "2024-08-22T07:25:29.780Z"
   },
   {
    "duration": 8,
    "start_time": "2024-08-22T07:26:08.876Z"
   },
   {
    "duration": 8,
    "start_time": "2024-08-22T07:26:13.588Z"
   },
   {
    "duration": 325,
    "start_time": "2024-08-22T07:32:40.201Z"
   },
   {
    "duration": 322,
    "start_time": "2024-08-22T07:34:59.820Z"
   },
   {
    "duration": 162,
    "start_time": "2024-08-22T07:37:07.951Z"
   },
   {
    "duration": 172,
    "start_time": "2024-08-22T07:37:28.730Z"
   },
   {
    "duration": 199,
    "start_time": "2024-08-22T07:37:38.426Z"
   },
   {
    "duration": 317,
    "start_time": "2024-08-22T07:38:04.918Z"
   },
   {
    "duration": 171,
    "start_time": "2024-08-22T07:38:25.576Z"
   },
   {
    "duration": 164,
    "start_time": "2024-08-22T07:38:33.683Z"
   },
   {
    "duration": 140,
    "start_time": "2024-08-22T07:39:37.293Z"
   },
   {
    "duration": 7,
    "start_time": "2024-08-22T07:40:14.512Z"
   },
   {
    "duration": 9,
    "start_time": "2024-08-22T07:48:39.828Z"
   },
   {
    "duration": 6,
    "start_time": "2024-08-22T07:49:18.851Z"
   },
   {
    "duration": 3,
    "start_time": "2024-08-22T07:55:53.252Z"
   },
   {
    "duration": 6,
    "start_time": "2024-08-22T07:55:58.345Z"
   },
   {
    "duration": 5,
    "start_time": "2024-08-22T07:56:04.063Z"
   },
   {
    "duration": 5,
    "start_time": "2024-08-22T07:56:10.486Z"
   },
   {
    "duration": 8,
    "start_time": "2024-08-22T07:56:18.745Z"
   },
   {
    "duration": 6,
    "start_time": "2024-08-22T07:56:19.633Z"
   },
   {
    "duration": 1202,
    "start_time": "2024-08-22T08:42:43.588Z"
   },
   {
    "duration": 70,
    "start_time": "2024-08-22T08:42:44.792Z"
   },
   {
    "duration": 19,
    "start_time": "2024-08-22T08:42:44.864Z"
   },
   {
    "duration": 16,
    "start_time": "2024-08-22T08:42:44.886Z"
   },
   {
    "duration": 6,
    "start_time": "2024-08-22T08:42:44.904Z"
   },
   {
    "duration": 21,
    "start_time": "2024-08-22T08:42:44.912Z"
   },
   {
    "duration": 26,
    "start_time": "2024-08-22T08:42:44.934Z"
   },
   {
    "duration": 25,
    "start_time": "2024-08-22T08:42:44.962Z"
   },
   {
    "duration": 32,
    "start_time": "2024-08-22T08:42:44.989Z"
   },
   {
    "duration": 31,
    "start_time": "2024-08-22T08:42:45.025Z"
   },
   {
    "duration": 70,
    "start_time": "2024-08-22T08:42:45.058Z"
   },
   {
    "duration": 8,
    "start_time": "2024-08-22T08:42:45.130Z"
   },
   {
    "duration": 30,
    "start_time": "2024-08-22T08:42:45.140Z"
   },
   {
    "duration": 40,
    "start_time": "2024-08-22T08:42:45.172Z"
   },
   {
    "duration": 36,
    "start_time": "2024-08-22T08:42:45.214Z"
   },
   {
    "duration": 36,
    "start_time": "2024-08-22T08:42:45.251Z"
   },
   {
    "duration": 40,
    "start_time": "2024-08-22T08:42:45.289Z"
   },
   {
    "duration": 44,
    "start_time": "2024-08-22T08:42:45.331Z"
   },
   {
    "duration": 43,
    "start_time": "2024-08-22T08:42:45.377Z"
   },
   {
    "duration": 44,
    "start_time": "2024-08-22T08:42:45.421Z"
   },
   {
    "duration": 57,
    "start_time": "2024-08-22T08:42:45.467Z"
   },
   {
    "duration": 78,
    "start_time": "2024-08-22T08:42:45.525Z"
   },
   {
    "duration": 409,
    "start_time": "2024-08-22T08:42:45.605Z"
   },
   {
    "duration": 25,
    "start_time": "2024-08-22T08:42:46.016Z"
   },
   {
    "duration": 288,
    "start_time": "2024-08-22T08:42:46.042Z"
   },
   {
    "duration": 8,
    "start_time": "2024-08-22T08:42:46.331Z"
   },
   {
    "duration": 165,
    "start_time": "2024-08-22T08:42:46.340Z"
   },
   {
    "duration": 143,
    "start_time": "2024-08-22T08:42:46.510Z"
   },
   {
    "duration": 19,
    "start_time": "2024-08-22T08:42:46.655Z"
   },
   {
    "duration": 160,
    "start_time": "2024-08-22T08:42:46.676Z"
   },
   {
    "duration": 145,
    "start_time": "2024-08-22T08:42:46.838Z"
   },
   {
    "duration": 237,
    "start_time": "2024-08-22T08:42:46.984Z"
   },
   {
    "duration": 6,
    "start_time": "2024-08-22T08:42:47.222Z"
   },
   {
    "duration": 33,
    "start_time": "2024-08-22T08:42:47.229Z"
   },
   {
    "duration": 43,
    "start_time": "2024-08-22T08:42:47.264Z"
   },
   {
    "duration": 329,
    "start_time": "2024-08-22T08:42:47.309Z"
   },
   {
    "duration": 31,
    "start_time": "2024-08-22T08:42:47.639Z"
   },
   {
    "duration": 228,
    "start_time": "2024-08-22T08:42:47.671Z"
   },
   {
    "duration": 17,
    "start_time": "2024-08-22T08:42:47.901Z"
   },
   {
    "duration": 303,
    "start_time": "2024-08-22T08:42:47.920Z"
   },
   {
    "duration": 265,
    "start_time": "2024-08-22T08:42:48.224Z"
   },
   {
    "duration": 9,
    "start_time": "2024-08-22T08:42:48.491Z"
   },
   {
    "duration": 1617,
    "start_time": "2024-08-22T08:42:48.502Z"
   },
   {
    "duration": 12,
    "start_time": "2024-08-22T08:42:50.121Z"
   },
   {
    "duration": 65,
    "start_time": "2024-08-22T08:42:50.134Z"
   },
   {
    "duration": 1455,
    "start_time": "2024-08-22T08:42:50.200Z"
   },
   {
    "duration": 12,
    "start_time": "2024-08-22T08:42:51.656Z"
   },
   {
    "duration": 28,
    "start_time": "2024-08-22T08:42:51.669Z"
   },
   {
    "duration": 1596,
    "start_time": "2024-08-22T08:42:51.698Z"
   },
   {
    "duration": 9,
    "start_time": "2024-08-22T08:42:53.296Z"
   },
   {
    "duration": 277,
    "start_time": "2024-08-22T08:42:53.306Z"
   },
   {
    "duration": 13,
    "start_time": "2024-08-22T08:42:53.585Z"
   },
   {
    "duration": 141,
    "start_time": "2024-08-22T08:42:53.599Z"
   },
   {
    "duration": 13,
    "start_time": "2024-08-22T08:42:53.741Z"
   },
   {
    "duration": 158,
    "start_time": "2024-08-22T08:42:53.765Z"
   },
   {
    "duration": 12,
    "start_time": "2024-08-22T08:42:53.925Z"
   },
   {
    "duration": 163,
    "start_time": "2024-08-22T08:42:53.938Z"
   },
   {
    "duration": 13,
    "start_time": "2024-08-22T08:42:54.103Z"
   },
   {
    "duration": 241,
    "start_time": "2024-08-22T08:42:54.117Z"
   },
   {
    "duration": 15,
    "start_time": "2024-08-22T08:42:54.360Z"
   },
   {
    "duration": 156,
    "start_time": "2024-08-22T08:42:54.376Z"
   },
   {
    "duration": 13,
    "start_time": "2024-08-22T08:42:54.533Z"
   },
   {
    "duration": 150,
    "start_time": "2024-08-22T08:42:54.548Z"
   },
   {
    "duration": 4,
    "start_time": "2024-08-22T08:42:54.700Z"
   },
   {
    "duration": 105,
    "start_time": "2024-08-22T08:42:54.705Z"
   },
   {
    "duration": 13,
    "start_time": "2024-08-22T08:42:54.812Z"
   },
   {
    "duration": 142,
    "start_time": "2024-08-22T08:42:54.826Z"
   },
   {
    "duration": 3,
    "start_time": "2024-08-22T08:42:54.969Z"
   },
   {
    "duration": 10,
    "start_time": "2024-08-22T08:42:54.973Z"
   },
   {
    "duration": 8,
    "start_time": "2024-08-22T08:42:54.984Z"
   },
   {
    "duration": 5,
    "start_time": "2024-08-22T08:42:54.994Z"
   },
   {
    "duration": 77,
    "start_time": "2024-08-22T08:46:43.191Z"
   },
   {
    "duration": 80,
    "start_time": "2024-08-22T08:48:53.809Z"
   },
   {
    "duration": 1451,
    "start_time": "2024-08-22T09:45:25.184Z"
   },
   {
    "duration": 195,
    "start_time": "2024-08-22T09:45:26.637Z"
   },
   {
    "duration": 16,
    "start_time": "2024-08-22T09:45:26.834Z"
   },
   {
    "duration": 2,
    "start_time": "2024-08-22T09:45:26.852Z"
   },
   {
    "duration": 16,
    "start_time": "2024-08-22T09:45:26.856Z"
   },
   {
    "duration": 6,
    "start_time": "2024-08-22T09:45:26.874Z"
   },
   {
    "duration": 20,
    "start_time": "2024-08-22T09:45:26.882Z"
   },
   {
    "duration": 6,
    "start_time": "2024-08-22T09:45:26.904Z"
   },
   {
    "duration": 5,
    "start_time": "2024-08-22T09:45:26.911Z"
   },
   {
    "duration": 7,
    "start_time": "2024-08-22T09:45:26.920Z"
   },
   {
    "duration": 34,
    "start_time": "2024-08-22T09:45:26.929Z"
   },
   {
    "duration": 6,
    "start_time": "2024-08-22T09:45:26.966Z"
   },
   {
    "duration": 18,
    "start_time": "2024-08-22T09:45:26.975Z"
   },
   {
    "duration": 11,
    "start_time": "2024-08-22T09:45:26.995Z"
   },
   {
    "duration": 10,
    "start_time": "2024-08-22T09:45:27.008Z"
   },
   {
    "duration": 6,
    "start_time": "2024-08-22T09:45:27.019Z"
   },
   {
    "duration": 5,
    "start_time": "2024-08-22T09:45:27.027Z"
   },
   {
    "duration": 34,
    "start_time": "2024-08-22T09:45:27.033Z"
   },
   {
    "duration": 3,
    "start_time": "2024-08-22T09:45:27.069Z"
   },
   {
    "duration": 12,
    "start_time": "2024-08-22T09:45:27.073Z"
   },
   {
    "duration": 25,
    "start_time": "2024-08-22T09:45:27.087Z"
   },
   {
    "duration": 13,
    "start_time": "2024-08-22T09:45:27.114Z"
   },
   {
    "duration": 376,
    "start_time": "2024-08-22T09:45:27.129Z"
   },
   {
    "duration": 25,
    "start_time": "2024-08-22T09:45:27.507Z"
   },
   {
    "duration": 292,
    "start_time": "2024-08-22T09:45:27.534Z"
   },
   {
    "duration": 7,
    "start_time": "2024-08-22T09:45:27.828Z"
   },
   {
    "duration": 199,
    "start_time": "2024-08-22T09:45:27.837Z"
   },
   {
    "duration": 176,
    "start_time": "2024-08-22T09:45:28.042Z"
   },
   {
    "duration": 27,
    "start_time": "2024-08-22T09:45:28.221Z"
   },
   {
    "duration": 179,
    "start_time": "2024-08-22T09:45:28.251Z"
   },
   {
    "duration": 149,
    "start_time": "2024-08-22T09:45:28.431Z"
   },
   {
    "duration": 221,
    "start_time": "2024-08-22T09:45:28.581Z"
   },
   {
    "duration": 6,
    "start_time": "2024-08-22T09:45:28.804Z"
   },
   {
    "duration": 22,
    "start_time": "2024-08-22T09:45:28.811Z"
   },
   {
    "duration": 13,
    "start_time": "2024-08-22T09:45:28.834Z"
   },
   {
    "duration": 326,
    "start_time": "2024-08-22T09:45:28.848Z"
   },
   {
    "duration": 24,
    "start_time": "2024-08-22T09:45:29.176Z"
   },
   {
    "duration": 213,
    "start_time": "2024-08-22T09:45:29.202Z"
   },
   {
    "duration": 17,
    "start_time": "2024-08-22T09:45:29.417Z"
   },
   {
    "duration": 251,
    "start_time": "2024-08-22T09:45:29.436Z"
   },
   {
    "duration": 290,
    "start_time": "2024-08-22T09:45:29.689Z"
   },
   {
    "duration": 8,
    "start_time": "2024-08-22T09:45:29.981Z"
   },
   {
    "duration": 1656,
    "start_time": "2024-08-22T09:45:29.991Z"
   },
   {
    "duration": 18,
    "start_time": "2024-08-22T09:45:31.649Z"
   },
   {
    "duration": 32,
    "start_time": "2024-08-22T09:45:31.668Z"
   },
   {
    "duration": 1467,
    "start_time": "2024-08-22T09:45:31.701Z"
   },
   {
    "duration": 10,
    "start_time": "2024-08-22T09:45:33.169Z"
   },
   {
    "duration": 33,
    "start_time": "2024-08-22T09:45:33.180Z"
   },
   {
    "duration": 1602,
    "start_time": "2024-08-22T09:45:33.215Z"
   },
   {
    "duration": 9,
    "start_time": "2024-08-22T09:45:34.819Z"
   },
   {
    "duration": 299,
    "start_time": "2024-08-22T09:45:34.830Z"
   },
   {
    "duration": 13,
    "start_time": "2024-08-22T09:45:35.130Z"
   },
   {
    "duration": 150,
    "start_time": "2024-08-22T09:45:35.145Z"
   },
   {
    "duration": 13,
    "start_time": "2024-08-22T09:45:35.296Z"
   },
   {
    "duration": 155,
    "start_time": "2024-08-22T09:45:35.310Z"
   },
   {
    "duration": 15,
    "start_time": "2024-08-22T09:45:35.466Z"
   },
   {
    "duration": 199,
    "start_time": "2024-08-22T09:45:35.482Z"
   },
   {
    "duration": 13,
    "start_time": "2024-08-22T09:45:35.683Z"
   },
   {
    "duration": 170,
    "start_time": "2024-08-22T09:45:35.697Z"
   },
   {
    "duration": 14,
    "start_time": "2024-08-22T09:45:35.869Z"
   },
   {
    "duration": 182,
    "start_time": "2024-08-22T09:45:35.885Z"
   },
   {
    "duration": 14,
    "start_time": "2024-08-22T09:45:36.068Z"
   },
   {
    "duration": 184,
    "start_time": "2024-08-22T09:45:36.084Z"
   },
   {
    "duration": 5,
    "start_time": "2024-08-22T09:45:36.269Z"
   },
   {
    "duration": 123,
    "start_time": "2024-08-22T09:45:36.276Z"
   },
   {
    "duration": 14,
    "start_time": "2024-08-22T09:45:36.400Z"
   },
   {
    "duration": 158,
    "start_time": "2024-08-22T09:45:36.415Z"
   },
   {
    "duration": 3,
    "start_time": "2024-08-22T09:45:36.575Z"
   },
   {
    "duration": 12,
    "start_time": "2024-08-22T09:45:36.579Z"
   },
   {
    "duration": 24,
    "start_time": "2024-08-22T09:45:36.593Z"
   },
   {
    "duration": 16,
    "start_time": "2024-08-22T09:45:36.618Z"
   },
   {
    "duration": 1197,
    "start_time": "2024-08-22T10:00:25.390Z"
   },
   {
    "duration": 68,
    "start_time": "2024-08-22T10:00:26.589Z"
   },
   {
    "duration": 19,
    "start_time": "2024-08-22T10:00:26.659Z"
   },
   {
    "duration": 3,
    "start_time": "2024-08-22T10:00:26.680Z"
   },
   {
    "duration": 5,
    "start_time": "2024-08-22T10:00:26.684Z"
   },
   {
    "duration": 11,
    "start_time": "2024-08-22T10:00:26.691Z"
   },
   {
    "duration": 6,
    "start_time": "2024-08-22T10:00:26.703Z"
   },
   {
    "duration": 5,
    "start_time": "2024-08-22T10:00:26.711Z"
   },
   {
    "duration": 5,
    "start_time": "2024-08-22T10:00:26.718Z"
   },
   {
    "duration": 38,
    "start_time": "2024-08-22T10:00:26.726Z"
   },
   {
    "duration": 23,
    "start_time": "2024-08-22T10:00:26.766Z"
   },
   {
    "duration": 4,
    "start_time": "2024-08-22T10:00:26.792Z"
   },
   {
    "duration": 6,
    "start_time": "2024-08-22T10:00:26.798Z"
   },
   {
    "duration": 15,
    "start_time": "2024-08-22T10:00:26.806Z"
   },
   {
    "duration": 21,
    "start_time": "2024-08-22T10:00:26.822Z"
   },
   {
    "duration": 19,
    "start_time": "2024-08-22T10:00:26.845Z"
   },
   {
    "duration": 7,
    "start_time": "2024-08-22T10:00:26.866Z"
   },
   {
    "duration": 33,
    "start_time": "2024-08-22T10:00:26.875Z"
   },
   {
    "duration": 6,
    "start_time": "2024-08-22T10:00:26.909Z"
   },
   {
    "duration": 9,
    "start_time": "2024-08-22T10:00:26.917Z"
   },
   {
    "duration": 22,
    "start_time": "2024-08-22T10:00:26.928Z"
   },
   {
    "duration": 13,
    "start_time": "2024-08-22T10:00:26.952Z"
   },
   {
    "duration": 373,
    "start_time": "2024-08-22T10:00:26.966Z"
   },
   {
    "duration": 33,
    "start_time": "2024-08-22T10:00:27.341Z"
   },
   {
    "duration": 289,
    "start_time": "2024-08-22T10:00:27.376Z"
   },
   {
    "duration": 7,
    "start_time": "2024-08-22T10:00:27.667Z"
   },
   {
    "duration": 147,
    "start_time": "2024-08-22T10:00:27.676Z"
   },
   {
    "duration": 147,
    "start_time": "2024-08-22T10:00:27.827Z"
   },
   {
    "duration": 17,
    "start_time": "2024-08-22T10:00:27.976Z"
   },
   {
    "duration": 195,
    "start_time": "2024-08-22T10:00:27.995Z"
   },
   {
    "duration": 148,
    "start_time": "2024-08-22T10:00:28.192Z"
   },
   {
    "duration": 228,
    "start_time": "2024-08-22T10:00:28.342Z"
   },
   {
    "duration": 251,
    "start_time": "2024-08-22T10:00:28.571Z"
   },
   {
    "duration": 6,
    "start_time": "2024-08-22T10:00:28.825Z"
   },
   {
    "duration": 27,
    "start_time": "2024-08-22T10:00:28.833Z"
   },
   {
    "duration": 11,
    "start_time": "2024-08-22T10:00:28.863Z"
   },
   {
    "duration": 329,
    "start_time": "2024-08-22T10:00:28.876Z"
   },
   {
    "duration": 24,
    "start_time": "2024-08-22T10:00:29.207Z"
   },
   {
    "duration": 209,
    "start_time": "2024-08-22T10:00:29.232Z"
   },
   {
    "duration": 26,
    "start_time": "2024-08-22T10:00:29.442Z"
   },
   {
    "duration": 247,
    "start_time": "2024-08-22T10:00:29.470Z"
   },
   {
    "duration": 307,
    "start_time": "2024-08-22T10:00:29.719Z"
   },
   {
    "duration": 7,
    "start_time": "2024-08-22T10:00:30.029Z"
   },
   {
    "duration": 1602,
    "start_time": "2024-08-22T10:00:30.038Z"
   },
   {
    "duration": 19,
    "start_time": "2024-08-22T10:00:31.642Z"
   },
   {
    "duration": 16,
    "start_time": "2024-08-22T10:00:31.663Z"
   },
   {
    "duration": 1472,
    "start_time": "2024-08-22T10:00:31.681Z"
   },
   {
    "duration": 11,
    "start_time": "2024-08-22T10:00:33.155Z"
   },
   {
    "duration": 10,
    "start_time": "2024-08-22T10:00:33.168Z"
   },
   {
    "duration": 1558,
    "start_time": "2024-08-22T10:00:33.180Z"
   },
   {
    "duration": 10,
    "start_time": "2024-08-22T10:00:34.740Z"
   },
   {
    "duration": 290,
    "start_time": "2024-08-22T10:00:34.761Z"
   },
   {
    "duration": 18,
    "start_time": "2024-08-22T10:00:35.053Z"
   },
   {
    "duration": 146,
    "start_time": "2024-08-22T10:00:35.072Z"
   },
   {
    "duration": 14,
    "start_time": "2024-08-22T10:00:35.220Z"
   },
   {
    "duration": 153,
    "start_time": "2024-08-22T10:00:35.235Z"
   },
   {
    "duration": 13,
    "start_time": "2024-08-22T10:00:35.390Z"
   },
   {
    "duration": 166,
    "start_time": "2024-08-22T10:00:35.405Z"
   },
   {
    "duration": 13,
    "start_time": "2024-08-22T10:00:35.573Z"
   },
   {
    "duration": 176,
    "start_time": "2024-08-22T10:00:35.588Z"
   },
   {
    "duration": 14,
    "start_time": "2024-08-22T10:00:35.766Z"
   },
   {
    "duration": 198,
    "start_time": "2024-08-22T10:00:35.782Z"
   },
   {
    "duration": 15,
    "start_time": "2024-08-22T10:00:35.983Z"
   },
   {
    "duration": 215,
    "start_time": "2024-08-22T10:00:36.000Z"
   },
   {
    "duration": 5,
    "start_time": "2024-08-22T10:00:36.217Z"
   },
   {
    "duration": 117,
    "start_time": "2024-08-22T10:00:36.224Z"
   },
   {
    "duration": 24,
    "start_time": "2024-08-22T10:00:36.343Z"
   },
   {
    "duration": 142,
    "start_time": "2024-08-22T10:00:36.369Z"
   },
   {
    "duration": 4,
    "start_time": "2024-08-22T10:00:36.513Z"
   },
   {
    "duration": 19,
    "start_time": "2024-08-22T10:00:36.518Z"
   },
   {
    "duration": 22,
    "start_time": "2024-08-22T10:00:36.539Z"
   },
   {
    "duration": 20,
    "start_time": "2024-08-22T10:00:36.563Z"
   }
  ],
  "kernelspec": {
   "display_name": "Python 3 (ipykernel)",
   "language": "python",
   "name": "python3"
  },
  "language_info": {
   "codemirror_mode": {
    "name": "ipython",
    "version": 3
   },
   "file_extension": ".py",
   "mimetype": "text/x-python",
   "name": "python",
   "nbconvert_exporter": "python",
   "pygments_lexer": "ipython3",
   "version": "3.11.5"
  },
  "toc": {
   "base_numbering": 1,
   "nav_menu": {},
   "number_sections": true,
   "sideBar": true,
   "skip_h1_title": true,
   "title_cell": "Table of Contents",
   "title_sidebar": "Contents",
   "toc_cell": false,
   "toc_position": {},
   "toc_section_display": true,
   "toc_window_display": false
  }
 },
 "nbformat": 4,
 "nbformat_minor": 2
}
